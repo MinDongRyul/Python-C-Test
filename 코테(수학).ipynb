{
 "cells": [
  {
   "cell_type": "markdown",
   "id": "6e8ea38d",
   "metadata": {},
   "source": [
    "최소 공배수 / 최대 공약수\n",
    "- 단순 반복문\n",
    "- 유클리드 호제\n",
    "- 라이브러리 사용"
   ]
  },
  {
   "cell_type": "code",
   "execution_count": 8,
   "id": "ca0066c2",
   "metadata": {},
   "outputs": [
    {
     "name": "stdout",
     "output_type": "stream",
     "text": [
      "256\n",
      "CPU times: total: 0 ns\n",
      "Wall time: 414 µs\n",
      "256\n",
      "CPU times: total: 0 ns\n",
      "Wall time: 0 ns\n",
      "256\n",
      "CPU times: total: 125 ms\n",
      "Wall time: 179 ms\n",
      "256\n",
      "CPU times: total: 0 ns\n",
      "Wall time: 0 ns\n"
     ]
    }
   ],
   "source": [
    "# 방법 1 : 단순하게 반복문 사용\n",
    "def gcd_naive(a, b):\n",
    "    for i in range(min(a, b), 0, -1):\n",
    "        if a%i==0 and b%i==0 : return i\n",
    "\n",
    "# 방법 2-1 : 유클리드 호제법\n",
    "def gcd(a, b):\n",
    "    if a % b == 0:\n",
    "        return b\n",
    "    return gcd(b, a%b) # gcd(b, a%b) if a%b != 0 else b\n",
    "\n",
    "# 방법 2-2 : 반복문으로 변경\n",
    "def gcd2(a, b):\n",
    "    while a % b != 0:\n",
    "        a, b, = b, a%b\n",
    "    return b\n",
    "\n",
    "# 방법 3 : math의 gcd 사용\n",
    "import math\n",
    "math.gcd(1, 2)\n",
    "\n",
    "%time print(gcd(10**8, 2**20))\n",
    "%time print(gcd2(10**8, 2**20))\n",
    "%time print(gcd_naive(10**8, 2**20))\n",
    "%time print(math.gcd(10**8, 2**20))"
   ]
  },
  {
   "cell_type": "code",
   "execution_count": null,
   "id": "7c48c913",
   "metadata": {},
   "outputs": [],
   "source": [
    "# lcm은 gcd를 활용하여 계산하자\n",
    "# a / gcd(a, b) * b\n",
    "def lcm(a, b):\n",
    "    return a*b/gcd(a,b)"
   ]
  },
  {
   "cell_type": "markdown",
   "id": "5792335f",
   "metadata": {},
   "source": [
    "소수 체크 & 소인수 분해"
   ]
  },
  {
   "cell_type": "code",
   "execution_count": 13,
   "id": "c65c3d19",
   "metadata": {
    "scrolled": true
   },
   "outputs": [
    {
     "name": "stdout",
     "output_type": "stream",
     "text": [
      "True\n"
     ]
    },
    {
     "data": {
      "text/plain": [
       "[3, 3, 3]"
      ]
     },
     "execution_count": 13,
     "metadata": {},
     "output_type": "execute_result"
    }
   ],
   "source": [
    "# 소수 체크 기본\n",
    "# prime_check말고 isPrime 등의 관용적인 함수 명을 사용\n",
    "def prime_check(N):\n",
    "    for i in range(2, N):\n",
    "        if N%i==0: return False\n",
    "        if i * i > N: break\n",
    "    return True\n",
    "\n",
    "# 소인수분해 기본\n",
    "def prime_factorization(N):\n",
    "    p, fac = 2, []\n",
    "    while p**2 <= N:\n",
    "        if N % p == 0:\n",
    "            N //= p\n",
    "            fac.append(p)\n",
    "        else:\n",
    "            p += 1\n",
    "    if N > 1 : fac.append(N)\n",
    "    return fac\n",
    "print(prime_check(5))\n",
    "prime_factorization(27)"
   ]
  },
  {
   "cell_type": "markdown",
   "id": "3a0ca89b",
   "metadata": {},
   "source": [
    "소수 리스트를 미리 만드는 방법 : 에라토스테네스의 체"
   ]
  },
  {
   "cell_type": "code",
   "execution_count": 16,
   "id": "502f8893",
   "metadata": {},
   "outputs": [],
   "source": [
    "# 에라토스테네스의 체를 활용한 소수 리스트 구하기\n",
    "def era_prime(N):\n",
    "    A, p = [0 for _ in range(N + 1)], []\n",
    "    for i in range(2, N):\n",
    "        if A[i] == 0: p.append(i)\n",
    "        else: continue\n",
    "        for j in range(i**2, N, i):\n",
    "            A[j] = 1\n",
    "    return p"
   ]
  },
  {
   "cell_type": "code",
   "execution_count": 17,
   "id": "58c786f3",
   "metadata": {},
   "outputs": [
    {
     "data": {
      "text/plain": [
       "[2, 3, 5, 7]"
      ]
     },
     "execution_count": 17,
     "metadata": {},
     "output_type": "execute_result"
    }
   ],
   "source": [
    "era_prime(10)"
   ]
  },
  {
   "cell_type": "markdown",
   "id": "7800e3ab",
   "metadata": {},
   "source": [
    "- 소인수의 개수\n",
    "- 소인수의 합\n",
    "- 소인수분해를 위한 또 하나의 트릭"
   ]
  },
  {
   "cell_type": "code",
   "execution_count": 28,
   "id": "9d32eee5",
   "metadata": {},
   "outputs": [],
   "source": [
    "# 활용 1 : 소인수의 개수\n",
    "def era_factor_count(N):\n",
    "    A = [0 for _ in range(N+1)]\n",
    "    for i in range(2, N):\n",
    "        for j in range(i, N, i):\n",
    "            A[j] += 1\n",
    "    return A\n",
    "\n",
    "# 활용 2 : 소인수의 합\n",
    "def era_factor_sum(N):\n",
    "    A = [0 for _ in range(N+1)]\n",
    "    for i in range(2, N):\n",
    "        for j in range(i, N, i):\n",
    "            A[j] += i\n",
    "    return A\n",
    "\n",
    "# 활용 3 : 소인수분해 하기\n",
    "def era_factorization(N):\n",
    "    A = [0 for _ in range(N+1)]\n",
    "    for i in range(2, N):\n",
    "        if A[i]: continue\n",
    "        for j in range(i, N, i):\n",
    "            A[j] = i\n",
    "    return A"
   ]
  },
  {
   "cell_type": "code",
   "execution_count": 30,
   "id": "cbd8ea83",
   "metadata": {},
   "outputs": [
    {
     "name": "stdout",
     "output_type": "stream",
     "text": [
      "[0, 0, 1, 1, 2, 1, 3, 1, 3, 2, 0]\n",
      "[0, 0, 2, 3, 6, 5, 11, 7, 14, 12, 0]\n",
      "[0, 0, 2, 3, 2, 5, 3, 7, 2, 3, 0]\n",
      "7\n",
      "3\n",
      "2\n",
      "2\n"
     ]
    }
   ],
   "source": [
    "print(era_factor_count(10))\n",
    "print(era_factor_sum(10))\n",
    "print(era_factorization(10))\n",
    "A = era_factorization(100)\n",
    "N = 84\n",
    "while A[N] != 0:\n",
    "    print(A[N])\n",
    "    N //= A[N]"
   ]
  },
  {
   "cell_type": "code",
   "execution_count": 34,
   "id": "3cb154fe",
   "metadata": {
    "scrolled": true
   },
   "outputs": [
    {
     "name": "stdout",
     "output_type": "stream",
     "text": [
      "2 0\n",
      "3 1\n",
      "0 2\n",
      "1 3\n",
      "6 4\n",
      "7 5\n",
      "4 6\n",
      "5 7\n",
      "10 8\n",
      "11 9\n"
     ]
    },
    {
     "data": {
      "text/plain": [
       "8"
      ]
     },
     "execution_count": 34,
     "metadata": {},
     "output_type": "execute_result"
    }
   ],
   "source": [
    "# 빠른 거듭제곱과 모듈러\n",
    "for i in range(10):\n",
    "    print(2 ^ i, i)\n",
    "pow(2, 3)"
   ]
  },
  {
   "cell_type": "code",
   "execution_count": 6,
   "id": "8db35de4",
   "metadata": {
    "scrolled": true
   },
   "outputs": [
    {
     "name": "stdout",
     "output_type": "stream",
     "text": [
      "24 18\n",
      "6\n",
      "72\n"
     ]
    }
   ],
   "source": [
    "# 백준 2609\n",
    "import math\n",
    "\n",
    "def lcm(a, b):\n",
    "    return int(a*b/math.gcd(a,b))\n",
    "\n",
    "m, n = map(int, input().split())\n",
    "print(math.gcd(m, n))\n",
    "print(lcm(m, n))"
   ]
  },
  {
   "cell_type": "code",
   "execution_count": 8,
   "id": "2997e599",
   "metadata": {},
   "outputs": [
    {
     "name": "stdout",
     "output_type": "stream",
     "text": [
      "5\n",
      "24 52\n",
      "13 22\n",
      "5 53\n",
      "23 10\n",
      "7 70\n",
      "26\n"
     ]
    }
   ],
   "source": [
    "# 백준 10833\n",
    "\n",
    "# 5\n",
    "# 24 52\n",
    "# 13 22\n",
    "# 5 53\n",
    "# 23 10\n",
    "# 7 70\n",
    "total = 0\n",
    "for _ in range(int(input())):\n",
    "    a, b = map(int, input().split())\n",
    "    total += b % a\n",
    "print(total)"
   ]
  },
  {
   "cell_type": "code",
   "execution_count": 5,
   "id": "5ab04577",
   "metadata": {},
   "outputs": [
    {
     "name": "stdout",
     "output_type": "stream",
     "text": [
      "3\n",
      "4\n",
      "7\n",
      "11\n",
      "20\n"
     ]
    }
   ],
   "source": [
    "# 백준 2010\n",
    "\n",
    "n = int(input())\n",
    "total = 0\n",
    "for _ in range(n):\n",
    "    total += int(input())\n",
    "print(total - (n-1))"
   ]
  },
  {
   "cell_type": "code",
   "execution_count": 9,
   "id": "fe712d0c",
   "metadata": {},
   "outputs": [
    {
     "name": "stdout",
     "output_type": "stream",
     "text": [
      "5\n",
      "22 3\n",
      "You get 7 piece(s) and your dad gets 1 piece(s).\n",
      "15 5\n",
      "You get 3 piece(s) and your dad gets 0 piece(s).\n",
      "99 8\n",
      "You get 12 piece(s) and your dad gets 3 piece(s).\n",
      "7 4\n",
      "You get 1 piece(s) and your dad gets 3 piece(s).\n",
      "101 5\n",
      "You get 20 piece(s) and your dad gets 1 piece(s).\n"
     ]
    }
   ],
   "source": [
    "# 백준 10178 \n",
    "# 5\n",
    "# 22 3\n",
    "# 15 5\n",
    "# 99 8\n",
    "# 7 4\n",
    "# 101 5\n",
    "\n",
    "n = int(input())\n",
    "\n",
    "for _ in range(n):\n",
    "    c, v = map(int, input().split()) # 사탕, 형제\n",
    "    print('You get ' + str(c // v) + ' piece(s) and your dad gets ' + str(c % v) + ' piece(s).')"
   ]
  },
  {
   "cell_type": "code",
   "execution_count": 11,
   "id": "c742f722",
   "metadata": {},
   "outputs": [
    {
     "name": "stdout",
     "output_type": "stream",
     "text": [
      "5\n",
      "1 2\n",
      "Case 1: 3\n",
      "1 3\n",
      "Case 2: 4\n",
      "3 5\n",
      "Case 3: 8\n",
      "2 6\n",
      "Case 4: 8\n",
      "3 4\n",
      "Case 5: 7\n"
     ]
    }
   ],
   "source": [
    "# 백준 9295\n",
    "\n",
    "# 5\n",
    "# 1 2\n",
    "# 1 3\n",
    "# 3 5\n",
    "# 2 6\n",
    "# 3 4\n",
    "n = int(input())\n",
    "for i in range(1, n+1):\n",
    "    n1, n2 = map(int, input().split())\n",
    "    print('Case ' +str(i) + ': ' + str(n1+n2))"
   ]
  },
  {
   "cell_type": "code",
   "execution_count": 17,
   "id": "a205003b",
   "metadata": {},
   "outputs": [
    {
     "name": "stdout",
     "output_type": "stream",
     "text": [
      "4\n",
      "1 3 5 7\n",
      "3\n"
     ]
    }
   ],
   "source": [
    "# 백준 1978\n",
    "\n",
    "# 4\n",
    "# 1 3 5 7\n",
    "\n",
    "def check(n, lst):\n",
    "    total = 0\n",
    "    for i in lst:\n",
    "        count = 0\n",
    "        for j in range(1, i+1):\n",
    "            if i % j == 0:\n",
    "                count += 1\n",
    "        if count == 2:\n",
    "            total += 1\n",
    "    return total\n",
    "\n",
    "n = int(input())\n",
    "lst = list(map(int, input().split()))\n",
    "\n",
    "print(check(n, lst))"
   ]
  },
  {
   "cell_type": "code",
   "execution_count": 42,
   "id": "105c9685",
   "metadata": {
    "scrolled": true
   },
   "outputs": [
    {
     "name": "stdout",
     "output_type": "stream",
     "text": [
      "64\n",
      "65\n",
      "-1\n"
     ]
    }
   ],
   "source": [
    "# 백준 2581\n",
    "\n",
    "# 60\n",
    "# 100\n",
    "\n",
    "# 620\n",
    "# 61\n",
    "\n",
    "# 64\n",
    "# 65\n",
    "\n",
    "# -1\n",
    "def check(n, m):\n",
    "    lst = []\n",
    "    for i in range(n, m+1):\n",
    "        count = 0\n",
    "        for j in range(1, i+1):\n",
    "            if i % j == 0:\n",
    "                count += 1\n",
    "            if count >= 3:\n",
    "                count = -1\n",
    "                break\n",
    "        if count == 2:\n",
    "            lst.append(i)\n",
    "    if lst: # lst 있는 경우\n",
    "        print(sum(lst))\n",
    "        print(min(lst))\n",
    "    else:\n",
    "        print(-1)\n",
    "\n",
    "n, m = int(input()), int(input())\n",
    "check(n, m)"
   ]
  },
  {
   "cell_type": "code",
   "execution_count": 61,
   "id": "c161e470",
   "metadata": {},
   "outputs": [
    {
     "name": "stdout",
     "output_type": "stream",
     "text": [
      "9\n",
      "10 20 30 40 50 60 70 80 90\n",
      "55.55555555555556\n"
     ]
    }
   ],
   "source": [
    "# 백준 1546\n",
    "\n",
    "# 3\n",
    "# 40 80 60\n",
    "# /M * 100\n",
    "# 최고점이 70이고, 수학점수가 50이었으면 수학점수는 50/70*100이 되어 71.43점이 된다.\n",
    "# 75.0\n",
    "\n",
    "def re_average(n, score):\n",
    "    score = sorted(score)\n",
    "    max_score = score[-1] # 최고점수\n",
    "    rst_score = []\n",
    "    for i in score:\n",
    "        rst_score.append(i / max_score * 100)\n",
    "    print(sum(rst_score)/len(rst_score))\n",
    "    \n",
    "n, score = int(input()), list(map(int, input().split()))\n",
    "re_average(n, score)"
   ]
  },
  {
   "cell_type": "code",
   "execution_count": 52,
   "id": "035d1d2b",
   "metadata": {},
   "outputs": [
    {
     "data": {
      "text/plain": [
       "50.0"
      ]
     },
     "execution_count": 52,
     "metadata": {},
     "output_type": "execute_result"
    }
   ],
   "source": [
    "40 / 80 * 100"
   ]
  }
 ],
 "metadata": {
  "kernelspec": {
   "display_name": "Python 3 (ipykernel)",
   "language": "python",
   "name": "python3"
  },
  "language_info": {
   "codemirror_mode": {
    "name": "ipython",
    "version": 3
   },
   "file_extension": ".py",
   "mimetype": "text/x-python",
   "name": "python",
   "nbconvert_exporter": "python",
   "pygments_lexer": "ipython3",
   "version": "3.9.12"
  }
 },
 "nbformat": 4,
 "nbformat_minor": 5
}
