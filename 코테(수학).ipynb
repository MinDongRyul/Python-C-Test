{
 "cells": [
  {
   "cell_type": "markdown",
   "id": "6e8ea38d",
   "metadata": {},
   "source": [
    "최소 공배수 / 최대 공약수\n",
    "- 단순 반복문\n",
    "- 유클리드 호제\n",
    "- 라이브러리 사용"
   ]
  },
  {
   "cell_type": "code",
   "execution_count": 8,
   "id": "ca0066c2",
   "metadata": {},
   "outputs": [
    {
     "name": "stdout",
     "output_type": "stream",
     "text": [
      "256\n",
      "CPU times: total: 0 ns\n",
      "Wall time: 414 µs\n",
      "256\n",
      "CPU times: total: 0 ns\n",
      "Wall time: 0 ns\n",
      "256\n",
      "CPU times: total: 125 ms\n",
      "Wall time: 179 ms\n",
      "256\n",
      "CPU times: total: 0 ns\n",
      "Wall time: 0 ns\n"
     ]
    }
   ],
   "source": [
    "# 방법 1 : 단순하게 반복문 사용\n",
    "def gcd_naive(a, b):\n",
    "    for i in range(min(a, b), 0, -1):\n",
    "        if a%i==0 and b%i==0 : return i\n",
    "\n",
    "# 방법 2-1 : 유클리드 호제법\n",
    "def gcd(a, b):\n",
    "    if a % b == 0:\n",
    "        return b\n",
    "    return gcd(b, a%b) # gcd(b, a%b) if a%b != 0 else b\n",
    "\n",
    "# 방법 2-2 : 반복문으로 변경\n",
    "def gcd2(a, b):\n",
    "    while a % b != 0:\n",
    "        a, b, = b, a%b\n",
    "    return b\n",
    "\n",
    "# 방법 3 : math의 gcd 사용\n",
    "import math\n",
    "math.gcd(1, 2)\n",
    "\n",
    "%time print(gcd(10**8, 2**20))\n",
    "%time print(gcd2(10**8, 2**20))\n",
    "%time print(gcd_naive(10**8, 2**20))\n",
    "%time print(math.gcd(10**8, 2**20))"
   ]
  },
  {
   "cell_type": "code",
   "execution_count": null,
   "id": "7c48c913",
   "metadata": {},
   "outputs": [],
   "source": [
    "# lcm은 gcd를 활용하여 계산하자\n",
    "# a / gcd(a, b) * b\n",
    "def lcm(a, b):\n",
    "    return a*b/gcd(a,b)"
   ]
  },
  {
   "cell_type": "markdown",
   "id": "5792335f",
   "metadata": {},
   "source": [
    "소수 체크 & 소인수 분해"
   ]
  },
  {
   "cell_type": "code",
   "execution_count": 13,
   "id": "c65c3d19",
   "metadata": {
    "scrolled": true
   },
   "outputs": [
    {
     "name": "stdout",
     "output_type": "stream",
     "text": [
      "True\n"
     ]
    },
    {
     "data": {
      "text/plain": [
       "[3, 3, 3]"
      ]
     },
     "execution_count": 13,
     "metadata": {},
     "output_type": "execute_result"
    }
   ],
   "source": [
    "# 소수 체크 기본\n",
    "# prime_check말고 isPrime 등의 관용적인 함수 명을 사용\n",
    "def prime_check(N):\n",
    "    for i in range(2, N):\n",
    "        if N%i==0: return False\n",
    "        if i * i > N: break\n",
    "    return True\n",
    "\n",
    "# 소인수분해 기본\n",
    "def prime_factorization(N):\n",
    "    p, fac = 2, []\n",
    "    while p**2 <= N:\n",
    "        if N % p == 0:\n",
    "            N //= p\n",
    "            fac.append(p)\n",
    "        else:\n",
    "            p += 1\n",
    "    if N > 1 : fac.append(N)\n",
    "    return fac\n",
    "print(prime_check(5))\n",
    "prime_factorization(27)"
   ]
  },
  {
   "cell_type": "markdown",
   "id": "3a0ca89b",
   "metadata": {},
   "source": [
    "소수 리스트를 미리 만드는 방법 : 에라토스테네스의 체"
   ]
  },
  {
   "cell_type": "code",
   "execution_count": 16,
   "id": "502f8893",
   "metadata": {},
   "outputs": [],
   "source": [
    "# 에라토스테네스의 체를 활용한 소수 리스트 구하기\n",
    "def era_prime(N):\n",
    "    A, p = [0 for _ in range(N + 1)], []\n",
    "    for i in range(2, N):\n",
    "        if A[i] == 0: p.append(i)\n",
    "        else: continue\n",
    "        for j in range(i**2, N, i):\n",
    "            A[j] = 1\n",
    "    return p"
   ]
  },
  {
   "cell_type": "code",
   "execution_count": 17,
   "id": "58c786f3",
   "metadata": {},
   "outputs": [
    {
     "data": {
      "text/plain": [
       "[2, 3, 5, 7]"
      ]
     },
     "execution_count": 17,
     "metadata": {},
     "output_type": "execute_result"
    }
   ],
   "source": [
    "era_prime(10)"
   ]
  },
  {
   "cell_type": "markdown",
   "id": "7800e3ab",
   "metadata": {},
   "source": [
    "- 소인수의 개수\n",
    "- 소인수의 합\n",
    "- 소인수분해를 위한 또 하나의 트릭"
   ]
  },
  {
   "cell_type": "code",
   "execution_count": 28,
   "id": "9d32eee5",
   "metadata": {},
   "outputs": [],
   "source": [
    "# 활용 1 : 소인수의 개수\n",
    "def era_factor_count(N):\n",
    "    A = [0 for _ in range(N+1)]\n",
    "    for i in range(2, N):\n",
    "        for j in range(i, N, i):\n",
    "            A[j] += 1\n",
    "    return A\n",
    "\n",
    "# 활용 2 : 소인수의 합\n",
    "def era_factor_sum(N):\n",
    "    A = [0 for _ in range(N+1)]\n",
    "    for i in range(2, N):\n",
    "        for j in range(i, N, i):\n",
    "            A[j] += i\n",
    "    return A\n",
    "\n",
    "# 활용 3 : 소인수분해 하기\n",
    "def era_factorization(N):\n",
    "    A = [0 for _ in range(N+1)]\n",
    "    for i in range(2, N):\n",
    "        if A[i]: continue\n",
    "        for j in range(i, N, i):\n",
    "            A[j] = i\n",
    "    return A"
   ]
  },
  {
   "cell_type": "code",
   "execution_count": 30,
   "id": "cbd8ea83",
   "metadata": {},
   "outputs": [
    {
     "name": "stdout",
     "output_type": "stream",
     "text": [
      "[0, 0, 1, 1, 2, 1, 3, 1, 3, 2, 0]\n",
      "[0, 0, 2, 3, 6, 5, 11, 7, 14, 12, 0]\n",
      "[0, 0, 2, 3, 2, 5, 3, 7, 2, 3, 0]\n",
      "7\n",
      "3\n",
      "2\n",
      "2\n"
     ]
    }
   ],
   "source": [
    "print(era_factor_count(10))\n",
    "print(era_factor_sum(10))\n",
    "print(era_factorization(10))\n",
    "A = era_factorization(100)\n",
    "N = 84\n",
    "while A[N] != 0:\n",
    "    print(A[N])\n",
    "    N //= A[N]"
   ]
  },
  {
   "cell_type": "code",
   "execution_count": 34,
   "id": "3cb154fe",
   "metadata": {
    "scrolled": true
   },
   "outputs": [
    {
     "name": "stdout",
     "output_type": "stream",
     "text": [
      "2 0\n",
      "3 1\n",
      "0 2\n",
      "1 3\n",
      "6 4\n",
      "7 5\n",
      "4 6\n",
      "5 7\n",
      "10 8\n",
      "11 9\n"
     ]
    },
    {
     "data": {
      "text/plain": [
       "8"
      ]
     },
     "execution_count": 34,
     "metadata": {},
     "output_type": "execute_result"
    }
   ],
   "source": [
    "# 빠른 거듭제곱과 모듈러\n",
    "for i in range(10):\n",
    "    print(2 ^ i, i)\n",
    "pow(2, 3)"
   ]
  },
  {
   "cell_type": "code",
   "execution_count": 6,
   "id": "8db35de4",
   "metadata": {
    "scrolled": true
   },
   "outputs": [
    {
     "name": "stdout",
     "output_type": "stream",
     "text": [
      "24 18\n",
      "6\n",
      "72\n"
     ]
    }
   ],
   "source": [
    "# 백준 2609\n",
    "import math\n",
    "\n",
    "def lcm(a, b):\n",
    "    return int(a*b/math.gcd(a,b))\n",
    "\n",
    "m, n = map(int, input().split())\n",
    "print(math.gcd(m, n))\n",
    "print(lcm(m, n))"
   ]
  },
  {
   "cell_type": "code",
   "execution_count": 8,
   "id": "2997e599",
   "metadata": {},
   "outputs": [
    {
     "name": "stdout",
     "output_type": "stream",
     "text": [
      "5\n",
      "24 52\n",
      "13 22\n",
      "5 53\n",
      "23 10\n",
      "7 70\n",
      "26\n"
     ]
    }
   ],
   "source": [
    "# 백준 10833\n",
    "\n",
    "# 5\n",
    "# 24 52\n",
    "# 13 22\n",
    "# 5 53\n",
    "# 23 10\n",
    "# 7 70\n",
    "total = 0\n",
    "for _ in range(int(input())):\n",
    "    a, b = map(int, input().split())\n",
    "    total += b % a\n",
    "print(total)"
   ]
  },
  {
   "cell_type": "code",
   "execution_count": 7,
   "id": "5ab04577",
   "metadata": {},
   "outputs": [
    {
     "data": {
      "text/plain": [
       "4"
      ]
     },
     "execution_count": 7,
     "metadata": {},
     "output_type": "execute_result"
    }
   ],
   "source": [
    "52 % 24"
   ]
  }
 ],
 "metadata": {
  "kernelspec": {
   "display_name": "Python 3 (ipykernel)",
   "language": "python",
   "name": "python3"
  },
  "language_info": {
   "codemirror_mode": {
    "name": "ipython",
    "version": 3
   },
   "file_extension": ".py",
   "mimetype": "text/x-python",
   "name": "python",
   "nbconvert_exporter": "python",
   "pygments_lexer": "ipython3",
   "version": "3.9.12"
  }
 },
 "nbformat": 4,
 "nbformat_minor": 5
}
