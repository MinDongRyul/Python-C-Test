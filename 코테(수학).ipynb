{
 "cells": [
  {
   "cell_type": "markdown",
   "id": "374397c0",
   "metadata": {},
   "source": [
    "최소 공배수 / 최대 공약수\n",
    "- 단순 반복문\n",
    "- 유클리드 호제\n",
    "- 라이브러리 사용"
   ]
  },
  {
   "cell_type": "code",
   "execution_count": 8,
   "id": "9ba4be60",
   "metadata": {},
   "outputs": [
    {
     "name": "stdout",
     "output_type": "stream",
     "text": [
      "256\n",
      "CPU times: total: 0 ns\n",
      "Wall time: 414 µs\n",
      "256\n",
      "CPU times: total: 0 ns\n",
      "Wall time: 0 ns\n",
      "256\n",
      "CPU times: total: 125 ms\n",
      "Wall time: 179 ms\n",
      "256\n",
      "CPU times: total: 0 ns\n",
      "Wall time: 0 ns\n"
     ]
    }
   ],
   "source": [
    "# 방법 1 : 단순하게 반복문 사용\n",
    "def gcd_naive(a, b):\n",
    "    for i in range(min(a, b), 0, -1):\n",
    "        if a%i==0 and b%i==0 : return i\n",
    "\n",
    "# 방법 2-1 : 유클리드 호제법\n",
    "def gcd(a, b):\n",
    "    if a % b == 0:\n",
    "        return b\n",
    "    return gcd(b, a%b) # gcd(b, a%b) if a%b != 0 else b\n",
    "\n",
    "# 방법 2-2 : 반복문으로 변경\n",
    "def gcd2(a, b):\n",
    "    while a % b != 0:\n",
    "        a, b, = b, a%b\n",
    "    return b\n",
    "\n",
    "# 방법 3 : math의 gcd 사용\n",
    "import math\n",
    "math.gcd(1, 2)\n",
    "\n",
    "%time print(gcd(10**8, 2**20))\n",
    "%time print(gcd2(10**8, 2**20))\n",
    "%time print(gcd_naive(10**8, 2**20))\n",
    "%time print(math.gcd(10**8, 2**20))"
   ]
  },
  {
   "cell_type": "code",
   "execution_count": null,
   "id": "21c05f2b",
   "metadata": {},
   "outputs": [],
   "source": [
    "# lcm은 gcd를 활용하여 계산하자\n",
    "def lcm(a, b):\n",
    "    return a*b/gcd(a,b)"
   ]
  },
  {
   "cell_type": "code",
   "execution_count": null,
   "id": "17adb4ff",
   "metadata": {},
   "outputs": [],
   "source": []
  }
 ],
 "metadata": {
  "kernelspec": {
   "display_name": "Python 3 (ipykernel)",
   "language": "python",
   "name": "python3"
  },
  "language_info": {
   "codemirror_mode": {
    "name": "ipython",
    "version": 3
   },
   "file_extension": ".py",
   "mimetype": "text/x-python",
   "name": "python",
   "nbconvert_exporter": "python",
   "pygments_lexer": "ipython3",
   "version": "3.9.12"
  }
 },
 "nbformat": 4,
 "nbformat_minor": 5
}
