{
 "cells": [
  {
   "cell_type": "markdown",
   "id": "6e8ea38d",
   "metadata": {},
   "source": [
    "최소 공배수 / 최대 공약수\n",
    "- 단순 반복문\n",
    "- 유클리드 호제\n",
    "- 라이브러리 사용"
   ]
  },
  {
   "cell_type": "code",
   "execution_count": null,
   "id": "ca0066c2",
   "metadata": {},
   "outputs": [],
   "source": [
    "# 방법 1 : 단순하게 반복문 사용\n",
    "def gcd_naive(a, b):\n",
    "    for i in range(min(a, b), 0, -1):\n",
    "        if a%i==0 and b%i==0 : return i\n",
    "\n",
    "# 방법 2-1 : 유클리드 호제법\n",
    "def gcd(a, b):\n",
    "    if a % b == 0:\n",
    "        return b\n",
    "    return gcd(b, a%b) # gcd(b, a%b) if a%b != 0 else b\n",
    "\n",
    "# 방법 2-2 : 반복문으로 변경\n",
    "def gcd2(a, b):\n",
    "    while a % b != 0:\n",
    "        a, b, = b, a%b\n",
    "    return b\n",
    "\n",
    "# 방법 3 : math의 gcd 사용\n",
    "import math\n",
    "math.gcd(1, 2)\n",
    "\n",
    "%time print(gcd(10**8, 2**20))\n",
    "%time print(gcd2(10**8, 2**20))\n",
    "%time print(gcd_naive(10**8, 2**20))\n",
    "%time print(math.gcd(10**8, 2**20))"
   ]
  },
  {
   "cell_type": "code",
   "execution_count": null,
   "id": "7c48c913",
   "metadata": {},
   "outputs": [],
   "source": [
    "# lcm은 gcd를 활용하여 계산하자\n",
    "# a / gcd(a, b) * b\n",
    "def lcm(a, b):\n",
    "    return a*b/gcd(a,b)"
   ]
  },
  {
   "cell_type": "markdown",
   "id": "5792335f",
   "metadata": {},
   "source": [
    "소수 체크 & 소인수 분해"
   ]
  },
  {
   "cell_type": "code",
   "execution_count": null,
   "id": "c65c3d19",
   "metadata": {
    "scrolled": true
   },
   "outputs": [],
   "source": [
    "# 소수 체크 기본\n",
    "# prime_check말고 isPrime 등의 관용적인 함수 명을 사용\n",
    "def prime_check(N):\n",
    "    for i in range(2, N):\n",
    "        if N%i==0: return False\n",
    "        if i * i > N: break\n",
    "    return True\n",
    "\n",
    "# 소인수분해 기본\n",
    "def prime_factorization(N):\n",
    "    p, fac = 2, []\n",
    "    while p**2 <= N:\n",
    "        if N % p == 0:\n",
    "            N //= p\n",
    "            fac.append(p)\n",
    "        else:\n",
    "            p += 1\n",
    "    if N > 1 : fac.append(N)\n",
    "    return fac\n",
    "print(prime_check(5))\n",
    "prime_factorization(27)"
   ]
  },
  {
   "cell_type": "markdown",
   "id": "3a0ca89b",
   "metadata": {},
   "source": [
    "소수 리스트를 미리 만드는 방법 : 에라토스테네스의 체"
   ]
  },
  {
   "cell_type": "code",
   "execution_count": null,
   "id": "502f8893",
   "metadata": {},
   "outputs": [],
   "source": [
    "# 에라토스테네스의 체를 활용한 소수 리스트 구하기\n",
    "def era_prime(N):\n",
    "    A, p = [0 for _ in range(N + 1)], []\n",
    "    for i in range(2, N):\n",
    "        if A[i] == 0: p.append(i)\n",
    "        else: continue\n",
    "        for j in range(i**2, N, i):\n",
    "            A[j] = 1\n",
    "    return p"
   ]
  },
  {
   "cell_type": "code",
   "execution_count": null,
   "id": "58c786f3",
   "metadata": {},
   "outputs": [],
   "source": [
    "era_prime(10)"
   ]
  },
  {
   "cell_type": "markdown",
   "id": "7800e3ab",
   "metadata": {},
   "source": [
    "- 소인수의 개수\n",
    "- 소인수의 합\n",
    "- 소인수분해를 위한 또 하나의 트릭"
   ]
  },
  {
   "cell_type": "code",
   "execution_count": null,
   "id": "9d32eee5",
   "metadata": {},
   "outputs": [],
   "source": [
    "# 활용 1 : 소인수의 개수\n",
    "def era_factor_count(N):\n",
    "    A = [0 for _ in range(N+1)]\n",
    "    for i in range(2, N):\n",
    "        for j in range(i, N, i):\n",
    "            A[j] += 1\n",
    "    return A\n",
    "\n",
    "# 활용 2 : 소인수의 합\n",
    "def era_factor_sum(N):\n",
    "    A = [0 for _ in range(N+1)]\n",
    "    for i in range(2, N):\n",
    "        for j in range(i, N, i):\n",
    "            A[j] += i\n",
    "    return A\n",
    "\n",
    "# 활용 3 : 소인수분해 하기\n",
    "def era_factorization(N):\n",
    "    A = [0 for _ in range(N+1)]\n",
    "    for i in range(2, N):\n",
    "        if A[i]: continue\n",
    "        for j in range(i, N, i):\n",
    "            A[j] = i\n",
    "    return A"
   ]
  },
  {
   "cell_type": "code",
   "execution_count": null,
   "id": "cbd8ea83",
   "metadata": {},
   "outputs": [],
   "source": [
    "print(era_factor_count(10))\n",
    "print(era_factor_sum(10))\n",
    "print(era_factorization(10))\n",
    "A = era_factorization(100)\n",
    "N = 84\n",
    "while A[N] != 0:\n",
    "    print(A[N])\n",
    "    N //= A[N]"
   ]
  },
  {
   "cell_type": "code",
   "execution_count": null,
   "id": "3cb154fe",
   "metadata": {
    "scrolled": true
   },
   "outputs": [],
   "source": [
    "# 빠른 거듭제곱과 모듈러\n",
    "for i in range(10):\n",
    "    print(2 ^ i, i)\n",
    "pow(2, 3)"
   ]
  },
  {
   "cell_type": "code",
   "execution_count": null,
   "id": "8db35de4",
   "metadata": {
    "scrolled": true
   },
   "outputs": [],
   "source": [
    "# 백준 2609\n",
    "import math\n",
    "\n",
    "def lcm(a, b):\n",
    "    return int(a*b/math.gcd(a,b))\n",
    "\n",
    "m, n = map(int, input().split())\n",
    "print(math.gcd(m, n))\n",
    "print(lcm(m, n))"
   ]
  },
  {
   "cell_type": "code",
   "execution_count": null,
   "id": "2997e599",
   "metadata": {},
   "outputs": [],
   "source": [
    "# 백준 10833\n",
    "\n",
    "# 5\n",
    "# 24 52\n",
    "# 13 22\n",
    "# 5 53\n",
    "# 23 10\n",
    "# 7 70\n",
    "total = 0\n",
    "for _ in range(int(input())):\n",
    "    a, b = map(int, input().split())\n",
    "    total += b % a\n",
    "print(total)"
   ]
  },
  {
   "cell_type": "code",
   "execution_count": null,
   "id": "5ab04577",
   "metadata": {},
   "outputs": [],
   "source": [
    "# 백준 2010\n",
    "\n",
    "n = int(input())\n",
    "total = 0\n",
    "for _ in range(n):\n",
    "    total += int(input())\n",
    "print(total - (n-1))"
   ]
  },
  {
   "cell_type": "code",
   "execution_count": null,
   "id": "fe712d0c",
   "metadata": {},
   "outputs": [],
   "source": [
    "# 백준 10178 \n",
    "# 5\n",
    "# 22 3\n",
    "# 15 5\n",
    "# 99 8\n",
    "# 7 4\n",
    "# 101 5\n",
    "\n",
    "n = int(input())\n",
    "\n",
    "for _ in range(n):\n",
    "    c, v = map(int, input().split()) # 사탕, 형제\n",
    "    print('You get ' + str(c // v) + ' piece(s) and your dad gets ' + str(c % v) + ' piece(s).')"
   ]
  },
  {
   "cell_type": "code",
   "execution_count": null,
   "id": "c742f722",
   "metadata": {},
   "outputs": [],
   "source": [
    "# 백준 9295\n",
    "\n",
    "# 5\n",
    "# 1 2\n",
    "# 1 3\n",
    "# 3 5\n",
    "# 2 6\n",
    "# 3 4\n",
    "n = int(input())\n",
    "for i in range(1, n+1):\n",
    "    n1, n2 = map(int, input().split())\n",
    "    print('Case ' +str(i) + ': ' + str(n1+n2))"
   ]
  },
  {
   "cell_type": "code",
   "execution_count": null,
   "id": "a205003b",
   "metadata": {},
   "outputs": [],
   "source": [
    "# 백준 1978\n",
    "\n",
    "# 4\n",
    "# 1 3 5 7\n",
    "\n",
    "def check(n, lst):\n",
    "    total = 0\n",
    "    for i in lst:\n",
    "        count = 0\n",
    "        for j in range(1, i+1):\n",
    "            if i % j == 0:\n",
    "                count += 1\n",
    "        if count == 2:\n",
    "            total += 1\n",
    "    return total\n",
    "\n",
    "n = int(input())\n",
    "lst = list(map(int, input().split()))\n",
    "\n",
    "print(check(n, lst))"
   ]
  },
  {
   "cell_type": "code",
   "execution_count": null,
   "id": "105c9685",
   "metadata": {
    "scrolled": true
   },
   "outputs": [],
   "source": [
    "# 백준 2581\n",
    "\n",
    "# 60\n",
    "# 100\n",
    "\n",
    "# 620\n",
    "# 61\n",
    "\n",
    "# 64\n",
    "# 65\n",
    "\n",
    "# -1\n",
    "def check(n, m):\n",
    "    lst = []\n",
    "    for i in range(n, m+1):\n",
    "        count = 0\n",
    "        for j in range(1, i+1):\n",
    "            if i % j == 0:\n",
    "                count += 1\n",
    "            if count >= 3:\n",
    "                count = -1\n",
    "                break\n",
    "        if count == 2:\n",
    "            lst.append(i)\n",
    "    if lst: # lst 있는 경우\n",
    "        print(sum(lst))\n",
    "        print(min(lst))\n",
    "    else:\n",
    "        print(-1)\n",
    "\n",
    "n, m = int(input()), int(input())\n",
    "check(n, m)"
   ]
  },
  {
   "cell_type": "code",
   "execution_count": null,
   "id": "c161e470",
   "metadata": {},
   "outputs": [],
   "source": [
    "# 백준 1546\n",
    "\n",
    "# 3\n",
    "# 40 80 60\n",
    "# /M * 100\n",
    "# 최고점이 70이고, 수학점수가 50이었으면 수학점수는 50/70*100이 되어 71.43점이 된다.\n",
    "# 75.0\n",
    "\n",
    "def re_average(n, score):\n",
    "    score = sorted(score)\n",
    "    max_score = score[-1] # 최고점수\n",
    "    rst_score = []\n",
    "    for i in score:\n",
    "        rst_score.append(i / max_score * 100)\n",
    "    print(sum(rst_score)/len(rst_score))\n",
    "    \n",
    "n, score = int(input()), list(map(int, input().split()))\n",
    "re_average(n, score)"
   ]
  },
  {
   "cell_type": "code",
   "execution_count": null,
   "id": "035d1d2b",
   "metadata": {
    "scrolled": true
   },
   "outputs": [],
   "source": [
    "# 백준 10569 (오일러 지표)\n",
    "\n",
    "# (꼭짓점의 수) - (모서리의 수) + (면의 수) = 2\n",
    "# 2\n",
    "# 8 12 꼭짓점 모서리\n",
    "# 4 6\n",
    "\n",
    "# 6\n",
    "# 4\n",
    "def euler(n):\n",
    "    for _ in range(n):\n",
    "        v, e = map(int, input().split()) \n",
    "        print(e - v + 2)\n",
    "        \n",
    "n = int(input())\n",
    "euler(n)"
   ]
  },
  {
   "cell_type": "code",
   "execution_count": null,
   "id": "8830cf82",
   "metadata": {},
   "outputs": [],
   "source": [
    "# 백준 2921\n",
    "n = int(input())\n",
    "print(int((n*(n+1)*(n+2))/2))"
   ]
  },
  {
   "cell_type": "code",
   "execution_count": null,
   "id": "f83b2f8a",
   "metadata": {},
   "outputs": [],
   "source": [
    "# 백준 10818\n",
    "\n",
    "# 5\n",
    "# 20 10 35 30 7\n",
    "\n",
    "# 7 35\n",
    "\n",
    "n = int(input())\n",
    "lst = sorted(list(map(int, input().split())))\n",
    "print(lst[0], lst[-1])"
   ]
  },
  {
   "cell_type": "code",
   "execution_count": null,
   "id": "01317012",
   "metadata": {},
   "outputs": [],
   "source": [
    "# 백준 2609 수학(최소 공배, 최대 공약)\n",
    "\n",
    "# 24 18\n",
    "\n",
    "# 6   최대 공\n",
    "# 72  최소 공\n",
    "\n",
    "# import math\n",
    "# def lcm(a, b):\n",
    "#     return int(a*b/math.gcd(a,b))\n",
    "\n",
    "# m, n = map(int, input().split())\n",
    "# print(math.gcd(m, n))\n",
    "# print(lcm(m, n))\n",
    "\n",
    "import math\n",
    "\n",
    "a, b = map(int, input().split())\n",
    "\n",
    "print(math.gcd(a, b)) # 최대 공\n",
    "print(math.lcm(a, b)) # 최소 공"
   ]
  },
  {
   "cell_type": "code",
   "execution_count": null,
   "id": "ab90dcec",
   "metadata": {},
   "outputs": [],
   "source": [
    "# 백준 1934 수학(최소 공)\n",
    "\n",
    "# 3\n",
    "# 1 45000\n",
    "# 6 10\n",
    "# 13 17\n",
    "\n",
    "# 45000\n",
    "# 30\n",
    "# 221\n",
    "\n",
    "# import math\n",
    "# def lcm(a, b):\n",
    "#     return a * b // math.gcd(a, b)\n",
    "# n = int(input())\n",
    "\n",
    "# for i in range(n):\n",
    "#     a, b = map(int, input().split())\n",
    "#     print(lcm(a, b))\n",
    "\n",
    "import math\n",
    "\n",
    "for _ in range(int(input())):\n",
    "    a, b = map(int, input().split())\n",
    "    print(math.lcm(a, b))"
   ]
  },
  {
   "cell_type": "code",
   "execution_count": null,
   "id": "5a36be94",
   "metadata": {},
   "outputs": [],
   "source": [
    "# 백준 1978 수학 소수구하기 \n",
    "\n",
    "# 4\n",
    "# 1 3 5 7\n",
    "\n",
    "# 3\n",
    "\n",
    "n = int(input())\n",
    "lst = list(map(int, input().split()))\n",
    "total_s = 0\n",
    "for i in range(n):\n",
    "    k = 0\n",
    "    for j in range(2, lst[i]+1):\n",
    "        if lst[i] % j == 0:\n",
    "            k += 1\n",
    "    if k == 1:\n",
    "        total_s += 1\n",
    "print(total_s)"
   ]
  },
  {
   "cell_type": "code",
   "execution_count": null,
   "id": "65bc9dd6",
   "metadata": {},
   "outputs": [],
   "source": [
    "# 백준 1929 소수 구하기\n",
    "\n",
    "# 3 16\n",
    "\n",
    "# 3\n",
    "# 5\n",
    "# 7\n",
    "# 11\n",
    "# 13\n",
    "import math\n",
    "\n",
    "m, n = map(int, input().split())\n",
    "if m == 1:\n",
    "    m += 1\n",
    "    \n",
    "for i in range(m, n+1):\n",
    "    s = 0\n",
    "    for k in range(1, int(math.sqrt(i)+1)):\n",
    "        if i % k  == 0:\n",
    "            s += 1\n",
    "        if s >= 2:\n",
    "            break\n",
    "    if s == 1:\n",
    "        print(i)"
   ]
  },
  {
   "cell_type": "code",
   "execution_count": null,
   "id": "e768df85",
   "metadata": {
    "scrolled": true
   },
   "outputs": [],
   "source": [
    "# 백준 6588 -> 시간 초과\n",
    "\n",
    "# 8\n",
    "# 20\n",
    "# 42\n",
    "# 0\n",
    "\n",
    "# 8 = 3 + 5\n",
    "# 20 = 3 + 17\n",
    "# 42 = 5 + 37\n",
    "\n",
    "from itertools import permutations\n",
    "\n",
    "while True:\n",
    "    n = int(input())\n",
    "    rst = []\n",
    "    check = True\n",
    "    if n == 0:\n",
    "        break\n",
    "        \n",
    "    for i in range(1, n+1, 2):\n",
    "        s = 0\n",
    "        for k in range(1, int(math.sqrt(i)+1)):\n",
    "            if i % k  == 0:\n",
    "                s += 1\n",
    "            if s >= 2:\n",
    "                break\n",
    "        if s == 1 and i != 1:\n",
    "            print(i)\n",
    "    \n",
    "#     if rst:\n",
    "#         for idx, num in enumerate(permutations(rst, 2)):\n",
    "#             if sum(num) == n:\n",
    "#                 print(str(n) + ' = ' + str(num[0]) + ' + ' + str(num[1]))\n",
    "#                 check = False\n",
    "#                 break\n",
    "#         print(rst)\n",
    "#     if check:\n",
    "#         print(\"Goldbach's conjecture is wrong.\")"
   ]
  },
  {
   "cell_type": "code",
   "execution_count": 5,
   "id": "f3dd19f1",
   "metadata": {},
   "outputs": [
    {
     "name": "stdout",
     "output_type": "stream",
     "text": [
      "30\n",
      "30 = 7 + 23\n",
      "0\n"
     ]
    }
   ],
   "source": [
    "# 백준 6588 (소수 합)\n",
    "\n",
    "N = 1000001\n",
    "lst = [0]*N\n",
    "\n",
    "for i in range(2, int(N**0.5)+1):\n",
    "    if lst[i] == 0:\n",
    "        for j in range(i+i, N, i): # 2 3 5 7 등의 배수를 전부다 소수가 아닌걸로 처리(그러기에 증가가 i )\n",
    "            if lst[j] == 0:\n",
    "                lst[j] = 1  # 소수가 아님\n",
    "\n",
    "while (1):\n",
    "    n = int(input())\n",
    "    \n",
    "    if (n == 0):\n",
    "        break\n",
    "\n",
    "    for i in range(3, N):\n",
    "        if lst[i] == 0 and lst[n-i] == 0: # 처음과 끝부터  3  17\n",
    "            print(n, \"=\", i, \"+\", n-i)\n",
    "            break"
   ]
  },
  {
   "cell_type": "code",
   "execution_count": null,
   "id": "00f3ab71",
   "metadata": {},
   "outputs": [],
   "source": [
    "# 백준 10872 수학\n",
    "\n",
    "# 10\n",
    "# 3628800\n",
    "\n",
    "n = int(input())\n",
    "k = 1\n",
    "for i in range(1, n+1):\n",
    "    k *= i\n",
    "print(k)"
   ]
  },
  {
   "cell_type": "code",
   "execution_count": null,
   "id": "b1f4268b",
   "metadata": {},
   "outputs": [],
   "source": [
    "# 백준 1676 수학\n",
    "\n",
    "n = int(input())\n",
    "k, t = 1, 0\n",
    "for i in range(1, n+1):\n",
    "    k *= i\n",
    "\n",
    "for i in str(k)[::-1]:\n",
    "    if int(i) != 0:\n",
    "        break\n",
    "    t += 1\n",
    "print(t)"
   ]
  },
  {
   "cell_type": "code",
   "execution_count": null,
   "id": "f45425a2",
   "metadata": {},
   "outputs": [],
   "source": [
    "# 백준 9613 수학\n",
    "import math\n",
    "from itertools import permutations\n",
    "from itertools import combinations\n",
    "# 3\n",
    "# 4 10 20 30 40\n",
    "# 3 7 5 12\n",
    "# 3 125 15 25\n",
    "\n",
    "# 70\n",
    "# 3\n",
    "# 35\n",
    "\n",
    "for _ in range(int(input())):\n",
    "    n = list(map(int, input().split()))\n",
    "    t = 0\n",
    "    for i in combinations(n[1:], 2):\n",
    "        t += math.gcd(i[0], i[1])\n",
    "    print(t)"
   ]
  },
  {
   "cell_type": "code",
   "execution_count": null,
   "id": "bf165d64",
   "metadata": {},
   "outputs": [],
   "source": [
    "# 백준 17087 수학\n",
    "\n",
    "# 3 3      동생의수 / 형의 위치\n",
    "# 1 7 11\n",
    "\n",
    "import math\n",
    "\n",
    "n, s = map(int, input().split()) \n",
    "lst = list(map(int, input().split()))\n",
    "lo = []\n",
    "for i in lst:\n",
    "    lo.append(abs(i - s))\n",
    "\n",
    "print(math.gcd(*lo))"
   ]
  },
  {
   "cell_type": "code",
   "execution_count": null,
   "id": "58202e4c",
   "metadata": {},
   "outputs": [],
   "source": [
    "# 백준 1373 2진수 -> 8진수 수학\n",
    "\n",
    "# 11001100\n",
    "# 314\n",
    "\n",
    "print(oct(int(input(),2))[2:])"
   ]
  },
  {
   "cell_type": "code",
   "execution_count": null,
   "id": "5a5f00e5",
   "metadata": {},
   "outputs": [],
   "source": [
    "# 백준 1212 8진수 -> 2진수 수학\n",
    "\n",
    "print(bin(int(input(),8))[2:])"
   ]
  },
  {
   "cell_type": "code",
   "execution_count": null,
   "id": "190805b9",
   "metadata": {},
   "outputs": [],
   "source": [
    "# 17013 백준 수학\n",
    "\n",
    "N = 1000001\n",
    "nlst = [0]*N\n",
    "\n",
    "nlst[1] = 1\n",
    "for i in range(2, int(N**0.5)+1):\n",
    "    if nlst[i] == 0:\n",
    "        for j in range(i+i, N, i):\n",
    "            if nlst[j] == 0:\n",
    "                nlst[j] = 1  # 소수가 아님\n",
    "\n",
    "for _ in range(int(input())):\n",
    "    n = int(input())\n",
    "    t = 0\n",
    "    rst = []\n",
    "    for i in range(2, n+1):\n",
    "        if nlst[i] == 0 and nlst[n-i] == 0:\n",
    "            rst.append([i, n-i])\n",
    "    if len(rst) % 2 == 0:\n",
    "        rst = rst[:len(rst)//2]\n",
    "    else:\n",
    "        rst = rst[:len(rst)//2+1]\n",
    "    print(len(rst))"
   ]
  },
  {
   "cell_type": "code",
   "execution_count": null,
   "id": "65589a10",
   "metadata": {},
   "outputs": [],
   "source": []
  }
 ],
 "metadata": {
  "kernelspec": {
   "display_name": "Python 3 (ipykernel)",
   "language": "python",
   "name": "python3"
  },
  "language_info": {
   "codemirror_mode": {
    "name": "ipython",
    "version": 3
   },
   "file_extension": ".py",
   "mimetype": "text/x-python",
   "name": "python",
   "nbconvert_exporter": "python",
   "pygments_lexer": "ipython3",
   "version": "3.9.12"
  }
 },
 "nbformat": 4,
 "nbformat_minor": 5
}
