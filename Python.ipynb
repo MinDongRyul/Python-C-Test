{
 "cells": [
  {
   "cell_type": "code",
   "execution_count": 9,
   "id": "48b39054",
   "metadata": {},
   "outputs": [
    {
     "name": "stdout",
     "output_type": "stream",
     "text": [
      "goverment\n",
      "environment\n",
      "face\n"
     ]
    }
   ],
   "source": [
    "dicdata = {'environment':['환경','X'], 'company':['회사','O'], 'goverment':['정부,정치','X'], 'face':['얼굴','X']}\n",
    "str1 = input()\n",
    "dicdata[str1][1] = 'O'\n",
    "\n",
    "for data in dicdata.keys():\n",
    "    if dicdata[data][1] == 'X':\n",
    "        print(data)"
   ]
  },
  {
   "cell_type": "code",
   "execution_count": 15,
   "id": "c494b9ae",
   "metadata": {
    "scrolled": true
   },
   "outputs": [
    {
     "data": {
      "text/plain": [
       "{'environment': '환경',\n",
       " 'goverment': '정부,정치',\n",
       " 'company': '회사',\n",
       " 'face': '얼굴',\n",
       " 'apple': '사과'}"
      ]
     },
     "execution_count": 15,
     "metadata": {},
     "output_type": "execute_result"
    }
   ],
   "source": [
    "dicdata = {'environment':'환경',  'goverment':'정부,정치'}\n",
    "dict2 = {'company':'회사', 'face':'얼굴'}\n",
    "dict3 = {'apple':'사과'}\n",
    "\n",
    "for data in dict2.keys():\n",
    "    dicdata[data] = dict2[data]\n",
    "for data in dict3.keys():\n",
    "    dicdata[data] = dict3[data]\n",
    "dicdata"
   ]
  },
  {
   "cell_type": "code",
   "execution_count": 19,
   "id": "a1b58bba",
   "metadata": {},
   "outputs": [
    {
     "name": "stdout",
     "output_type": "stream",
     "text": [
      "배우 이름 :  마동석\n",
      "홈페이지 :  https~.com\n",
      "최근 출연 영화 갯수 :  3\n"
     ]
    }
   ],
   "source": [
    "actor_info = {'actor_details': {'생년월일':'1971-03-01',\n",
    "                               '성별':'남',\n",
    "                               '직업':'배우',\n",
    "                               '홈페이지': 'https~.com'},\n",
    "             'actor_name':'마동석',\n",
    "             'actor_rate': 59361,\n",
    "             'date':'2017-10',\n",
    "             'movie_list':['범죄도시','부라더','부산행']}\n",
    "print('배우 이름 : ', actor_info['actor_name'])\n",
    "print('홈페이지 : ', actor_info['actor_details']['홈페이지'])\n",
    "print('최근 출연 영화 갯수 : ', len(actor_info['movie_list']))"
   ]
  },
  {
   "cell_type": "code",
   "execution_count": 26,
   "id": "c1c4a063",
   "metadata": {},
   "outputs": [
    {
     "data": {
      "text/plain": [
       "{1, 2, 3, 4, 5, 6, 7, 8, 9, 10}"
      ]
     },
     "execution_count": 26,
     "metadata": {},
     "output_type": "execute_result"
    }
   ],
   "source": [
    "# 집합은 중복 제거\n",
    "number_list = [5, 1, 2, 2, 3, 3, 4, 5, 5, 6, 7, 8, 9, 9, 10, 10]\n",
    "number_list2 = set(number_list)\n",
    "number_list2"
   ]
  },
  {
   "cell_type": "code",
   "execution_count": 7,
   "id": "fb2078ab",
   "metadata": {
    "scrolled": true
   },
   "outputs": [
    {
     "name": "stdout",
     "output_type": "stream",
     "text": [
      "3\n",
      "4\n",
      "7\n",
      "7\n",
      "44\n",
      "10\n",
      "274\n"
     ]
    }
   ],
   "source": [
    "# 백준 9095\n",
    "K = int(input())\n",
    "\n",
    "for i in range(K):\n",
    "    N = int(input())\n",
    "    \n",
    "    dp = [0] * N\n",
    "    dp[0] = 1\n",
    "    dp[1] = 2\n",
    "    dp[2] = 4\n",
    "\n",
    "    for i in range(3, N):\n",
    "        dp[i] = dp[i-3] + dp[i-2] + dp[i-1]\n",
    "        \n",
    "    print(dp[N-1])"
   ]
  },
  {
   "cell_type": "code",
   "execution_count": 63,
   "id": "e342a2fe",
   "metadata": {},
   "outputs": [
    {
     "name": "stdout",
     "output_type": "stream",
     "text": [
      "2\n",
      "1\n",
      "3\n",
      "6\n",
      "2\n",
      "3\n",
      "10\n"
     ]
    }
   ],
   "source": [
    "# 백준 2775\n",
    "T = int(input())\n",
    "for k in range(T):\n",
    "    K = int(input()) # 층\n",
    "    N = int(input()) # 호\n",
    "    \n",
    "    dp = [[0 for i in range(0, 14)]] * 14\n",
    "\n",
    "    # 0층 초기화\n",
    "    for i in range(0, 14):\n",
    "        dp[0][i] = i+1\n",
    "\n",
    "    for i in range(K):\n",
    "        sum = 0\n",
    "        for j in range(N):\n",
    "            sum += dp[i-1][j]\n",
    "            dp[i][j] = sum\n",
    "    print(dp[K][N-1])"
   ]
  },
  {
   "cell_type": "code",
   "execution_count": 10,
   "id": "344d43b7",
   "metadata": {
    "scrolled": true
   },
   "outputs": [
    {
     "name": "stdout",
     "output_type": "stream",
     "text": [
      "1 2 3 4 5 6 7 8\n",
      "ascending\n"
     ]
    }
   ],
   "source": [
    "# 백준 2920\n",
    "N_list = list(map(int, input().split(' ')))\n",
    "N_list_1 = sorted(N_list)\n",
    "N_list_2 = sorted(N_list, reverse=True)\n",
    "N_list_1\n",
    "if N_list == N_list_1:\n",
    "    print('ascending')\n",
    "elif N_list == N_list_2:\n",
    "    print('descending')\n",
    "else:\n",
    "    print('mixed')\n",
    "    \n",
    "# ascending = True\n",
    "# descending = False\n",
    "\n",
    "# for i in range(1, 8): 현재 값과 이전 값과의 크기 비교를 통해 오름차순, 내림차순 비교\n",
    "#     if a[i] > a[i - 1]:  현재  값이 이전 값보다 크다면 내림차순 아님\n",
    "#         descending = False\n",
    "#     elif a[i] < a[i - 1]: 현재 값이 이전 값보다 작다면 오름차순 아님\n",
    "#         ascending = False\n",
    "\n",
    "# if ascending:\n",
    "#     print('ascending')\n",
    "# elif descending:\n",
    "#     print('descending')\n",
    "# else:\n",
    "#     print('mixed')"
   ]
  },
  {
   "cell_type": "code",
   "execution_count": 37,
   "id": "8d27d56e",
   "metadata": {},
   "outputs": [
    {
     "name": "stdout",
     "output_type": "stream",
     "text": [
      "497\n"
     ]
    }
   ],
   "source": [
    "# 백준 2798\n",
    "\n",
    "k, m = 10, 500\n",
    "lst = [93 ,181 ,245 ,214 ,315 ,36 ,185 ,138 ,216 ,295]\n",
    "result=  0\n",
    "\n",
    "for i in range(0,  len(lst)):\n",
    "    for j in range(i + 1, len(lst)):\n",
    "        for z in range(j + 1, len(lst)): # i 가 9 이어도 for문 자체가 실행이 안됨\n",
    "            total_sum = lst[i]+lst[j]+lst[z]\n",
    "            if total_sum <= m:\n",
    "                result = max(result, total_sum)\n",
    "print(sum)"
   ]
  },
  {
   "cell_type": "code",
   "execution_count": 65,
   "id": "26b7f5ea",
   "metadata": {},
   "outputs": [],
   "source": [
    "data = [1, 2, 3, 4, 5]"
   ]
  },
  {
   "cell_type": "code",
   "execution_count": 1,
   "id": "78d501e2",
   "metadata": {},
   "outputs": [
    {
     "name": "stdout",
     "output_type": "stream",
     "text": [
      "5\n",
      "1\n",
      "2\n",
      "5\n",
      "3\n",
      "NO\n",
      "4\n",
      "+\n",
      "-\n",
      "+\n",
      "-\n",
      "+\n",
      "+\n",
      "+\n",
      "-\n",
      "-\n"
     ]
    }
   ],
   "source": [
    "# 백준 1874\n",
    "\n",
    "n = int(input())\n",
    "\n",
    "count = 1\n",
    "stack = []\n",
    "result = []\n",
    "\n",
    "for i in range(1, n+1): # 데이터 개수만큼 반복\n",
    "    data = int(input())\n",
    "    while count <= data: # 입력 받은 데이터에 도달할 때까지 삽입\n",
    "        stack.append(count)\n",
    "        count += 1\n",
    "        result.append('+')\n",
    "    if stack[-1] == data: # 최상위 데이터 원소가 데이터과 같을 때 빼기 실행\n",
    "        stack.pop()\n",
    "        result.append('-')\n",
    "    else: # 불가능한 경우\n",
    "        print('NO')\n",
    "        exit(0)\n",
    "\n",
    "for i in result:\n",
    "    print(i)"
   ]
  },
  {
   "cell_type": "code",
   "execution_count": 10,
   "id": "93f32f16",
   "metadata": {
    "scrolled": true
   },
   "outputs": [
    {
     "name": "stdout",
     "output_type": "stream",
     "text": [
      "1\n",
      "6 0\n",
      "1 1 9 1 1 1\n",
      "[(1, 0), (1, 1), (9, 2), (1, 3), (1, 4), (1, 5)]\n",
      "1 9\n",
      "[(1, 0), (1, 1), (9, 2), (1, 3), (1, 4), (1, 5)]\n",
      "1 9\n",
      "[(1, 1), (9, 2), (1, 3), (1, 4), (1, 5), (1, 0)]\n",
      "9 9\n",
      "[(9, 2), (1, 3), (1, 4), (1, 5), (1, 0), (1, 1)]\n",
      "1 1\n",
      "[(1, 3), (1, 4), (1, 5), (1, 0), (1, 1)]\n",
      "1 1\n",
      "[(1, 4), (1, 5), (1, 0), (1, 1)]\n",
      "1 1\n",
      "[(1, 5), (1, 0), (1, 1)]\n",
      "1 1\n",
      "[(1, 0), (1, 1)]\n",
      "5\n"
     ]
    }
   ],
   "source": [
    "# 백준 1966\n",
    "test_case = int(input())\n",
    "\n",
    "for _ in range(test_case):\n",
    "    n, m = list(map(int, input().split()))\n",
    "    queue = list(map(int, input().split()))\n",
    "    queue = [(i, idx) for idx, i in enumerate(queue)]\n",
    "    \n",
    "    count = 0 # 뽑은 횟수 체크\n",
    "    print(queue)\n",
    "    while True:\n",
    "        print(queue[0][0], max(queue, key=lambda x: x[0])[0])\n",
    "        print(queue)\n",
    "        if queue[0][0] == max(queue, key=lambda x: x[0])[0]: # 중요도체크 첫번째 있는 값의 중요도가 제일 큰값인지 판단\n",
    "            count += 1 # 큰값이라면 일단 답이거나 빼거나 둘중하나이기에 뽑은 횟수 업\n",
    "            if queue[0][1] == m: # 중요도가 큰값에서 가지는 값이 우리가 원하는 값이면 count 출력\n",
    "                print(count)\n",
    "                break\n",
    "            else:\n",
    "                queue.pop(0) # 아니라면 빼기 그래도 뽑은 순서에서는 영향이 있음\n",
    "        else:\n",
    "            queue.append(queue.pop(0))"
   ]
  },
  {
   "cell_type": "code",
   "execution_count": 28,
   "id": "964b68a3",
   "metadata": {
    "scrolled": true
   },
   "outputs": [
    {
     "name": "stdout",
     "output_type": "stream",
     "text": [
      "2\n",
      "<<BP<A>>Cd-\n",
      "BAPC\n",
      "ThIsIsS3Cr3t\n",
      "ThIsIsS3Cr3t\n"
     ]
    }
   ],
   "source": [
    "# 백준 5397\n",
    "test_case = int(input())\n",
    "\n",
    "for _ in range(test_case):\n",
    "    str_ = list(input())\n",
    "    stack_l = list()\n",
    "    stack_r = list()\n",
    "    for i in str_:\n",
    "        if i == '<':\n",
    "            if stack_l:\n",
    "                stack_r.append(stack_l.pop())\n",
    "        elif i == '>':\n",
    "            if stack_r:\n",
    "                stack_l.append(stack_r.pop())\n",
    "        elif i == '-':\n",
    "            if stack_l: # 있는지판단을 해야함 없는데 pop을 하면 에러 발생\n",
    "                stack_l.pop()\n",
    "        else:\n",
    "            stack_l.append(i)\n",
    "    stack_l.extend(reversed(stack_r)) # stack_r은 역순으로 해야 원래 패스워드로 붙혀줘야함\n",
    "    print(''.join(stack_l))"
   ]
  },
  {
   "cell_type": "code",
   "execution_count": 30,
   "id": "8244a654",
   "metadata": {},
   "outputs": [
    {
     "name": "stdout",
     "output_type": "stream",
     "text": [
      "Baekjoon\n",
      "9944e1862efbb2a4e2486392dc6701896416b251eccdecb8332deb7f4cf2a857\n"
     ]
    }
   ],
   "source": [
    "# 백준 10930\n",
    "# SHA256을 통한 해시 변환\n",
    "import hashlib\n",
    "\n",
    "string1 = input()\n",
    "result1 = hashlib.sha256(string1.encode()).hexdigest() # 문자열의 바이트 객체를 삽입\n",
    "print(result1)"
   ]
  },
  {
   "cell_type": "code",
   "execution_count": 3,
   "id": "0a91c974",
   "metadata": {},
   "outputs": [
    {
     "name": "stdout",
     "output_type": "stream",
     "text": [
      "5\n",
      "4 1 5 2 3\n",
      "5\n",
      "1 3 7 9 5\n",
      "1\n",
      "1\n",
      "0\n",
      "0\n",
      "1\n"
     ]
    }
   ],
   "source": [
    "# 백준 1920\n",
    "\n",
    "N = int(input())\n",
    "N_list = list(map(int, input().split()))\n",
    "M = int(input())\n",
    "M_list = list(map(int, input().split()))\n",
    "\n",
    "def bi_s(find, start, end):\n",
    "    if start > end:\n",
    "        return False\n",
    "    \n",
    "    med = (start + end) // 2\n",
    "    \n",
    "    if N_list[med] > find: # 중간 값이랑 비교를 해야함 필수!\n",
    "        return bi_s(find, start, med-1)\n",
    "    elif N_list[med] < find: # 중간 값이랑 비교를 해야함 필수!\n",
    "        return bi_s(find, med+1, end)\n",
    "    elif N_list[med] == find:\n",
    "        return True\n",
    "    \n",
    "N_list.sort()\n",
    "for i in M_list:\n",
    "    if bi_s(i, 0, N-1):\n",
    "        print(1)\n",
    "    else:\n",
    "        print(0)"
   ]
  },
  {
   "cell_type": "code",
   "execution_count": 6,
   "id": "689ebc01",
   "metadata": {
    "scrolled": true
   },
   "outputs": [
    {
     "name": "stdout",
     "output_type": "stream",
     "text": [
      "5\n",
      "4 1 3 2 3\n",
      "5\n",
      "1 2 3 4 5\n",
      "1\n",
      "1\n",
      "1\n",
      "1\n",
      "0\n"
     ]
    }
   ],
   "source": [
    "# 백준 1920 \n",
    "n = int(input())\n",
    "array = set(map(int, input().split())) # 집합으로 만들고 접근할 때에는 시간초과 X\n",
    "m = int(input())\n",
    "x = list(map(int, input().split()))\n",
    "\n",
    "for i in x:\n",
    "    if i not in array:\n",
    "        print('0')\n",
    "    else:\n",
    "        print('1')"
   ]
  },
  {
   "cell_type": "code",
   "execution_count": 10,
   "id": "2b2fd440",
   "metadata": {},
   "outputs": [],
   "source": [
    "# Union - Find 알고리즘\n",
    "def find(x):\n",
    "    if x == parent[x]:\n",
    "        return x\n",
    "    else:\n",
    "        p = find(parent[x])\n",
    "        parent[x] = p\n",
    "        return parent[x]\n",
    "    \n",
    "def union(x, y):\n",
    "    x = find(x)\n",
    "    y = find(y)\n",
    "    \n",
    "    parent[y] = x"
   ]
  },
  {
   "cell_type": "code",
   "execution_count": 13,
   "id": "9c5deaa3",
   "metadata": {},
   "outputs": [
    {
     "name": "stdout",
     "output_type": "stream",
     "text": [
      "[0, 2, 2, 3, 1]\n",
      "2 2 3 2 "
     ]
    }
   ],
   "source": [
    "# 실행코드\n",
    "parent = []\n",
    "\n",
    "for i in range(0, 5):\n",
    "    parent.append(i)\n",
    "    \n",
    "union(1, 4)\n",
    "union(2, 4)\n",
    "\n",
    "print(parent)\n",
    "\n",
    "for i in range(1, len(parent)):\n",
    "    print(find(i), end=' ')"
   ]
  },
  {
   "cell_type": "code",
   "execution_count": 14,
   "id": "f32edb89",
   "metadata": {},
   "outputs": [
    {
     "name": "stdout",
     "output_type": "stream",
     "text": [
      "1\n",
      "3\n",
      "Fred Barney\n",
      "2\n",
      "Barney Betty\n",
      "3\n",
      "Betty Wilma\n",
      "4\n"
     ]
    }
   ],
   "source": [
    "# 백준 4195\n",
    "# 한번 더 보기\n",
    "def find(x):\n",
    "    if x == parent[x]:\n",
    "        return x\n",
    "    else:\n",
    "        p = find(parent[x])\n",
    "        parent[x] = p\n",
    "        return parent[x]\n",
    "    \n",
    "def union(x, y):\n",
    "    x = find(x)\n",
    "    y = find(y)\n",
    "    \n",
    "    if x != y:\n",
    "        parent[y] = x\n",
    "        number[x] += number[y]\n",
    "\n",
    "\n",
    "test_case = int(input())\n",
    "\n",
    "for _ in range(test_case):\n",
    "    parent = dict()\n",
    "    number = dict()\n",
    "    \n",
    "    f = int(input())\n",
    "    \n",
    "    for _ in range(f):\n",
    "        x, y = input().split(' ')\n",
    "        \n",
    "        if x not in parent:\n",
    "            parent[x] = x\n",
    "            number[x] = 1\n",
    "        if y not in parent:\n",
    "            parent[y] = y\n",
    "            number[y] = 1\n",
    "            \n",
    "        union(x, y)\n",
    "        print(number[find(x)])"
   ]
  },
  {
   "cell_type": "code",
   "execution_count": 8,
   "id": "10b591dd",
   "metadata": {
    "scrolled": false
   },
   "outputs": [
    {
     "name": "stdout",
     "output_type": "stream",
     "text": [
      "<built-in method readline of _io.TextIOWrapper object at 0x0000017426041AD0>\n"
     ]
    },
    {
     "ename": "TypeError",
     "evalue": "int() argument must be a string, a bytes-like object or a number, not 'list'",
     "output_type": "error",
     "traceback": [
      "\u001b[1;31m---------------------------------------------------------------------------\u001b[0m",
      "\u001b[1;31mTypeError\u001b[0m                                 Traceback (most recent call last)",
      "Input \u001b[1;32mIn [8]\u001b[0m, in \u001b[0;36m<cell line: 6>\u001b[1;34m()\u001b[0m\n\u001b[0;32m      4\u001b[0m \u001b[38;5;28mprint\u001b[39m(\u001b[38;5;28minput\u001b[39m)\n\u001b[0;32m      5\u001b[0m test_case \u001b[38;5;241m=\u001b[39m \u001b[38;5;28minput\u001b[39m()\u001b[38;5;241m.\u001b[39mstrip()\u001b[38;5;241m.\u001b[39msplit()\n\u001b[1;32m----> 6\u001b[0m test_case \u001b[38;5;241m=\u001b[39m \u001b[38;5;28;43mint\u001b[39;49m\u001b[43m(\u001b[49m\u001b[43mtest_case\u001b[49m\u001b[43m)\u001b[49m\n\u001b[0;32m      7\u001b[0m stack \u001b[38;5;241m=\u001b[39m []\n\u001b[0;32m      9\u001b[0m \u001b[38;5;28;01mfor\u001b[39;00m _ \u001b[38;5;129;01min\u001b[39;00m \u001b[38;5;28mrange\u001b[39m(test_case):\n",
      "\u001b[1;31mTypeError\u001b[0m: int() argument must be a string, a bytes-like object or a number, not 'list'"
     ]
    }
   ],
   "source": [
    "# 백준 10828\n",
    "import sys\n",
    "input = sys.stdin.readline  # 빠른 입력\n",
    "\n",
    "test_case = int(input())\n",
    "stack = []\n",
    "\n",
    "for _ in range(test_case):\n",
    "    N_list = input().strip().split(' ') # list(map(str, input().split())) 사용시 시간초과\n",
    "    \n",
    "    if N_list[0] == 'push':\n",
    "        stack.append(N_list[1])\n",
    "    elif N_list[0] == 'pop':\n",
    "        if stack:\n",
    "            print(stack.pop())\n",
    "        else:\n",
    "            print(-1)\n",
    "    elif N_list[0] == 'size':\n",
    "        print(len(stack))\n",
    "    elif N_list[0] == 'empty':\n",
    "        if len(stack) == 0:\n",
    "            print(1)\n",
    "        else:\n",
    "            print(0)\n",
    "    elif N_list[0] == 'top':\n",
    "        if len(stack) == 0:\n",
    "            print(-1)\n",
    "        else:\n",
    "            print(stack[-1])"
   ]
  },
  {
   "cell_type": "code",
   "execution_count": 4,
   "id": "4375a6e5",
   "metadata": {},
   "outputs": [
    {
     "name": "stdout",
     "output_type": "stream",
     "text": [
      "10\n",
      "1\n",
      "3\n",
      "5\n",
      "4\n",
      "0\n",
      "0\n",
      "7\n",
      "0\n",
      "0\n",
      "6\n",
      "7\n"
     ]
    }
   ],
   "source": [
    "# 백준 10773\n",
    "\n",
    "test_case = int(input())\n",
    "stack = []\n",
    "\n",
    "for _ in range(test_case):\n",
    "    N = int(input())\n",
    "    if N == 0:\n",
    "        stack.pop()\n",
    "    else:\n",
    "        stack.append(N)\n",
    "        \n",
    "print(sum(stack))"
   ]
  },
  {
   "cell_type": "code",
   "execution_count": 19,
   "id": "2c3e7e47",
   "metadata": {
    "scrolled": true
   },
   "outputs": [
    {
     "name": "stdout",
     "output_type": "stream",
     "text": [
      "8\n",
      "4\n",
      "3\n",
      "6\n",
      "8\n",
      "7\n",
      "5\n",
      "2\n",
      "1\n",
      "['+', '+', '+', '+', '-', '-', '+', '+', '-', '+', '+', '-', '-', '-', '-', '-']\n"
     ]
    }
   ],
   "source": [
    "# 백준 1874\n",
    "\n",
    "test_case = int(input())\n",
    "stack = []\n",
    "for _ in range(test_case):\n",
    "    stack.append(int(input()))\n",
    "result = []\n",
    "data = []\n",
    "count = 0\n",
    "for n in stack:\n",
    "    while n > count:\n",
    "        count += 1\n",
    "        data.append(count)\n",
    "        result.append('+')\n",
    "    \n",
    "    if data[-1] == n:\n",
    "        result.append('-')\n",
    "        data.pop()\n",
    "    \n",
    "if data:\n",
    "    print('NO')\n",
    "else:\n",
    "    print(result)"
   ]
  },
  {
   "cell_type": "code",
   "execution_count": null,
   "id": "be86e496",
   "metadata": {},
   "outputs": [],
   "source": [
    "#### 백준 1874\n",
    "\n",
    "test_case = int(input())\n",
    "result = [] # 최종 정답\n",
    "data = []   # 스택 초기화\n",
    "count = 0 # 삽입할 수\n",
    "\n",
    "for _ in range(test_case):\n",
    "    n = int(input()) # 하나씩 입력\n",
    "    # top()보다 n이 더 크다면, 스택에 삽입\n",
    "    while len(data) ==0 or n > data[-1]:\n",
    "        count += 1\n",
    "        data.append(count)\n",
    "        result.append('+')\n",
    "    \n",
    "    # top() 과 n가 같다면, 스택에서 제거\n",
    "    if data[-1] == n:\n",
    "        result.append('-')\n",
    "        data.pop()\n",
    "    # top()보다 n가 더 작다면, 불가능\n",
    "    else:\n",
    "        result = ['NO']\n",
    "        break\n",
    "\n",
    "for x in result:\n",
    "    print(x)"
   ]
  },
  {
   "cell_type": "code",
   "execution_count": 52,
   "id": "d989a4e3",
   "metadata": {
    "scrolled": true
   },
   "outputs": [
    {
     "name": "stdout",
     "output_type": "stream",
     "text": [
      "4\n",
      "3 5 2 7\n",
      "5 7 7 -1 "
     ]
    }
   ],
   "source": [
    "# 백준 17928 시간초과 O\n",
    "\n",
    "test_case = int(input())\n",
    "stack = list(map(int, input().split()))\n",
    "\n",
    "result = []  # 정답\n",
    "for j in range(1, test_case):\n",
    "    data_1 = []\n",
    "    for i in range(j, test_case):\n",
    "        \n",
    "        n = stack[j - 1]\n",
    "        if n < stack[i]:\n",
    "            \n",
    "            data_1.append(stack[i])\n",
    "        else:\n",
    "            pass\n",
    "    \n",
    "    if len(data_1) == 0:\n",
    "        result.append(-1)\n",
    "    else:\n",
    "        result.append(data_1[0])\n",
    "    \n",
    "result.append(-1)\n",
    "for i in result:\n",
    "    print(i, end=' ')"
   ]
  },
  {
   "cell_type": "code",
   "execution_count": 55,
   "id": "5843750f",
   "metadata": {},
   "outputs": [
    {
     "name": "stdout",
     "output_type": "stream",
     "text": [
      "4\n",
      "3 5 2 7\n",
      "5 7 7 -1 "
     ]
    }
   ],
   "source": [
    "# 백준 17928 시간초과 X\n",
    "\n",
    "n = int(input()) # 수의 개수\n",
    "arr = list(map(int, input().split())) # 수열 데이터\n",
    "stack = [] # 스택(stack) 초기화\n",
    "NGE = [-1] * n # 오큰수 배열'\n",
    "\n",
    "for i in range(n):\n",
    "    \n",
    "    x = arr[i] # 하나씩 수 확인\n",
    "    \n",
    "    if len(stack) == 0 or stack[-1][0] >= x: # 내림차순 형태라면(작거나 같은 원소를 만났다면)\n",
    "        stack.append((x, i)) # (수, 인덱스) 형태로 삽입\n",
    "        \n",
    "    else: # 오름차순 형태라면(큰 수를 만났다면)\n",
    "        while len(stack) > 0: # 역방향으로 하나씩 꺼내기\n",
    "            previous, index = stack.pop()\n",
    "\n",
    "            if previous >= x: # 크거나 같은 이전 원소를 만났다면 다시 삽입\n",
    "                stack.append((previous, index))\n",
    "                break\n",
    "            else:\n",
    "                NGE[index] = x # 오큰수 기록\n",
    "\n",
    "        stack.append((x, i)) # (수, 인덱스) 형태로 삽입\n",
    "\n",
    "for x in NGE: # 오큰수를 하나씩 출력\n",
    "    print(x, end=' ')"
   ]
  },
  {
   "cell_type": "code",
   "execution_count": 60,
   "id": "c35f982d",
   "metadata": {},
   "outputs": [
    {
     "ename": "KeyboardInterrupt",
     "evalue": "Interrupted by user",
     "output_type": "error",
     "traceback": [
      "\u001b[1;31m---------------------------------------------------------------------------\u001b[0m",
      "\u001b[1;31mKeyboardInterrupt\u001b[0m                         Traceback (most recent call last)",
      "Input \u001b[1;32mIn [60]\u001b[0m, in \u001b[0;36m<cell line: 3>\u001b[1;34m()\u001b[0m\n\u001b[0;32m      1\u001b[0m \u001b[38;5;66;03m# 백준 1021\u001b[39;00m\n\u001b[0;32m      2\u001b[0m \u001b[38;5;28;01mfrom\u001b[39;00m \u001b[38;5;21;01mcollections\u001b[39;00m \u001b[38;5;28;01mimport\u001b[39;00m deque\n\u001b[1;32m----> 3\u001b[0m n, m \u001b[38;5;241m=\u001b[39m \u001b[38;5;28mmap\u001b[39m(\u001b[38;5;28mint\u001b[39m, \u001b[38;5;28;43minput\u001b[39;49m\u001b[43m(\u001b[49m\u001b[43m)\u001b[49m\u001b[38;5;241m.\u001b[39msplit()) \u001b[38;5;66;03m# 원소의 개수, 뽑아내는 횟수\u001b[39;00m\n\u001b[0;32m      4\u001b[0m d \u001b[38;5;241m=\u001b[39m deque([i \u001b[38;5;28;01mfor\u001b[39;00m i \u001b[38;5;129;01min\u001b[39;00m \u001b[38;5;28mrange\u001b[39m(\u001b[38;5;241m1\u001b[39m, n \u001b[38;5;241m+\u001b[39m \u001b[38;5;241m1\u001b[39m)]) \u001b[38;5;66;03m# 1부터 N까지의 원소를 삽입\u001b[39;00m\n\u001b[0;32m      5\u001b[0m targets \u001b[38;5;241m=\u001b[39m \u001b[38;5;28mlist\u001b[39m(\u001b[38;5;28mmap\u001b[39m(\u001b[38;5;28mint\u001b[39m, \u001b[38;5;28minput\u001b[39m()\u001b[38;5;241m.\u001b[39msplit())) \u001b[38;5;66;03m# 뽑아낼 원소 목록\u001b[39;00m\n",
      "File \u001b[1;32m~\\anaconda3\\lib\\site-packages\\ipykernel\\kernelbase.py:1075\u001b[0m, in \u001b[0;36mKernel.raw_input\u001b[1;34m(self, prompt)\u001b[0m\n\u001b[0;32m   1071\u001b[0m \u001b[38;5;28;01mif\u001b[39;00m \u001b[38;5;129;01mnot\u001b[39;00m \u001b[38;5;28mself\u001b[39m\u001b[38;5;241m.\u001b[39m_allow_stdin:\n\u001b[0;32m   1072\u001b[0m     \u001b[38;5;28;01mraise\u001b[39;00m StdinNotImplementedError(\n\u001b[0;32m   1073\u001b[0m         \u001b[38;5;124m\"\u001b[39m\u001b[38;5;124mraw_input was called, but this frontend does not support input requests.\u001b[39m\u001b[38;5;124m\"\u001b[39m\n\u001b[0;32m   1074\u001b[0m     )\n\u001b[1;32m-> 1075\u001b[0m \u001b[38;5;28;01mreturn\u001b[39;00m \u001b[38;5;28;43mself\u001b[39;49m\u001b[38;5;241;43m.\u001b[39;49m\u001b[43m_input_request\u001b[49m\u001b[43m(\u001b[49m\n\u001b[0;32m   1076\u001b[0m \u001b[43m    \u001b[49m\u001b[38;5;28;43mstr\u001b[39;49m\u001b[43m(\u001b[49m\u001b[43mprompt\u001b[49m\u001b[43m)\u001b[49m\u001b[43m,\u001b[49m\n\u001b[0;32m   1077\u001b[0m \u001b[43m    \u001b[49m\u001b[38;5;28;43mself\u001b[39;49m\u001b[38;5;241;43m.\u001b[39;49m\u001b[43m_parent_ident\u001b[49m\u001b[43m[\u001b[49m\u001b[38;5;124;43m\"\u001b[39;49m\u001b[38;5;124;43mshell\u001b[39;49m\u001b[38;5;124;43m\"\u001b[39;49m\u001b[43m]\u001b[49m\u001b[43m,\u001b[49m\n\u001b[0;32m   1078\u001b[0m \u001b[43m    \u001b[49m\u001b[38;5;28;43mself\u001b[39;49m\u001b[38;5;241;43m.\u001b[39;49m\u001b[43mget_parent\u001b[49m\u001b[43m(\u001b[49m\u001b[38;5;124;43m\"\u001b[39;49m\u001b[38;5;124;43mshell\u001b[39;49m\u001b[38;5;124;43m\"\u001b[39;49m\u001b[43m)\u001b[49m\u001b[43m,\u001b[49m\n\u001b[0;32m   1079\u001b[0m \u001b[43m    \u001b[49m\u001b[43mpassword\u001b[49m\u001b[38;5;241;43m=\u001b[39;49m\u001b[38;5;28;43;01mFalse\u001b[39;49;00m\u001b[43m,\u001b[49m\n\u001b[0;32m   1080\u001b[0m \u001b[43m\u001b[49m\u001b[43m)\u001b[49m\n",
      "File \u001b[1;32m~\\anaconda3\\lib\\site-packages\\ipykernel\\kernelbase.py:1120\u001b[0m, in \u001b[0;36mKernel._input_request\u001b[1;34m(self, prompt, ident, parent, password)\u001b[0m\n\u001b[0;32m   1117\u001b[0m             \u001b[38;5;28;01mbreak\u001b[39;00m\n\u001b[0;32m   1118\u001b[0m \u001b[38;5;28;01mexcept\u001b[39;00m \u001b[38;5;167;01mKeyboardInterrupt\u001b[39;00m:\n\u001b[0;32m   1119\u001b[0m     \u001b[38;5;66;03m# re-raise KeyboardInterrupt, to truncate traceback\u001b[39;00m\n\u001b[1;32m-> 1120\u001b[0m     \u001b[38;5;28;01mraise\u001b[39;00m \u001b[38;5;167;01mKeyboardInterrupt\u001b[39;00m(\u001b[38;5;124m\"\u001b[39m\u001b[38;5;124mInterrupted by user\u001b[39m\u001b[38;5;124m\"\u001b[39m) \u001b[38;5;28;01mfrom\u001b[39;00m \u001b[38;5;28mNone\u001b[39m\n\u001b[0;32m   1121\u001b[0m \u001b[38;5;28;01mexcept\u001b[39;00m \u001b[38;5;167;01mException\u001b[39;00m:\n\u001b[0;32m   1122\u001b[0m     \u001b[38;5;28mself\u001b[39m\u001b[38;5;241m.\u001b[39mlog\u001b[38;5;241m.\u001b[39mwarning(\u001b[38;5;124m\"\u001b[39m\u001b[38;5;124mInvalid Message:\u001b[39m\u001b[38;5;124m\"\u001b[39m, exc_info\u001b[38;5;241m=\u001b[39m\u001b[38;5;28;01mTrue\u001b[39;00m)\n",
      "\u001b[1;31mKeyboardInterrupt\u001b[0m: Interrupted by user"
     ]
    }
   ],
   "source": [
    "# 백준 1021\n",
    "from collections import deque\n",
    "n, m = map(int, input().split()) # 원소의 개수, 뽑아내는 횟수\n",
    "d = deque([i for i in range(1, n + 1)]) # 1부터 N까지의 원소를 삽입\n",
    "targets = list(map(int, input().split())) # 뽑아낼 원소 목록\n",
    "\n",
    "cnt = 0 # 회전 연산 수행 횟수\n",
    "for target in targets: # 뽑아낼 원소를 하나씩 확인하며\n",
    "    \n",
    "    index = d.index(target) # 덱에서 해당 원소의 위치를 찾기\n",
    "    \n",
    "    if index <= len(d) // 2: # 왼쪽으로 돌리는 게 더 빠른 경우\n",
    "        for i in range(index): # 회전 연산 반복 수행\n",
    "            x = d.popleft()\n",
    "            d.append(x)\n",
    "            cnt += 1\n",
    "    else: # 오른쪽으로 돌리는 게 더 빠른 경우\n",
    "        for i in range(len(d) - index): # 회전 연산 반복 수행\n",
    "            x = d.pop()         # 맨 오른쪽 꺼내기\n",
    "            d.appendleft(x) # 맨 왼쪽에 삽입\n",
    "            cnt += 1\n",
    "            \n",
    "    d.popleft() # 원소 꺼내기\n",
    "    \n",
    "print(cnt) # 결과 출력"
   ]
  },
  {
   "cell_type": "code",
   "execution_count": 77,
   "id": "ca83abde",
   "metadata": {},
   "outputs": [
    {
     "name": "stdout",
     "output_type": "stream",
     "text": [
      "7 3\n",
      "<3, 6, 2, 7, 5, 1, 4>\n"
     ]
    }
   ],
   "source": [
    "# 백준 11866\n",
    "\n",
    "test_case, k = list(map(int, input().split())) \n",
    "d = deque([i for i in range(1, test_case + 1)]) \n",
    "\n",
    "result = list()\n",
    "while d:\n",
    "    for _ in range(k-1):\n",
    "        x = d.popleft() # 맨 왼쪽 제거\n",
    "        d.append(x)\n",
    "    result.append(d.popleft())\n",
    "    \n",
    "print('<', end='')\n",
    "for i in range(len(result)):\n",
    "     if i < len(result) - 1:\n",
    "        print(result[i], end=', ')\n",
    "     else:\n",
    "        print(result[i], end='')\n",
    "print('>')"
   ]
  },
  {
   "cell_type": "code",
   "execution_count": 74,
   "id": "42ad1b5c",
   "metadata": {
    "scrolled": true
   },
   "outputs": [
    {
     "ename": "SyntaxError",
     "evalue": "invalid syntax (2427838705.py, line 1)",
     "output_type": "error",
     "traceback": [
      "\u001b[1;36m  Input \u001b[1;32mIn [74]\u001b[1;36m\u001b[0m\n\u001b[1;33m    result = dict{1, 2, 3}\u001b[0m\n\u001b[1;37m                 ^\u001b[0m\n\u001b[1;31mSyntaxError\u001b[0m\u001b[1;31m:\u001b[0m invalid syntax\n"
     ]
    }
   ],
   "source": []
  }
 ],
 "metadata": {
  "kernelspec": {
   "display_name": "Python 3 (ipykernel)",
   "language": "python",
   "name": "python3"
  },
  "language_info": {
   "codemirror_mode": {
    "name": "ipython",
    "version": 3
   },
   "file_extension": ".py",
   "mimetype": "text/x-python",
   "name": "python",
   "nbconvert_exporter": "python",
   "pygments_lexer": "ipython3",
   "version": "3.9.12"
  }
 },
 "nbformat": 4,
 "nbformat_minor": 5
}
