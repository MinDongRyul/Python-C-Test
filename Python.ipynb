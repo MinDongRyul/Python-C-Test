{
 "cells": [
  {
   "cell_type": "code",
   "execution_count": 9,
   "id": "48b39054",
   "metadata": {},
   "outputs": [
    {
     "name": "stdout",
     "output_type": "stream",
     "text": [
      "goverment\n",
      "environment\n",
      "face\n"
     ]
    }
   ],
   "source": [
    "dicdata = {'environment':['환경','X'], 'company':['회사','O'], 'goverment':['정부,정치','X'], 'face':['얼굴','X']}\n",
    "str1 = input()\n",
    "dicdata[str1][1] = 'O'\n",
    "\n",
    "for data in dicdata.keys():\n",
    "    if dicdata[data][1] == 'X':\n",
    "        print(data)"
   ]
  },
  {
   "cell_type": "code",
   "execution_count": 15,
   "id": "c494b9ae",
   "metadata": {
    "scrolled": true
   },
   "outputs": [
    {
     "data": {
      "text/plain": [
       "{'environment': '환경',\n",
       " 'goverment': '정부,정치',\n",
       " 'company': '회사',\n",
       " 'face': '얼굴',\n",
       " 'apple': '사과'}"
      ]
     },
     "execution_count": 15,
     "metadata": {},
     "output_type": "execute_result"
    }
   ],
   "source": [
    "dicdata = {'environment':'환경',  'goverment':'정부,정치'}\n",
    "dict2 = {'company':'회사', 'face':'얼굴'}\n",
    "dict3 = {'apple':'사과'}\n",
    "\n",
    "for data in dict2.keys():\n",
    "    dicdata[data] = dict2[data]\n",
    "for data in dict3.keys():\n",
    "    dicdata[data] = dict3[data]\n",
    "dicdata"
   ]
  },
  {
   "cell_type": "code",
   "execution_count": 19,
   "id": "a1b58bba",
   "metadata": {},
   "outputs": [
    {
     "name": "stdout",
     "output_type": "stream",
     "text": [
      "배우 이름 :  마동석\n",
      "홈페이지 :  https~.com\n",
      "최근 출연 영화 갯수 :  3\n"
     ]
    }
   ],
   "source": [
    "actor_info = {'actor_details': {'생년월일':'1971-03-01',\n",
    "                               '성별':'남',\n",
    "                               '직업':'배우',\n",
    "                               '홈페이지': 'https~.com'},\n",
    "             'actor_name':'마동석',\n",
    "             'actor_rate': 59361,\n",
    "             'date':'2017-10',\n",
    "             'movie_list':['범죄도시','부라더','부산행']}\n",
    "print('배우 이름 : ', actor_info['actor_name'])\n",
    "print('홈페이지 : ', actor_info['actor_details']['홈페이지'])\n",
    "print('최근 출연 영화 갯수 : ', len(actor_info['movie_list']))"
   ]
  },
  {
   "cell_type": "code",
   "execution_count": 26,
   "id": "c1c4a063",
   "metadata": {},
   "outputs": [
    {
     "data": {
      "text/plain": [
       "{1, 2, 3, 4, 5, 6, 7, 8, 9, 10}"
      ]
     },
     "execution_count": 26,
     "metadata": {},
     "output_type": "execute_result"
    }
   ],
   "source": [
    "# 집합은 중복 제거\n",
    "number_list = [5, 1, 2, 2, 3, 3, 4, 5, 5, 6, 7, 8, 9, 9, 10, 10]\n",
    "number_list2 = set(number_list)\n",
    "number_list2"
   ]
  },
  {
   "cell_type": "code",
   "execution_count": null,
   "id": "fb2078ab",
   "metadata": {},
   "outputs": [],
   "source": []
  }
 ],
 "metadata": {
  "kernelspec": {
   "display_name": "Python 3 (ipykernel)",
   "language": "python",
   "name": "python3"
  },
  "language_info": {
   "codemirror_mode": {
    "name": "ipython",
    "version": 3
   },
   "file_extension": ".py",
   "mimetype": "text/x-python",
   "name": "python",
   "nbconvert_exporter": "python",
   "pygments_lexer": "ipython3",
   "version": "3.9.12"
  }
 },
 "nbformat": 4,
 "nbformat_minor": 5
}
