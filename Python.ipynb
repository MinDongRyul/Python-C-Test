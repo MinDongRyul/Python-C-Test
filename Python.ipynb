{
 "cells": [
  {
   "cell_type": "code",
   "execution_count": 9,
   "id": "48b39054",
   "metadata": {},
   "outputs": [
    {
     "name": "stdout",
     "output_type": "stream",
     "text": [
      "goverment\n",
      "environment\n",
      "face\n"
     ]
    }
   ],
   "source": [
    "dicdata = {'environment':['환경','X'], 'company':['회사','O'], 'goverment':['정부,정치','X'], 'face':['얼굴','X']}\n",
    "str1 = input()\n",
    "dicdata[str1][1] = 'O'\n",
    "\n",
    "for data in dicdata.keys():\n",
    "    if dicdata[data][1] == 'X':\n",
    "        print(data)"
   ]
  },
  {
   "cell_type": "code",
   "execution_count": 15,
   "id": "c494b9ae",
   "metadata": {
    "scrolled": true
   },
   "outputs": [
    {
     "data": {
      "text/plain": [
       "{'environment': '환경',\n",
       " 'goverment': '정부,정치',\n",
       " 'company': '회사',\n",
       " 'face': '얼굴',\n",
       " 'apple': '사과'}"
      ]
     },
     "execution_count": 15,
     "metadata": {},
     "output_type": "execute_result"
    }
   ],
   "source": [
    "dicdata = {'environment':'환경',  'goverment':'정부,정치'}\n",
    "dict2 = {'company':'회사', 'face':'얼굴'}\n",
    "dict3 = {'apple':'사과'}\n",
    "\n",
    "for data in dict2.keys():\n",
    "    dicdata[data] = dict2[data]\n",
    "for data in dict3.keys():\n",
    "    dicdata[data] = dict3[data]\n",
    "dicdata"
   ]
  },
  {
   "cell_type": "code",
   "execution_count": 19,
   "id": "a1b58bba",
   "metadata": {},
   "outputs": [
    {
     "name": "stdout",
     "output_type": "stream",
     "text": [
      "배우 이름 :  마동석\n",
      "홈페이지 :  https~.com\n",
      "최근 출연 영화 갯수 :  3\n"
     ]
    }
   ],
   "source": [
    "actor_info = {'actor_details': {'생년월일':'1971-03-01',\n",
    "                               '성별':'남',\n",
    "                               '직업':'배우',\n",
    "                               '홈페이지': 'https~.com'},\n",
    "             'actor_name':'마동석',\n",
    "             'actor_rate': 59361,\n",
    "             'date':'2017-10',\n",
    "             'movie_list':['범죄도시','부라더','부산행']}\n",
    "print('배우 이름 : ', actor_info['actor_name'])\n",
    "print('홈페이지 : ', actor_info['actor_details']['홈페이지'])\n",
    "print('최근 출연 영화 갯수 : ', len(actor_info['movie_list']))"
   ]
  },
  {
   "cell_type": "code",
   "execution_count": 26,
   "id": "c1c4a063",
   "metadata": {},
   "outputs": [
    {
     "data": {
      "text/plain": [
       "{1, 2, 3, 4, 5, 6, 7, 8, 9, 10}"
      ]
     },
     "execution_count": 26,
     "metadata": {},
     "output_type": "execute_result"
    }
   ],
   "source": [
    "# 집합은 중복 제거\n",
    "number_list = [5, 1, 2, 2, 3, 3, 4, 5, 5, 6, 7, 8, 9, 9, 10, 10]\n",
    "number_list2 = set(number_list)\n",
    "number_list2"
   ]
  },
  {
   "cell_type": "code",
   "execution_count": 7,
   "id": "fb2078ab",
   "metadata": {
    "scrolled": true
   },
   "outputs": [
    {
     "name": "stdout",
     "output_type": "stream",
     "text": [
      "3\n",
      "4\n",
      "7\n",
      "7\n",
      "44\n",
      "10\n",
      "274\n"
     ]
    }
   ],
   "source": [
    "# 백준 9095\n",
    "K = int(input())\n",
    "\n",
    "for i in range(K):\n",
    "    N = int(input())\n",
    "    \n",
    "    dp = [0] * N\n",
    "    dp[0] = 1\n",
    "    dp[1] = 2\n",
    "    dp[2] = 4\n",
    "\n",
    "    for i in range(3, N):\n",
    "        dp[i] = dp[i-3] + dp[i-2] + dp[i-1]\n",
    "        \n",
    "    print(dp[N-1])"
   ]
  },
  {
   "cell_type": "code",
   "execution_count": 63,
   "id": "e342a2fe",
   "metadata": {},
   "outputs": [
    {
     "name": "stdout",
     "output_type": "stream",
     "text": [
      "2\n",
      "1\n",
      "3\n",
      "6\n",
      "2\n",
      "3\n",
      "10\n"
     ]
    }
   ],
   "source": [
    "# 백준 2775\n",
    "T = int(input())\n",
    "for k in range(T):\n",
    "    K = int(input()) # 층\n",
    "    N = int(input()) # 호\n",
    "    \n",
    "    dp = [[0 for i in range(0, 14)]] * 14\n",
    "\n",
    "    # 0층 초기화\n",
    "    for i in range(0, 14):\n",
    "        dp[0][i] = i+1\n",
    "\n",
    "    for i in range(K):\n",
    "        sum = 0\n",
    "        for j in range(N):\n",
    "            sum += dp[i-1][j]\n",
    "            dp[i][j] = sum\n",
    "    print(dp[K][N-1])"
   ]
  },
  {
   "cell_type": "code",
   "execution_count": 10,
   "id": "6da8968f",
   "metadata": {
    "scrolled": true
   },
   "outputs": [
    {
     "name": "stdout",
     "output_type": "stream",
     "text": [
      "1 2 3 4 5 6 7 8\n",
      "ascending\n"
     ]
    }
   ],
   "source": [
    "# 백준 2920\n",
    "N_list = list(map(int, input().split(' ')))\n",
    "N_list_1 = sorted(N_list)\n",
    "N_list_2 = sorted(N_list, reverse=True)\n",
    "N_list_1\n",
    "if N_list == N_list_1:\n",
    "    print('ascending')\n",
    "elif N_list == N_list_2:\n",
    "    print('descending')\n",
    "else:\n",
    "    print('mixed')\n",
    "    \n",
    "# ascending = True\n",
    "# descending = False\n",
    "\n",
    "# for i in range(1, 8): 현재 값과 이전 값과의 크기 비교를 통해 오름차순, 내림차순 비교\n",
    "#     if a[i] > a[i - 1]:  현재  값이 이전 값보다 크다면 내림차순 아님\n",
    "#         descending = False\n",
    "#     elif a[i] < a[i - 1]: 현재 값이 이전 값보다 작다면 오름차순 아님\n",
    "#         ascending = False\n",
    "\n",
    "# if ascending:\n",
    "#     print('ascending')\n",
    "# elif descending:\n",
    "#     print('descending')\n",
    "# else:\n",
    "#     print('mixed')"
   ]
  },
  {
   "cell_type": "code",
   "execution_count": 37,
   "id": "f36bc25c",
   "metadata": {},
   "outputs": [
    {
     "name": "stdout",
     "output_type": "stream",
     "text": [
      "497\n"
     ]
    }
   ],
   "source": [
    "# 백준 2798\n",
    "\n",
    "k, m = 10, 500\n",
    "lst = [93 ,181 ,245 ,214 ,315 ,36 ,185 ,138 ,216 ,295]\n",
    "result=  0\n",
    "\n",
    "for i in range(0,  len(lst)):\n",
    "    for j in range(i + 1, len(lst)):\n",
    "        for z in range(j + 1, len(lst)): # i 가 9 이어도 for문 자체가 실행이 안됨\n",
    "            total_sum = lst[i]+lst[j]+lst[z]\n",
    "            if total_sum <= m:\n",
    "                result = max(result, total_sum)\n",
    "print(sum)"
   ]
  },
  {
   "cell_type": "code",
   "execution_count": 65,
   "id": "5ad03c4b",
   "metadata": {},
   "outputs": [],
   "source": [
    "data = [1, 2, 3, 4, 5]"
   ]
  },
  {
   "cell_type": "code",
   "execution_count": 1,
   "id": "eecc0e8c",
   "metadata": {},
   "outputs": [
    {
     "name": "stdout",
     "output_type": "stream",
     "text": [
      "5\n",
      "1\n",
      "2\n",
      "5\n",
      "3\n",
      "NO\n",
      "4\n",
      "+\n",
      "-\n",
      "+\n",
      "-\n",
      "+\n",
      "+\n",
      "+\n",
      "-\n",
      "-\n"
     ]
    }
   ],
   "source": [
    "# 백준 1874\n",
    "\n",
    "n = int(input())\n",
    "\n",
    "count = 1\n",
    "stack = []\n",
    "result = []\n",
    "\n",
    "for i in range(1, n+1): # 데이터 개수만큼 반복\n",
    "    data = int(input())\n",
    "    while count <= data: # 입력 받은 데이터에 도달할 때까지 삽입\n",
    "        stack.append(count)\n",
    "        count += 1\n",
    "        result.append('+')\n",
    "    if stack[-1] == data: # 최상위 데이터 원소가 데이터과 같을 때 빼기 실행\n",
    "        stack.pop()\n",
    "        result.append('-')\n",
    "    else: # 불가능한 경우\n",
    "        print('NO')\n",
    "        exit(0)\n",
    "\n",
    "for i in result:\n",
    "    print(i)"
   ]
  },
  {
   "cell_type": "code",
   "execution_count": 10,
   "id": "53796d4c",
   "metadata": {
    "scrolled": true
   },
   "outputs": [
    {
     "name": "stdout",
     "output_type": "stream",
     "text": [
      "1\n",
      "6 0\n",
      "1 1 9 1 1 1\n",
      "[(1, 0), (1, 1), (9, 2), (1, 3), (1, 4), (1, 5)]\n",
      "1 9\n",
      "[(1, 0), (1, 1), (9, 2), (1, 3), (1, 4), (1, 5)]\n",
      "1 9\n",
      "[(1, 1), (9, 2), (1, 3), (1, 4), (1, 5), (1, 0)]\n",
      "9 9\n",
      "[(9, 2), (1, 3), (1, 4), (1, 5), (1, 0), (1, 1)]\n",
      "1 1\n",
      "[(1, 3), (1, 4), (1, 5), (1, 0), (1, 1)]\n",
      "1 1\n",
      "[(1, 4), (1, 5), (1, 0), (1, 1)]\n",
      "1 1\n",
      "[(1, 5), (1, 0), (1, 1)]\n",
      "1 1\n",
      "[(1, 0), (1, 1)]\n",
      "5\n"
     ]
    }
   ],
   "source": [
    "# 백준 1966\n",
    "test_case = int(input())\n",
    "\n",
    "for _ in range(test_case):\n",
    "    n, m = list(map(int, input().split()))\n",
    "    queue = list(map(int, input().split()))\n",
    "    queue = [(i, idx) for idx, i in enumerate(queue)]\n",
    "    \n",
    "    count = 0 # 뽑은 횟수 체크\n",
    "    print(queue)\n",
    "    while True:\n",
    "        print(queue[0][0], max(queue, key=lambda x: x[0])[0])\n",
    "        print(queue)\n",
    "        if queue[0][0] == max(queue, key=lambda x: x[0])[0]: # 중요도체크 첫번째 있는 값의 중요도가 제일 큰값인지 판단\n",
    "            count += 1 # 큰값이라면 일단 답이거나 빼거나 둘중하나이기에 뽑은 횟수 업\n",
    "            if queue[0][1] == m: # 중요도가 큰값에서 가지는 값이 우리가 원하는 값이면 count 출력\n",
    "                print(count)\n",
    "                break\n",
    "            else:\n",
    "                queue.pop(0) # 아니라면 빼기 그래도 뽑은 순서에서는 영향이 있음\n",
    "        else:\n",
    "            queue.append(queue.pop(0))"
   ]
  },
  {
   "cell_type": "code",
   "execution_count": 24,
   "id": "476f62a0",
   "metadata": {},
   "outputs": [
    {
     "name": "stdout",
     "output_type": "stream",
     "text": [
      "2\n",
      "<<BP<A>>Cd-\n",
      "BAPC\n",
      "ThIsIsS3Cr3t\n",
      "ThIsIsS3Cr3t\n"
     ]
    }
   ],
   "source": [
    "# 백준 5397\n",
    "\n",
    "test_case = int(input())\n",
    "\n",
    "for _ in range(test_case):\n",
    "    str_ = input()\n",
    "    stack_l = []\n",
    "    stack_r = []\n",
    "    for i in str_:\n",
    "        if i == '<':\n",
    "            if stack_l:\n",
    "                stack_r.append(stack_l.pop())\n",
    "            else:\n",
    "                continue\n",
    "        elif i == '>':\n",
    "            if stack_r:\n",
    "                stack_l.append(stack_r.pop())\n",
    "            else:\n",
    "                continue\n",
    "        elif i == '-':\n",
    "            stack_l.pop()\n",
    "        else:\n",
    "            stack_l.append(i)\n",
    "    print(''.join(stack_l) +''.join(stack_r))"
   ]
  },
  {
   "cell_type": "code",
   "execution_count": 27,
   "id": "8099e668",
   "metadata": {},
   "outputs": [
    {
     "name": "stdout",
     "output_type": "stream",
     "text": [
      "2\n",
      "<<BP<A>>Cd-\n",
      "BAPC\n",
      "ThIsIsS3Cr3t\n",
      "ThIsIsS3Cr3t\n"
     ]
    }
   ],
   "source": [
    "test_case = int(input())\n",
    "\n",
    "for _ in range(test_case):\n",
    "    str_ = list(input())\n",
    "    stack_l = list()\n",
    "    stack_r = list()\n",
    "    for i in str_:\n",
    "        if i == '<':\n",
    "            if stack_l:\n",
    "                stack_r.append(stack_l.pop())\n",
    "        elif i == '>':\n",
    "            if stack_r:\n",
    "                stack_l.append(stack_r.pop())\n",
    "        elif i == '-':\n",
    "            if stack_l: # 있는지판단을 해야함 없는데 pop을 하면 에러 발생\n",
    "                stack_l.pop()\n",
    "        else:\n",
    "            stack_l.append(i)\n",
    "    stack_l.extend(reversed(stack_r)) # stack_r은 역순으로 해야 원래 패스워드로 붙혀줭\n",
    "    stack = ''.join(stack_l) +''.join(stack_r)\n",
    "    print(stack)"
   ]
  }
 ],
 "metadata": {
  "kernelspec": {
   "display_name": "Python 3 (ipykernel)",
   "language": "python",
   "name": "python3"
  },
  "language_info": {
   "codemirror_mode": {
    "name": "ipython",
    "version": 3
   },
   "file_extension": ".py",
   "mimetype": "text/x-python",
   "name": "python",
   "nbconvert_exporter": "python",
   "pygments_lexer": "ipython3",
   "version": "3.9.12"
  }
 },
 "nbformat": 4,
 "nbformat_minor": 5
}
