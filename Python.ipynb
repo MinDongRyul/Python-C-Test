{
 "cells": [
  {
   "cell_type": "code",
   "execution_count": 9,
   "id": "48b39054",
   "metadata": {},
   "outputs": [
    {
     "name": "stdout",
     "output_type": "stream",
     "text": [
      "goverment\n",
      "environment\n",
      "face\n"
     ]
    }
   ],
   "source": [
    "dicdata = {'environment':['환경','X'], 'company':['회사','O'], 'goverment':['정부,정치','X'], 'face':['얼굴','X']}\n",
    "str1 = input()\n",
    "dicdata[str1][1] = 'O'\n",
    "\n",
    "for data in dicdata.keys():\n",
    "    if dicdata[data][1] == 'X':\n",
    "        print(data)"
   ]
  },
  {
   "cell_type": "code",
   "execution_count": 15,
   "id": "c494b9ae",
   "metadata": {
    "scrolled": true
   },
   "outputs": [
    {
     "data": {
      "text/plain": [
       "{'environment': '환경',\n",
       " 'goverment': '정부,정치',\n",
       " 'company': '회사',\n",
       " 'face': '얼굴',\n",
       " 'apple': '사과'}"
      ]
     },
     "execution_count": 15,
     "metadata": {},
     "output_type": "execute_result"
    }
   ],
   "source": [
    "dicdata = {'environment':'환경',  'goverment':'정부,정치'}\n",
    "dict2 = {'company':'회사', 'face':'얼굴'}\n",
    "dict3 = {'apple':'사과'}\n",
    "\n",
    "for data in dict2.keys():\n",
    "    dicdata[data] = dict2[data]\n",
    "for data in dict3.keys():\n",
    "    dicdata[data] = dict3[data]\n",
    "dicdata"
   ]
  },
  {
   "cell_type": "code",
   "execution_count": 19,
   "id": "a1b58bba",
   "metadata": {},
   "outputs": [
    {
     "name": "stdout",
     "output_type": "stream",
     "text": [
      "배우 이름 :  마동석\n",
      "홈페이지 :  https~.com\n",
      "최근 출연 영화 갯수 :  3\n"
     ]
    }
   ],
   "source": [
    "actor_info = {'actor_details': {'생년월일':'1971-03-01',\n",
    "                               '성별':'남',\n",
    "                               '직업':'배우',\n",
    "                               '홈페이지': 'https~.com'},\n",
    "             'actor_name':'마동석',\n",
    "             'actor_rate': 59361,\n",
    "             'date':'2017-10',\n",
    "             'movie_list':['범죄도시','부라더','부산행']}\n",
    "print('배우 이름 : ', actor_info['actor_name'])\n",
    "print('홈페이지 : ', actor_info['actor_details']['홈페이지'])\n",
    "print('최근 출연 영화 갯수 : ', len(actor_info['movie_list']))"
   ]
  },
  {
   "cell_type": "code",
   "execution_count": 26,
   "id": "c1c4a063",
   "metadata": {},
   "outputs": [
    {
     "data": {
      "text/plain": [
       "{1, 2, 3, 4, 5, 6, 7, 8, 9, 10}"
      ]
     },
     "execution_count": 26,
     "metadata": {},
     "output_type": "execute_result"
    }
   ],
   "source": [
    "# 집합은 중복 제거\n",
    "number_list = [5, 1, 2, 2, 3, 3, 4, 5, 5, 6, 7, 8, 9, 9, 10, 10]\n",
    "number_list2 = set(number_list)\n",
    "number_list2"
   ]
  },
  {
   "cell_type": "code",
   "execution_count": 65,
   "id": "26b7f5ea",
   "metadata": {},
   "outputs": [],
   "source": [
    "data = [1, 2, 3, 4, 5]"
   ]
  },
  {
   "cell_type": "code",
   "execution_count": 30,
   "id": "8244a654",
   "metadata": {},
   "outputs": [
    {
     "name": "stdout",
     "output_type": "stream",
     "text": [
      "Baekjoon\n",
      "9944e1862efbb2a4e2486392dc6701896416b251eccdecb8332deb7f4cf2a857\n"
     ]
    }
   ],
   "source": [
    "# 백준 10930\n",
    "# SHA256을 통한 해시 변환\n",
    "import hashlib\n",
    "\n",
    "string1 = input()\n",
    "result1 = hashlib.sha256(string1.encode()).hexdigest() # 문자열의 바이트 객체를 삽입\n",
    "print(result1)"
   ]
  },
  {
   "cell_type": "code",
   "execution_count": 2,
   "id": "f3a4b725",
   "metadata": {
    "collapsed": true
   },
   "outputs": [
    {
     "name": "stdout",
     "output_type": "stream",
     "text": [
      "a\n",
      "t\n",
      "c\n",
      "i\n",
      "a\n",
      "t\n",
      "c\n",
      "s\n",
      "a\n",
      "t\n",
      "c\n",
      "w\n",
      "a\n",
      "t\n",
      "i\n",
      "s\n",
      "a\n",
      "t\n",
      "i\n",
      "w\n",
      "a\n",
      "t\n",
      "s\n",
      "w\n",
      "a\n",
      "c\n",
      "i\n",
      "s\n",
      "a\n",
      "c\n",
      "i\n",
      "w\n",
      "a\n",
      "c\n",
      "s\n",
      "w\n",
      "a\n",
      "i\n",
      "s\n",
      "w\n",
      "t\n",
      "c\n",
      "i\n",
      "s\n",
      "t\n",
      "c\n",
      "i\n",
      "w\n",
      "t\n",
      "c\n",
      "s\n",
      "w\n",
      "t\n",
      "i\n",
      "s\n",
      "w\n",
      "c\n",
      "i\n",
      "s\n",
      "w\n"
     ]
    }
   ],
   "source": [
    "from itertools import combinations # 조합 경우의 수를 다 추출해줌\n",
    "\n",
    "array = ['a' , 't' ,'c' ,'i' ,'s' ,'w']\n",
    "\n",
    "for password in combinations(array, 4):\n",
    "    for i in password:\n",
    "        print(i)"
   ]
  },
  {
   "cell_type": "code",
   "execution_count": null,
   "id": "ad5aab73",
   "metadata": {},
   "outputs": [],
   "source": [
    "# 백준 2747"
   ]
  },
  {
   "cell_type": "code",
   "execution_count": null,
   "id": "e27a7d78",
   "metadata": {},
   "outputs": [],
   "source": [
    "# 백준 7490"
   ]
  },
  {
   "cell_type": "code",
   "execution_count": 59,
   "id": "c576a433",
   "metadata": {},
   "outputs": [
    {
     "data": {
      "text/plain": [
       "[[1, 2, 3], [1, 2, 3]]"
      ]
     },
     "execution_count": 59,
     "metadata": {},
     "output_type": "execute_result"
    }
   ],
   "source": [
    "import copy\n",
    "\n",
    "lst = []\n",
    "lst_1 = [1, 2, 3]\n",
    "lst.append(copy.deepcopy(lst_1))\n",
    "lst.append(lst_1)\n",
    "lst"
   ]
  },
  {
   "cell_type": "code",
   "execution_count": null,
   "id": "ff6bfa47",
   "metadata": {},
   "outputs": [],
   "source": [
    "# 백준 1774\n"
   ]
  },
  {
   "cell_type": "code",
   "execution_count": 32,
   "id": "a1c7372c",
   "metadata": {},
   "outputs": [
    {
     "name": "stdout",
     "output_type": "stream",
     "text": [
      "+-"
     ]
    }
   ],
   "source": [
    "oper_ = '+'\n",
    "oper = '-'\n",
    "lst = sorted(list(oper_ + oper))\n",
    "for i in lst:\n",
    "    print(i, end='')"
   ]
  },
  {
   "cell_type": "code",
   "execution_count": 149,
   "id": "51d77f7f",
   "metadata": {},
   "outputs": [
    {
     "name": "stdout",
     "output_type": "stream",
     "text": [
      "01012345678\n",
      "1\n"
     ]
    }
   ],
   "source": [
    "import re\n",
    "data = input()\n",
    "if re.match(\"010[-](\\d{4})[-]\\d{4}\", data):\n",
    "    print(2)\n",
    "elif re.match(\"010(\\d{4})\\d{4}\", data):\n",
    "    print(1)\n",
    "elif re.match('[+]82[-]10[-]\\d{4}[-]\\d{4}', data):\n",
    "    print(3)\n",
    "else:\n",
    "    print(4)"
   ]
  },
  {
   "cell_type": "code",
   "execution_count": 156,
   "id": "b7137b9c",
   "metadata": {},
   "outputs": [
    {
     "data": {
      "text/plain": [
       "2"
      ]
     },
     "execution_count": 156,
     "metadata": {},
     "output_type": "execute_result"
    }
   ],
   "source": [
    "goods = [3, 8, 6]\n",
    "boxes = [5, 6, 4]\n",
    "goods.sort(reverse=True)\n",
    "boxes.sort(reverse=True)\n",
    "result =0\n",
    "while len(goods) > 0:\n",
    "    if goods[0] > boxes[0]:\n",
    "        goods.pop(0)\n",
    "    elif goods[0] <= boxes[0]:\n",
    "        result += 1\n",
    "        goods.pop(0)\n",
    "        boxes.pop(0)\n",
    "result"
   ]
  },
  {
   "cell_type": "code",
   "execution_count": 164,
   "id": "9216ff40",
   "metadata": {},
   "outputs": [
    {
     "data": {
      "text/plain": [
       "9"
      ]
     },
     "execution_count": 164,
     "metadata": {},
     "output_type": "execute_result"
    }
   ],
   "source": [
    "def solution(bricks):\n",
    "    result = 0\n",
    "    while True:\n",
    "        if len(bricks) == 0:\n",
    "            break\n",
    "        if bricks[0] == bricks[-1] and bricks[0] !=0:\n",
    "            for i in range(1, len(bricks)):\n",
    "                if bricks[0] - bricks[i] > 0:\n",
    "                    result += (bricks[0] - bricks[i])\n",
    "            break\n",
    "        elif bricks[0] == 0:\n",
    "            bricks.pop(0)\n",
    "        elif bricks[-1] == 0 :\n",
    "            bricks.pop(-1)\n",
    "        elif bricks[0] > bricks[-1]:\n",
    "            bricks.pop(0)\n",
    "        elif bricks[0] < bricks[-1]:\n",
    "            bricks.pop(-1)\n",
    "    answer = result\n",
    "    return answer\n",
    "\n",
    "solution([0, 2, 0, 1, 3, 1, 2, 0, 1, 0, 2, 0])"
   ]
  },
  {
   "cell_type": "code",
   "execution_count": 166,
   "id": "8fc6103d",
   "metadata": {},
   "outputs": [
    {
     "data": {
      "text/plain": [
       "0"
      ]
     },
     "execution_count": 166,
     "metadata": {},
     "output_type": "execute_result"
    }
   ],
   "source": [
    "bricks = [0, 2, 0, 1, 3, 1, 2, 0, 1, 0, 2, 0]\n",
    "if bricks[0] != 0\n",
    "result = 0\n",
    "for i in range(0, len(bricks)):\n",
    "    if bricks[i] == 0:\n",
    "        continue\n",
    "    if bricks[i] - bricks[i] > 0:\n",
    "        result += (bricks[0] - bricks[i])\n",
    "result"
   ]
  },
  {
   "cell_type": "code",
   "execution_count": 174,
   "id": "5b2103c1",
   "metadata": {},
   "outputs": [
    {
     "data": {
      "text/plain": [
       "0"
      ]
     },
     "execution_count": 174,
     "metadata": {},
     "output_type": "execute_result"
    }
   ],
   "source": [
    "lst = [4, 4, 4, 4, 4]\n",
    "for i in range(len(lst)):\n",
    "    if lst[i] == max(lst):\n",
    "        max_i = i\n",
    "max(lst) - min(lst[:max_i])"
   ]
  },
  {
   "cell_type": "code",
   "execution_count": 193,
   "id": "254a56b6",
   "metadata": {},
   "outputs": [
    {
     "data": {
      "text/plain": [
       "4"
      ]
     },
     "execution_count": 193,
     "metadata": {},
     "output_type": "execute_result"
    }
   ],
   "source": [
    "prices = [1,5, 4, 3, 2, 1]\n",
    "for i in range(len(prices)-1, -1, -1):\n",
    "    if prices[i] == max(prices):\n",
    "        max_i = i\n",
    "        break\n",
    "if max_i == 0:\n",
    "    result = 0\n",
    "# if max(prices) - min(prices[:max_i]) == 0:\n",
    "#     result = 0\n",
    "else:\n",
    "    result = max(prices) - min(prices[:max_i])\n",
    "        \n",
    "result"
   ]
  },
  {
   "cell_type": "code",
   "execution_count": 277,
   "id": "637a036c",
   "metadata": {},
   "outputs": [
    {
     "name": "stdout",
     "output_type": "stream",
     "text": [
      "40\n",
      "270\n"
     ]
    }
   ],
   "source": []
  },
  {
   "cell_type": "code",
   "execution_count": null,
   "id": "44c9542d",
   "metadata": {},
   "outputs": [],
   "source": []
  },
  {
   "cell_type": "code",
   "execution_count": null,
   "id": "3f37ecae",
   "metadata": {},
   "outputs": [],
   "source": []
  },
  {
   "cell_type": "code",
   "execution_count": null,
   "id": "c95792a3",
   "metadata": {},
   "outputs": [],
   "source": []
  }
 ],
 "metadata": {
  "kernelspec": {
   "display_name": "Python 3 (ipykernel)",
   "language": "python",
   "name": "python3"
  },
  "language_info": {
   "codemirror_mode": {
    "name": "ipython",
    "version": 3
   },
   "file_extension": ".py",
   "mimetype": "text/x-python",
   "name": "python",
   "nbconvert_exporter": "python",
   "pygments_lexer": "ipython3",
   "version": "3.9.12"
  }
 },
 "nbformat": 4,
 "nbformat_minor": 5
}
