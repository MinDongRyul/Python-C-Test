{
 "cells": [
  {
   "cell_type": "code",
   "execution_count": 9,
   "id": "48b39054",
   "metadata": {},
   "outputs": [
    {
     "name": "stdout",
     "output_type": "stream",
     "text": [
      "goverment\n",
      "environment\n",
      "face\n"
     ]
    }
   ],
   "source": [
    "dicdata = {'environment':['환경','X'], 'company':['회사','O'], 'goverment':['정부,정치','X'], 'face':['얼굴','X']}\n",
    "str1 = input()\n",
    "dicdata[str1][1] = 'O'\n",
    "\n",
    "for data in dicdata.keys():\n",
    "    if dicdata[data][1] == 'X':\n",
    "        print(data)"
   ]
  },
  {
   "cell_type": "code",
   "execution_count": 15,
   "id": "c494b9ae",
   "metadata": {
    "scrolled": true
   },
   "outputs": [
    {
     "data": {
      "text/plain": [
       "{'environment': '환경',\n",
       " 'goverment': '정부,정치',\n",
       " 'company': '회사',\n",
       " 'face': '얼굴',\n",
       " 'apple': '사과'}"
      ]
     },
     "execution_count": 15,
     "metadata": {},
     "output_type": "execute_result"
    }
   ],
   "source": [
    "dicdata = {'environment':'환경',  'goverment':'정부,정치'}\n",
    "dict2 = {'company':'회사', 'face':'얼굴'}\n",
    "dict3 = {'apple':'사과'}\n",
    "\n",
    "for data in dict2.keys():\n",
    "    dicdata[data] = dict2[data]\n",
    "for data in dict3.keys():\n",
    "    dicdata[data] = dict3[data]\n",
    "dicdata"
   ]
  },
  {
   "cell_type": "code",
   "execution_count": 19,
   "id": "a1b58bba",
   "metadata": {},
   "outputs": [
    {
     "name": "stdout",
     "output_type": "stream",
     "text": [
      "배우 이름 :  마동석\n",
      "홈페이지 :  https~.com\n",
      "최근 출연 영화 갯수 :  3\n"
     ]
    }
   ],
   "source": [
    "actor_info = {'actor_details': {'생년월일':'1971-03-01',\n",
    "                               '성별':'남',\n",
    "                               '직업':'배우',\n",
    "                               '홈페이지': 'https~.com'},\n",
    "             'actor_name':'마동석',\n",
    "             'actor_rate': 59361,\n",
    "             'date':'2017-10',\n",
    "             'movie_list':['범죄도시','부라더','부산행']}\n",
    "print('배우 이름 : ', actor_info['actor_name'])\n",
    "print('홈페이지 : ', actor_info['actor_details']['홈페이지'])\n",
    "print('최근 출연 영화 갯수 : ', len(actor_info['movie_list']))"
   ]
  },
  {
   "cell_type": "code",
   "execution_count": 26,
   "id": "c1c4a063",
   "metadata": {},
   "outputs": [
    {
     "data": {
      "text/plain": [
       "{1, 2, 3, 4, 5, 6, 7, 8, 9, 10}"
      ]
     },
     "execution_count": 26,
     "metadata": {},
     "output_type": "execute_result"
    }
   ],
   "source": [
    "# 집합은 중복 제거\n",
    "number_list = [5, 1, 2, 2, 3, 3, 4, 5, 5, 6, 7, 8, 9, 9, 10, 10]\n",
    "number_list2 = set(number_list)\n",
    "number_list2"
   ]
  },
  {
   "cell_type": "code",
   "execution_count": 7,
   "id": "fb2078ab",
   "metadata": {
    "scrolled": true
   },
   "outputs": [
    {
     "name": "stdout",
     "output_type": "stream",
     "text": [
      "3\n",
      "4\n",
      "7\n",
      "7\n",
      "44\n",
      "10\n",
      "274\n"
     ]
    }
   ],
   "source": [
    "# 백준 9095\n",
    "K = int(input())\n",
    "\n",
    "for i in range(K):\n",
    "    N = int(input())\n",
    "    \n",
    "    dp = [0] * N\n",
    "    dp[0] = 1\n",
    "    dp[1] = 2\n",
    "    dp[2] = 4\n",
    "\n",
    "    for i in range(3, N):\n",
    "        dp[i] = dp[i-3] + dp[i-2] + dp[i-1]\n",
    "        \n",
    "    print(dp[N-1])"
   ]
  },
  {
   "cell_type": "code",
   "execution_count": 63,
   "id": "e342a2fe",
   "metadata": {},
   "outputs": [
    {
     "name": "stdout",
     "output_type": "stream",
     "text": [
      "2\n",
      "1\n",
      "3\n",
      "6\n",
      "2\n",
      "3\n",
      "10\n"
     ]
    }
   ],
   "source": [
    "# 백준 2775\n",
    "T = int(input())\n",
    "for k in range(T):\n",
    "    K = int(input()) # 층\n",
    "    N = int(input()) # 호\n",
    "    \n",
    "    dp = [[0 for i in range(0, 14)]] * 14\n",
    "\n",
    "    # 0층 초기화\n",
    "    for i in range(0, 14):\n",
    "        dp[0][i] = i+1\n",
    "\n",
    "    for i in range(K):\n",
    "        sum = 0\n",
    "        for j in range(N):\n",
    "            sum += dp[i-1][j]\n",
    "            dp[i][j] = sum\n",
    "    print(dp[K][N-1])"
   ]
  },
  {
   "cell_type": "code",
   "execution_count": 10,
   "id": "344d43b7",
   "metadata": {
    "scrolled": true
   },
   "outputs": [
    {
     "name": "stdout",
     "output_type": "stream",
     "text": [
      "1 2 3 4 5 6 7 8\n",
      "ascending\n"
     ]
    }
   ],
   "source": [
    "# 백준 2920\n",
    "N_list = list(map(int, input().split(' ')))\n",
    "N_list_1 = sorted(N_list)\n",
    "N_list_2 = sorted(N_list, reverse=True)\n",
    "N_list_1\n",
    "if N_list == N_list_1:\n",
    "    print('ascending')\n",
    "elif N_list == N_list_2:\n",
    "    print('descending')\n",
    "else:\n",
    "    print('mixed')\n",
    "    \n",
    "# ascending = True\n",
    "# descending = False\n",
    "\n",
    "# for i in range(1, 8): 현재 값과 이전 값과의 크기 비교를 통해 오름차순, 내림차순 비교\n",
    "#     if a[i] > a[i - 1]:  현재  값이 이전 값보다 크다면 내림차순 아님\n",
    "#         descending = False\n",
    "#     elif a[i] < a[i - 1]: 현재 값이 이전 값보다 작다면 오름차순 아님\n",
    "#         ascending = False\n",
    "\n",
    "# if ascending:\n",
    "#     print('ascending')\n",
    "# elif descending:\n",
    "#     print('descending')\n",
    "# else:\n",
    "#     print('mixed')"
   ]
  },
  {
   "cell_type": "code",
   "execution_count": 37,
   "id": "8d27d56e",
   "metadata": {},
   "outputs": [
    {
     "name": "stdout",
     "output_type": "stream",
     "text": [
      "497\n"
     ]
    }
   ],
   "source": [
    "# 백준 2798\n",
    "\n",
    "k, m = 10, 500\n",
    "lst = [93 ,181 ,245 ,214 ,315 ,36 ,185 ,138 ,216 ,295]\n",
    "result=  0\n",
    "\n",
    "for i in range(0,  len(lst)):\n",
    "    for j in range(i + 1, len(lst)):\n",
    "        for z in range(j + 1, len(lst)): # i 가 9 이어도 for문 자체가 실행이 안됨\n",
    "            total_sum = lst[i]+lst[j]+lst[z]\n",
    "            if total_sum <= m:\n",
    "                result = max(result, total_sum)\n",
    "print(sum)"
   ]
  },
  {
   "cell_type": "code",
   "execution_count": 65,
   "id": "26b7f5ea",
   "metadata": {},
   "outputs": [],
   "source": [
    "data = [1, 2, 3, 4, 5]"
   ]
  },
  {
   "cell_type": "code",
   "execution_count": 1,
   "id": "78d501e2",
   "metadata": {},
   "outputs": [
    {
     "name": "stdout",
     "output_type": "stream",
     "text": [
      "5\n",
      "1\n",
      "2\n",
      "5\n",
      "3\n",
      "NO\n",
      "4\n",
      "+\n",
      "-\n",
      "+\n",
      "-\n",
      "+\n",
      "+\n",
      "+\n",
      "-\n",
      "-\n"
     ]
    }
   ],
   "source": [
    "# 백준 1874\n",
    "\n",
    "n = int(input())\n",
    "\n",
    "count = 1\n",
    "stack = []\n",
    "result = []\n",
    "\n",
    "for i in range(1, n+1): # 데이터 개수만큼 반복\n",
    "    data = int(input())\n",
    "    while count <= data: # 입력 받은 데이터에 도달할 때까지 삽입\n",
    "        stack.append(count)\n",
    "        count += 1\n",
    "        result.append('+')\n",
    "    if stack[-1] == data: # 최상위 데이터 원소가 데이터과 같을 때 빼기 실행\n",
    "        stack.pop()\n",
    "        result.append('-')\n",
    "    else: # 불가능한 경우\n",
    "        print('NO')\n",
    "        exit(0)\n",
    "\n",
    "for i in result:\n",
    "    print(i)"
   ]
  },
  {
   "cell_type": "code",
   "execution_count": 10,
   "id": "93f32f16",
   "metadata": {
    "scrolled": true
   },
   "outputs": [
    {
     "name": "stdout",
     "output_type": "stream",
     "text": [
      "1\n",
      "6 0\n",
      "1 1 9 1 1 1\n",
      "[(1, 0), (1, 1), (9, 2), (1, 3), (1, 4), (1, 5)]\n",
      "1 9\n",
      "[(1, 0), (1, 1), (9, 2), (1, 3), (1, 4), (1, 5)]\n",
      "1 9\n",
      "[(1, 1), (9, 2), (1, 3), (1, 4), (1, 5), (1, 0)]\n",
      "9 9\n",
      "[(9, 2), (1, 3), (1, 4), (1, 5), (1, 0), (1, 1)]\n",
      "1 1\n",
      "[(1, 3), (1, 4), (1, 5), (1, 0), (1, 1)]\n",
      "1 1\n",
      "[(1, 4), (1, 5), (1, 0), (1, 1)]\n",
      "1 1\n",
      "[(1, 5), (1, 0), (1, 1)]\n",
      "1 1\n",
      "[(1, 0), (1, 1)]\n",
      "5\n"
     ]
    }
   ],
   "source": [
    "# 백준 1966\n",
    "test_case = int(input())\n",
    "\n",
    "for _ in range(test_case):\n",
    "    n, m = list(map(int, input().split()))\n",
    "    queue = list(map(int, input().split()))\n",
    "    queue = [(i, idx) for idx, i in enumerate(queue)]\n",
    "    \n",
    "    count = 0 # 뽑은 횟수 체크\n",
    "    print(queue)\n",
    "    while True:\n",
    "        print(queue[0][0], max(queue, key=lambda x: x[0])[0])\n",
    "        print(queue)\n",
    "        if queue[0][0] == max(queue, key=lambda x: x[0])[0]: # 중요도체크 첫번째 있는 값의 중요도가 제일 큰값인지 판단\n",
    "            count += 1 # 큰값이라면 일단 답이거나 빼거나 둘중하나이기에 뽑은 횟수 업\n",
    "            if queue[0][1] == m: # 중요도가 큰값에서 가지는 값이 우리가 원하는 값이면 count 출력\n",
    "                print(count)\n",
    "                break\n",
    "            else:\n",
    "                queue.pop(0) # 아니라면 빼기 그래도 뽑은 순서에서는 영향이 있음\n",
    "        else:\n",
    "            queue.append(queue.pop(0))"
   ]
  },
  {
   "cell_type": "code",
   "execution_count": 28,
   "id": "964b68a3",
   "metadata": {
    "scrolled": true
   },
   "outputs": [
    {
     "name": "stdout",
     "output_type": "stream",
     "text": [
      "2\n",
      "<<BP<A>>Cd-\n",
      "BAPC\n",
      "ThIsIsS3Cr3t\n",
      "ThIsIsS3Cr3t\n"
     ]
    }
   ],
   "source": [
    "# 백준 5397\n",
    "test_case = int(input())\n",
    "\n",
    "for _ in range(test_case):\n",
    "    str_ = list(input())\n",
    "    stack_l = list()\n",
    "    stack_r = list()\n",
    "    for i in str_:\n",
    "        if i == '<':\n",
    "            if stack_l:\n",
    "                stack_r.append(stack_l.pop())\n",
    "        elif i == '>':\n",
    "            if stack_r:\n",
    "                stack_l.append(stack_r.pop())\n",
    "        elif i == '-':\n",
    "            if stack_l: # 있는지판단을 해야함 없는데 pop을 하면 에러 발생\n",
    "                stack_l.pop()\n",
    "        else:\n",
    "            stack_l.append(i)\n",
    "    stack_l.extend(reversed(stack_r)) # stack_r은 역순으로 해야 원래 패스워드로 붙혀줘야함\n",
    "    print(''.join(stack_l))"
   ]
  },
  {
   "cell_type": "code",
   "execution_count": 30,
   "id": "8244a654",
   "metadata": {},
   "outputs": [
    {
     "name": "stdout",
     "output_type": "stream",
     "text": [
      "Baekjoon\n",
      "9944e1862efbb2a4e2486392dc6701896416b251eccdecb8332deb7f4cf2a857\n"
     ]
    }
   ],
   "source": [
    "# 백준 10930\n",
    "# SHA256을 통한 해시 변환\n",
    "import hashlib\n",
    "\n",
    "string1 = input()\n",
    "result1 = hashlib.sha256(string1.encode()).hexdigest() # 문자열의 바이트 객체를 삽입\n",
    "print(result1)"
   ]
  },
  {
   "cell_type": "code",
   "execution_count": 3,
   "id": "0a91c974",
   "metadata": {},
   "outputs": [
    {
     "name": "stdout",
     "output_type": "stream",
     "text": [
      "5\n",
      "4 1 5 2 3\n",
      "5\n",
      "1 3 7 9 5\n",
      "1\n",
      "1\n",
      "0\n",
      "0\n",
      "1\n"
     ]
    }
   ],
   "source": [
    "# 백준 1920\n",
    "\n",
    "N = int(input())\n",
    "N_list = list(map(int, input().split()))\n",
    "M = int(input())\n",
    "M_list = list(map(int, input().split()))\n",
    "\n",
    "def bi_s(find, start, end):\n",
    "    if start > end:\n",
    "        return False\n",
    "    \n",
    "    med = (start + end) // 2\n",
    "    \n",
    "    if N_list[med] > find: # 중간 값이랑 비교를 해야함 필수!\n",
    "        return bi_s(find, start, med-1)\n",
    "    elif N_list[med] < find: # 중간 값이랑 비교를 해야함 필수!\n",
    "        return bi_s(find, med+1, end)\n",
    "    elif N_list[med] == find:\n",
    "        return True\n",
    "    \n",
    "N_list.sort()\n",
    "for i in M_list:\n",
    "    if bi_s(i, 0, N-1):\n",
    "        print(1)\n",
    "    else:\n",
    "        print(0)"
   ]
  },
  {
   "cell_type": "code",
   "execution_count": 6,
   "id": "689ebc01",
   "metadata": {
    "scrolled": true
   },
   "outputs": [
    {
     "name": "stdout",
     "output_type": "stream",
     "text": [
      "5\n",
      "4 1 3 2 3\n",
      "5\n",
      "1 2 3 4 5\n",
      "1\n",
      "1\n",
      "1\n",
      "1\n",
      "0\n"
     ]
    }
   ],
   "source": [
    "# 백준 1920 \n",
    "n = int(input())\n",
    "array = set(map(int, input().split())) # 집합으로 만들고 접근할 때에는 시간초과 X\n",
    "m = int(input())\n",
    "x = list(map(int, input().split()))\n",
    "\n",
    "for i in x:\n",
    "    if i not in array:\n",
    "        print('0')\n",
    "    else:\n",
    "        print('1')"
   ]
  },
  {
   "cell_type": "code",
   "execution_count": 10,
   "id": "2b2fd440",
   "metadata": {},
   "outputs": [],
   "source": [
    "# Union - Find 알고리즘\n",
    "def find(x):\n",
    "    if x == parent[x]:\n",
    "        return x\n",
    "    else:\n",
    "        p = find(parent[x])\n",
    "        parent[x] = p\n",
    "        return parent[x]\n",
    "    \n",
    "def union(x, y):\n",
    "    x = find(x)\n",
    "    y = find(y)\n",
    "    \n",
    "    parent[y] = x"
   ]
  },
  {
   "cell_type": "code",
   "execution_count": 13,
   "id": "9c5deaa3",
   "metadata": {},
   "outputs": [
    {
     "name": "stdout",
     "output_type": "stream",
     "text": [
      "[0, 2, 2, 3, 1]\n",
      "2 2 3 2 "
     ]
    }
   ],
   "source": [
    "# 실행코드\n",
    "parent = []\n",
    "\n",
    "for i in range(0, 5):\n",
    "    parent.append(i)\n",
    "    \n",
    "union(1, 4)\n",
    "union(2, 4)\n",
    "\n",
    "print(parent)\n",
    "\n",
    "for i in range(1, len(parent)):\n",
    "    print(find(i), end=' ')"
   ]
  },
  {
   "cell_type": "code",
   "execution_count": 14,
   "id": "f32edb89",
   "metadata": {},
   "outputs": [
    {
     "name": "stdout",
     "output_type": "stream",
     "text": [
      "1\n",
      "3\n",
      "Fred Barney\n",
      "2\n",
      "Barney Betty\n",
      "3\n",
      "Betty Wilma\n",
      "4\n"
     ]
    }
   ],
   "source": [
    "# 백준 4195\n",
    "# 한번 더 보기\n",
    "def find(x):\n",
    "    if x == parent[x]:\n",
    "        return x\n",
    "    else:\n",
    "        p = find(parent[x])\n",
    "        parent[x] = p\n",
    "        return parent[x]\n",
    "    \n",
    "def union(x, y):\n",
    "    x = find(x)\n",
    "    y = find(y)\n",
    "    \n",
    "    if x != y:\n",
    "        parent[y] = x\n",
    "        number[x] += number[y]\n",
    "\n",
    "\n",
    "test_case = int(input())\n",
    "\n",
    "for _ in range(test_case):\n",
    "    parent = dict()\n",
    "    number = dict()\n",
    "    \n",
    "    f = int(input())\n",
    "    \n",
    "    for _ in range(f):\n",
    "        x, y = input().split(' ')\n",
    "        \n",
    "        if x not in parent:\n",
    "            parent[x] = x\n",
    "            number[x] = 1\n",
    "        if y not in parent:\n",
    "            parent[y] = y\n",
    "            number[y] = 1\n",
    "            \n",
    "        union(x, y)\n",
    "        print(number[find(x)])"
   ]
  },
  {
   "cell_type": "code",
   "execution_count": 8,
   "id": "10b591dd",
   "metadata": {
    "scrolled": false
   },
   "outputs": [
    {
     "name": "stdout",
     "output_type": "stream",
     "text": [
      "<built-in method readline of _io.TextIOWrapper object at 0x0000017426041AD0>\n"
     ]
    },
    {
     "ename": "TypeError",
     "evalue": "int() argument must be a string, a bytes-like object or a number, not 'list'",
     "output_type": "error",
     "traceback": [
      "\u001b[1;31m---------------------------------------------------------------------------\u001b[0m",
      "\u001b[1;31mTypeError\u001b[0m                                 Traceback (most recent call last)",
      "Input \u001b[1;32mIn [8]\u001b[0m, in \u001b[0;36m<cell line: 6>\u001b[1;34m()\u001b[0m\n\u001b[0;32m      4\u001b[0m \u001b[38;5;28mprint\u001b[39m(\u001b[38;5;28minput\u001b[39m)\n\u001b[0;32m      5\u001b[0m test_case \u001b[38;5;241m=\u001b[39m \u001b[38;5;28minput\u001b[39m()\u001b[38;5;241m.\u001b[39mstrip()\u001b[38;5;241m.\u001b[39msplit()\n\u001b[1;32m----> 6\u001b[0m test_case \u001b[38;5;241m=\u001b[39m \u001b[38;5;28;43mint\u001b[39;49m\u001b[43m(\u001b[49m\u001b[43mtest_case\u001b[49m\u001b[43m)\u001b[49m\n\u001b[0;32m      7\u001b[0m stack \u001b[38;5;241m=\u001b[39m []\n\u001b[0;32m      9\u001b[0m \u001b[38;5;28;01mfor\u001b[39;00m _ \u001b[38;5;129;01min\u001b[39;00m \u001b[38;5;28mrange\u001b[39m(test_case):\n",
      "\u001b[1;31mTypeError\u001b[0m: int() argument must be a string, a bytes-like object or a number, not 'list'"
     ]
    }
   ],
   "source": [
    "# 백준 10828\n",
    "import sys\n",
    "input = sys.stdin.readline  # 빠른 입력\n",
    "\n",
    "test_case = int(input())\n",
    "stack = []\n",
    "\n",
    "for _ in range(test_case):\n",
    "    N_list = input().strip().split(' ') # list(map(str, input().split())) 사용시 시간초과\n",
    "    \n",
    "    if N_list[0] == 'push':\n",
    "        stack.append(N_list[1])\n",
    "    elif N_list[0] == 'pop':\n",
    "        if stack:\n",
    "            print(stack.pop())\n",
    "        else:\n",
    "            print(-1)\n",
    "    elif N_list[0] == 'size':\n",
    "        print(len(stack))\n",
    "    elif N_list[0] == 'empty':\n",
    "        if len(stack) == 0:\n",
    "            print(1)\n",
    "        else:\n",
    "            print(0)\n",
    "    elif N_list[0] == 'top':\n",
    "        if len(stack) == 0:\n",
    "            print(-1)\n",
    "        else:\n",
    "            print(stack[-1])"
   ]
  },
  {
   "cell_type": "code",
   "execution_count": 4,
   "id": "cb4e5600",
   "metadata": {},
   "outputs": [
    {
     "name": "stdout",
     "output_type": "stream",
     "text": [
      "10\n",
      "1\n",
      "3\n",
      "5\n",
      "4\n",
      "0\n",
      "0\n",
      "7\n",
      "0\n",
      "0\n",
      "6\n",
      "7\n"
     ]
    }
   ],
   "source": [
    "# 백준 10773\n",
    "\n",
    "test_case = int(input())\n",
    "stack = []\n",
    "\n",
    "for _ in range(test_case):\n",
    "    N = int(input())\n",
    "    if N == 0:\n",
    "        stack.pop()\n",
    "    else:\n",
    "        stack.append(N)\n",
    "        \n",
    "print(sum(stack))"
   ]
  },
  {
   "cell_type": "code",
   "execution_count": 19,
   "id": "a8813d87",
   "metadata": {
    "scrolled": true
   },
   "outputs": [
    {
     "name": "stdout",
     "output_type": "stream",
     "text": [
      "8\n",
      "4\n",
      "3\n",
      "6\n",
      "8\n",
      "7\n",
      "5\n",
      "2\n",
      "1\n",
      "['+', '+', '+', '+', '-', '-', '+', '+', '-', '+', '+', '-', '-', '-', '-', '-']\n"
     ]
    }
   ],
   "source": [
    "# 백준 1874\n",
    "\n",
    "test_case = int(input())\n",
    "stack = []\n",
    "for _ in range(test_case):\n",
    "    stack.append(int(input()))\n",
    "result = []\n",
    "data = []\n",
    "count = 0\n",
    "for n in stack:\n",
    "    while n > count:\n",
    "        count += 1\n",
    "        data.append(count)\n",
    "        result.append('+')\n",
    "    \n",
    "    if data[-1] == n:\n",
    "        result.append('-')\n",
    "        data.pop()\n",
    "    \n",
    "if data:\n",
    "    print('NO')\n",
    "else:\n",
    "    print(result)"
   ]
  },
  {
   "cell_type": "code",
   "execution_count": null,
   "id": "a1234f5c",
   "metadata": {},
   "outputs": [],
   "source": [
    "#### 백준 1874\n",
    "\n",
    "test_case = int(input())\n",
    "result = [] # 최종 정답\n",
    "data = []   # 스택 초기화\n",
    "count = 0 # 삽입할 수\n",
    "\n",
    "for _ in range(test_case):\n",
    "    n = int(input()) # 하나씩 입력\n",
    "    # top()보다 n이 더 크다면, 스택에 삽입\n",
    "    while len(data) ==0 or n > data[-1]:\n",
    "        count += 1\n",
    "        data.append(count)\n",
    "        result.append('+')\n",
    "    \n",
    "    # top() 과 n가 같다면, 스택에서 제거\n",
    "    if data[-1] == n:\n",
    "        result.append('-')\n",
    "        data.pop()\n",
    "    # top()보다 n가 더 작다면, 불가능\n",
    "    else:\n",
    "        result = ['NO']\n",
    "        break\n",
    "\n",
    "for x in result:\n",
    "    print(x)"
   ]
  },
  {
   "cell_type": "code",
   "execution_count": 52,
   "id": "cd48984b",
   "metadata": {
    "scrolled": true
   },
   "outputs": [
    {
     "name": "stdout",
     "output_type": "stream",
     "text": [
      "4\n",
      "3 5 2 7\n",
      "5 7 7 -1 "
     ]
    }
   ],
   "source": [
    "# 백준 17928 시간초과 O\n",
    "\n",
    "test_case = int(input())\n",
    "stack = list(map(int, input().split()))\n",
    "\n",
    "result = []  # 정답\n",
    "for j in range(1, test_case):\n",
    "    data_1 = []\n",
    "    for i in range(j, test_case):\n",
    "        \n",
    "        n = stack[j - 1]\n",
    "        if n < stack[i]:\n",
    "            \n",
    "            data_1.append(stack[i])\n",
    "        else:\n",
    "            pass\n",
    "    \n",
    "    if len(data_1) == 0:\n",
    "        result.append(-1)\n",
    "    else:\n",
    "        result.append(data_1[0])\n",
    "    \n",
    "result.append(-1)\n",
    "for i in result:\n",
    "    print(i, end=' ')"
   ]
  },
  {
   "cell_type": "code",
   "execution_count": 55,
   "id": "4a92cfa4",
   "metadata": {},
   "outputs": [
    {
     "name": "stdout",
     "output_type": "stream",
     "text": [
      "4\n",
      "3 5 2 7\n",
      "5 7 7 -1 "
     ]
    }
   ],
   "source": [
    "# 백준 17928 시간초과 X\n",
    "\n",
    "n = int(input()) # 수의 개수\n",
    "arr = list(map(int, input().split())) # 수열 데이터\n",
    "stack = [] # 스택(stack) 초기화\n",
    "NGE = [-1] * n # 오큰수 배열'\n",
    "\n",
    "for i in range(n):\n",
    "    \n",
    "    x = arr[i] # 하나씩 수 확인\n",
    "    \n",
    "    if len(stack) == 0 or stack[-1][0] >= x: # 내림차순 형태라면(작거나 같은 원소를 만났다면)\n",
    "        stack.append((x, i)) # (수, 인덱스) 형태로 삽입\n",
    "        \n",
    "    else: # 오름차순 형태라면(큰 수를 만났다면)\n",
    "        while len(stack) > 0: # 역방향으로 하나씩 꺼내기\n",
    "            previous, index = stack.pop()\n",
    "\n",
    "            if previous >= x: # 크거나 같은 이전 원소를 만났다면 다시 삽입\n",
    "                stack.append((previous, index))\n",
    "                break\n",
    "            else:\n",
    "                NGE[index] = x # 오큰수 기록\n",
    "\n",
    "        stack.append((x, i)) # (수, 인덱스) 형태로 삽입\n",
    "\n",
    "for x in NGE: # 오큰수를 하나씩 출력\n",
    "    print(x, end=' ')"
   ]
  },
  {
   "cell_type": "code",
   "execution_count": 60,
   "id": "012088db",
   "metadata": {},
   "outputs": [
    {
     "ename": "KeyboardInterrupt",
     "evalue": "Interrupted by user",
     "output_type": "error",
     "traceback": [
      "\u001b[1;31m---------------------------------------------------------------------------\u001b[0m",
      "\u001b[1;31mKeyboardInterrupt\u001b[0m                         Traceback (most recent call last)",
      "Input \u001b[1;32mIn [60]\u001b[0m, in \u001b[0;36m<cell line: 3>\u001b[1;34m()\u001b[0m\n\u001b[0;32m      1\u001b[0m \u001b[38;5;66;03m# 백준 1021\u001b[39;00m\n\u001b[0;32m      2\u001b[0m \u001b[38;5;28;01mfrom\u001b[39;00m \u001b[38;5;21;01mcollections\u001b[39;00m \u001b[38;5;28;01mimport\u001b[39;00m deque\n\u001b[1;32m----> 3\u001b[0m n, m \u001b[38;5;241m=\u001b[39m \u001b[38;5;28mmap\u001b[39m(\u001b[38;5;28mint\u001b[39m, \u001b[38;5;28;43minput\u001b[39;49m\u001b[43m(\u001b[49m\u001b[43m)\u001b[49m\u001b[38;5;241m.\u001b[39msplit()) \u001b[38;5;66;03m# 원소의 개수, 뽑아내는 횟수\u001b[39;00m\n\u001b[0;32m      4\u001b[0m d \u001b[38;5;241m=\u001b[39m deque([i \u001b[38;5;28;01mfor\u001b[39;00m i \u001b[38;5;129;01min\u001b[39;00m \u001b[38;5;28mrange\u001b[39m(\u001b[38;5;241m1\u001b[39m, n \u001b[38;5;241m+\u001b[39m \u001b[38;5;241m1\u001b[39m)]) \u001b[38;5;66;03m# 1부터 N까지의 원소를 삽입\u001b[39;00m\n\u001b[0;32m      5\u001b[0m targets \u001b[38;5;241m=\u001b[39m \u001b[38;5;28mlist\u001b[39m(\u001b[38;5;28mmap\u001b[39m(\u001b[38;5;28mint\u001b[39m, \u001b[38;5;28minput\u001b[39m()\u001b[38;5;241m.\u001b[39msplit())) \u001b[38;5;66;03m# 뽑아낼 원소 목록\u001b[39;00m\n",
      "File \u001b[1;32m~\\anaconda3\\lib\\site-packages\\ipykernel\\kernelbase.py:1075\u001b[0m, in \u001b[0;36mKernel.raw_input\u001b[1;34m(self, prompt)\u001b[0m\n\u001b[0;32m   1071\u001b[0m \u001b[38;5;28;01mif\u001b[39;00m \u001b[38;5;129;01mnot\u001b[39;00m \u001b[38;5;28mself\u001b[39m\u001b[38;5;241m.\u001b[39m_allow_stdin:\n\u001b[0;32m   1072\u001b[0m     \u001b[38;5;28;01mraise\u001b[39;00m StdinNotImplementedError(\n\u001b[0;32m   1073\u001b[0m         \u001b[38;5;124m\"\u001b[39m\u001b[38;5;124mraw_input was called, but this frontend does not support input requests.\u001b[39m\u001b[38;5;124m\"\u001b[39m\n\u001b[0;32m   1074\u001b[0m     )\n\u001b[1;32m-> 1075\u001b[0m \u001b[38;5;28;01mreturn\u001b[39;00m \u001b[38;5;28;43mself\u001b[39;49m\u001b[38;5;241;43m.\u001b[39;49m\u001b[43m_input_request\u001b[49m\u001b[43m(\u001b[49m\n\u001b[0;32m   1076\u001b[0m \u001b[43m    \u001b[49m\u001b[38;5;28;43mstr\u001b[39;49m\u001b[43m(\u001b[49m\u001b[43mprompt\u001b[49m\u001b[43m)\u001b[49m\u001b[43m,\u001b[49m\n\u001b[0;32m   1077\u001b[0m \u001b[43m    \u001b[49m\u001b[38;5;28;43mself\u001b[39;49m\u001b[38;5;241;43m.\u001b[39;49m\u001b[43m_parent_ident\u001b[49m\u001b[43m[\u001b[49m\u001b[38;5;124;43m\"\u001b[39;49m\u001b[38;5;124;43mshell\u001b[39;49m\u001b[38;5;124;43m\"\u001b[39;49m\u001b[43m]\u001b[49m\u001b[43m,\u001b[49m\n\u001b[0;32m   1078\u001b[0m \u001b[43m    \u001b[49m\u001b[38;5;28;43mself\u001b[39;49m\u001b[38;5;241;43m.\u001b[39;49m\u001b[43mget_parent\u001b[49m\u001b[43m(\u001b[49m\u001b[38;5;124;43m\"\u001b[39;49m\u001b[38;5;124;43mshell\u001b[39;49m\u001b[38;5;124;43m\"\u001b[39;49m\u001b[43m)\u001b[49m\u001b[43m,\u001b[49m\n\u001b[0;32m   1079\u001b[0m \u001b[43m    \u001b[49m\u001b[43mpassword\u001b[49m\u001b[38;5;241;43m=\u001b[39;49m\u001b[38;5;28;43;01mFalse\u001b[39;49;00m\u001b[43m,\u001b[49m\n\u001b[0;32m   1080\u001b[0m \u001b[43m\u001b[49m\u001b[43m)\u001b[49m\n",
      "File \u001b[1;32m~\\anaconda3\\lib\\site-packages\\ipykernel\\kernelbase.py:1120\u001b[0m, in \u001b[0;36mKernel._input_request\u001b[1;34m(self, prompt, ident, parent, password)\u001b[0m\n\u001b[0;32m   1117\u001b[0m             \u001b[38;5;28;01mbreak\u001b[39;00m\n\u001b[0;32m   1118\u001b[0m \u001b[38;5;28;01mexcept\u001b[39;00m \u001b[38;5;167;01mKeyboardInterrupt\u001b[39;00m:\n\u001b[0;32m   1119\u001b[0m     \u001b[38;5;66;03m# re-raise KeyboardInterrupt, to truncate traceback\u001b[39;00m\n\u001b[1;32m-> 1120\u001b[0m     \u001b[38;5;28;01mraise\u001b[39;00m \u001b[38;5;167;01mKeyboardInterrupt\u001b[39;00m(\u001b[38;5;124m\"\u001b[39m\u001b[38;5;124mInterrupted by user\u001b[39m\u001b[38;5;124m\"\u001b[39m) \u001b[38;5;28;01mfrom\u001b[39;00m \u001b[38;5;28mNone\u001b[39m\n\u001b[0;32m   1121\u001b[0m \u001b[38;5;28;01mexcept\u001b[39;00m \u001b[38;5;167;01mException\u001b[39;00m:\n\u001b[0;32m   1122\u001b[0m     \u001b[38;5;28mself\u001b[39m\u001b[38;5;241m.\u001b[39mlog\u001b[38;5;241m.\u001b[39mwarning(\u001b[38;5;124m\"\u001b[39m\u001b[38;5;124mInvalid Message:\u001b[39m\u001b[38;5;124m\"\u001b[39m, exc_info\u001b[38;5;241m=\u001b[39m\u001b[38;5;28;01mTrue\u001b[39;00m)\n",
      "\u001b[1;31mKeyboardInterrupt\u001b[0m: Interrupted by user"
     ]
    }
   ],
   "source": [
    "# 백준 1021\n",
    "from collections import deque\n",
    "n, m = map(int, input().split()) # 원소의 개수, 뽑아내는 횟수\n",
    "d = deque([i for i in range(1, n + 1)]) # 1부터 N까지의 원소를 삽입\n",
    "targets = list(map(int, input().split())) # 뽑아낼 원소 목록\n",
    "\n",
    "cnt = 0 # 회전 연산 수행 횟수\n",
    "for target in targets: # 뽑아낼 원소를 하나씩 확인하며\n",
    "    \n",
    "    index = d.index(target) # 덱에서 해당 원소의 위치를 찾기\n",
    "    \n",
    "    if index <= len(d) // 2: # 왼쪽으로 돌리는 게 더 빠른 경우\n",
    "        for i in range(index): # 회전 연산 반복 수행\n",
    "            x = d.popleft()\n",
    "            d.append(x)\n",
    "            cnt += 1\n",
    "    else: # 오른쪽으로 돌리는 게 더 빠른 경우\n",
    "        for i in range(len(d) - index): # 회전 연산 반복 수행\n",
    "            x = d.pop()         # 맨 오른쪽 꺼내기\n",
    "            d.appendleft(x) # 맨 왼쪽에 삽입\n",
    "            cnt += 1\n",
    "            \n",
    "    d.popleft() # 원소 꺼내기\n",
    "    \n",
    "print(cnt) # 결과 출력"
   ]
  },
  {
   "cell_type": "code",
   "execution_count": 77,
   "id": "a8418200",
   "metadata": {},
   "outputs": [
    {
     "name": "stdout",
     "output_type": "stream",
     "text": [
      "7 3\n",
      "<3, 6, 2, 7, 5, 1, 4>\n"
     ]
    }
   ],
   "source": [
    "# 백준 11866\n",
    "from collections import deque\n",
    "\n",
    "test_case, k = list(map(int, input().split())) \n",
    "d = deque([i for i in range(1, test_case + 1)]) \n",
    "\n",
    "result = list()\n",
    "while d:\n",
    "    for _ in range(k-1):\n",
    "        x = d.popleft() # 맨 왼쪽 제거\n",
    "        d.append(x)\n",
    "    result.append(d.popleft())\n",
    "    \n",
    "print('<', end='')\n",
    "for i in range(len(result)):\n",
    "     if i < len(result) - 1:\n",
    "        print(result[i], end=', ')\n",
    "    else:\n",
    "        print(result[i], end='')\n",
    "print('>')"
   ]
  },
  {
   "cell_type": "code",
   "execution_count": 100,
   "id": "587399c8",
   "metadata": {},
   "outputs": [
    {
     "name": "stdout",
     "output_type": "stream",
     "text": [
      "5\n",
      "3 2 1 -3 -1\n"
     ]
    },
    {
     "ename": "IndexError",
     "evalue": "pop from an empty deque",
     "output_type": "error",
     "traceback": [
      "\u001b[1;31m---------------------------------------------------------------------------\u001b[0m",
      "\u001b[1;31mIndexError\u001b[0m                                Traceback (most recent call last)",
      "Input \u001b[1;32mIn [100]\u001b[0m, in \u001b[0;36m<cell line: 10>\u001b[1;34m()\u001b[0m\n\u001b[0;32m     12\u001b[0m count \u001b[38;5;241m=\u001b[39m d\u001b[38;5;241m.\u001b[39mpopleft()\n\u001b[0;32m     13\u001b[0m \u001b[38;5;28;01mfor\u001b[39;00m _ \u001b[38;5;129;01min\u001b[39;00m \u001b[38;5;28mrange\u001b[39m(n\u001b[38;5;241m-\u001b[39m\u001b[38;5;241m1\u001b[39m):\n\u001b[1;32m---> 14\u001b[0m     x \u001b[38;5;241m=\u001b[39m \u001b[43md\u001b[49m\u001b[38;5;241;43m.\u001b[39;49m\u001b[43mpopleft\u001b[49m\u001b[43m(\u001b[49m\u001b[43m)\u001b[49m \u001b[38;5;66;03m# 맨 왼쪽 제거\u001b[39;00m\n\u001b[0;32m     15\u001b[0m     d\u001b[38;5;241m.\u001b[39mappend(x)\n\u001b[0;32m     16\u001b[0m n \u001b[38;5;241m=\u001b[39m lst[count\u001b[38;5;241m-\u001b[39m\u001b[38;5;241m1\u001b[39m]\n",
      "\u001b[1;31mIndexError\u001b[0m: pop from an empty deque"
     ]
    }
   ],
   "source": [
    "# 백준 2346\n",
    "# 5\n",
    "# 3 2 1 -3 -1\n",
    "from collections import deque\n",
    "\n",
    "test_case = int(input())\n",
    "lst = list(map(int, input().split()))\n",
    "d = deque([(i for i in range(1, test_case + 1), n for n in lst)]) \n",
    "\n",
    "result = []\n",
    "while d:\n",
    "    if n > 0: # 양수인 경우 오른쪽\n",
    "        count = d.popleft()\n",
    "        for _ in range(n-1):\n",
    "            x = d.popleft() # 맨 왼쪽 제거\n",
    "            d.append(x)\n",
    "        n = lst[count-1]\n",
    "    else: # 음수인 경우 왼쪽\n",
    "        count = d.popleft()\n",
    "        for _ in range(abs(n)):\n",
    "            x = d.pop() # 맨 왼쪽 제거\n",
    "            d.appendleft(x)\n",
    "        n = lst[count-1]\n",
    "    result.append(count)\n",
    "for i in result:\n",
    "    print(i, end=' ')"
   ]
  },
  {
   "cell_type": "code",
   "execution_count": 101,
   "id": "727ce12f",
   "metadata": {},
   "outputs": [
    {
     "name": "stdout",
     "output_type": "stream",
     "text": [
      "5\n",
      "3 2 1 -3 -1\n",
      "1 4 5 3 2 "
     ]
    }
   ],
   "source": [
    "# 백준 2346\n",
    "from collections import deque\n",
    "\n",
    "n = int(input()) # 원소의 개수 N\n",
    "# 전체 원소 리스트\n",
    "arr = list(map(int, input().split()))\n",
    "d = deque() # 덱(deque) 초기화\n",
    "\n",
    "for i in range(n):\n",
    "    # (수, 번호) 형태로 원소를 삽입\n",
    "    d.append((arr[i], i + 1)) # (3, 1), (2, 2), (1, 3), (-3, 4), (-1, 5)\n",
    "    \n",
    "result = [] # 결과 배열\n",
    "current, index = d.popleft() # 처음 원소 추출 (3, 1),\n",
    "\n",
    "result.append(index) # 1\n",
    "\n",
    "for i in range(n - 1): # 원소를 모두 꺼내기\n",
    "    \n",
    "    if current > 0: # 양수라면\n",
    "        # current - 1번 \"왼쪽으로 돌리기\" 수행\n",
    "        for j in range(current - 1):\n",
    "            x = d.popleft()\n",
    "            d.append(x)\n",
    "            \n",
    "    else: # 음수라면 (0은 없음)\n",
    "        # |current|번 \"오른쪽으로 돌리기\" 수행\n",
    "        for j in range(-current):\n",
    "            x = d.pop()\n",
    "            d.appendleft(x)\n",
    "            \n",
    "    # 원소 추출\n",
    "    current, index = d.popleft() # (-3, 4), (-1 , 5)\n",
    "    result.append(index) # 4, 5\n",
    "\n",
    "for x in result: # 결과 출력\n",
    "    print(x, end=' ')"
   ]
  },
  {
   "cell_type": "code",
   "execution_count": 90,
   "id": "5dfdfcaf",
   "metadata": {},
   "outputs": [
    {
     "data": {
      "text/plain": [
       "2"
      ]
     },
     "execution_count": 90,
     "metadata": {},
     "output_type": "execute_result"
    }
   ],
   "source": [
    "# 백준 13335\n",
    "\n"
   ]
  },
  {
   "cell_type": "code",
   "execution_count": 109,
   "id": "d18fd641",
   "metadata": {},
   "outputs": [
    {
     "name": "stdout",
     "output_type": "stream",
     "text": [
      "4 4 3 3\n",
      "5 4 3 5\n",
      "5 5 2 4\n",
      "5 5 5 1\n",
      "4 4 4 4\n",
      "2 17\n"
     ]
    }
   ],
   "source": [
    "# 백준 2953\n",
    "# 5 4 4 5\n",
    "# 5 4 4 4\n",
    "# 5 5 4 4\n",
    "# 5 5 5 4\n",
    "# 4 4 4 5\n",
    "result = []\n",
    "for i in range(5):\n",
    "    n = list(map(int, input().split()))\n",
    "    n_sum = sum(n)\n",
    "    result.append((n_sum, i))\n",
    "    # if 현재까지 최대값 < 현재 행의 합:\n",
    "    #     최대값 = 현재 행의 합\n",
    "    #      result = i + 1\n",
    "result = sorted(result, reverse=True)\n",
    "print(result[0][1] + 1, result[0][0])"
   ]
  },
  {
   "cell_type": "code",
   "execution_count": 110,
   "id": "872976ef",
   "metadata": {
    "collapsed": true
   },
   "outputs": [
    {
     "name": "stdout",
     "output_type": "stream",
     "text": [
      "18\n",
      "1\n",
      "-1\n",
      "0\n",
      "-1\n",
      "0\n",
      "1\n",
      "0\n",
      "0\n",
      "1\n",
      "1\n",
      "-1\n",
      "-1\n",
      "2\n",
      "-2\n",
      "0\n",
      "-1\n",
      "0\n",
      "-1\n",
      "0\n",
      "1\n",
      "0\n",
      "1\n",
      "0\n",
      "-2\n",
      "0\n",
      "2\n",
      "0\n",
      "0\n"
     ]
    }
   ],
   "source": [
    "# 백준 11286\n",
    "import heapq # logn의 복잡도\n",
    "\n",
    "heap = []\n",
    "n = int(input()) # 연산의 개수 N\n",
    "\n",
    "for i in range(n): \n",
    "    x = int(input()) # 연산 정보\n",
    "    if x == 0:  # 삭제 연산이라면\n",
    "        if len(heap) == 0:  # 힙이 비어있는 경우\n",
    "            print(0)\n",
    "        else: # 힙이 비어있지 않은 경우\n",
    "            absolute, original = heapq.heappop(heap) # 작은 순위먼저 빠짐\n",
    "            print(original)\n",
    "    else: # 삽입 연산이라면\n",
    "        heapq.heappush(heap, (abs(x), x)) # 넣을때는 절대값과 원래의 값을 두개 다 넣음"
   ]
  },
  {
   "cell_type": "code",
   "execution_count": 137,
   "id": "e8dd9f35",
   "metadata": {},
   "outputs": [
    {
     "name": "stdout",
     "output_type": "stream",
     "text": [
      "1\n",
      "7\n",
      "I 16\n",
      "I -566\n",
      "D -1\n",
      "D 1\n",
      "D 1\n",
      "I 123\n",
      "D -1\n",
      "EMPTY\n"
     ]
    }
   ],
   "source": [
    "# 백준 7662\n",
    "\n",
    "import heapq\n",
    "\n",
    "def pop(heap):\n",
    "    while len(heap) > 0:\n",
    "        data, id = heapq.heappop(heap)\n",
    "        if not deleted[id]:\n",
    "            deleted[id] = True\n",
    "            return data\n",
    "    return None\n",
    "\n",
    "test_case = int(input())\n",
    "for _ in range(test_case):\n",
    "    heap = []          # 최소값 힙\n",
    "    max_heap = [] # 최대값 힙\n",
    "    current = 0\n",
    "    \n",
    "    test_case_2 = int(input())\n",
    "    deleted = [False] * (test_case_2 + 1)\n",
    "    \n",
    "    for _ in range(test_case_2):\n",
    "        k, n = list(map(str, input().split()))\n",
    "        n = int(n)\n",
    "        \n",
    "        if k == 'I':\n",
    "            heapq.heappush(heap, (n, current)) # 최소값 힙\n",
    "            heapq.heappush(max_heap, (-n, current)) # 최대값 힙\n",
    "            current += 1\n",
    "        elif k == 'D':\n",
    "            # 최대값 제거\n",
    "            if n == 1:\n",
    "                pop(max_heap) # 최대값 제거\n",
    "            elif n == -1:\n",
    "                pop(heap) # 최솟값 제거\n",
    "    \n",
    "    max_value = pop(max_heap)\n",
    "    if max_value == None:\n",
    "        print('EMPTY')\n",
    "    else:\n",
    "        heapq.heappush(heap, (-max_value, current))\n",
    "        print(-max_value, pop(heap))"
   ]
  },
  {
   "cell_type": "code",
   "execution_count": 130,
   "id": "884eb4b1",
   "metadata": {},
   "outputs": [
    {
     "name": "stdout",
     "output_type": "stream",
     "text": [
      "[-5, 2, -1, -2, 1, 5]\n"
     ]
    }
   ],
   "source": [
    "import heapq\n",
    "\n",
    "heap = []\n",
    "\n",
    "heapq.heappush(heap, (1))\n",
    "heapq.heappush(heap, (-2))\n",
    "heapq.heappush(heap, (5))\n",
    "max_heap = []\n",
    "\n",
    "for item in heap:\n",
    "    heapq.heappush(max_heap, (-item))\n",
    "\n",
    "print(max_heap + heap)"
   ]
  },
  {
   "cell_type": "code",
   "execution_count": null,
   "id": "c5095feb",
   "metadata": {},
   "outputs": [],
   "source": [
    "# 백준 2014"
   ]
  },
  {
   "cell_type": "code",
   "execution_count": null,
   "id": "3d9a58fc",
   "metadata": {},
   "outputs": [],
   "source": [
    "# 백준 20040 (Union-Find 알고리즘 사용)"
   ]
  },
  {
   "cell_type": "code",
   "execution_count": null,
   "id": "6ce8d9fd",
   "metadata": {},
   "outputs": [],
   "source": [
    "# 백준 11724 (Union-Find 알고리즘 사용)\n",
    "\n",
    "# 특정 원소가 속한 집합을 찾기\n",
    "def find_parent(parent, x):\n",
    "    # 루트 노드가 아니라면\n",
    "    if parent[x] != x:\n",
    "        # 루트 노드를 찾을 때까지 재귀적으로 호출\n",
    "        parent[x] = find_parent(parent, parent[x])\n",
    "    return parent[x]\n",
    "\n",
    "# 두 원소가 속한 집합을 합치기\n",
    "def union_parent(parent, a, b):\n",
    "    a = find_parent(parent, a)\n",
    "    b = find_parent(parent, b)\n",
    "    if a < b:\n",
    "        parent[b] = a\n",
    "    else:\n",
    "        parent[a] = b\n",
    "        \n",
    "# 정점의 개수 N과 간선의 개수 M\n",
    "n, m = map(int, input().split())\n",
    "parent = [0] * (n + 1) # 부모 테이블 초기화하기\n",
    "\n",
    "# 부모 테이블상에서, 부모를 자기 자신으로 초기화\n",
    "for i in range(1, n + 1):\n",
    "    parent[i] = i\n",
    "    \n",
    "for i in range(m): # M은 합치기(union) 연산의 수와 동일\n",
    "    a, b = map(int, input().split())\n",
    "    union_parent(parent, a, b) # a와 b를 연결하기\n",
    "    counter = set() # 고유한 집합의 수\n",
    "    \n",
    "for i in range(1, n + 1):\n",
    "    # 고유한 집합 번호를 집합에 추가\n",
    "    counter.add(find_parent(parent, i))\n",
    "    \n",
    "# 고유한 집합의 수 출력\n",
    "print(len(counter))"
   ]
  },
  {
   "cell_type": "code",
   "execution_count": 46,
   "id": "a6ee515f",
   "metadata": {
    "scrolled": true
   },
   "outputs": [
    {
     "name": "stdout",
     "output_type": "stream",
     "text": [
      "baekjoon\n",
      "1 0 -1 -1 2 -1 -1 -1 -1 4 3 -1 -1 7 5 -1 -1 -1 -1 -1 -1 -1 -1 -1 -1 -1 "
     ]
    }
   ],
   "source": [
    "# 백준 10809\n",
    "\n",
    "import string\n",
    "\n",
    "str1 = list(string.ascii_lowercase)\n",
    "lst = [i for i in range(len(str1))]\n",
    "\n",
    "dic = {}\n",
    "dic_result = {}\n",
    "for i in range(len(str1)):\n",
    "    d2 = {str1[i]:lst[i]}\n",
    "    d3 = {str1[i]:[-1, False]}\n",
    "    dic.update(d2)\n",
    "    dic_result.update(d3)\n",
    "\n",
    "str2 = input()\n",
    "\n",
    "for i, index in enumerate(str2):\n",
    "    for j in dic_result.keys():\n",
    "        if index == j and not dic_result[index][1]:\n",
    "            dic_result[index][0] = i\n",
    "            dic_result[index][1] = True\n",
    "\n",
    "for i in dic_result.values():\n",
    "    print(i[0], end=' ')"
   ]
  },
  {
   "cell_type": "code",
   "execution_count": 68,
   "id": "dcf3435b",
   "metadata": {
    "scrolled": true
   },
   "outputs": [
    {
     "name": "stdout",
     "output_type": "stream",
     "text": [
      "3 2 3\n",
      "5\n"
     ]
    }
   ],
   "source": [
    "# 백준 1233\n",
    "\n",
    "S1, S2, S3 = map(int, input().split())\n",
    "result = {}\n",
    "\n",
    "for i in range(1, S1+1):\n",
    "    for j in range(1, S2+1):\n",
    "        for z in range(1, S3+1):\n",
    "            summary = i + j + z # 눈금의 합\n",
    "            # 각 합의 등장 횟수 \"카운트\"\n",
    "            if summary not in result:\n",
    "                result[summary] = 1\n",
    "            else:\n",
    "                result[summary] += 1\n",
    "\n",
    "# value를 기준으로 내림차순\n",
    "result = sorted(result.items(), key=lambda x: x[1], reverse=True)\n",
    "print(result[0][0])"
   ]
  },
  {
   "cell_type": "code",
   "execution_count": 124,
   "id": "59fcd08d",
   "metadata": {},
   "outputs": [
    {
     "name": "stdout",
     "output_type": "stream",
     "text": [
      "1\n",
      "23\n",
      "23 41 13 22 -3 24 -31 -11 -8 -7\n",
      "3 5 103 211 -311 -45 -67 -73 -81 -99\n",
      "-33 24 56\n",
      "12\n",
      "23 23 22 22 13 3 5 5 3 -3 \n",
      "-7 -3 \n"
     ]
    }
   ],
   "source": [
    "# 백준 1374\n",
    "\n",
    "import heapq \n",
    "\n",
    "test_case = int(input())\n",
    "for _ in range(test_case):\n",
    "    n = int(input())\n",
    "    lst_1 = []\n",
    "    for _ in range(n // 10 + 1):\n",
    "        lst = list(map(int, input().split()))\n",
    "        lst_1.extend(lst)\n",
    "    result_1 = []\n",
    "    result = []\n",
    "    for i, j in enumerate(lst_1):\n",
    "        result_2 = []\n",
    "        i += 1\n",
    "        if i % 2 != 0:\n",
    "            heapq.heappush(result_1, j)\n",
    "            for _ in range(i // 2):\n",
    "                result_2.append(heapq.heappop(result_1))\n",
    "            result.append(result_1[0])\n",
    "            for k in result_2:\n",
    "                heapq.heappush(result_1, k)\n",
    "        else:\n",
    "            heapq.heappush(result_1, j)\n",
    "            \n",
    "    len1 = len(result)       \n",
    "    print(len1)\n",
    "    for _ in range(len1 // 10 + 1):\n",
    "        for i in result[:10]:\n",
    "            print(i, end=' ')\n",
    "        print()\n",
    "        result = result[10:]"
   ]
  },
  {
   "cell_type": "code",
   "execution_count": 119,
   "id": "7c6b6868",
   "metadata": {
    "scrolled": true
   },
   "outputs": [
    {
     "name": "stdout",
     "output_type": "stream",
     "text": [
      "[23, 23, 22, 22, 13, 3, 5, 5, 3, -3]\n",
      "[-7, -3, 3, 3, 3, 3, 3, 3, 3, 3]\n",
      "[3, 3, 3, 3, 3]\n"
     ]
    }
   ],
   "source": [
    "asd = [23, 23, 22, 22, 13, 3, 5, 5, 3, -3, -7, -3, 3, 3, 3, 3, 3, 3, 3, 3, 3, 3, 3, 3, 3]\n",
    "len1 = len(asd)\n",
    "for _ in range(len1 // 10 + 1):\n",
    "    print(asd[:10])\n",
    "    asd = asd[10:]"
   ]
  },
  {
   "cell_type": "code",
   "execution_count": 165,
   "id": "f743c74c",
   "metadata": {
    "collapsed": true
   },
   "outputs": [
    {
     "name": "stdout",
     "output_type": "stream",
     "text": [
      "5\n",
      "5\n",
      "2\n",
      "3\n",
      "4\n",
      "1\n",
      "1\n",
      "2\n",
      "3\n",
      "4\n",
      "5\n"
     ]
    }
   ],
   "source": [
    "# 백준 2750\n",
    "\n",
    "def pivot(data):\n",
    "    if len(data) <= 1:\n",
    "        return data\n",
    "    \n",
    "    piv = data[0]\n",
    "    left = [ item for item in data[1:] if piv > item]\n",
    "    right = [ item for item in data[1:] if piv <= item]\n",
    "    \n",
    "    return pivot(left) + [piv] + pivot(right)\n",
    "\n",
    "test_case = int(input())\n",
    "lst = [] \n",
    "for _ in range(test_case):\n",
    "    lst.append(int(input()))\n",
    "\n",
    "for i in pivot(lst):\n",
    "    print(i)"
   ]
  },
  {
   "cell_type": "code",
   "execution_count": 166,
   "id": "1326df94",
   "metadata": {
    "collapsed": true
   },
   "outputs": [
    {
     "name": "stdout",
     "output_type": "stream",
     "text": [
      "5\n",
      "5\n",
      "2\n",
      "3\n",
      "4\n",
      "1\n",
      "1\n",
      "2\n",
      "3\n",
      "4\n",
      "5\n"
     ]
    }
   ],
   "source": [
    "# 삽입 정렬\n",
    "\n",
    "test_case = int(input())\n",
    "lst = [] \n",
    "for _ in range(test_case):\n",
    "    lst.append(int(input()))\n",
    "    \n",
    "for i in range(len(lst)-1):\n",
    "    for j in range(i+1, 0, -1):\n",
    "        if lst[j - 1] > lst[j]:\n",
    "            lst[j-1], lst[j] = lst[j], lst[j-1]\n",
    "        else:\n",
    "            break\n",
    "for i in lst:\n",
    "    print(i)"
   ]
  },
  {
   "cell_type": "code",
   "execution_count": 173,
   "id": "bf11687c",
   "metadata": {},
   "outputs": [
    {
     "name": "stdout",
     "output_type": "stream",
     "text": [
      "4231\n",
      "4321\n"
     ]
    }
   ],
   "source": [
    "# 백준 1427\n",
    "\n",
    "n = input()\n",
    "lst = [i for i in n]\n",
    "\n",
    "lst = sorted(lst, reverse=True)\n",
    "str1 = ''.join(lst)\n",
    "print(str1)"
   ]
  },
  {
   "cell_type": "code",
   "execution_count": 34,
   "id": "58fa3b41",
   "metadata": {},
   "outputs": [
    {
     "name": "stdout",
     "output_type": "stream",
     "text": [
      "3\n",
      "21 Junkyu\n",
      "21 Dohyun\n",
      "20 Sunyoung\n",
      "[(20, 'Sunyoung'), (21, 'Junkyu'), (21, 'Dohyun')]\n",
      "20 Sunyoung\n",
      "21 Junkyu\n",
      "21 Dohyun\n"
     ]
    }
   ],
   "source": [
    "# 백준 10814\n",
    "\n",
    "test_case = int(input())\n",
    "lst = []\n",
    "for _ in range(test_case):\n",
    "    input_data = input().split(' ')\n",
    "    lst.append((int(input_data[0]), input_data[1]))\n",
    "    \n",
    "lst = sorted(lst, key=lambda x:x[0]) # 여기서는 정렬 기준을 x[0]으로 잡고 정렬\n",
    "\n",
    "for i in lst:\n",
    "    print(i[0], i[1])"
   ]
  },
  {
   "cell_type": "code",
   "execution_count": 39,
   "id": "0cde32b7",
   "metadata": {},
   "outputs": [
    {
     "name": "stdout",
     "output_type": "stream",
     "text": [
      "5\n",
      "3 4\n",
      "1 1\n",
      "1 -1\n",
      "2 2\n",
      "3 3\n",
      "1 -1\n",
      "1 1\n",
      "2 2\n",
      "3 3\n",
      "3 4\n"
     ]
    }
   ],
   "source": [
    "# 백준 11650\n",
    "\n",
    "test_case = int(input())\n",
    "lst = []\n",
    "for _ in range(test_case):\n",
    "    input_data = input().split(' ')\n",
    "    lst.append((int(input_data[0]), int(input_data[1])))\n",
    "\n",
    "lst.sort()\n",
    "\n",
    "for i in lst:\n",
    "    print(i[0], i[1])"
   ]
  },
  {
   "cell_type": "code",
   "execution_count": 43,
   "id": "bc2a5b67",
   "metadata": {},
   "outputs": [
    {
     "ename": "ValueError",
     "evalue": "invalid literal for int() with base 10: ''",
     "output_type": "error",
     "traceback": [
      "\u001b[1;31m---------------------------------------------------------------------------\u001b[0m",
      "\u001b[1;31mValueError\u001b[0m                                Traceback (most recent call last)",
      "Input \u001b[1;32mIn [43]\u001b[0m, in \u001b[0;36m<cell line: 4>\u001b[1;34m()\u001b[0m\n\u001b[0;32m      1\u001b[0m \u001b[38;5;66;03m# 백준 10989 (계수정렬 알고리즘 사용)\u001b[39;00m\n\u001b[0;32m      2\u001b[0m \u001b[38;5;28;01mimport\u001b[39;00m \u001b[38;5;21;01msys\u001b[39;00m\n\u001b[1;32m----> 4\u001b[0m n \u001b[38;5;241m=\u001b[39m \u001b[38;5;28;43mint\u001b[39;49m\u001b[43m(\u001b[49m\u001b[43msys\u001b[49m\u001b[38;5;241;43m.\u001b[39;49m\u001b[43mstdin\u001b[49m\u001b[38;5;241;43m.\u001b[39;49m\u001b[43mreadline\u001b[49m\u001b[43m(\u001b[49m\u001b[43m)\u001b[49m\u001b[43m)\u001b[49m\n\u001b[0;32m      5\u001b[0m array \u001b[38;5;241m=\u001b[39m [\u001b[38;5;241m0\u001b[39m] \u001b[38;5;241m*\u001b[39m \u001b[38;5;241m10001\u001b[39m\n\u001b[0;32m      7\u001b[0m \u001b[38;5;28;01mfor\u001b[39;00m i \u001b[38;5;129;01min\u001b[39;00m \u001b[38;5;28mrange\u001b[39m(n):\n",
      "\u001b[1;31mValueError\u001b[0m: invalid literal for int() with base 10: ''"
     ]
    }
   ],
   "source": [
    "# 백준 10989 (계수정렬 알고리즘 사용)\n",
    "import sys\n",
    "\n",
    "n = int(sys.stdin.readline())\n",
    "array = [0] * 10001\n",
    "\n",
    "for i in range(n):\n",
    "    data = int(sys.stdin.readline())\n",
    "    array[data] += 1\n",
    "    \n",
    "for i in range(10001):\n",
    "    if array[i] != 0:\n",
    "        for j in range(array[i]):\n",
    "            print(i)"
   ]
  },
  {
   "cell_type": "code",
   "execution_count": 56,
   "id": "0834b2b3",
   "metadata": {},
   "outputs": [
    {
     "name": "stdout",
     "output_type": "stream",
     "text": [
      "17\n",
      "1597\n"
     ]
    }
   ],
   "source": [
    "# 백준 2747\n",
    "lst = [0] * 46\n",
    "lst[0] = 0\n",
    "lst[1] = 1\n",
    "\n",
    "n = int(input())\n",
    "\n",
    "for i in range(2, n+1):\n",
    "    lst[i] = lst[i-2] + lst[i-1]\n",
    "print(lst[n])"
   ]
  },
  {
   "cell_type": "code",
   "execution_count": 57,
   "id": "3c70ba8d",
   "metadata": {},
   "outputs": [
    {
     "name": "stdout",
     "output_type": "stream",
     "text": [
      "10\n",
      "55\n"
     ]
    }
   ],
   "source": [
    "n = int(input())\n",
    "a, b = 0, 1\n",
    "\n",
    "while n > 0:\n",
    "    a, b = b, a + b\n",
    "    n -= 1\n",
    "print(a)"
   ]
  },
  {
   "cell_type": "code",
   "execution_count": null,
   "id": "ad5aab73",
   "metadata": {},
   "outputs": [],
   "source": [
    "# 백준 2747\n"
   ]
  },
  {
   "cell_type": "code",
   "execution_count": null,
   "id": "e27a7d78",
   "metadata": {},
   "outputs": [],
   "source": [
    "# 백준 7490\n",
    "\n"
   ]
  },
  {
   "cell_type": "code",
   "execution_count": 59,
   "id": "c576a433",
   "metadata": {},
   "outputs": [
    {
     "data": {
      "text/plain": [
       "[[1, 2, 3], [1, 2, 3]]"
      ]
     },
     "execution_count": 59,
     "metadata": {},
     "output_type": "execute_result"
    }
   ],
   "source": [
    "import copy\n",
    "\n",
    "lst = []\n",
    "lst_1 = [1, 2, 3]\n",
    "lst.append(copy.deepcopy(lst_1))\n",
    "lst.append(lst_1)\n",
    "lst"
   ]
  },
  {
   "cell_type": "code",
   "execution_count": 67,
   "id": "22740820",
   "metadata": {
    "collapsed": true
   },
   "outputs": [
    {
     "name": "stdout",
     "output_type": "stream",
     "text": [
      "5\n",
      "5\n",
      "4\n",
      "3\n",
      "2\n",
      "1\n",
      "1\n",
      "2\n",
      "3\n",
      "4\n",
      "5\n"
     ]
    }
   ],
   "source": [
    "# 백준 2751\n",
    "\n",
    "test_case = int(input())\n",
    "lst = []\n",
    "\n",
    "for _ in range(test_case):\n",
    "    lst.append(int(input()))\n",
    "\n",
    "lst = sorted(lst)    \n",
    "    \n",
    "for i in lst:\n",
    "    print(i)"
   ]
  },
  {
   "cell_type": "code",
   "execution_count": 68,
   "id": "ca82931b",
   "metadata": {
    "collapsed": true
   },
   "outputs": [
    {
     "name": "stdout",
     "output_type": "stream",
     "text": [
      "5\n",
      "5\n",
      "4\n",
      "3\n",
      "2\n",
      "1\n",
      "1\n",
      "2\n",
      "3\n",
      "4\n",
      "5\n"
     ]
    }
   ],
   "source": [
    "# 백준 2751 (힙 정렬)\n",
    "import heapq\n",
    "\n",
    "test_case = int(input())\n",
    "lst = []\n",
    "\n",
    "for _ in range(test_case):\n",
    "    heapq.heappush(lst,int(input()))\n",
    "    \n",
    "for i in range(test_case):\n",
    "    print(heapq.heappop(lst))"
   ]
  },
  {
   "cell_type": "code",
   "execution_count": null,
   "id": "decfeb60",
   "metadata": {},
   "outputs": [],
   "source": [
    "# 백준 2751 (병합 정렬)\n"
   ]
  },
  {
   "cell_type": "code",
   "execution_count": 77,
   "id": "1c8260ba",
   "metadata": {},
   "outputs": [
    {
     "name": "stdout",
     "output_type": "stream",
     "text": [
      "5 2\n",
      "4 1 2 3 5\n",
      "2\n"
     ]
    }
   ],
   "source": [
    "# 백준 11004\n",
    "import heapq\n",
    "\n",
    "test_case, m = map(int, input().split())\n",
    "lst = list(map(int, input().split()))\n",
    "result = []\n",
    "for i in lst:\n",
    "    heapq.heappush(result, i)\n",
    "lst = []\n",
    "for i in range(test_case):\n",
    "    lst.append(heapq.heappop(result))\n",
    "print(lst[m-1])"
   ]
  },
  {
   "cell_type": "code",
   "execution_count": 79,
   "id": "0f6216e8",
   "metadata": {},
   "outputs": [
    {
     "name": "stdout",
     "output_type": "stream",
     "text": [
      "ababababa\n",
      "aba\n",
      "2\n"
     ]
    }
   ],
   "source": [
    "# 백준 1543\n",
    "\n",
    "document = input()\n",
    "word = input()\n",
    "\n",
    "index = 0\n",
    "result = 0\n",
    "\n",
    "while len(document) - index >= len(word):\n",
    "    if document[index:index + len(word)] == word: # 찾은 경우라면 word의 길이만큼 이동\n",
    "        result += 1\n",
    "        index += len(word)\n",
    "    else: # 찾은 경우가 아니라면 한칸 증가\n",
    "        index +=1\n",
    "\n",
    "print(result)"
   ]
  },
  {
   "cell_type": "code",
   "execution_count": 98,
   "id": "f51b04d7",
   "metadata": {},
   "outputs": [
    {
     "name": "stdout",
     "output_type": "stream",
     "text": [
      "100\n",
      "18\n"
     ]
    }
   ],
   "source": [
    "# 백준 1568\n",
    "\n",
    "n = int(input())\n",
    "k = 1\n",
    "result = 0\n",
    "while n > 0:\n",
    "    if k <=  n:\n",
    "        n -= k\n",
    "    else:\n",
    "        n -= 1\n",
    "        k = 1\n",
    "    result += 1\n",
    "    k +=1\n",
    "print(result)"
   ]
  },
  {
   "cell_type": "code",
   "execution_count": 99,
   "id": "d806e4f9",
   "metadata": {},
   "outputs": [
    {
     "name": "stdout",
     "output_type": "stream",
     "text": [
      "100\n",
      "18\n"
     ]
    }
   ],
   "source": [
    "# 백준 1568\n",
    "\n",
    "n = int(input())\n",
    "k = 1\n",
    "result = 0\n",
    "while n > 0:\n",
    "    if k >  n:\n",
    "        k = 1\n",
    "    n -= k\n",
    "    result += 1\n",
    "    k +=1\n",
    "print(result)"
   ]
  },
  {
   "cell_type": "code",
   "execution_count": null,
   "id": "aa188ded",
   "metadata": {},
   "outputs": [],
   "source": []
  },
  {
   "cell_type": "code",
   "execution_count": 129,
   "id": "14211160",
   "metadata": {},
   "outputs": [
    {
     "name": "stdout",
     "output_type": "stream",
     "text": [
      "5\n",
      "top\n",
      "top\n",
      "top\n",
      "op\n",
      "top\n",
      "top\n"
     ]
    }
   ],
   "source": [
    "# 백준 1302\n",
    "\n",
    "test_case = int(input())\n",
    "dic = {}\n",
    "\n",
    "for _ in range(test_case):\n",
    "    book = input()\n",
    "    if book not in dic:\n",
    "        dic[book] = 1\n",
    "    else:\n",
    "        dic[book] += 1\n",
    "\n",
    "dic = sorted(dic.items(), key=lambda x: x[1], reverse=True)\n",
    "max_ = dic[0][1]\n",
    "# max_ = max(dic.values())\n",
    "result = []\n",
    "\n",
    "for i in range(len(dic)):\n",
    "    if dic[i][1] == max_:\n",
    "        result.append(dic[i][0])\n",
    "\n",
    "print(sorted(result)[0])"
   ]
  },
  {
   "cell_type": "code",
   "execution_count": 132,
   "id": "ad2def1b",
   "metadata": {},
   "outputs": [
    {
     "name": "stdout",
     "output_type": "stream",
     "text": [
      "asd 1\n",
      "qwe 2\n",
      "zxc 3\n"
     ]
    }
   ],
   "source": [
    "doc = {'asd':1, 'qwe':2, 'zxc':3}\n",
    "\n",
    "for book, number in doc.items():\n",
    "    print(book, number)"
   ]
  },
  {
   "cell_type": "code",
   "execution_count": 157,
   "id": "566ceff3",
   "metadata": {
    "collapsed": true
   },
   "outputs": [
    {
     "name": "stdout",
     "output_type": "stream",
     "text": [
      "7\n",
      "1\n",
      "4\n",
      "2\n",
      "5\n",
      "3\n",
      "7\n",
      "1\n",
      "4\n",
      "2\n"
     ]
    }
   ],
   "source": [
    "## 백준 1668\n",
    "\n",
    "def check(data):\n",
    "    count = 1\n",
    "    max_ = data[0]\n",
    "    for i in range(1, len(data)):\n",
    "        if data[i] > max_:\n",
    "            max_ = data[i]\n",
    "            count += 1\n",
    "    return count\n",
    "\n",
    "test_case = int(input())\n",
    "lst = []\n",
    "\n",
    "for _ in range(test_case):\n",
    "    lst.append(int(input()))\n",
    "    \n",
    "print(check(lst))\n",
    "lst.reverse()\n",
    "print(check(lst))"
   ]
  },
  {
   "cell_type": "code",
   "execution_count": 176,
   "id": "1b1841a9",
   "metadata": {},
   "outputs": [
    {
     "name": "stdout",
     "output_type": "stream",
     "text": [
      "4 4\n",
      "....\n",
      "....\n",
      "....\n",
      "....\n",
      "4\n"
     ]
    }
   ],
   "source": [
    "# 백준 1236\n",
    "\n",
    "n, m = map(int, input().split())\n",
    "rst = []\n",
    "\n",
    "for _ in range(n):\n",
    "    rst.append(input())\n",
    "    \n",
    "row = [0] * n\n",
    "column = [0] * m\n",
    "\n",
    "for i in range(n):\n",
    "    for j in range(m):\n",
    "        if rst[i][j] == 'X':\n",
    "            row[i] = 1\n",
    "            column[j] = 1\n",
    "\n",
    "row_count = 0\n",
    "for i in range(n):\n",
    "    if row[i] == 0:\n",
    "        row_count += 1\n",
    "        \n",
    "column_count = 0\n",
    "for j in range(m):\n",
    "    if column[j] == 0:\n",
    "        column_count += 1\n",
    "\n",
    "print(max(row_count, column_count))"
   ]
  },
  {
   "cell_type": "code",
   "execution_count": null,
   "id": "28a8ce22",
   "metadata": {},
   "outputs": [],
   "source": [
    "# 백준 2110 (이진 탐색)\n",
    "\n"
   ]
  },
  {
   "cell_type": "code",
   "execution_count": null,
   "id": "4027424c",
   "metadata": {},
   "outputs": [],
   "source": [
    "# 백준 1991(트리 구현)\n",
    "\n",
    "class Node: # 노드 클래스 정의\n",
    "    def __init__(self, data, left_node, right_node):\n",
    "        self.data = data\n",
    "        self.left_node = left_node\n",
    "        self.right_node = right_node\n",
    "        \n",
    "def pre_order(node): # 전위 순회\n",
    "    print(node.data, end='')\n",
    "    if node.left_node != '.':\n",
    "        pre_order(tree[node.left_node])\n",
    "    if node.right_node != '.':\n",
    "        pre_order(tree[node.right_node])\n",
    "        \n",
    "def in_order(node): # 중위 순회\n",
    "    if node.left_node != '.':\n",
    "        in_order(tree[node.left_node])\n",
    "    print(node.data, end='')\n",
    "    if node.right_node != '.':\n",
    "        in_order(tree[node.right_node])\n",
    "        \n",
    "def post_order(node): # 후위 순회\n",
    "    if node.left_node != '.':\n",
    "        post_order(tree[node.left_node])\n",
    "    if node.right_node != '.':\n",
    "        post_order(tree[node.right_node])\n",
    "    print(node.data, end='')\n",
    "    \n",
    "n = int(input())\n",
    "tree = {}\n",
    "\n",
    "for i in range(n):\n",
    "    data, left_node, right_node = input().split()\n",
    "    tree[data] = Node(data, left_node, right_node) # 노드에 데이터 삽입\n",
    "    \n",
    "pre_order(tree['A'])\n",
    "print()\n",
    "in_order(tree['A'])\n",
    "print()\n",
    "post_order(tree['A'])"
   ]
  },
  {
   "cell_type": "code",
   "execution_count": 8,
   "id": "f6dc63d3",
   "metadata": {},
   "outputs": [
    {
     "name": "stdout",
     "output_type": "stream",
     "text": [
      "3\n",
      "1 2 3\n",
      "2 4 6\n",
      "3 5 7\n",
      "{'1': <__main__.Node object at 0x000001F85D39E760>, '2': <__main__.Node object at 0x000001F85E67BA00>, '3': <__main__.Node object at 0x000001F85E4B7760>}\n"
     ]
    }
   ],
   "source": [
    "# 백준 2250\n",
    "\n",
    "class Node:\n",
    "    def __init__(self, data, left_node, right_node):\n",
    "        self.parent = -1 # parent가 없으면 root노드 느낌으로 문제 풀이 \n",
    "        self.data = data\n",
    "        self.left_node = left_node\n",
    "        self.right_node = right_node\n",
    "\n",
    "n = int(input())\n",
    "tree = {}\n",
    "for i in range(n):\n",
    "    data, left_node, right_node = input().split()\n",
    "    tree[data] = Node(data, left_node, right_node) # 노드에 데이터 삽입\n",
    "\n",
    "print(tree)"
   ]
  },
  {
   "cell_type": "code",
   "execution_count": 10,
   "id": "ee801bfc",
   "metadata": {
    "scrolled": true
   },
   "outputs": [
    {
     "name": "stdout",
     "output_type": "stream",
     "text": [
      "9\n",
      "0\n",
      "0\n",
      "1234\n",
      "1\n",
      "2\n",
      "0\n",
      "1\n",
      "0\n",
      "2\n",
      "0\n",
      "1234\n",
      "0\n",
      "0\n",
      "32\n"
     ]
    }
   ],
   "source": [
    "# 백준 1927\n",
    "\n",
    "import heapq\n",
    "# import sys\n",
    "# input = sys.stdin.readline 안하면 시간초과\n",
    "\n",
    "test_case = int(input())\n",
    "result = []\n",
    "\n",
    "for _ in range(test_case):\n",
    "    n = int(input())\n",
    "\n",
    "    if n == 0:\n",
    "        if result:\n",
    "            print(heapq.heappop(result))\n",
    "        else:\n",
    "            print(0)\n",
    "    else:\n",
    "        heapq.heappush(result, n)"
   ]
  },
  {
   "cell_type": "code",
   "execution_count": 18,
   "id": "8dc77a47",
   "metadata": {},
   "outputs": [
    {
     "name": "stdout",
     "output_type": "stream",
     "text": [
      "4\n",
      "10\n",
      "50\n",
      "55\n",
      "57\n",
      "344\n"
     ]
    }
   ],
   "source": [
    "## 백준 1715\n",
    "\n",
    "import heapq\n",
    "\n",
    "test_case = int(input())\n",
    "result = []\n",
    "\n",
    "for _ in range(test_case):\n",
    "    n = int(input())\n",
    "    heapq.heappush(result, n)\n",
    "    \n",
    "result_sum = 0\n",
    "\n",
    "while len(result) != 1: # 그냥 while result: 로 하면 1개만 들어있을 때 에러 발생, 1개만 남을때까지 반복\n",
    "    n_1 = heapq.heappop(result)\n",
    "    n_2 = heapq.heappop(result)\n",
    "    sum_value = n_1 + n_2\n",
    "    result_sum += sum_value\n",
    "    heapq.heappush(result, sum_value)\n",
    "        \n",
    "print(result_sum)"
   ]
  },
  {
   "cell_type": "code",
   "execution_count": 19,
   "id": "cab17c8d",
   "metadata": {},
   "outputs": [
    {
     "name": "stdout",
     "output_type": "stream",
     "text": [
      "4 2\n",
      "4 2\n",
      "3 1\n",
      "[[], [], [], [1], [2]]\n",
      "3 1 4 2 "
     ]
    }
   ],
   "source": [
    "# 백준 1766(위상 정렬 알고리즘 사용)\n",
    "\n",
    "import heapq\n",
    "\n",
    "n, m = map(int, input().split())\n",
    "array = [[] for i in range(n + 1)]\n",
    "indegree = [0] * (n + 1)\n",
    "heap = []\n",
    "result = []\n",
    "\n",
    "for _ in range(m): # 입력을 받아 x에 연결된 y를 append\n",
    "    x, y = map(int, input().split())\n",
    "    array[x].append(y) # ex 4 2 array[4] = 2 -> 2에대해  간선 추가, 4 -> 2\n",
    "    indegree[y] += 1 # 간선이 있으면 +=1\n",
    "    \n",
    "for i in range(1, n + 1):\n",
    "    if indegree[i] == 0: # 간선이 없으면 heappush실행, \n",
    "        heapq.heappush(heap, i)\n",
    "print(array)\n",
    "result = []\n",
    "while heap:\n",
    "    data = heapq.heappop(heap) # 맨 처음 값을 pop\n",
    "    result.append(data) # 결과 리스트에 삽입\n",
    "    for y in array[data]: # ex array[3] 에서 1이 나오고\n",
    "        indegree[y] -= 1 # 간선을 제거\n",
    "        if indegree[y] == 0: # 간선이 제거되면 heap에 추가\n",
    "            heapq.heappush(heap, y)\n",
    "            \n",
    "for i in result:\n",
    "    print(i, end=' ')"
   ]
  },
  {
   "cell_type": "code",
   "execution_count": 22,
   "id": "76fc7115",
   "metadata": {},
   "outputs": [
    {
     "name": "stdout",
     "output_type": "stream",
     "text": [
      "6\n",
      "10 20 10 30 20 50\n",
      "4\n"
     ]
    }
   ],
   "source": [
    "# 백준 11053\n",
    "\n",
    "n = int(input())\n",
    "array = list(map(int, input().split()))\n",
    "dp = [1] * n\n",
    "for i in range(1, n):\n",
    "    for j in range(0, i):\n",
    "        if array[j] < array[i]:\n",
    "            dp[i] = max(dp[i], dp[j] + 1)\n",
    "\n",
    "print(max(dp))"
   ]
  },
  {
   "cell_type": "code",
   "execution_count": 4,
   "id": "89a35cf2",
   "metadata": {},
   "outputs": [
    {
     "name": "stdout",
     "output_type": "stream",
     "text": [
      "4 5 1\n",
      "1 2\n",
      "1 3\n",
      "1 4\n",
      "2 4\n",
      "3 4\n",
      "1 2 4 3 \n",
      "1 2 3 4 "
     ]
    }
   ],
   "source": [
    "# 백준 1260\n",
    "from collections import deque\n",
    "\n",
    "def dfs(v):\n",
    "    print(v, end=' ')\n",
    "    visited[v] = True\n",
    "    for e in adj[v]:\n",
    "        if not(visited[e]):\n",
    "            dfs(e)\n",
    "\n",
    "def bfs(v):\n",
    "    q = deque([v])\n",
    "    while q:\n",
    "        v = q.popleft()\n",
    "        if not(visited[v]):\n",
    "            visited[v] = True\n",
    "            print(v, end=' ')\n",
    "            for e in adj[v]:\n",
    "                if not visited[e]:\n",
    "                    q.append(e)\n",
    "    \n",
    "n, m, v = map(int, input().split()) # 노드갯수, 간선, 시작점\n",
    "adj = [[] for _ in range(n + 1)]\n",
    "    \n",
    "for _ in range(m):\n",
    "    x, y = map(int, input().split()) # 시작점, 연결된 점\n",
    "    adj[x].append(y)\n",
    "    adj[y].append(x)\n",
    "    \n",
    "for e in adj:\n",
    "    e.sort()\n",
    "    \n",
    "visited = [False] * (n + 1)\n",
    "dfs(v)\n",
    "print()\n",
    "visited = [False] * (n + 1)\n",
    "bfs(v)"
   ]
  },
  {
   "cell_type": "code",
   "execution_count": 16,
   "id": "19d8b291",
   "metadata": {},
   "outputs": [
    {
     "name": "stdout",
     "output_type": "stream",
     "text": [
      "5 17\n",
      "4\n"
     ]
    }
   ],
   "source": [
    "# 백준 1697\n",
    "from collections import deque\n",
    "\n",
    "MAX = 100001\n",
    "n, k = map(int, input().split())\n",
    "array = [0] * MAX\n",
    "\n",
    "def bfs():\n",
    "    q = deque([n]) # 시작점을 통해 deque 구성\n",
    "    while q:\n",
    "        now_pos = q.popleft() # 맨 왼쪽 노드 pop\n",
    "        if now_pos == k: # 그게 내가 찾는 수 라면 끝\n",
    "            return array[now_pos]\n",
    "        for next_pos in (now_pos - 1, now_pos + 1, now_pos * 2): # n-1, n+1, n*2 라는 새로운 간선 추가\n",
    "            if 0 <= next_pos < MAX and not array[next_pos]: # max이하에 방문한적이 없다면 if문 실행\n",
    "                array[next_pos] = array[now_pos] + 1 # +1을 함으로써 거리 증가\n",
    "                q.append(next_pos) # 증가 혹은 곱하기 한 값을 q에 삽입\n",
    "\n",
    "print(bfs())"
   ]
  },
  {
   "cell_type": "code",
   "execution_count": 27,
   "id": "e8002c84",
   "metadata": {},
   "outputs": [
    {
     "name": "stdout",
     "output_type": "stream",
     "text": [
      "7\n",
      "6\n",
      "1 2\n",
      "2 3\n",
      "1 5\n",
      "5 2\n",
      "5 6\n",
      "4 7\n",
      "4\n"
     ]
    }
   ],
   "source": [
    "## 백준 2606\n",
    "\n",
    "def dfs(v):\n",
    "    global count\n",
    "    count += 1\n",
    "    visited[v] = True\n",
    "    for e in adj[v]:\n",
    "        if not(visited[e]):\n",
    "            dfs(e)\n",
    "\n",
    "n = int(input())\n",
    "m = int(input())\n",
    "\n",
    "adj = [[] for _ in range(101)]\n",
    "\n",
    "for _ in range(m):\n",
    "    x, y = map(int, input().split())\n",
    "    adj[x].append(y)\n",
    "    adj[y].append(x)\n",
    "\n",
    "for e in adj:\n",
    "    e.sort()\n",
    "    \n",
    "visited = [False] * 101 \n",
    "count = 0\n",
    "dfs(1)\n",
    "\n",
    "print(count-1)"
   ]
  },
  {
   "cell_type": "code",
   "execution_count": 15,
   "id": "5e5a8e00",
   "metadata": {},
   "outputs": [
    {
     "name": "stdout",
     "output_type": "stream",
     "text": [
      "2\n",
      "3 2 2\n",
      "2 1 5\n",
      "3 2 5\n",
      "2 5\n",
      "3 3 1\n",
      "2 1 2\n",
      "3 1 8\n",
      "3 2 4\n",
      "3 6\n"
     ]
    }
   ],
   "source": [
    "## 백준 10282\n",
    "\n",
    "import heapq\n",
    "\n",
    "def dijkstra_2(start):\n",
    "    \n",
    "    # 배열 지정, 출발점 지정\n",
    "    distances[start] = 0  # start 값 0\n",
    "    queue = []\n",
    "    \n",
    "    # 초기화\n",
    "    heapq.heappush(queue, (distances[start], start)) # queue에 [0, 'A'] 의 형식으로 넣어줌\n",
    "    \n",
    "    while queue: # queue가 없을 때까지 계속 반복\n",
    "        current_distance, current_node = heapq.heappop(queue) # 가장 우선순위가 낮은게 맨처음으로 나옴\n",
    "\n",
    "        if distances[current_node] < current_distance : # 저장된 거리와 찾은 거리를 비교해서 찾은게 작다면 무시\n",
    "            continue\n",
    "        \n",
    "        #  노드이름, 거리값 추출\n",
    "        #  current_node : 'A' 라면 adjacent : 'B', 'C', 'D' / weight : 8, 1, 2\n",
    "        for i in adj[current_node]:\n",
    "            distance = current_distance + i[1] # 현재까지 거리 + 가중치\n",
    "            if distances[i[0]] > distance: # 현재 찾은거리보다 저장되어있는 값이 더 작다면 최단거리 찾음\n",
    "                distances[i[0]] = distance\n",
    "                heapq.heappush(queue, (distance, i[0])) # 더 작은 값으로 초기화\n",
    "\n",
    "test_case = int(input())\n",
    "\n",
    "for _ in range(test_case):\n",
    "    n, v, start = map(int, input().split())\n",
    "    adj = [[] for _ in range(n + 1)]\n",
    "    distances = [1e9] * (n + 1)\n",
    "    \n",
    "    for _ in range(v):\n",
    "        x, y, cost = map(int, input().split())\n",
    "        adj[y].append((x, cost))\n",
    "    dijkstra_2(start)\n",
    "    count = 0\n",
    "    \n",
    "    max_distance = 0\n",
    "    for i in distances:\n",
    "        if i != 1e9 :\n",
    "            count += 1\n",
    "            if i > max_distance:\n",
    "                max_distance = i\n",
    "    \n",
    "    print(count, max_distance)"
   ]
  },
  {
   "cell_type": "code",
   "execution_count": 30,
   "id": "717f5000",
   "metadata": {},
   "outputs": [
    {
     "name": "stdout",
     "output_type": "stream",
     "text": [
      "7 9\n",
      "0 6\n",
      "0 1 1\n",
      "0 2 1\n",
      "0 3 2\n",
      "0 4 3\n",
      "1 5 2\n",
      "2 6 4\n",
      "3 6 2\n",
      "4 6 4\n",
      "5 6 1\n",
      "5\n",
      "0 0\n"
     ]
    }
   ],
   "source": [
    "## 백준 5719\n",
    "import heapq\n",
    "from collections import deque\n",
    "\n",
    "def dijkstra_2():\n",
    "    \n",
    "    # 배열 지정, 출발점 지정\n",
    "    distances[k] = 0  # start 값 0\n",
    "    queue = []\n",
    "    \n",
    "    # 초기화\n",
    "    heapq.heappush(queue, (distances[k], k)) # queue에 [0, 'A'] 의 형식으로 넣어줌\n",
    "    \n",
    "    while queue: # queue가 없을 때까지 계속 반복\n",
    "        current_distance, current_node = heapq.heappop(queue) # 가장 우선순위가 낮은게 맨처음으로 나옴\n",
    "\n",
    "        if distances[current_node] < current_distance : # 저장된 거리와 찾은 거리를 비교해서 찾은게 작다면 무시\n",
    "            continue\n",
    "        \n",
    "        #  노드이름, 거리값 추출\n",
    "        #  current_node : 'A' 라면 adjacent : 'B', 'C', 'D' / weight : 8, 1, 2\n",
    "        for i in adj[current_node]:\n",
    "            distance = current_distance + i[1] # 현재까지 거리 + 가중치\n",
    "            if distances[i[0]] > distance and not dropped[current_node][i[0]]: # 현재 찾은거리보다 저장되어있는 값이 더 작다면 최단거리 찾음\n",
    "                distances[i[0]] = distance\n",
    "                heapq.heappush(queue, (distance, i[0])) # 더 작은 값으로 초기화\n",
    "\n",
    "def bfs():\n",
    "    q = deque()\n",
    "    q.append(d)\n",
    "    while q:\n",
    "        now = q.popleft()\n",
    "        if now == k:\n",
    "            continue\n",
    "        for prev, cost in reverse_adj[now]:\n",
    "            if distances[now] == distances[prev] + cost:\n",
    "                dropped[prev][now] = True\n",
    "                q.append(prev)\n",
    "                \n",
    "while True:\n",
    "    i, j = map(int, input().split())  # 노드 갯수, 간선의 수 \n",
    "    if i == 0 and j == 0: # 끝\n",
    "        break\n",
    "    k, d = map(int, input().split()) # 시작점, 도착점\n",
    "    adj = [[] for _ in range(i + 1)]\n",
    "    reverse_adj = [[] for _ in range(i + 1)]\n",
    "    \n",
    "    for _ in range(j):\n",
    "        s, v, p = map(int, input().split()) # s -> v 에 걸리는 거리가 p\n",
    "        adj[s].append((v, p))\n",
    "        reverse_adj[v].append((s, p))\n",
    "        \n",
    "    dropped = [[False] * (i + 1) for _ in range(i + 1)]\n",
    "    distances = [1e9] * (i + 1)\n",
    "    dijkstra_2()\n",
    "    bfs()\n",
    "    distances = [1e9] * (i + 1)\n",
    "    dijkstra_2()\n",
    "    \n",
    "    if distances[d] != 1e9:\n",
    "        print(distances[d])\n",
    "    else:\n",
    "        print(-1)"
   ]
  },
  {
   "cell_type": "code",
   "execution_count": null,
   "id": "ff6bfa47",
   "metadata": {},
   "outputs": [],
   "source": [
    "# 백준 1774\n",
    "\n"
   ]
  },
  {
   "cell_type": "code",
   "execution_count": 35,
   "id": "98f8e79c",
   "metadata": {},
   "outputs": [
    {
     "name": "stdout",
     "output_type": "stream",
     "text": [
      "5\n",
      "1\n",
      "5\n",
      "3\n",
      "1\n",
      "2\n",
      "3\n"
     ]
    }
   ],
   "source": [
    "# 백준 2012\n",
    "\n",
    "test_case = int(input())\n",
    "rst = []\n",
    "for _ in range(test_case):\n",
    "    rst.append(int(input()))\n",
    "rst.sort()\n",
    "\n",
    "sum_ = 0\n",
    "for i in range(len(rst)):\n",
    "    sum_ += abs(i - rst[i] + 1)\n",
    "print(sum_)"
   ]
  },
  {
   "cell_type": "code",
   "execution_count": 37,
   "id": "40bc401e",
   "metadata": {},
   "outputs": [
    {
     "name": "stdout",
     "output_type": "stream",
     "text": [
      "7\n",
      "1 6\n",
      "1 7\n",
      "1 8\n",
      "3 2\n",
      "3 1\n",
      "2 4\n",
      "2 5\n",
      "15\n"
     ]
    }
   ],
   "source": [
    "# 백준 1781\n",
    "import heapq\n",
    "\n",
    "n = int(input())\n",
    "array = []\n",
    "q = []\n",
    "\n",
    "# 문제 정보를 입력 받은 이후에, 데드라인을 기준으로 정렬\n",
    "for i in range(n):\n",
    "    a, b = map(int, input().split(' '))\n",
    "    array.append((a, b))\n",
    "array.sort()\n",
    "\n",
    "for i in array:\n",
    "    a = i[0]\n",
    "    heapq.heappush(q, i[1])\n",
    "    # 데드라인을 초과하는 경우에는 최소 원소를 제거\n",
    "    if a < len(q):\n",
    "        heapq.heappop(q)\n",
    "\n",
    "print(sum(q))"
   ]
  },
  {
   "cell_type": "code",
   "execution_count": 2,
   "id": "f3a4b725",
   "metadata": {
    "collapsed": true
   },
   "outputs": [
    {
     "name": "stdout",
     "output_type": "stream",
     "text": [
      "a\n",
      "t\n",
      "c\n",
      "i\n",
      "a\n",
      "t\n",
      "c\n",
      "s\n",
      "a\n",
      "t\n",
      "c\n",
      "w\n",
      "a\n",
      "t\n",
      "i\n",
      "s\n",
      "a\n",
      "t\n",
      "i\n",
      "w\n",
      "a\n",
      "t\n",
      "s\n",
      "w\n",
      "a\n",
      "c\n",
      "i\n",
      "s\n",
      "a\n",
      "c\n",
      "i\n",
      "w\n",
      "a\n",
      "c\n",
      "s\n",
      "w\n",
      "a\n",
      "i\n",
      "s\n",
      "w\n",
      "t\n",
      "c\n",
      "i\n",
      "s\n",
      "t\n",
      "c\n",
      "i\n",
      "w\n",
      "t\n",
      "c\n",
      "s\n",
      "w\n",
      "t\n",
      "i\n",
      "s\n",
      "w\n",
      "c\n",
      "i\n",
      "s\n",
      "w\n"
     ]
    }
   ],
   "source": [
    "from itertools import combinations # 조합 경우의 수를 다 추출해줌\n",
    "\n",
    "array = ['a' , 't' ,'c' ,'i' ,'s' ,'w']\n",
    "\n",
    "for password in combinations(array, 4):\n",
    "    for i in password:\n",
    "        print(i)"
   ]
  },
  {
   "cell_type": "code",
   "execution_count": 11,
   "id": "9d3d3872",
   "metadata": {},
   "outputs": [
    {
     "name": "stdout",
     "output_type": "stream",
     "text": [
      "5\n",
      "2 4 -10 4 -9\n",
      "2 3 0 3 1 "
     ]
    }
   ],
   "source": [
    "# 백준 18870\n",
    "\n",
    "test_case = int(input())\n",
    "lst = list(map(int, input().split()))\n",
    "\n",
    "lst_ = sorted(list(set(lst)))\n",
    "\n",
    "dic = {}\n",
    "for k,i in enumerate(lst_):\n",
    "    dic[i] = k\n",
    "    \n",
    "for i in lst:\n",
    "    print(dic[i], end=' ')"
   ]
  },
  {
   "cell_type": "code",
   "execution_count": 22,
   "id": "5db25d51",
   "metadata": {},
   "outputs": [
    {
     "name": "stdout",
     "output_type": "stream",
     "text": [
      "5\n",
      "ABCD\n",
      "145C\n",
      "A\n",
      "A910\n",
      "Z321\n",
      "A\n",
      "ABCD\n",
      "Z321\n",
      "145C\n",
      "A910\n"
     ]
    }
   ],
   "source": [
    "# 백준 1431\n",
    "\n",
    "def digit_sum(str):\n",
    "    result = 0 # 각 자릿수의 합\n",
    "    for x in str: # 문자를 하나씩 확인하며\n",
    "        if x.isdigit(): # 숫자일 때만 더하기\n",
    "            result += int(x)\n",
    "    return result\n",
    "\n",
    "test_case = int(input())\n",
    "arr = []\n",
    "\n",
    "for _ in range(test_case):\n",
    "    arr.append(input().strip())\n",
    "arr.sort(key=lambda x: (len(x), digit_sum(x), x)) # 길이순, 숫자합순, 사전순 으로 세번에 걸쳐 정렬\n",
    "\n",
    "for i in arr:\n",
    "    print(i)"
   ]
  },
  {
   "cell_type": "code",
   "execution_count": 9,
   "id": "d1c6102b",
   "metadata": {},
   "outputs": [
    {
     "name": "stdout",
     "output_type": "stream",
     "text": [
      "4\n",
      "1 3\n",
      "2 5\n",
      "3 5\n",
      "6 7\n",
      "5\n"
     ]
    }
   ],
   "source": [
    "# 백준 2170\n",
    "\n",
    "test_case = int(input())\n",
    "arr = []\n",
    "\n",
    "for _ in range(test_case):\n",
    "    x, y = map(int, input().split())\n",
    "    arr.append((x, y)) # 시작점, 끝점\n",
    "    \n",
    "arr.sort(key = lambda x:(x[0], x[1])) # 오름차순 정렬 \n",
    "\n",
    "min_x, max_y = arr[0][0], arr[0][1]\n",
    "result = 0\n",
    "\n",
    "for i in range(1, test_case):\n",
    "#     if max_y > arr[i][1]: # max_y보다 작을 경우 -1 5  / 1 4 -> -1 5    없어도 상관없음\n",
    "#         pass\n",
    "    if max_y < arr[i][0]: # max_y보다 앞이 큰 경우 -1 5 / 6 7 -> 6 7\n",
    "        result += (max_y - min_x) # 현재까지 온 길이를 더 함\n",
    "        min_x, max_y = arr[i][0], arr[i][1] # 위치를 초기화\n",
    "    elif max_y < arr[i][1]: # max_y보다 클 경우 -1 5 / 1 7 -> -1 7\n",
    "        max_y = arr[i][1]\n",
    "\n",
    "result += (max_y - min_x)\n",
    "print(result)"
   ]
  },
  {
   "cell_type": "code",
   "execution_count": 13,
   "id": "55141e02",
   "metadata": {},
   "outputs": [
    {
     "name": "stdout",
     "output_type": "stream",
     "text": [
      "9\n",
      "5 12 7 10 9 1 2 3 11\n",
      "13\n",
      "3\n"
     ]
    }
   ],
   "source": [
    "# 백준 3273\n",
    "\n",
    "test_case = int(input()) # 배열 갯수\n",
    "arr = list(map(int, input().split())) # 배열\n",
    "\n",
    "x = int(input()) # 만족해야 하는 수\n",
    "arr.sort() # 오름차순 정렬\n",
    "start, end = arr[0], arr[-1] # 초기 세팅값\n",
    "result = 0 # 결과\n",
    "\n",
    "while True:\n",
    "    \n",
    "    if start >= end: # 이미 검증\n",
    "        break\n",
    "    \n",
    "    if start + end == x:\n",
    "        result += 1\n",
    "        # 제거 및 재 설정\n",
    "        arr.pop(0)\n",
    "        arr.pop(-1)\n",
    "        start = arr[0]\n",
    "        end = arr[-1]\n",
    "    elif start + end > x:\n",
    "        # end - 1\n",
    "        arr.pop(-1)\n",
    "        end = arr[-1]\n",
    "    elif start + end < x:\n",
    "        # start + 1\n",
    "        arr.pop(0)\n",
    "        start = arr[0]\n",
    "\n",
    "print(result)"
   ]
  },
  {
   "cell_type": "code",
   "execution_count": 21,
   "id": "23878db0",
   "metadata": {},
   "outputs": [
    {
     "name": "stdout",
     "output_type": "stream",
     "text": [
      "9\n",
      "5 12 7 10 9 1 2 3 11\n",
      "13\n",
      "3\n"
     ]
    }
   ],
   "source": [
    "# 백준 3273\n",
    "\n",
    "test_case = int(input()) # 배열 갯수\n",
    "arr = list(map(int, input().split())) # 배열\n",
    "\n",
    "x = int(input()) # 만족해야 하는 수\n",
    "arr.sort() # 오름차순 정렬\n",
    "start, end = arr[0], arr[-1] # 초기 세팅값\n",
    "result = 0 # 결과\n",
    "\n",
    "while start < end:# start 가 end랑 같거나 커지면 검증 종료\n",
    "    \n",
    "    if start + end == x: # 정답\n",
    "        result += 1\n",
    "        # 제거 및 재 설정\n",
    "        arr.pop(0)\n",
    "        arr.pop(-1)\n",
    "        if len(arr) <= 1: # 제거 한뒤에 arr이 비었으면 종료\n",
    "            break\n",
    "        start = arr[0]\n",
    "        end = arr[-1]\n",
    "    elif start + end > x: # 정답보다 큰 경우\n",
    "        # end - 1\n",
    "        arr.pop(-1)\n",
    "        end = arr[-1]\n",
    "    elif start + end < x: # 정답보다 작은 경우\n",
    "        # start + 1\n",
    "        arr.pop(0)\n",
    "        start = arr[0]\n",
    "\n",
    "print(result)"
   ]
  },
  {
   "cell_type": "code",
   "execution_count": 2,
   "id": "03f62eea",
   "metadata": {
    "scrolled": true
   },
   "outputs": [
    {
     "data": {
      "text/plain": [
       "[[1, 0, 0, 0, 0, 0, 0],\n",
       " [0, 0, 0, 0, 0, 0, 0],\n",
       " [0, 0, 0, 0, 0, 0, 0],\n",
       " [0, 0, 0, 0, 0, 0, 0],\n",
       " [0, 0, 0, 0, 0, 0, 0],\n",
       " [0, 0, 0, 0, 0, 0, 0],\n",
       " [0, 0, 0, 0, 0, 0, 0]]"
      ]
     },
     "execution_count": 2,
     "metadata": {},
     "output_type": "execute_result"
    }
   ],
   "source": [
    "graph = [[0] * 7 for _ in range(7)] # N * N 2차원행렬"
   ]
  },
  {
   "cell_type": "code",
   "execution_count": 31,
   "id": "f3ec14d1",
   "metadata": {
    "scrolled": true
   },
   "outputs": [
    {
     "name": "stdout",
     "output_type": "stream",
     "text": [
      "5\n",
      "RRRBB\n",
      "RRRGG\n",
      "BBBRR\n",
      "RRRBB\n",
      "GGGRR\n",
      "9 5\n"
     ]
    }
   ],
   "source": [
    "# 백준 10026\n",
    "\n",
    "dx = [-1, 1, 0, 0]\n",
    "dy = [0, 0, -1, 1]\n",
    "\n",
    "def dfs(x, y):\n",
    "    for i in range(4): # 인접한 위치 확인\n",
    "        nx = x + dx[i]\n",
    "        ny = y + dy[i]\n",
    "        # 인접한 위치가 범위를 벗어나는 경우 무시\n",
    "        if nx <= -1 or nx >= test_case or ny <= -1 or ny >= test_case:\n",
    "            continue\n",
    "        # 처음 방문하는 경우\n",
    "        if not visited[nx][ny]:    \n",
    "            if graph[x][y] == graph[nx][ny]:\n",
    "                visited[nx][ny] = -1 # 방문 처리\n",
    "                dfs(nx, ny)\n",
    "\n",
    "test_case = int(input())\n",
    "graph = [[] for _ in range(test_case)] \n",
    "\n",
    "for i in range(test_case):\n",
    "    for j in input():\n",
    "        graph[i].append(j)\n",
    "\n",
    "answer = 0\n",
    "visited = [[False] * test_case for _ in range(test_case)] # 방문 여부\n",
    "for i in range(test_case):\n",
    "    for j in range(test_case):\n",
    "    # 처음 방문하는 경우 DFS 수행\n",
    "        if not visited[i][j]:\n",
    "            visited[i][j] = True # 방문 처리\n",
    "            dfs(i, j)\n",
    "            answer += 1      \n",
    "print(answer, end = ' ')\n",
    "            \n",
    "for i in range(test_case):\n",
    "    for j in range(test_case):           \n",
    "        if graph[i][j] == 'R':\n",
    "            graph[i][j] = 'G'\n",
    "        \n",
    "answer = 0\n",
    "visited = [[False] * test_case for _ in range(test_case)] # 방문 여부\n",
    "for i in range(test_case):\n",
    "    for j in range(test_case):\n",
    "    # 처음 방문하는 경우 DFS 수행\n",
    "        if not visited[i][j]:\n",
    "            visited[i][j] = True # 방문 처리\n",
    "            dfs(i, j)\n",
    "            answer += 1      \n",
    "            \n",
    "print(answer)"
   ]
  },
  {
   "cell_type": "code",
   "execution_count": 33,
   "id": "b76c2a0d",
   "metadata": {},
   "outputs": [
    {
     "name": "stdout",
     "output_type": "stream",
     "text": [
      "4 2\n",
      "2 1 2\n",
      "1 4 3\n",
      "4 3 2\n",
      "1 2\n",
      "2\n",
      "3 2\n",
      "7\n"
     ]
    }
   ],
   "source": [
    "# 백준 1240\n",
    "\n",
    "# sys.setrecursionlimit(int(1e5)) -> 재귀 제한 늘림\n",
    "\n",
    "def dfs(x):\n",
    "    # x의 인접 노드를 하나씩 확인\n",
    "    for data in graph[x]:\n",
    "        y = data[0]\n",
    "        cost = data[1]\n",
    "        if not visited[y]: # 방문 하지 않았다면\n",
    "            visited[y] = True # 방문 처리\n",
    "            distance[y] = distance[x] + cost # y까지거리를 누적\n",
    "            dfs(y)\n",
    "\n",
    "n, m = map(int, input().split())\n",
    "\n",
    "graph = [[] for _ in range(n + 1)]\n",
    "for i in range(n - 1):\n",
    "    a, b, c = map(int, input().split())\n",
    "    graph[a].append((b, c))\n",
    "    graph[b].append((a, c))\n",
    "\n",
    "for i in range(m):\n",
    "    x, y = map(int, input().split())\n",
    "    # 방문 여부 초기화\n",
    "    visited = [False] * (n + 1)\n",
    "    # 각 지점 까지 거리 초기화\n",
    "    distance = [-1] * (n + 1)\n",
    "    visited[x] = True # 초기 시작점 처리\n",
    "    distance[x] = 0 # 자신까지 거리는 0\n",
    "    dfs(x)\n",
    "    print(distance[y])"
   ]
  },
  {
   "cell_type": "code",
   "execution_count": null,
   "id": "1ca1ac76",
   "metadata": {},
   "outputs": [],
   "source": [
    "# bfs\n",
    "\n",
    "def bfs(x):\n",
    "    queue = deque([x]) # 처음 x를 queue에 삽입\n",
    "    # 처음 노드는 빨간색으로 칠하기\n",
    "    visited[x] = 0 # (0: 빨강 / 1: 파랑) visited[x] = -1 -> visited[x] = 0 or 1\n",
    "    while len(queue) != 0: # 큐가 빌 때까지 반복\n",
    "        x = queue.popleft()\n",
    "        # 인접한 노드를 하나씩 확인\n",
    "        for y in graph[x]:\n",
    "            if visited[y] == -1: # 방문한 적이 없다면 빨강 ↔ 파랑 으로 돌아가면서 체크\n",
    "                visited[y] = (visited[x] + 1) % 2\n",
    "                queue.append(y) # 다시 queue에 삽입"
   ]
  },
  {
   "cell_type": "code",
   "execution_count": null,
   "id": "747fc39c",
   "metadata": {},
   "outputs": [],
   "source": [
    "# dfs , 백트래킹\n",
    "\n",
    "def dfs(x, y, cost):\n",
    "    # 최대 거리(cost) 계산\n",
    "    global result\n",
    "    result = max(result, cost)\n",
    "    # 인접한 위치를 확인하며\n",
    "    for i in range(4):\n",
    "        nx = x + dx[i] # 상,하,좌,우 위치 확인\n",
    "        ny = y + dy[i]\n",
    "        # 맵을 벗어나는 경우 무시\n",
    "    if nx < 0 or nx >= r or ny < 0 or ny >= c:\n",
    "        continue\n",
    "    # 방문하지 않은 알파벳인 경우\n",
    "    if not visited[ord(graph[nx][ny]) - 65]:\n",
    "        # 백트래킹(back-tracking) 수행\n",
    "        visited[ord(graph[nx][ny]) - 65] = True\n",
    "        dfs(nx, ny, cost + 1)\n",
    "        visited[ord(graph[nx][ny]) - 65] = False\n",
    "        \n",
    "# 4가지 방향 정의(상, 하, 좌, 우)\n",
    "dx = [-1, 1, 0, 0]\n",
    "dy = [0, 0, -1, 1]\n",
    "\n",
    "# 행(r)과 열(c)의 크기 입력\n",
    "r, c = map(int, input().split())\n",
    "graph = [] # 전체 맵 정보 입력\n",
    "\n",
    "for _ in range(r):\n",
    "    graph.append(input())\n",
    "    \n",
    "result = 0 # 최대 거리\n",
    "visited = [False] * 26 # 방문한 알파벳 집합\n",
    "visited[ord(graph[0][0]) - 65] = True # [0][0]위치 알파벳을 True로\n",
    "dfs(0, 0, 1) # 가장 왼쪽 위에서 출발\n",
    "print(result)"
   ]
  },
  {
   "cell_type": "code",
   "execution_count": 25,
   "id": "3c4a448e",
   "metadata": {
    "scrolled": true
   },
   "outputs": [
    {
     "name": "stdout",
     "output_type": "stream",
     "text": [
      "100 40021\n",
      "5\n"
     ]
    }
   ],
   "source": [
    "# 백준 16953 (bfs)\n",
    "from collections import deque\n",
    "\n",
    "x, z = map(int, input().split())\n",
    "\n",
    "queue = deque([])\n",
    "queue.append((x, 0)) # 시작점, 거리 0 추가\n",
    "visited = set()\n",
    "found = False\n",
    "\n",
    "while len(queue) != 0: # 큐가 빌 때까지 반복\n",
    "    value, dist = queue.popleft() # 값과 거리 빼기\n",
    "    if value > int(1e9): # 범위를 벗어나는 경우\n",
    "        continue\n",
    "    if value == z: # 값을 찾은 경우\n",
    "        print(dist+1) # 최소연산 + 1\n",
    "        found = True\n",
    "        break\n",
    "    for oper in ['*', '+']:\n",
    "        next_value = value\n",
    "        if oper == '*':\n",
    "            next_value *= 2\n",
    "        if oper == '+':\n",
    "            next_value *= 10\n",
    "            next_value += 1\n",
    "        if next_value not in visited:\n",
    "            queue.append((next_value, dist+1)) # 값과 함께 거리를 queue에추가\n",
    "            visited.add(next_value) # 방문 후 추가\n",
    "\n",
    "if not found:\n",
    "    print(-1)"
   ]
  },
  {
   "cell_type": "code",
   "execution_count": 46,
   "id": "bff26f4b",
   "metadata": {},
   "outputs": [
    {
     "name": "stdout",
     "output_type": "stream",
     "text": [
      "10 1\n",
      "/\n"
     ]
    }
   ],
   "source": [
    "# 백준 14395(bfs)\n",
    "from collections import deque\n",
    "\n",
    "s, t = map(int, input().split()) # 시작 끝\n",
    "\n",
    "queue = deque([])\n",
    "queue.append((s, '')) # 시작점, 거리 0 추가\n",
    "visited = set()\n",
    "found = False\n",
    "rst = []\n",
    "\n",
    "while len(queue) != 0: # 큐가 빌 때까지 반복\n",
    "    if s == t: # 처음부터 같은 경우\n",
    "        found = True \n",
    "        print(0)\n",
    "        break\n",
    "    value, oper_ = queue.popleft() # 값과 거리 빼기\n",
    "    if value > int(1e9): # 값의 범위를 벗어나는 경우\n",
    "        continue\n",
    "    if value == 0: # 0인 경우 제외\n",
    "        continue\n",
    "    if value == t: # 값을 찾은 경우\n",
    "        found = True\n",
    "        rst.append(oper_)\n",
    "        break\n",
    "    for oper in ['*', '+', '-', '/']:\n",
    "        next_value = value\n",
    "        if oper == '*':\n",
    "            next_value *= next_value\n",
    "        if oper == '+':\n",
    "            next_value += next_value\n",
    "        if oper == '-':\n",
    "            next_value -= next_value\n",
    "        if oper == '/':\n",
    "            next_value /= next_value\n",
    "        if next_value not in visited:\n",
    "            queue.append((next_value, oper_ + oper)) # 값과 함께 거리를 queue에추가\n",
    "            visited.add(next_value) # 방문 후 추가\n",
    "            \n",
    "if not found:\n",
    "    print(-1)\n",
    "    \n",
    "rst.sort()\n",
    "if rst:\n",
    "    print(rst[0])"
   ]
  },
  {
   "cell_type": "code",
   "execution_count": 32,
   "id": "a1c7372c",
   "metadata": {},
   "outputs": [
    {
     "name": "stdout",
     "output_type": "stream",
     "text": [
      "+-"
     ]
    }
   ],
   "source": [
    "oper_ = '+'\n",
    "oper = '-'\n",
    "lst = sorted(list(oper_ + oper))\n",
    "for i in lst:\n",
    "    print(i, end='')"
   ]
  },
  {
   "cell_type": "code",
   "execution_count": 71,
   "id": "01e9bc6b",
   "metadata": {
    "scrolled": true
   },
   "outputs": [
    {
     "name": "stdout",
     "output_type": "stream",
     "text": [
      "6\n",
      "5\n",
      "1 2\n",
      "1 3\n",
      "3 4\n",
      "2 3\n",
      "4 5\n",
      "3\n"
     ]
    }
   ],
   "source": [
    "# 백준 5567\n",
    "from collections import deque\n",
    "\n",
    "N = int(input()) # 동기의 수\n",
    "M = int(input()) # 리스트의 길이(간선의 수?)\n",
    "graph = [[] for _ in range(N + 1)]\n",
    "rst = [[0] for _ in range(N + 1)]\n",
    "\n",
    "for _ in range(M):\n",
    "    x, y = map(int, input().split()) # 연결\n",
    "    graph[x].append(y)\n",
    "    graph[y].append(x)\n",
    "    \n",
    "queue = deque([])\n",
    "queue.append((1, 0)) # 시작점, 거리 0\n",
    "\n",
    "visited = set() # 방문여부\n",
    "visited.add(1)\n",
    "\n",
    "# bfs\n",
    "while len(queue) != 0: # 큐가 빌 때까지 반복\n",
    "    \n",
    "    value, dist = queue.popleft()\n",
    "    \n",
    "    for i in graph[value]:\n",
    "        if i not in visited: # 방문하지 않았다면\n",
    "            rst[i][0] += (dist+1)\n",
    "            queue.append((i, dist+1))\n",
    "            visited.add(i)\n",
    "            \n",
    "result = 0\n",
    "for i in rst:\n",
    "    if 1<= i[0] <=2:\n",
    "         result += 1\n",
    "print(result)"
   ]
  },
  {
   "cell_type": "code",
   "execution_count": 106,
   "id": "6b3cd780",
   "metadata": {},
   "outputs": [
    {
     "name": "stdout",
     "output_type": "stream",
     "text": [
      "4\n",
      "2 3 4 3\n",
      "7\n"
     ]
    }
   ],
   "source": [
    "# 백준 9237\n",
    "\n",
    "n = int(input())\n",
    "data = list(map(int, input().split()))\n",
    "data = sorted(data, reverse=True)\n",
    "\n",
    "max_value = 0\n",
    "for i in range(n):\n",
    "    max_value = max(max_value, i + 1 + data[i]) # 가장 오래걸리는 나무 속도가 최대 날짜\n",
    "print(max_value + 1)"
   ]
  },
  {
   "cell_type": "code",
   "execution_count": 149,
   "id": "51d77f7f",
   "metadata": {},
   "outputs": [
    {
     "name": "stdout",
     "output_type": "stream",
     "text": [
      "01012345678\n",
      "1\n"
     ]
    }
   ],
   "source": [
    "import re\n",
    "data = input()\n",
    "if re.match(\"010[-](\\d{4})[-]\\d{4}\", data):\n",
    "    print(2)\n",
    "elif re.match(\"010(\\d{4})\\d{4}\", data):\n",
    "    print(1)\n",
    "elif re.match('[+]82[-]10[-]\\d{4}[-]\\d{4}', data):\n",
    "    print(3)\n",
    "else:\n",
    "    print(4)"
   ]
  },
  {
   "cell_type": "code",
   "execution_count": 156,
   "id": "b7137b9c",
   "metadata": {},
   "outputs": [
    {
     "data": {
      "text/plain": [
       "2"
      ]
     },
     "execution_count": 156,
     "metadata": {},
     "output_type": "execute_result"
    }
   ],
   "source": [
    "goods = [3, 8, 6]\n",
    "boxes = [5, 6, 4]\n",
    "goods.sort(reverse=True)\n",
    "boxes.sort(reverse=True)\n",
    "result =0\n",
    "while len(goods) > 0:\n",
    "    if goods[0] > boxes[0]:\n",
    "        goods.pop(0)\n",
    "    elif goods[0] <= boxes[0]:\n",
    "        result += 1\n",
    "        goods.pop(0)\n",
    "        boxes.pop(0)\n",
    "result"
   ]
  },
  {
   "cell_type": "code",
   "execution_count": 164,
   "id": "9216ff40",
   "metadata": {},
   "outputs": [
    {
     "data": {
      "text/plain": [
       "9"
      ]
     },
     "execution_count": 164,
     "metadata": {},
     "output_type": "execute_result"
    }
   ],
   "source": [
    "def solution(bricks):\n",
    "    result = 0\n",
    "    while True:\n",
    "        if len(bricks) == 0:\n",
    "            break\n",
    "        if bricks[0] == bricks[-1] and bricks[0] !=0:\n",
    "            for i in range(1, len(bricks)):\n",
    "                if bricks[0] - bricks[i] > 0:\n",
    "                    result += (bricks[0] - bricks[i])\n",
    "            break\n",
    "        elif bricks[0] == 0:\n",
    "            bricks.pop(0)\n",
    "        elif bricks[-1] == 0 :\n",
    "            bricks.pop(-1)\n",
    "        elif bricks[0] > bricks[-1]:\n",
    "            bricks.pop(0)\n",
    "        elif bricks[0] < bricks[-1]:\n",
    "            bricks.pop(-1)\n",
    "    answer = result\n",
    "    return answer\n",
    "\n",
    "solution([0, 2, 0, 1, 3, 1, 2, 0, 1, 0, 2, 0])"
   ]
  },
  {
   "cell_type": "code",
   "execution_count": 166,
   "id": "8fc6103d",
   "metadata": {},
   "outputs": [
    {
     "data": {
      "text/plain": [
       "0"
      ]
     },
     "execution_count": 166,
     "metadata": {},
     "output_type": "execute_result"
    }
   ],
   "source": [
    "bricks = [0, 2, 0, 1, 3, 1, 2, 0, 1, 0, 2, 0]\n",
    "if bricks[0] != 0\n",
    "result = 0\n",
    "for i in range(0, len(bricks)):\n",
    "    if bricks[i] == 0:\n",
    "        continue\n",
    "    if bricks[i] - bricks[i] > 0:\n",
    "        result += (bricks[0] - bricks[i])\n",
    "result"
   ]
  },
  {
   "cell_type": "code",
   "execution_count": 174,
   "id": "5b2103c1",
   "metadata": {},
   "outputs": [
    {
     "data": {
      "text/plain": [
       "0"
      ]
     },
     "execution_count": 174,
     "metadata": {},
     "output_type": "execute_result"
    }
   ],
   "source": [
    "lst = [4, 4, 4, 4, 4]\n",
    "for i in range(len(lst)):\n",
    "    if lst[i] == max(lst):\n",
    "        max_i = i\n",
    "max(lst) - min(lst[:max_i])"
   ]
  },
  {
   "cell_type": "code",
   "execution_count": 193,
   "id": "254a56b6",
   "metadata": {},
   "outputs": [
    {
     "data": {
      "text/plain": [
       "4"
      ]
     },
     "execution_count": 193,
     "metadata": {},
     "output_type": "execute_result"
    }
   ],
   "source": [
    "prices = [1,5, 4, 3, 2, 1]\n",
    "for i in range(len(prices)-1, -1, -1):\n",
    "    if prices[i] == max(prices):\n",
    "        max_i = i\n",
    "        break\n",
    "if max_i == 0:\n",
    "    result = 0\n",
    "# if max(prices) - min(prices[:max_i]) == 0:\n",
    "#     result = 0\n",
    "else:\n",
    "    result = max(prices) - min(prices[:max_i])\n",
    "        \n",
    "result"
   ]
  },
  {
   "cell_type": "code",
   "execution_count": 277,
   "id": "637a036c",
   "metadata": {},
   "outputs": [
    {
     "name": "stdout",
     "output_type": "stream",
     "text": [
      "40\n",
      "270\n"
     ]
    }
   ],
   "source": [
    "# 동적프로그래밍\n",
    "n = int(input())\n",
    "lst = [0] * (n + 1)\n",
    "lst[2 ** 0] = 3**0\n",
    "\n",
    "lst[2 ** 1] = 3**1\n",
    "lst[3] = lst[1] + lst[2]\n",
    "\n",
    "# lst[2 ** 2] = 3**2\n",
    "# lst[5] = lst[4] + lst[1]\n",
    "# lst[6] = lst[4] + lst[2]\n",
    "# lst[7] = lst[4] + lst[3]\n",
    "\n",
    "# lst[2 ** 3] = 3**3\n",
    "# lst[9] = lst[8] + lst[1]\n",
    "# lst[10] = lst[8] + lst[2]\n",
    "# lst[11] = lst[8] + lst[3]\n",
    "\n",
    "# lst[2 ** 4] = 3**4\n",
    "\n",
    "def xx(x):\n",
    "    count = 0\n",
    "    while x > 1:\n",
    "        if x % 2 == 0:\n",
    "            x /= 2\n",
    "            count += 1\n",
    "        else:\n",
    "            return False, 0\n",
    "    return True, count\n",
    "\n",
    "for i in range(4 , n+1):\n",
    "    TF, ma = xx(i)\n",
    "    if TF: # 2제곱근이면\n",
    "        # i = 4  -> 3 ** 2\n",
    "        lst[i] = 3 ** ma# 2의 제곱수\n",
    "        rt = i\n",
    "    else:\n",
    "        lst[i] = lst[rt] + lst[i - rt]\n",
    "        \n",
    "print(lst[n])"
   ]
  },
  {
   "cell_type": "code",
   "execution_count": 10,
   "id": "c99efaab",
   "metadata": {
    "collapsed": true
   },
   "outputs": [
    {
     "name": "stdout",
     "output_type": "stream",
     "text": [
      "10 24\n",
      "5\n",
      "7\n",
      "5\n",
      "4\n",
      "2\n",
      "7\n",
      "8\n",
      "5\n",
      "3\n",
      "4\n",
      "24 0\n",
      "32 4\n",
      "32 4\n",
      "32 4\n",
      "32 4\n",
      "112 16\n",
      "128 16\n",
      "128 16\n",
      "128 16\n",
      "170\n"
     ]
    }
   ],
   "source": [
    "# 백준 17521\n",
    "\n",
    "n, W = map(int, input().split(' ')) # 일 수, 초기 금액\n",
    "coin = 0 # 코인 갯수\n",
    "data = []\n",
    "for _ in range(n):\n",
    "    data.append(int(input())) # 날짜별 금액\n",
    "\n",
    "for i in range(len(data)-1):\n",
    "    print(W, coin)\n",
    "    if data[i] < data[i+1]: # 5 7 의 경우 \n",
    "        coin = W // data[i] # W : 24, data[i] = 5 -> coin : 4\n",
    "        W += coin * (data[i+1] - data[i]) # (구매한 개수 * 시세 차기) 만큼 더해 주기\n",
    "        \n",
    "print(W)"
   ]
  },
  {
   "cell_type": "code",
   "execution_count": 38,
   "id": "a754b0f7",
   "metadata": {},
   "outputs": [
    {
     "name": "stdout",
     "output_type": "stream",
     "text": [
      "3\n",
      "3\n",
      "2\n",
      "1\n"
     ]
    },
    {
     "data": {
      "text/plain": [
       "2"
      ]
     },
     "execution_count": 38,
     "metadata": {},
     "output_type": "execute_result"
    }
   ],
   "source": [
    "# 백준 2872\n",
    "\n",
    "n = int(input())\n",
    "lst = []\n",
    "for _ in range(n):\n",
    "    lst.append(int(input()))\n",
    "rst = sorted(lst)\n",
    "count = 0\n",
    "i = 0\n",
    "while rst != lst:\n",
    "    if lst[i] > lst[i + 1]: # 4(2) > 1(3)\n",
    "        k = lst.pop(i + 1)\n",
    "        lst.insert(0, k)\n",
    "        count += 1\n",
    "    i += 1\n",
    "    if i == 3:\n",
    "        i = 0\n",
    "count"
   ]
  },
  {
   "cell_type": "code",
   "execution_count": 42,
   "id": "6e2c16fe",
   "metadata": {},
   "outputs": [
    {
     "name": "stdout",
     "output_type": "stream",
     "text": [
      "1\n",
      "3\n",
      "911\n",
      "9762599\n",
      "91125426\n",
      "NO\n"
     ]
    }
   ],
   "source": [
    "# 백준 5052\n",
    "\n",
    "for _ in range(int(input())):\n",
    "    group = int(input()) # 전화번호 갯수\n",
    "    books = []\n",
    "    for _ in range(group):\n",
    "        books.append(input().strip())\n",
    "    books.sort() # 문자열 기준으로 오름차순 정렬\n",
    "    result = False\n",
    "    for i in range(group - 1):\n",
    "        if len(books[i]) < len(books[i + 1]): # 앞에 길이가 뒤에보다 작은지 우선 확인\n",
    "            if books[i] == books[i+1][:len(books[i])]: # 앞에 문자열의 길이만큼 뒤 문자을 슬라이싱 한다음 비교 같으면 일관성 X\n",
    "                result = True\n",
    "                break\n",
    "    if result : print('NO') # 관계 있음 -> 일관성 없음\n",
    "    else: print('YES')       # 관계 없음 -> 일관성 있음"
   ]
  },
  {
   "cell_type": "code",
   "execution_count": 44,
   "id": "ac336aa4",
   "metadata": {},
   "outputs": [
    {
     "name": "stdout",
     "output_type": "stream",
     "text": [
      "6\n",
      "-45 22 42 -16\n",
      "-41 -27 56 30\n",
      "-36 53 -37 77\n",
      "-36 30 -75 -46\n",
      "26 -38 -10 62\n",
      "-32 -54 -6 45\n",
      "5\n"
     ]
    }
   ],
   "source": [
    "# 백준 7453\n",
    "# 나누어서 고려해서 풀어야함 A/B 따로 C/D 따로\n",
    "\n",
    "n = int(input())\n",
    "A = []\n",
    "B = []\n",
    "C = []\n",
    "D = []\n",
    "\n",
    "for i in range(n):\n",
    "    a, b, c, d = map(int, input().split())\n",
    "    A.append(a)\n",
    "    B.append(b)\n",
    "    C.append(c)\n",
    "    D.append(d)\n",
    "    \n",
    "counter = {}\n",
    "for i in range(n):\n",
    "    for j in range(n):\n",
    "        sum_ = A[i] + B[j]\n",
    "        if sum_ not in counter : counter[sum_] = 1\n",
    "        else: counter[sum_] += 1 \n",
    "\n",
    "result = 0\n",
    "for i in range(n):\n",
    "    for j in range(n):\n",
    "        sum_ = C[i] + D[j]\n",
    "        if -sum_ in counter : # 있다면\n",
    "            result += counter[-sum_] # 그 sum_의 갯수만큼 + 해줌\n",
    "            \n",
    "print(result)"
   ]
  },
  {
   "cell_type": "code",
   "execution_count": null,
   "id": "5f79637b",
   "metadata": {},
   "outputs": [],
   "source": []
  },
  {
   "cell_type": "code",
   "execution_count": null,
   "id": "d7ed8dd7",
   "metadata": {},
   "outputs": [],
   "source": []
  },
  {
   "cell_type": "code",
   "execution_count": null,
   "id": "7a751224",
   "metadata": {},
   "outputs": [],
   "source": []
  },
  {
   "cell_type": "code",
   "execution_count": null,
   "id": "9dc26d99",
   "metadata": {},
   "outputs": [],
   "source": []
  },
  {
   "cell_type": "code",
   "execution_count": null,
   "id": "c95792a3",
   "metadata": {},
   "outputs": [],
   "source": []
  }
 ],
 "metadata": {
  "kernelspec": {
   "display_name": "Python 3 (ipykernel)",
   "language": "python",
   "name": "python3"
  },
  "language_info": {
   "codemirror_mode": {
    "name": "ipython",
    "version": 3
   },
   "file_extension": ".py",
   "mimetype": "text/x-python",
   "name": "python",
   "nbconvert_exporter": "python",
   "pygments_lexer": "ipython3",
   "version": "3.9.12"
  }
 },
 "nbformat": 4,
 "nbformat_minor": 5
}
