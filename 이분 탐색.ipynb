{
 "cells": [
  {
   "cell_type": "code",
   "execution_count": null,
   "id": "455c4f6e",
   "metadata": {},
   "outputs": [],
   "source": [
    "# 백준 1920\n",
    "\n",
    "N = int(input())\n",
    "N_list = list(map(int, input().split()))\n",
    "M = int(input())\n",
    "M_list = list(map(int, input().split()))\n",
    "\n",
    "def bi_s(find, start, end):\n",
    "    if start > end:\n",
    "        return False\n",
    "    \n",
    "    med = (start + end) // 2\n",
    "    \n",
    "    if N_list[med] > find: # 중간 값이랑 비교를 해야함 필수!\n",
    "        return bi_s(find, start, med-1)\n",
    "    elif N_list[med] < find: # 중간 값이랑 비교를 해야함 필수!\n",
    "        return bi_s(find, med+1, end)\n",
    "    elif N_list[med] == find:\n",
    "        return True\n",
    "    \n",
    "N_list.sort()\n",
    "for i in M_list:\n",
    "    if bi_s(i, 0, N-1):\n",
    "        print(1)\n",
    "    else:\n",
    "        print(0)"
   ]
  },
  {
   "cell_type": "code",
   "execution_count": null,
   "id": "f67fdf69",
   "metadata": {},
   "outputs": [],
   "source": [
    "# 백준 1920 \n",
    "n = int(input())\n",
    "array = set(map(int, input().split())) # 집합으로 만들고 접근할 때에는 시간초과 X\n",
    "m = int(input())\n",
    "x = list(map(int, input().split()))\n",
    "\n",
    "for i in x:\n",
    "    if i not in array:\n",
    "        print('0')\n",
    "    else:\n",
    "        print('1')"
   ]
  },
  {
   "cell_type": "code",
   "execution_count": null,
   "id": "d6a6ccfe",
   "metadata": {},
   "outputs": [],
   "source": [
    "# 백준 2110 (이진 탐색)"
   ]
  },
  {
   "cell_type": "code",
   "execution_count": null,
   "id": "93f0436f",
   "metadata": {},
   "outputs": [],
   "source": [
    "# 백준 7453(정렬 + 이분탐색 + 투 포인터)\n",
    "# 나누어서 고려해서 풀어야함 A/B 따로 C/D 따로\n",
    "\n",
    "n = int(input())\n",
    "A = []\n",
    "B = []\n",
    "C = []\n",
    "D = []\n",
    "\n",
    "for i in range(n):\n",
    "    a, b, c, d = map(int, input().split())\n",
    "    A.append(a)\n",
    "    B.append(b)\n",
    "    C.append(c)\n",
    "    D.append(d)\n",
    "    \n",
    "counter = {}\n",
    "for i in range(n):\n",
    "    for j in range(n):\n",
    "        sum_ = A[i] + B[j]\n",
    "        if sum_ not in counter : counter[sum_] = 1\n",
    "        else: counter[sum_] += 1 \n",
    "\n",
    "result = 0\n",
    "for i in range(n):\n",
    "    for j in range(n):\n",
    "        sum_ = C[i] + D[j]\n",
    "        if -sum_ in counter : # 있다면\n",
    "            result += counter[-sum_] # 그 sum_의 갯수만큼 + 해줌\n",
    "            \n",
    "print(result)"
   ]
  },
  {
   "cell_type": "code",
   "execution_count": null,
   "id": "a3e94ad5",
   "metadata": {},
   "outputs": [],
   "source": []
  }
 ],
 "metadata": {
  "kernelspec": {
   "display_name": "Python 3 (ipykernel)",
   "language": "python",
   "name": "python3"
  },
  "language_info": {
   "codemirror_mode": {
    "name": "ipython",
    "version": 3
   },
   "file_extension": ".py",
   "mimetype": "text/x-python",
   "name": "python",
   "nbconvert_exporter": "python",
   "pygments_lexer": "ipython3",
   "version": "3.9.12"
  }
 },
 "nbformat": 4,
 "nbformat_minor": 5
}
