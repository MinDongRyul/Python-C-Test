{
 "cells": [
  {
   "cell_type": "code",
   "execution_count": null,
   "id": "138bbccf",
   "metadata": {},
   "outputs": [],
   "source": [
    "# 백준 11404 (플로이드 워셜 알고리즘)\n",
    "\n",
    "INF = int(1e9)\n",
    "\n",
    "n = int(input())\n",
    "m = int(input())\n",
    "graph = [[INF] * (n + 1) for _ in range(n + 1)]\n",
    "\n",
    "# 자기 자신은 0으로 초기화\n",
    "for a in range(1, n+1):\n",
    "    for b in range(1, n + 1):\n",
    "        if a == b:\n",
    "            graph[a][b] = 0\n",
    "\n",
    "# 간선 정보 받기 \n",
    "for _ in range(m):\n",
    "    # a에서 b로가는 비용이 c\n",
    "    a, b, c = map(int, input().split())\n",
    "    # 가장 비용이 적은 간선만 고려\n",
    "    graph[a][b] = min(graph[a][b], c)\n",
    "    \n",
    "# 점화식에 따라 플로이드 워셜 알고리즘을 수행\n",
    "for k in range(1, n + 1):\n",
    "    for a in range(1, n + 1):\n",
    "        for b in range(1, n + 1):\n",
    "            graph[a][b] = min(graph[a][b], graph[a][k] + graph[k][b])\n",
    "            \n",
    "# 수행된 결과를 출력\n",
    "for a in range(n + 1):\n",
    "    for b in range(n + 1):\n",
    "        # 도달할 수 없는 경우\n",
    "        if graph[a][b] == 1e9:\n",
    "            print(0, end=' ')\n",
    "        # 도달할 수 있는 경우\n",
    "        else:\n",
    "            print(graph[a][b], end=' ')\n",
    "    print()"
   ]
  }
 ],
 "metadata": {
  "kernelspec": {
   "display_name": "Python 3 (ipykernel)",
   "language": "python",
   "name": "python3"
  },
  "language_info": {
   "codemirror_mode": {
    "name": "ipython",
    "version": 3
   },
   "file_extension": ".py",
   "mimetype": "text/x-python",
   "name": "python",
   "nbconvert_exporter": "python",
   "pygments_lexer": "ipython3",
   "version": "3.9.12"
  }
 },
 "nbformat": 4,
 "nbformat_minor": 5
}
