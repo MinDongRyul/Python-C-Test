{
 "cells": [
  {
   "cell_type": "code",
   "execution_count": 2,
   "id": "9f019aeb",
   "metadata": {},
   "outputs": [
    {
     "data": {
      "text/plain": [
       "'abcabcabc'"
      ]
     },
     "execution_count": 2,
     "metadata": {},
     "output_type": "execute_result"
    }
   ],
   "source": [
    "s = 'abc'\n",
    "b = 'edf'\n",
    "\n",
    "s * 3"
   ]
  },
  {
   "cell_type": "code",
   "execution_count": 5,
   "id": "6f258d57",
   "metadata": {
    "scrolled": true
   },
   "outputs": [
    {
     "name": "stdout",
     "output_type": "stream",
     "text": [
      "CPU times: total: 0 ns\n",
      "Wall time: 0 ns\n"
     ]
    }
   ],
   "source": [
    "%time\n",
    "s = ' '\n",
    "for i in range(100000):\n",
    "    s = s + str(i)"
   ]
  },
  {
   "cell_type": "code",
   "execution_count": 6,
   "id": "319597ba",
   "metadata": {
    "scrolled": true
   },
   "outputs": [
    {
     "data": {
      "text/plain": [
       "'a'"
      ]
     },
     "execution_count": 6,
     "metadata": {},
     "output_type": "execute_result"
    }
   ],
   "source": [
    "s = 'abcd'\n",
    "\n",
    "s[:1]"
   ]
  },
  {
   "cell_type": "code",
   "execution_count": 8,
   "id": "70264470",
   "metadata": {},
   "outputs": [
    {
     "name": "stdout",
     "output_type": "stream",
     "text": [
      "97\n",
      "a\n"
     ]
    }
   ],
   "source": [
    "print(ord('a'))\n",
    "print(chr(97))"
   ]
  },
  {
   "cell_type": "code",
   "execution_count": 10,
   "id": "a7513444",
   "metadata": {},
   "outputs": [
    {
     "name": "stdout",
     "output_type": "stream",
     "text": [
      "False\n"
     ]
    }
   ],
   "source": [
    "if 0 and 1//0:print(True) # 0이 거짓이기에 에러가 발생하지 않음\n",
    "else:print(False)"
   ]
  },
  {
   "cell_type": "code",
   "execution_count": 12,
   "id": "5a20b86f",
   "metadata": {},
   "outputs": [
    {
     "name": "stdout",
     "output_type": "stream",
     "text": [
      "True\n"
     ]
    }
   ],
   "source": [
    "if 1 or 1//0:print(True) # 앞이 참이기에 뒤에서 에러 발생 x\n",
    "else:print(False)"
   ]
  },
  {
   "cell_type": "code",
   "execution_count": 16,
   "id": "80af8f91",
   "metadata": {},
   "outputs": [
    {
     "data": {
      "text/plain": [
       "[0, 2, 4, 6, 8]"
      ]
     },
     "execution_count": 16,
     "metadata": {},
     "output_type": "execute_result"
    }
   ],
   "source": [
    "list_arr = [i for i in range(10) if i % 2 == 0] # 뒤에다 조건을 달아줄 수 있음\n",
    "\n",
    "list_arr"
   ]
  },
  {
   "cell_type": "code",
   "execution_count": 19,
   "id": "cae81fa9",
   "metadata": {},
   "outputs": [],
   "source": [
    "lst = [3, 5, 6, 9, 2]"
   ]
  },
  {
   "cell_type": "code",
   "execution_count": 20,
   "id": "639cbf0a",
   "metadata": {
    "scrolled": true
   },
   "outputs": [
    {
     "name": "stdout",
     "output_type": "stream",
     "text": [
      "[2, 3, 5, 6, 9]\n",
      "[3, 5, 6, 9, 2]\n"
     ]
    }
   ],
   "source": [
    "print(sorted(lst))\n",
    "print(lst)"
   ]
  },
  {
   "cell_type": "code",
   "execution_count": 21,
   "id": "e4b974ee",
   "metadata": {},
   "outputs": [
    {
     "name": "stdout",
     "output_type": "stream",
     "text": [
      "[2, 3, 5, 6, 9]\n"
     ]
    }
   ],
   "source": [
    "lst.sort()\n",
    "print(lst)"
   ]
  },
  {
   "cell_type": "code",
   "execution_count": 22,
   "id": "a5836f3f",
   "metadata": {},
   "outputs": [],
   "source": [
    "lst = [1] + lst"
   ]
  },
  {
   "cell_type": "code",
   "execution_count": 23,
   "id": "a2c94972",
   "metadata": {
    "scrolled": true
   },
   "outputs": [
    {
     "data": {
      "text/plain": [
       "[1, 2, 3, 5, 6, 9]"
      ]
     },
     "execution_count": 23,
     "metadata": {},
     "output_type": "execute_result"
    }
   ],
   "source": [
    "# l을 누르면 옆에 표시줄 나옴\n",
    "lst"
   ]
  },
  {
   "cell_type": "code",
   "execution_count": 24,
   "id": "fa45d017",
   "metadata": {},
   "outputs": [
    {
     "name": "stdout",
     "output_type": "stream",
     "text": [
      "7 3\n",
      "3 7\n"
     ]
    }
   ],
   "source": [
    "a, b = 7, 3\n",
    "print(a, b)\n",
    "a, b = b, a\n",
    "print(a, b)"
   ]
  },
  {
   "cell_type": "code",
   "execution_count": 25,
   "id": "fb4c74e1",
   "metadata": {},
   "outputs": [],
   "source": [
    "dict_test = {1: 2, 2: 3, 'abc':7}"
   ]
  },
  {
   "cell_type": "code",
   "execution_count": 26,
   "id": "bdd4afef",
   "metadata": {},
   "outputs": [
    {
     "name": "stdout",
     "output_type": "stream",
     "text": [
      "{1: 2, 2: 3, 'abc': 7}\n"
     ]
    }
   ],
   "source": [
    "print(dict_test)"
   ]
  },
  {
   "cell_type": "code",
   "execution_count": 28,
   "id": "f01d9e2f",
   "metadata": {},
   "outputs": [
    {
     "data": {
      "text/plain": [
       "dict_values([2, 3, 7])"
      ]
     },
     "execution_count": 28,
     "metadata": {},
     "output_type": "execute_result"
    }
   ],
   "source": [
    "dict_test.values()"
   ]
  },
  {
   "cell_type": "code",
   "execution_count": 29,
   "id": "8e59630b",
   "metadata": {},
   "outputs": [
    {
     "data": {
      "text/plain": [
       "dict_keys([1, 2, 'abc'])"
      ]
     },
     "execution_count": 29,
     "metadata": {},
     "output_type": "execute_result"
    }
   ],
   "source": [
    "dict_test.keys()"
   ]
  },
  {
   "cell_type": "code",
   "execution_count": 30,
   "id": "7cce6672",
   "metadata": {},
   "outputs": [],
   "source": [
    "import collections "
   ]
  },
  {
   "cell_type": "code",
   "execution_count": 31,
   "id": "bdf85d6e",
   "metadata": {},
   "outputs": [
    {
     "data": {
      "text/plain": [
       "Counter({1: 2, 2: 3, 'abc': 7})"
      ]
     },
     "execution_count": 31,
     "metadata": {},
     "output_type": "execute_result"
    }
   ],
   "source": [
    "collections.Counter(dict_test)"
   ]
  },
  {
   "cell_type": "code",
   "execution_count": 32,
   "id": "411fab36",
   "metadata": {},
   "outputs": [
    {
     "name": "stdout",
     "output_type": "stream",
     "text": [
      "[1, 2, 3, 4, 4, 5, 5]\n",
      "{1, 2, 3, 4, 5}\n"
     ]
    }
   ],
   "source": [
    "lst = [1,2 ,3 ,4, 4 ,5 ,5]\n",
    "print(lst)\n",
    "print(set(lst))"
   ]
  },
  {
   "cell_type": "code",
   "execution_count": 33,
   "id": "783bd971",
   "metadata": {},
   "outputs": [
    {
     "name": "stdout",
     "output_type": "stream",
     "text": [
      "8\n",
      "85 42 79 95 37 11 72 32\n",
      "84\n"
     ]
    }
   ],
   "source": [
    "# 백준 15969\n",
    "\n",
    "test_case = int(input())\n",
    "arr = list(map(int, input().split()))\n",
    "\n",
    "result = max(arr) - min(arr)\n",
    "print(result)"
   ]
  },
  {
   "cell_type": "code",
   "execution_count": 40,
   "id": "a872296b",
   "metadata": {},
   "outputs": [
    {
     "name": "stdout",
     "output_type": "stream",
     "text": [
      "5\n",
      "1 2 2 3 4\n",
      "1 3 2 6 8 "
     ]
    }
   ],
   "source": [
    "# 백준 10539\n",
    "\n",
    "n = int(input())\n",
    "b = list(map(int, input().split()))\n",
    "\n",
    "A = [b[0]]\n",
    "\n",
    "for i in range(1, n):\n",
    "    A.append(b[i] * (i + 1) - sum(A))\n",
    "    \n",
    "# print(x for x in A)\n",
    "for i in A:\n",
    "    print(i, end=' ')"
   ]
  },
  {
   "cell_type": "code",
   "execution_count": 56,
   "id": "822ffb86",
   "metadata": {},
   "outputs": [
    {
     "name": "stdout",
     "output_type": "stream",
     "text": [
      "8 14\n",
      "LEESIYUN MIYAWAKISAKURA\n",
      "27%\n"
     ]
    }
   ],
   "source": [
    "# 백준 17269\n",
    "\n",
    "n, m = map(int, input().split())\n",
    "a, b = map(str, input().split())\n",
    "rst = ''\n",
    "len_min = min(len(a), len(b))\n",
    "for i in range(len_min):\n",
    "    rst += a[i] + b[i]\n",
    "rst += a[len_min:] + b[len_min:]\n",
    "# print(rst) LMEIEYSAIWYAUKNISAKURA\n",
    "\n",
    "dict_ = {'A':3, 'B':2, 'C':1, 'D':2, 'E':4, 'F':3, 'G':1, 'H':3, 'I':1, 'J':1, 'K':3, 'L':1, 'M':3, 'N':2, 'O':1, 'P':2, 'Q':2, 'R':2, 'S':1,\n",
    "        'T':2, 'U':1, 'V':1, 'W':1, 'X':2, 'Y':2, 'Z':1}\n",
    "rst_2 = ''\n",
    "for i in rst:\n",
    "    rst_2 = rst_2 + str(dict_[i])\n",
    "# print(rst_2) # 1341421311231321133123\n",
    "\n",
    "while len(rst_2) > 2:\n",
    "    rst_3 = ''\n",
    "    for i in range(len(rst_2)-1):\n",
    "        if len(str(int(rst_2[i]) + int(rst_2[i+1]))) >= 2:\n",
    "            rst_3 += str(int(rst_2[i]) + int(rst_2[i+1]))[1:]\n",
    "        else:\n",
    "            rst_3 += str(int(rst_2[i]) + int(rst_2[i+1]))\n",
    "    rst_2 = rst_3\n",
    "rst_2 = str(int(rst_2))\n",
    "print(rst_2+'%')"
   ]
  },
  {
   "cell_type": "code",
   "execution_count": 72,
   "id": "023cf6c3",
   "metadata": {},
   "outputs": [
    {
     "name": "stdout",
     "output_type": "stream",
     "text": [
      "8\n",
      "OXOXOXOX\n",
      "16\n"
     ]
    }
   ],
   "source": [
    "# 백준 17389\n",
    "\n",
    "n = int(input())\n",
    "s = input()\n",
    "rst = 0\n",
    "bonus = 0\n",
    "if s[0] == 'O':\n",
    "    rst += 1\n",
    "for i in range(1 ,n):\n",
    "    if s[i] == 'O': # s[1] : 'O' / S[0] == S[1] -> 'OO' bonus += 1 \n",
    "        if s[i] == s[i-1]: # oo\n",
    "            bonus += 1\n",
    "            rst += i+1\n",
    "            rst += bonus\n",
    "        else: # xo\n",
    "            rst += i+1\n",
    "    else: # 'x'\n",
    "        bonus = 0\n",
    "print(rst)"
   ]
  },
  {
   "cell_type": "code",
   "execution_count": 74,
   "id": "e4dd73a1",
   "metadata": {},
   "outputs": [
    {
     "name": "stdout",
     "output_type": "stream",
     "text": [
      "8\n",
      "OXXXOXXO\n",
      "14\n"
     ]
    }
   ],
   "source": [
    "n = int(input())\n",
    "s = input()\n",
    "\n",
    "rst = 0\n",
    "bonus = 0\n",
    "\n",
    "for i, OX in enumerate(s):\n",
    "    if OX == 'O': # s[1] : 'O' / S[0] == S[1] -> 'OO' bonus += 1 \n",
    "        rst += i + 1 + bonus\n",
    "        bonus += 1\n",
    "    else: # 'x'\n",
    "        bonus = 0\n",
    "print(rst)"
   ]
  },
  {
   "cell_type": "code",
   "execution_count": 77,
   "id": "e7dcb46c",
   "metadata": {
    "scrolled": true
   },
   "outputs": [
    {
     "name": "stdout",
     "output_type": "stream",
     "text": [
      "1\n",
      "1\n",
      "1\n",
      "0\n",
      "0\n"
     ]
    }
   ],
   "source": [
    "A = {1 : 1, 2: 1, 3: 1, 4: 1, 5: 1}\n",
    "B = [1, 3, 5, 7 ,9]\n",
    "\n",
    "for i in B:\n",
    "    print(A.get(i, 0)) # a가 dict일때 B가 A.keys()에 있다면  1 아니면 0?"
   ]
  },
  {
   "cell_type": "code",
   "execution_count": 4,
   "id": "46f52769",
   "metadata": {
    "collapsed": true
   },
   "outputs": [
    {
     "name": "stdout",
     "output_type": "stream",
     "text": [
      "3 4\n",
      "twice\n",
      "9\n",
      "jihyo\n",
      "dahyeon\n",
      "mina\n",
      "momo\n",
      "chaeyoung\n",
      "jeongyeon\n",
      "tzuyu\n",
      "sana\n",
      "nayeon\n",
      "blackpink\n",
      "4\n",
      "jisu\n",
      "lisa\n",
      "rose\n",
      "jenny\n",
      "redvelvet\n",
      "5\n",
      "wendy\n",
      "irene\n",
      "seulgi\n",
      "yeri\n",
      "joy\n",
      "sana\n",
      "1\n",
      "twice\n",
      "wendy\n",
      "1\n",
      "redvelvet\n",
      "twice\n",
      "0\n",
      "chaeyoung\n",
      "dahyeon\n",
      "jeongyeon\n",
      "jihyo\n",
      "mina\n",
      "momo\n",
      "nayeon\n",
      "sana\n",
      "tzuyu\n",
      "rose\n",
      "1\n",
      "blackpink\n"
     ]
    }
   ],
   "source": [
    "# 백준 16165\n",
    "\n",
    "n, m = map(int, input().split())\n",
    "\n",
    "team_mem, mem_team = {}, {}\n",
    "\n",
    "for _ in range(n):\n",
    "    team_name, team_int  = input(), int(input())\n",
    "    team_mem[team_name] = []\n",
    "    for _ in range(team_int):\n",
    "        name = input()\n",
    "        team_mem[team_name].append(name)\n",
    "        mem_team[name] = team_name\n",
    "    \n",
    "for _ in range(m):\n",
    "    name, q = input(), int(input())\n",
    "    if q :\n",
    "        print(mem_team[name])\n",
    "    else:\n",
    "        for mem in sorted(team_mem[name]):\n",
    "            print(mem)"
   ]
  },
  {
   "cell_type": "code",
   "execution_count": 9,
   "id": "2df01014",
   "metadata": {
    "collapsed": true
   },
   "outputs": [
    {
     "name": "stdout",
     "output_type": "stream",
     "text": [
      "{'twice': ['sana']}\n"
     ]
    },
    {
     "data": {
      "text/plain": [
       "{'twice': ['sana', 'momo']}"
      ]
     },
     "execution_count": 9,
     "metadata": {},
     "output_type": "execute_result"
    }
   ],
   "source": [
    "team_mem, mem_team = {}, {}\n",
    "team_mem['twice'] = []\n",
    "team_mem['twice'].append('sana')\n",
    "print(team_mem)\n",
    "team_mem['twice'].append('momo')\n",
    "team_mem"
   ]
  },
  {
   "cell_type": "code",
   "execution_count": 5,
   "id": "bcaf4f58",
   "metadata": {
    "collapsed": true
   },
   "outputs": [
    {
     "data": {
      "text/plain": [
       "{'twice': ['jihyo',\n",
       "  'dahyeon',\n",
       "  'mina',\n",
       "  'momo',\n",
       "  'chaeyoung',\n",
       "  'jeongyeon',\n",
       "  'tzuyu',\n",
       "  'sana',\n",
       "  'nayeon'],\n",
       " 'blackpink': ['jisu', 'lisa', 'rose', 'jenny'],\n",
       " 'redvelvet': ['wendy', 'irene', 'seulgi', 'yeri', 'joy']}"
      ]
     },
     "execution_count": 5,
     "metadata": {},
     "output_type": "execute_result"
    }
   ],
   "source": [
    "team_mem"
   ]
  },
  {
   "cell_type": "code",
   "execution_count": 6,
   "id": "a9fa6388",
   "metadata": {
    "collapsed": true
   },
   "outputs": [
    {
     "data": {
      "text/plain": [
       "{'jihyo': 'twice',\n",
       " 'dahyeon': 'twice',\n",
       " 'mina': 'twice',\n",
       " 'momo': 'twice',\n",
       " 'chaeyoung': 'twice',\n",
       " 'jeongyeon': 'twice',\n",
       " 'tzuyu': 'twice',\n",
       " 'sana': 'twice',\n",
       " 'nayeon': 'twice',\n",
       " 'jisu': 'blackpink',\n",
       " 'lisa': 'blackpink',\n",
       " 'rose': 'blackpink',\n",
       " 'jenny': 'blackpink',\n",
       " 'wendy': 'redvelvet',\n",
       " 'irene': 'redvelvet',\n",
       " 'seulgi': 'redvelvet',\n",
       " 'yeri': 'redvelvet',\n",
       " 'joy': 'redvelvet'}"
      ]
     },
     "execution_count": 6,
     "metadata": {},
     "output_type": "execute_result"
    }
   ],
   "source": [
    "mem_team"
   ]
  },
  {
   "cell_type": "code",
   "execution_count": 13,
   "id": "85e0808a",
   "metadata": {},
   "outputs": [
    {
     "name": "stdout",
     "output_type": "stream",
     "text": [
      "4 8 4\n",
      "1 8\n",
      "4 5\n",
      "6 20\n",
      "9 12\n",
      "380\n"
     ]
    }
   ],
   "source": [
    "# 백준 17224\n",
    "\n",
    "n, l, k = map(int, input().split())\n",
    "\n",
    "easy, hard = 0, 0\n",
    "\n",
    "for _ in range(n):\n",
    "    sub1, sub2 = map(int, input().split())\n",
    "    if sub2 <= l: # 어려운문제를 풀수 있는 경우\n",
    "        hard += 1\n",
    "    elif sub1 <= l:\n",
    "        easy += 1\n",
    "\n",
    "# hard 문제\n",
    "ans = min(hard, k) * 140 #어려운문제 풀 수 있는 수와 k를 비교\n",
    "\n",
    "# easy\n",
    "if hard < k: # 어려운문제 풀 수 있는 수가 역량보다 적을 때 easy를 추가 hard 3, k 4, easy 1\n",
    "    ans += min(k-hard, easy) * 100 # min(4-3, 1) 1 * 100 -> ans += 100 , easy가 k를 넘을수도 있기에 hard-k랑 비교를 해줘야함\n",
    "    \n",
    "print(ans)"
   ]
  },
  {
   "cell_type": "code",
   "execution_count": 24,
   "id": "146fb486",
   "metadata": {},
   "outputs": [
    {
     "name": "stdout",
     "output_type": "stream",
     "text": [
      "1\n",
      "6\n",
      "10 5 13 2 7 8\n",
      "4\n"
     ]
    }
   ],
   "source": [
    "# 백준 9037\n",
    "\n",
    "def check(n, candy): # 다 같은지 확인\n",
    "    for i in range(n):\n",
    "        if candy[i] % 2 != 0:\n",
    "            candy[i] += 1\n",
    "    return len(set(candy)) == 1 # 모든 수가 다 같은지 확인 -> 다 같다는 건 모두가 같은 수의 사탕을 받았다는 것\n",
    "\n",
    "def teacher(n, candy):\n",
    "    tmp_lst = [0 for i in range(n)]\n",
    "    for idx in range(n):\n",
    "        if candy[idx] % 2: # 홀수면 하나 추가\n",
    "            candy[idx] += 1\n",
    "        candy[idx] //= 2\n",
    "        tmp_lst[(idx+1) % n] = candy[idx] # (idx+1) % n -> idx : 4 이면 0 / idx : 0 이면 1 \n",
    "    \n",
    "    for idx in range(n):\n",
    "        candy[idx] += tmp_lst[idx]\n",
    "        \n",
    "    return candy\n",
    "\n",
    "def process():\n",
    "    n = int(input())\n",
    "    candy = list(map(int, input().split()))\n",
    "    \n",
    "    cnt = 0\n",
    "    while not check(n, candy):\n",
    "        cnt += 1\n",
    "        candy = teacher(n, candy)\n",
    "    print(cnt)\n",
    "     \n",
    "for _ in range(int(input())):\n",
    "    process()"
   ]
  },
  {
   "cell_type": "code",
   "execution_count": 33,
   "id": "a3958abf",
   "metadata": {},
   "outputs": [
    {
     "name": "stdout",
     "output_type": "stream",
     "text": [
      "10 3\n",
      "11 4\n",
      "12 5\n",
      "0\n",
      "10\n",
      "2\n"
     ]
    }
   ],
   "source": [
    "# 백준 16769\n",
    "\n",
    "C, M = [], []\n",
    "\n",
    "for i in range(3):\n",
    "    a, b = map(int, input().split()) \n",
    "    C.append(a) # 용량 \n",
    "    M.append(b) # 우유\n",
    "\n",
    "for i in range(100):\n",
    "    idx = i % 3 # 0,1,2,0,1,2,0,1,2,0\n",
    "    nxt = (idx+1) % 3 # 1,2,0,1,2,0,1,2,0\n",
    "    M[idx], M[nxt] = max(M[idx] - (C[nxt] - M[nxt]), 0), min(C[nxt], M[nxt] + M[idx])\n",
    "    # M[0] : 3, C[1] : 11, M[1] : 4\n",
    "    # M[0], M[1] = max(3 - (11 - 4), 0), min(11, 7)\n",
    "    # M[0], M[1] = 0, 7\n",
    "    # M[1] : 7, C[2] : 12, M[2] : 5\n",
    "    # M[1], M[2] = max(7 - (12 - 5), 0), min(12, 12)\n",
    "    # M[1], M[2] = 0, 12\n",
    "    # M[2] : 12, C[0]:10, M[0]:0\n",
    "    # M[2], M[0] = max(12 - (10 - 0), 0), min(10, 12)\n",
    "    # M[2], M[0] = 2, 10\n",
    "\n",
    "for i in M:\n",
    "    print(i)"
   ]
  },
  {
   "cell_type": "code",
   "execution_count": 30,
   "id": "6d5cb2a8",
   "metadata": {},
   "outputs": [
    {
     "data": {
      "text/plain": [
       "2"
      ]
     },
     "execution_count": 30,
     "metadata": {},
     "output_type": "execute_result"
    }
   ],
   "source": [
    "2 % 3"
   ]
  },
  {
   "cell_type": "code",
   "execution_count": null,
   "id": "0a0f0433",
   "metadata": {},
   "outputs": [],
   "source": []
  },
  {
   "cell_type": "code",
   "execution_count": null,
   "id": "bdf2ec25",
   "metadata": {},
   "outputs": [],
   "source": []
  },
  {
   "cell_type": "code",
   "execution_count": null,
   "id": "09c55296",
   "metadata": {},
   "outputs": [],
   "source": []
  }
 ],
 "metadata": {
  "kernelspec": {
   "display_name": "Python 3 (ipykernel)",
   "language": "python",
   "name": "python3"
  },
  "language_info": {
   "codemirror_mode": {
    "name": "ipython",
    "version": 3
   },
   "file_extension": ".py",
   "mimetype": "text/x-python",
   "name": "python",
   "nbconvert_exporter": "python",
   "pygments_lexer": "ipython3",
   "version": "3.9.12"
  }
 },
 "nbformat": 4,
 "nbformat_minor": 5
}
