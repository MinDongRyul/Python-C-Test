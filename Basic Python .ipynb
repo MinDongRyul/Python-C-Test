{
 "cells": [
  {
   "cell_type": "code",
   "execution_count": 2,
   "id": "9f019aeb",
   "metadata": {},
   "outputs": [
    {
     "data": {
      "text/plain": [
       "'abcabcabc'"
      ]
     },
     "execution_count": 2,
     "metadata": {},
     "output_type": "execute_result"
    }
   ],
   "source": [
    "s = 'abc'\n",
    "b = 'edf'\n",
    "\n",
    "s * 3"
   ]
  },
  {
   "cell_type": "code",
   "execution_count": 5,
   "id": "6f258d57",
   "metadata": {
    "scrolled": true
   },
   "outputs": [
    {
     "name": "stdout",
     "output_type": "stream",
     "text": [
      "CPU times: total: 0 ns\n",
      "Wall time: 0 ns\n"
     ]
    }
   ],
   "source": [
    "%time\n",
    "s = ' '\n",
    "for i in range(100000):\n",
    "    s = s + str(i)"
   ]
  },
  {
   "cell_type": "code",
   "execution_count": 6,
   "id": "319597ba",
   "metadata": {
    "scrolled": true
   },
   "outputs": [
    {
     "data": {
      "text/plain": [
       "'a'"
      ]
     },
     "execution_count": 6,
     "metadata": {},
     "output_type": "execute_result"
    }
   ],
   "source": [
    "s = 'abcd'\n",
    "\n",
    "s[:1]"
   ]
  },
  {
   "cell_type": "code",
   "execution_count": 8,
   "id": "70264470",
   "metadata": {},
   "outputs": [
    {
     "name": "stdout",
     "output_type": "stream",
     "text": [
      "97\n",
      "a\n"
     ]
    }
   ],
   "source": [
    "print(ord('a'))\n",
    "print(chr(97))"
   ]
  },
  {
   "cell_type": "code",
   "execution_count": 10,
   "id": "a7513444",
   "metadata": {},
   "outputs": [
    {
     "name": "stdout",
     "output_type": "stream",
     "text": [
      "False\n"
     ]
    }
   ],
   "source": [
    "if 0 and 1//0:print(True) # 0이 거짓이기에 에러가 발생하지 않음\n",
    "else:print(False)"
   ]
  },
  {
   "cell_type": "code",
   "execution_count": 12,
   "id": "5a20b86f",
   "metadata": {},
   "outputs": [
    {
     "name": "stdout",
     "output_type": "stream",
     "text": [
      "True\n"
     ]
    }
   ],
   "source": [
    "if 1 or 1//0:print(True) # 앞이 참이기에 뒤에서 에러 발생 x\n",
    "else:print(False)"
   ]
  },
  {
   "cell_type": "code",
   "execution_count": 16,
   "id": "80af8f91",
   "metadata": {},
   "outputs": [
    {
     "data": {
      "text/plain": [
       "[0, 2, 4, 6, 8]"
      ]
     },
     "execution_count": 16,
     "metadata": {},
     "output_type": "execute_result"
    }
   ],
   "source": [
    "list_arr = [i for i in range(10) if i % 2 == 0] # 뒤에다 조건을 달아줄 수 있음\n",
    "\n",
    "list_arr"
   ]
  },
  {
   "cell_type": "code",
   "execution_count": 19,
   "id": "cae81fa9",
   "metadata": {},
   "outputs": [],
   "source": [
    "lst = [3, 5, 6, 9, 2]"
   ]
  },
  {
   "cell_type": "code",
   "execution_count": 20,
   "id": "639cbf0a",
   "metadata": {
    "scrolled": true
   },
   "outputs": [
    {
     "name": "stdout",
     "output_type": "stream",
     "text": [
      "[2, 3, 5, 6, 9]\n",
      "[3, 5, 6, 9, 2]\n"
     ]
    }
   ],
   "source": [
    "print(sorted(lst))\n",
    "print(lst)"
   ]
  },
  {
   "cell_type": "code",
   "execution_count": 21,
   "id": "e4b974ee",
   "metadata": {},
   "outputs": [
    {
     "name": "stdout",
     "output_type": "stream",
     "text": [
      "[2, 3, 5, 6, 9]\n"
     ]
    }
   ],
   "source": [
    "lst.sort()\n",
    "print(lst)"
   ]
  },
  {
   "cell_type": "code",
   "execution_count": 22,
   "id": "a5836f3f",
   "metadata": {},
   "outputs": [],
   "source": [
    "lst = [1] + lst"
   ]
  },
  {
   "cell_type": "code",
   "execution_count": 23,
   "id": "a2c94972",
   "metadata": {
    "scrolled": true
   },
   "outputs": [
    {
     "data": {
      "text/plain": [
       "[1, 2, 3, 5, 6, 9]"
      ]
     },
     "execution_count": 23,
     "metadata": {},
     "output_type": "execute_result"
    }
   ],
   "source": [
    "# l을 누르면 옆에 표시줄 나옴\n",
    "lst"
   ]
  },
  {
   "cell_type": "code",
   "execution_count": 24,
   "id": "fa45d017",
   "metadata": {},
   "outputs": [
    {
     "name": "stdout",
     "output_type": "stream",
     "text": [
      "7 3\n",
      "3 7\n"
     ]
    }
   ],
   "source": [
    "a, b = 7, 3\n",
    "print(a, b)\n",
    "a, b = b, a\n",
    "print(a, b)"
   ]
  },
  {
   "cell_type": "code",
   "execution_count": 25,
   "id": "fb4c74e1",
   "metadata": {},
   "outputs": [],
   "source": [
    "dict_test = {1: 2, 2: 3, 'abc':7}"
   ]
  },
  {
   "cell_type": "code",
   "execution_count": 26,
   "id": "bdd4afef",
   "metadata": {},
   "outputs": [
    {
     "name": "stdout",
     "output_type": "stream",
     "text": [
      "{1: 2, 2: 3, 'abc': 7}\n"
     ]
    }
   ],
   "source": [
    "print(dict_test)"
   ]
  },
  {
   "cell_type": "code",
   "execution_count": 28,
   "id": "f01d9e2f",
   "metadata": {},
   "outputs": [
    {
     "data": {
      "text/plain": [
       "dict_values([2, 3, 7])"
      ]
     },
     "execution_count": 28,
     "metadata": {},
     "output_type": "execute_result"
    }
   ],
   "source": [
    "dict_test.values()"
   ]
  },
  {
   "cell_type": "code",
   "execution_count": 29,
   "id": "8e59630b",
   "metadata": {},
   "outputs": [
    {
     "data": {
      "text/plain": [
       "dict_keys([1, 2, 'abc'])"
      ]
     },
     "execution_count": 29,
     "metadata": {},
     "output_type": "execute_result"
    }
   ],
   "source": [
    "dict_test.keys()"
   ]
  },
  {
   "cell_type": "code",
   "execution_count": 30,
   "id": "7cce6672",
   "metadata": {},
   "outputs": [],
   "source": [
    "import collections "
   ]
  },
  {
   "cell_type": "code",
   "execution_count": 31,
   "id": "bdf85d6e",
   "metadata": {},
   "outputs": [
    {
     "data": {
      "text/plain": [
       "Counter({1: 2, 2: 3, 'abc': 7})"
      ]
     },
     "execution_count": 31,
     "metadata": {},
     "output_type": "execute_result"
    }
   ],
   "source": [
    "collections.Counter(dict_test)"
   ]
  },
  {
   "cell_type": "code",
   "execution_count": 32,
   "id": "411fab36",
   "metadata": {},
   "outputs": [
    {
     "name": "stdout",
     "output_type": "stream",
     "text": [
      "[1, 2, 3, 4, 4, 5, 5]\n",
      "{1, 2, 3, 4, 5}\n"
     ]
    }
   ],
   "source": [
    "lst = [1,2 ,3 ,4, 4 ,5 ,5]\n",
    "print(lst)\n",
    "print(set(lst))"
   ]
  },
  {
   "cell_type": "code",
   "execution_count": 33,
   "id": "783bd971",
   "metadata": {},
   "outputs": [
    {
     "name": "stdout",
     "output_type": "stream",
     "text": [
      "8\n",
      "85 42 79 95 37 11 72 32\n",
      "84\n"
     ]
    }
   ],
   "source": [
    "# 백준 15969\n",
    "\n",
    "test_case = int(input())\n",
    "arr = list(map(int, input().split()))\n",
    "\n",
    "result = max(arr) - min(arr)\n",
    "print(result)"
   ]
  },
  {
   "cell_type": "code",
   "execution_count": 40,
   "id": "a872296b",
   "metadata": {},
   "outputs": [
    {
     "name": "stdout",
     "output_type": "stream",
     "text": [
      "5\n",
      "1 2 2 3 4\n",
      "1 3 2 6 8 "
     ]
    }
   ],
   "source": [
    "# 백준 10539\n",
    "\n",
    "n = int(input())\n",
    "b = list(map(int, input().split()))\n",
    "\n",
    "A = [b[0]]\n",
    "\n",
    "for i in range(1, n):\n",
    "    A.append(b[i] * (i + 1) - sum(A))\n",
    "    \n",
    "# print(x for x in A)\n",
    "for i in A:\n",
    "    print(i, end=' ')"
   ]
  },
  {
   "cell_type": "code",
   "execution_count": 56,
   "id": "822ffb86",
   "metadata": {},
   "outputs": [
    {
     "name": "stdout",
     "output_type": "stream",
     "text": [
      "8 14\n",
      "LEESIYUN MIYAWAKISAKURA\n",
      "27%\n"
     ]
    }
   ],
   "source": [
    "# 백준 17269\n",
    "\n",
    "n, m = map(int, input().split())\n",
    "a, b = map(str, input().split())\n",
    "rst = ''\n",
    "len_min = min(len(a), len(b))\n",
    "for i in range(len_min):\n",
    "    rst += a[i] + b[i]\n",
    "rst += a[len_min:] + b[len_min:]\n",
    "# print(rst) LMEIEYSAIWYAUKNISAKURA\n",
    "\n",
    "dict_ = {'A':3, 'B':2, 'C':1, 'D':2, 'E':4, 'F':3, 'G':1, 'H':3, 'I':1, 'J':1, 'K':3, 'L':1, 'M':3, 'N':2, 'O':1, 'P':2, 'Q':2, 'R':2, 'S':1,\n",
    "        'T':2, 'U':1, 'V':1, 'W':1, 'X':2, 'Y':2, 'Z':1}\n",
    "rst_2 = ''\n",
    "for i in rst:\n",
    "    rst_2 = rst_2 + str(dict_[i])\n",
    "# print(rst_2) # 1341421311231321133123\n",
    "\n",
    "while len(rst_2) > 2:\n",
    "    rst_3 = ''\n",
    "    for i in range(len(rst_2)-1):\n",
    "        if len(str(int(rst_2[i]) + int(rst_2[i+1]))) >= 2:\n",
    "            rst_3 += str(int(rst_2[i]) + int(rst_2[i+1]))[1:]\n",
    "        else:\n",
    "            rst_3 += str(int(rst_2[i]) + int(rst_2[i+1]))\n",
    "    rst_2 = rst_3\n",
    "rst_2 = str(int(rst_2))\n",
    "print(rst_2+'%')"
   ]
  },
  {
   "cell_type": "code",
   "execution_count": 72,
   "id": "023cf6c3",
   "metadata": {},
   "outputs": [
    {
     "name": "stdout",
     "output_type": "stream",
     "text": [
      "8\n",
      "OXOXOXOX\n",
      "16\n"
     ]
    }
   ],
   "source": [
    "# 백준 17389\n",
    "\n",
    "n = int(input())\n",
    "s = input()\n",
    "rst = 0\n",
    "bonus = 0\n",
    "if s[0] == 'O':\n",
    "    rst += 1\n",
    "for i in range(1 ,n):\n",
    "    if s[i] == 'O': # s[1] : 'O' / S[0] == S[1] -> 'OO' bonus += 1 \n",
    "        if s[i] == s[i-1]: # oo\n",
    "            bonus += 1\n",
    "            rst += i+1\n",
    "            rst += bonus\n",
    "        else: # xo\n",
    "            rst += i+1\n",
    "    else: # 'x'\n",
    "        bonus = 0\n",
    "print(rst)"
   ]
  },
  {
   "cell_type": "code",
   "execution_count": 74,
   "id": "e4dd73a1",
   "metadata": {},
   "outputs": [
    {
     "name": "stdout",
     "output_type": "stream",
     "text": [
      "8\n",
      "OXXXOXXO\n",
      "14\n"
     ]
    }
   ],
   "source": [
    "n = int(input())\n",
    "s = input()\n",
    "\n",
    "rst = 0\n",
    "bonus = 0\n",
    "\n",
    "for i, OX in enumerate(s):\n",
    "    if OX == 'O': # s[1] : 'O' / S[0] == S[1] -> 'OO' bonus += 1 \n",
    "        rst += i + 1 + bonus\n",
    "        bonus += 1\n",
    "    else: # 'x'\n",
    "        bonus = 0\n",
    "print(rst)"
   ]
  },
  {
   "cell_type": "code",
   "execution_count": 77,
   "id": "e7dcb46c",
   "metadata": {
    "scrolled": true
   },
   "outputs": [
    {
     "name": "stdout",
     "output_type": "stream",
     "text": [
      "1\n",
      "1\n",
      "1\n",
      "0\n",
      "0\n"
     ]
    }
   ],
   "source": [
    "A = {1 : 1, 2: 1, 3: 1, 4: 1, 5: 1}\n",
    "B = [1, 3, 5, 7 ,9]\n",
    "\n",
    "for i in B:\n",
    "    print(A.get(i, 0)) # a가 dict일때 B가 A.keys()에 있다면  1 아니면 0?"
   ]
  },
  {
   "cell_type": "code",
   "execution_count": 4,
   "id": "46f52769",
   "metadata": {
    "collapsed": true
   },
   "outputs": [
    {
     "name": "stdout",
     "output_type": "stream",
     "text": [
      "3 4\n",
      "twice\n",
      "9\n",
      "jihyo\n",
      "dahyeon\n",
      "mina\n",
      "momo\n",
      "chaeyoung\n",
      "jeongyeon\n",
      "tzuyu\n",
      "sana\n",
      "nayeon\n",
      "blackpink\n",
      "4\n",
      "jisu\n",
      "lisa\n",
      "rose\n",
      "jenny\n",
      "redvelvet\n",
      "5\n",
      "wendy\n",
      "irene\n",
      "seulgi\n",
      "yeri\n",
      "joy\n",
      "sana\n",
      "1\n",
      "twice\n",
      "wendy\n",
      "1\n",
      "redvelvet\n",
      "twice\n",
      "0\n",
      "chaeyoung\n",
      "dahyeon\n",
      "jeongyeon\n",
      "jihyo\n",
      "mina\n",
      "momo\n",
      "nayeon\n",
      "sana\n",
      "tzuyu\n",
      "rose\n",
      "1\n",
      "blackpink\n"
     ]
    }
   ],
   "source": [
    "# 백준 16165\n",
    "\n",
    "n, m = map(int, input().split())\n",
    "\n",
    "team_mem, mem_team = {}, {}\n",
    "\n",
    "for _ in range(n):\n",
    "    team_name, team_int  = input(), int(input())\n",
    "    team_mem[team_name] = []\n",
    "    for _ in range(team_int):\n",
    "        name = input()\n",
    "        team_mem[team_name].append(name)\n",
    "        mem_team[name] = team_name\n",
    "    \n",
    "for _ in range(m):\n",
    "    name, q = input(), int(input())\n",
    "    if q :\n",
    "        print(mem_team[name])\n",
    "    else:\n",
    "        for mem in sorted(team_mem[name]):\n",
    "            print(mem)"
   ]
  },
  {
   "cell_type": "code",
   "execution_count": 9,
   "id": "e8e60ad8",
   "metadata": {
    "collapsed": true
   },
   "outputs": [
    {
     "name": "stdout",
     "output_type": "stream",
     "text": [
      "{'twice': ['sana']}\n"
     ]
    },
    {
     "data": {
      "text/plain": [
       "{'twice': ['sana', 'momo']}"
      ]
     },
     "execution_count": 9,
     "metadata": {},
     "output_type": "execute_result"
    }
   ],
   "source": [
    "team_mem, mem_team = {}, {}\n",
    "team_mem['twice'] = []\n",
    "team_mem['twice'].append('sana')\n",
    "print(team_mem)\n",
    "team_mem['twice'].append('momo')\n",
    "team_mem"
   ]
  },
  {
   "cell_type": "code",
   "execution_count": 5,
   "id": "b47fd504",
   "metadata": {
    "collapsed": true
   },
   "outputs": [
    {
     "data": {
      "text/plain": [
       "{'twice': ['jihyo',\n",
       "  'dahyeon',\n",
       "  'mina',\n",
       "  'momo',\n",
       "  'chaeyoung',\n",
       "  'jeongyeon',\n",
       "  'tzuyu',\n",
       "  'sana',\n",
       "  'nayeon'],\n",
       " 'blackpink': ['jisu', 'lisa', 'rose', 'jenny'],\n",
       " 'redvelvet': ['wendy', 'irene', 'seulgi', 'yeri', 'joy']}"
      ]
     },
     "execution_count": 5,
     "metadata": {},
     "output_type": "execute_result"
    }
   ],
   "source": [
    "team_mem"
   ]
  },
  {
   "cell_type": "code",
   "execution_count": 6,
   "id": "a9fa6388",
   "metadata": {
    "collapsed": true
   },
   "outputs": [
    {
     "data": {
      "text/plain": [
       "{'jihyo': 'twice',\n",
       " 'dahyeon': 'twice',\n",
       " 'mina': 'twice',\n",
       " 'momo': 'twice',\n",
       " 'chaeyoung': 'twice',\n",
       " 'jeongyeon': 'twice',\n",
       " 'tzuyu': 'twice',\n",
       " 'sana': 'twice',\n",
       " 'nayeon': 'twice',\n",
       " 'jisu': 'blackpink',\n",
       " 'lisa': 'blackpink',\n",
       " 'rose': 'blackpink',\n",
       " 'jenny': 'blackpink',\n",
       " 'wendy': 'redvelvet',\n",
       " 'irene': 'redvelvet',\n",
       " 'seulgi': 'redvelvet',\n",
       " 'yeri': 'redvelvet',\n",
       " 'joy': 'redvelvet'}"
      ]
     },
     "execution_count": 6,
     "metadata": {},
     "output_type": "execute_result"
    }
   ],
   "source": [
    "mem_team"
   ]
  },
  {
   "cell_type": "code",
   "execution_count": 13,
   "id": "85e0808a",
   "metadata": {},
   "outputs": [
    {
     "name": "stdout",
     "output_type": "stream",
     "text": [
      "4 8 4\n",
      "1 8\n",
      "4 5\n",
      "6 20\n",
      "9 12\n",
      "380\n"
     ]
    }
   ],
   "source": [
    "# 백준 17224\n",
    "\n",
    "n, l, k = map(int, input().split())\n",
    "\n",
    "easy, hard = 0, 0\n",
    "\n",
    "for _ in range(n):\n",
    "    sub1, sub2 = map(int, input().split())\n",
    "    if sub2 <= l: # 어려운문제를 풀수 있는 경우\n",
    "        hard += 1\n",
    "    elif sub1 <= l:\n",
    "        easy += 1\n",
    "\n",
    "# hard 문제\n",
    "ans = min(hard, k) * 140 #어려운문제 풀 수 있는 수와 k를 비교\n",
    "\n",
    "# easy\n",
    "if hard < k: # 어려운문제 풀 수 있는 수가 역량보다 적을 때 easy를 추가 hard 3, k 4, easy 1\n",
    "    ans += min(k-hard, easy) * 100 # min(4-3, 1) 1 * 100 -> ans += 100 , easy가 k를 넘을수도 있기에 hard-k랑 비교를 해줘야함\n",
    "    \n",
    "print(ans)"
   ]
  },
  {
   "cell_type": "code",
   "execution_count": 24,
   "id": "b28f0fc6",
   "metadata": {},
   "outputs": [
    {
     "name": "stdout",
     "output_type": "stream",
     "text": [
      "1\n",
      "6\n",
      "10 5 13 2 7 8\n",
      "4\n"
     ]
    }
   ],
   "source": [
    "# 백준 9037\n",
    "\n",
    "def check(n, candy): # 다 같은지 확인\n",
    "    for i in range(n):\n",
    "        if candy[i] % 2 != 0:\n",
    "            candy[i] += 1\n",
    "    return len(set(candy)) == 1 # 모든 수가 다 같은지 확인 -> 다 같다는 건 모두가 같은 수의 사탕을 받았다는 것\n",
    "\n",
    "def teacher(n, candy):\n",
    "    tmp_lst = [0 for i in range(n)]\n",
    "    for idx in range(n):\n",
    "        if candy[idx] % 2: # 홀수면 하나 추가\n",
    "            candy[idx] += 1\n",
    "        candy[idx] //= 2\n",
    "        tmp_lst[(idx+1) % n] = candy[idx] # (idx+1) % n -> idx : 4 이면 0 / idx : 0 이면 1 \n",
    "    \n",
    "    for idx in range(n):\n",
    "        candy[idx] += tmp_lst[idx]\n",
    "        \n",
    "    return candy\n",
    "\n",
    "def process():\n",
    "    n = int(input())\n",
    "    candy = list(map(int, input().split()))\n",
    "    \n",
    "    cnt = 0\n",
    "    while not check(n, candy):\n",
    "        cnt += 1\n",
    "        candy = teacher(n, candy)\n",
    "    print(cnt)\n",
    "     \n",
    "for _ in range(int(input())):\n",
    "    process()"
   ]
  },
  {
   "cell_type": "code",
   "execution_count": 33,
   "id": "f4786a66",
   "metadata": {
    "collapsed": true
   },
   "outputs": [
    {
     "name": "stdout",
     "output_type": "stream",
     "text": [
      "10 3\n",
      "11 4\n",
      "12 5\n",
      "0\n",
      "10\n",
      "2\n"
     ]
    }
   ],
   "source": [
    "# 백준 16769\n",
    "\n",
    "C, M = [], []\n",
    "\n",
    "for i in range(3):\n",
    "    a, b = map(int, input().split()) \n",
    "    C.append(a) # 용량 \n",
    "    M.append(b) # 우유\n",
    "\n",
    "for i in range(100):\n",
    "    idx = i % 3 # 0,1,2,0,1,2,0,1,2,0\n",
    "    nxt = (idx+1) % 3 # 1,2,0,1,2,0,1,2,0\n",
    "    M[idx], M[nxt] = max(M[idx] - (C[nxt] - M[nxt]), 0), min(C[nxt], M[nxt] + M[idx])\n",
    "    # M[0] : 3, C[1] : 11, M[1] : 4\n",
    "    # M[0], M[1] = max(3 - (11 - 4), 0), min(11, 7)\n",
    "    # M[0], M[1] = 0, 7\n",
    "    # M[1] : 7, C[2] : 12, M[2] : 5\n",
    "    # M[1], M[2] = max(7 - (12 - 5), 0), min(12, 12)\n",
    "    # M[1], M[2] = 0, 12\n",
    "    # M[2] : 12, C[0]:10, M[0]:0\n",
    "    # M[2], M[0] = max(12 - (10 - 0), 0), min(10, 12)\n",
    "    # M[2], M[0] = 2, 10\n",
    "\n",
    "for i in M:\n",
    "    print(i)"
   ]
  },
  {
   "cell_type": "code",
   "execution_count": 38,
   "id": "d1a0e622",
   "metadata": {},
   "outputs": [
    {
     "name": "stdout",
     "output_type": "stream",
     "text": [
      "2 3 1\n",
      "3 1 2 1 0\n",
      "1 1 1 1 1\n",
      "11\n"
     ]
    }
   ],
   "source": [
    "# 백준 1074\n",
    "\n",
    "N, r, c = map(int, input().split())\n",
    "\n",
    "# Z : 0, 0을 기준으로 x, y의 숫자\n",
    "def Z(sz, x, y):\n",
    "    if sz == 1:\n",
    "        return 0\n",
    "    sz //= 2\n",
    "    for i in range(2):\n",
    "        for j in range(2):\n",
    "            if x < sz * (i + 1) and y < sz * (j + 1): # x 0 y 0\n",
    "                print(x, y, sz, i, j)\n",
    "                return (i * 2 + j) * sz * sz + Z(sz, x-sz*i, y-sz*j)\n",
    "            \n",
    "print(Z(2**N, r, c)) # row, column"
   ]
  },
  {
   "cell_type": "code",
   "execution_count": 49,
   "id": "403f027a",
   "metadata": {},
   "outputs": [
    {
     "name": "stdout",
     "output_type": "stream",
     "text": [
      "1\n"
     ]
    }
   ],
   "source": [
    "S = 'aia'\n",
    "if S == S[::-1]:\n",
    "    print(1)\n",
    "else:\n",
    "    print(0)"
   ]
  },
  {
   "cell_type": "code",
   "execution_count": 54,
   "id": "f1069e57",
   "metadata": {
    "collapsed": true
   },
   "outputs": [
    {
     "name": "stdout",
     "output_type": "stream",
     "text": [
      "5\n",
      "1 2 3 4\n",
      "400\n",
      "1 1 2 3\n",
      "1100\n",
      "1 3 3 3\n",
      "13000\n",
      "1 2 2 3\n",
      "1200\n",
      "3 3 3 3\n",
      "65000\n",
      "65000\n"
     ]
    }
   ],
   "source": [
    "# 백준 2484\n",
    "\n",
    "def check(lst):\n",
    "    if len(set(lst)) == 1: # 전부 같은 경우 3 3 3 3\n",
    "        return 50000 + lst[0] * 5000\n",
    "    elif len(set(lst)) == 2: \n",
    "        if lst[1] == lst[2]: # 1 1 1 3 or 1 3 3 3 \n",
    "            return 10000 + lst[1] * 1000\n",
    "        else: # 1 1 3 3\n",
    "            return 2000 + lst[1] * 500 + lst[2] * 500\n",
    "#     elif len(set(lst)) == 3 :   \n",
    "#         if lst[0] == lst[1]: # 1123\n",
    "#             return 1000 + lst[0] * 100\n",
    "#         elif lst[2] == lst[3]: # 1233\n",
    "#             return 1000 + lst[3] * 100\n",
    "#         else: # 1223\n",
    "#             return 1000 + lst[1] * 100\n",
    "    for i in range(3):\n",
    "        if lst[i] == lst[i+1]: # lst[0] : 1, lst[1] : 1\n",
    "            return 1000 + lst[i] * 100\n",
    "    return max(lst) * 100\n",
    "        \n",
    "tc = int(input())\n",
    "max_total = 0\n",
    "for _ in range(tc):\n",
    "    lst = sorted(list(map(int, input().split()))) # 정렬 필수\n",
    "    total = check(lst)\n",
    "    max_total = max(max_total, total)\n",
    "print(max_total)"
   ]
  },
  {
   "cell_type": "code",
   "execution_count": 61,
   "id": "c3e543d6",
   "metadata": {},
   "outputs": [
    {
     "name": "stdout",
     "output_type": "stream",
     "text": [
      "P P S R\n",
      "TK\n"
     ]
    }
   ],
   "source": [
    "# 백준 16675\n",
    "\n",
    "ml, mr, tl, tr = ('SPR'.index(i) for i in input().split()) # 0 S 1 P 2 R \n",
    "                            #  .find(i) 도 가능\n",
    "# s p 0 2\n",
    "# p r 2 1\n",
    "# r s 1 0\n",
    "\n",
    "if ml == mr and (ml+2)%3 in [tl, tr]: \n",
    "    print('TK')\n",
    "elif tl == tr and (tl+2)%3 in [ml, mr]:\n",
    "    print('MS')\n",
    "else:\n",
    "    print('?')"
   ]
  },
  {
   "cell_type": "code",
   "execution_count": 68,
   "id": "02979778",
   "metadata": {},
   "outputs": [
    {
     "name": "stdout",
     "output_type": "stream",
     "text": [
      "<problem>17413<is hardest>problem ever<end>\n",
      "<problem>31471<is hardest>melborp reve<end>\n"
     ]
    }
   ],
   "source": [
    "# 백준 17413\n",
    "\n",
    "S, tmp = input(), \"\"\n",
    "\n",
    "ck = False\n",
    "ans = ''\n",
    "\n",
    "for i in S:\n",
    "    if i == ' ':\n",
    "        if not ck: # <> 밖\n",
    "            ans += tmp[::-1] + ' ' # 지금까지 저장한걸 반대로 덧 붙히고 ' ' 랑 tmp 비워주기\n",
    "            tmp = ''\n",
    "        else:\n",
    "            ans += ' '\n",
    "    elif i in '<':\n",
    "        ck = True # 괄호안 시작\n",
    "        ans += tmp[::-1] + '<'\n",
    "        tmp = '' # tmp 비워주기\n",
    "    elif i in '>':\n",
    "        ck = False # 괄호 끝\n",
    "        ans += '>' # 괄호로 닫아주기\n",
    "    else: # 알파벳과 숫자\n",
    "        if ck: # 괄호 안이라면 그대로, 괄호 밖이라면 tmp에 덧 붙혀줌\n",
    "            ans += i\n",
    "        else:\n",
    "            tmp += i\n",
    "            \n",
    "ans += tmp[::-1]\n",
    "\n",
    "print(ans)"
   ]
  },
  {
   "cell_type": "code",
   "execution_count": 77,
   "id": "0e3b388e",
   "metadata": {},
   "outputs": [
    {
     "name": "stdout",
     "output_type": "stream",
     "text": [
      "1 2\n",
      "SW\n",
      "0\n"
     ]
    }
   ],
   "source": [
    "# 백준 16956\n",
    "\n",
    "r, c = map(int, input().split())\n",
    "M = [list(input()) for i in range(r)]\n",
    "\n",
    "dx, dy = [-1, 1, 0, 0], [0, 0, 1, -1] # 북남동서\n",
    "# dx, dy = [0, 1, 0, -1], [1, 0, -1, 0] # 시계방향\n",
    "\n",
    "ck = False\n",
    "\n",
    "for i in range(r):\n",
    "    for j in range(c):\n",
    "        if M[i][j] == 'W': # 울프 주변에 양이 있는지 체크\n",
    "            for w in range(4):\n",
    "                ii, jj = i + dx[w], j + dy[w] # 예외처리\n",
    "                if ii < 0 or ii == r or jj < 0 or jj == c: # 범위를 벗어나는 경우\n",
    "                    continue\n",
    "                if M[ii][jj] == 'S':\n",
    "                    ck = True\n",
    "                    \n",
    "if ck:\n",
    "    print(0)\n",
    "else:\n",
    "    print(1)\n",
    "    for i in range(r):\n",
    "        for j in range(r):\n",
    "            if M[i][j] not in 'SW':\n",
    "                M[i][j] = 'D'\n",
    "    for i in M:\n",
    "        print(''.join(i))"
   ]
  },
  {
   "cell_type": "code",
   "execution_count": 87,
   "id": "7a40efc1",
   "metadata": {
    "collapsed": true
   },
   "outputs": [
    {
     "name": "stdout",
     "output_type": "stream",
     "text": [
      "6\n",
      "1 0 2 3 3 4\n",
      "1 1 1 1 1 1\n",
      "0 0 1 1 1 1\n",
      "3 9 9 0 1 99\n",
      "9 11 3 1 0 3\n",
      "12 3 0 0 0 1\n",
      "0 1\n",
      "0 2\n",
      "0 3\n",
      "0 4\n",
      "0 5\n",
      "0 6\n",
      "0 7\n",
      "0 8\n",
      "0 9\n",
      "0 10\n",
      "0 11\n",
      "0 12\n",
      "0 13\n",
      "0 14\n",
      "0 15\n",
      "0 16\n",
      "0 17\n",
      "0 18\n",
      "0 19\n",
      "0 20\n",
      "0 21\n",
      "0 22\n",
      "0 23\n",
      "0 24\n",
      "0 25\n",
      "0 26\n",
      "0 27\n",
      "0 28\n",
      "0 29\n",
      "0 30\n",
      "0 31\n",
      "0 32\n",
      "0 33\n",
      "0 34\n",
      "0 35\n",
      "1 2\n",
      "1 3\n",
      "1 4\n",
      "1 5\n",
      "1 6\n",
      "1 7\n",
      "1 8\n",
      "1 9\n",
      "1 10\n",
      "1 11\n",
      "1 12\n",
      "1 13\n",
      "1 14\n",
      "1 15\n",
      "1 16\n",
      "1 17\n",
      "1 18\n",
      "1 19\n",
      "1 20\n",
      "1 21\n",
      "1 22\n",
      "1 23\n",
      "1 24\n",
      "1 25\n",
      "1 26\n",
      "1 27\n",
      "1 28\n",
      "1 29\n",
      "1 30\n",
      "1 31\n",
      "1 32\n",
      "1 33\n",
      "1 34\n",
      "1 35\n",
      "2 3\n",
      "2 4\n",
      "2 5\n",
      "2 6\n",
      "2 7\n",
      "2 8\n",
      "2 9\n",
      "2 10\n",
      "2 11\n",
      "2 12\n",
      "2 13\n",
      "2 14\n",
      "2 15\n",
      "2 16\n",
      "2 17\n",
      "2 18\n",
      "2 19\n",
      "2 20\n",
      "2 21\n",
      "2 22\n",
      "2 23\n",
      "2 24\n",
      "2 25\n",
      "2 26\n",
      "2 27\n",
      "2 28\n",
      "2 29\n",
      "2 30\n",
      "2 31\n",
      "2 32\n",
      "2 33\n",
      "2 34\n",
      "2 35\n",
      "3 4\n",
      "3 5\n",
      "3 6\n",
      "3 7\n",
      "3 8\n",
      "3 9\n",
      "3 10\n",
      "3 11\n",
      "3 12\n",
      "3 13\n",
      "3 14\n",
      "3 15\n",
      "3 16\n",
      "3 17\n",
      "3 18\n",
      "3 19\n",
      "3 20\n",
      "3 21\n",
      "3 22\n",
      "3 23\n",
      "3 24\n",
      "3 25\n",
      "3 26\n",
      "3 27\n",
      "3 28\n",
      "3 29\n",
      "3 30\n",
      "3 31\n",
      "3 32\n",
      "3 33\n",
      "3 34\n",
      "3 35\n",
      "4 5\n",
      "4 6\n",
      "4 7\n",
      "4 8\n",
      "4 9\n",
      "4 10\n",
      "4 11\n",
      "4 12\n",
      "4 13\n",
      "4 14\n",
      "4 15\n",
      "4 16\n",
      "4 17\n",
      "4 18\n",
      "4 19\n",
      "4 20\n",
      "4 21\n",
      "4 22\n",
      "4 23\n",
      "4 24\n",
      "4 25\n",
      "4 26\n",
      "4 27\n",
      "4 28\n",
      "4 29\n",
      "4 30\n",
      "4 31\n",
      "4 32\n",
      "4 33\n",
      "4 34\n",
      "4 35\n",
      "5 6\n",
      "5 7\n",
      "5 8\n",
      "5 9\n",
      "5 10\n",
      "5 11\n",
      "5 12\n",
      "5 13\n",
      "5 14\n",
      "5 15\n",
      "5 16\n",
      "5 17\n",
      "5 18\n",
      "5 19\n",
      "5 20\n",
      "5 21\n",
      "5 22\n",
      "5 23\n",
      "5 24\n",
      "5 25\n",
      "5 26\n",
      "5 27\n",
      "5 28\n",
      "5 29\n",
      "5 30\n",
      "5 31\n",
      "5 32\n",
      "5 33\n",
      "5 34\n",
      "5 35\n",
      "6 7\n",
      "6 8\n",
      "6 9\n",
      "6 10\n",
      "6 11\n",
      "6 12\n",
      "6 13\n",
      "6 14\n",
      "6 15\n",
      "6 16\n",
      "6 17\n",
      "6 18\n",
      "6 19\n",
      "6 20\n",
      "6 21\n",
      "6 22\n",
      "6 23\n",
      "6 24\n",
      "6 25\n",
      "6 26\n",
      "6 27\n",
      "6 28\n",
      "6 29\n",
      "6 30\n",
      "6 31\n",
      "6 32\n",
      "6 33\n",
      "6 34\n",
      "6 35\n",
      "7 8\n",
      "7 9\n",
      "7 10\n",
      "7 11\n",
      "7 12\n",
      "7 13\n",
      "7 14\n",
      "7 15\n",
      "7 16\n",
      "7 17\n",
      "7 18\n",
      "7 19\n",
      "7 20\n",
      "7 21\n",
      "7 22\n",
      "7 23\n",
      "7 24\n",
      "7 25\n",
      "7 26\n",
      "7 27\n",
      "7 28\n",
      "7 29\n",
      "7 30\n",
      "7 31\n",
      "7 32\n",
      "7 33\n",
      "7 34\n",
      "7 35\n",
      "8 9\n",
      "8 10\n",
      "8 11\n",
      "8 12\n",
      "8 13\n",
      "8 14\n",
      "8 15\n",
      "8 16\n",
      "8 17\n",
      "8 18\n",
      "8 19\n",
      "8 20\n",
      "8 21\n",
      "8 22\n",
      "8 23\n",
      "8 24\n",
      "8 25\n",
      "8 26\n",
      "8 27\n",
      "8 28\n",
      "8 29\n",
      "8 30\n",
      "8 31\n",
      "8 32\n",
      "8 33\n",
      "8 34\n",
      "8 35\n",
      "9 10\n",
      "9 11\n",
      "9 12\n",
      "9 13\n",
      "9 14\n",
      "9 15\n",
      "9 16\n",
      "9 17\n",
      "9 18\n",
      "9 19\n",
      "9 20\n",
      "9 21\n",
      "9 22\n",
      "9 23\n",
      "9 24\n",
      "9 25\n",
      "9 26\n",
      "9 27\n",
      "9 28\n",
      "9 29\n",
      "9 30\n",
      "9 31\n",
      "9 32\n",
      "9 33\n",
      "9 34\n",
      "9 35\n",
      "10 11\n",
      "10 12\n",
      "10 13\n",
      "10 14\n",
      "10 15\n",
      "10 16\n",
      "10 17\n",
      "10 18\n",
      "10 19\n",
      "10 20\n",
      "10 21\n",
      "10 22\n",
      "10 23\n",
      "10 24\n",
      "10 25\n",
      "10 26\n",
      "10 27\n",
      "10 28\n",
      "10 29\n",
      "10 30\n",
      "10 31\n",
      "10 32\n",
      "10 33\n",
      "10 34\n",
      "10 35\n",
      "11 12\n",
      "11 13\n",
      "11 14\n",
      "11 15\n",
      "11 16\n",
      "11 17\n",
      "11 18\n",
      "11 19\n",
      "11 20\n",
      "11 21\n",
      "11 22\n",
      "11 23\n",
      "11 24\n",
      "11 25\n",
      "11 26\n",
      "11 27\n",
      "11 28\n",
      "11 29\n",
      "11 30\n",
      "11 31\n",
      "11 32\n",
      "11 33\n",
      "11 34\n",
      "11 35\n",
      "12 13\n",
      "12 14\n",
      "12 15\n",
      "12 16\n",
      "12 17\n",
      "12 18\n",
      "12 19\n",
      "12 20\n",
      "12 21\n",
      "12 22\n",
      "12 23\n",
      "12 24\n",
      "12 25\n",
      "12 26\n",
      "12 27\n",
      "12 28\n",
      "12 29\n",
      "12 30\n",
      "12 31\n",
      "12 32\n",
      "12 33\n",
      "12 34\n",
      "12 35\n",
      "13 14\n",
      "13 15\n",
      "13 16\n",
      "13 17\n",
      "13 18\n",
      "13 19\n",
      "13 20\n",
      "13 21\n",
      "13 22\n",
      "13 23\n",
      "13 24\n",
      "13 25\n",
      "13 26\n",
      "13 27\n",
      "13 28\n",
      "13 29\n",
      "13 30\n",
      "13 31\n",
      "13 32\n",
      "13 33\n",
      "13 34\n",
      "13 35\n",
      "14 15\n",
      "14 16\n",
      "14 17\n",
      "14 18\n",
      "14 19\n",
      "14 20\n",
      "14 21\n",
      "14 22\n",
      "14 23\n",
      "14 24\n",
      "14 25\n",
      "14 26\n",
      "14 27\n",
      "14 28\n",
      "14 29\n",
      "14 30\n",
      "14 31\n",
      "14 32\n",
      "14 33\n",
      "14 34\n",
      "14 35\n",
      "15 16\n",
      "15 17\n",
      "15 18\n",
      "15 19\n",
      "15 20\n",
      "15 21\n",
      "15 22\n",
      "15 23\n",
      "15 24\n",
      "15 25\n",
      "15 26\n",
      "15 27\n",
      "15 28\n",
      "15 29\n",
      "15 30\n",
      "15 31\n",
      "15 32\n",
      "15 33\n",
      "15 34\n",
      "15 35\n",
      "16 17\n",
      "16 18\n",
      "16 19\n",
      "16 20\n",
      "16 21\n",
      "16 22\n",
      "16 23\n",
      "16 24\n",
      "16 25\n",
      "16 26\n",
      "16 27\n",
      "16 28\n",
      "16 29\n",
      "16 30\n",
      "16 31\n",
      "16 32\n",
      "16 33\n",
      "16 34\n",
      "16 35\n",
      "17 18\n",
      "17 19\n",
      "17 20\n",
      "17 21\n",
      "17 22\n",
      "17 23\n",
      "17 24\n",
      "17 25\n",
      "17 26\n",
      "17 27\n",
      "17 28\n",
      "17 29\n",
      "17 30\n",
      "17 31\n",
      "17 32\n",
      "17 33\n",
      "17 34\n",
      "17 35\n",
      "18 19\n",
      "18 20\n",
      "18 21\n",
      "18 22\n",
      "18 23\n",
      "18 24\n",
      "18 25\n",
      "18 26\n",
      "18 27\n",
      "18 28\n",
      "18 29\n",
      "18 30\n",
      "18 31\n",
      "18 32\n",
      "18 33\n",
      "18 34\n",
      "18 35\n",
      "19 20\n",
      "19 21\n",
      "19 22\n",
      "19 23\n",
      "19 24\n",
      "19 25\n",
      "19 26\n",
      "19 27\n",
      "19 28\n",
      "19 29\n",
      "19 30\n",
      "19 31\n",
      "19 32\n",
      "19 33\n",
      "19 34\n",
      "19 35\n",
      "20 21\n",
      "20 22\n",
      "20 23\n",
      "20 24\n",
      "20 25\n",
      "20 26\n",
      "20 27\n",
      "20 28\n",
      "20 29\n",
      "20 30\n",
      "20 31\n",
      "20 32\n",
      "20 33\n",
      "20 34\n",
      "20 35\n",
      "21 22\n",
      "21 23\n",
      "21 24\n",
      "21 25\n",
      "21 26\n",
      "21 27\n",
      "21 28\n",
      "21 29\n",
      "21 30\n",
      "21 31\n",
      "21 32\n",
      "21 33\n",
      "21 34\n",
      "21 35\n",
      "22 23\n",
      "22 24\n",
      "22 25\n",
      "22 26\n",
      "22 27\n",
      "22 28\n",
      "22 29\n",
      "22 30\n",
      "22 31\n",
      "22 32\n",
      "22 33\n",
      "22 34\n",
      "22 35\n",
      "23 24\n",
      "23 25\n",
      "23 26\n",
      "23 27\n",
      "23 28\n",
      "23 29\n",
      "23 30\n",
      "23 31\n",
      "23 32\n",
      "23 33\n",
      "23 34\n",
      "23 35\n",
      "24 25\n",
      "24 26\n",
      "24 27\n",
      "24 28\n",
      "24 29\n",
      "24 30\n",
      "24 31\n",
      "24 32\n",
      "24 33\n",
      "24 34\n",
      "24 35\n",
      "25 26\n",
      "25 27\n",
      "25 28\n",
      "25 29\n",
      "25 30\n",
      "25 31\n",
      "25 32\n",
      "25 33\n",
      "25 34\n",
      "25 35\n",
      "26 27\n",
      "26 28\n",
      "26 29\n",
      "26 30\n",
      "26 31\n",
      "26 32\n",
      "26 33\n",
      "26 34\n",
      "26 35\n",
      "27 28\n",
      "27 29\n",
      "27 30\n",
      "27 31\n",
      "27 32\n",
      "27 33\n",
      "27 34\n",
      "27 35\n",
      "28 29\n",
      "28 30\n",
      "28 31\n",
      "28 32\n",
      "28 33\n",
      "28 34\n",
      "28 35\n",
      "29 30\n",
      "29 31\n",
      "29 32\n",
      "29 33\n",
      "29 34\n",
      "29 35\n",
      "30 31\n",
      "30 32\n",
      "30 33\n",
      "30 34\n",
      "30 35\n",
      "31 32\n",
      "31 33\n",
      "31 34\n",
      "31 35\n",
      "32 33\n",
      "32 34\n",
      "32 35\n",
      "33 34\n",
      "33 35\n",
      "34 35\n",
      "10000\n"
     ]
    }
   ],
   "source": [
    "# 백준 14620\n",
    "\n",
    "N = int(input())\n",
    "G = [list(map(int, input().split())) for i in range(N)]\n",
    "\n",
    "ans = 10000\n",
    "\n",
    "dx, dy = [0, 1, -1, 0, 0], [0, 0, 0, 1, -1] # 자기 자신도 돌려야함\n",
    "\n",
    "def ck(lst): # 꽃이 a, b, c 에 있을 때 가능한 경우만 return\n",
    "    ret = 0\n",
    "    flow = []\n",
    "    for flower in lst:\n",
    "        x = flower // N\n",
    "        y = flower % N\n",
    "        \n",
    "        if x == 0 or x == N-1 or y == 0 or y == N-1: # 끝점이면 꽃을 만들지 못함\n",
    "            return 10000\n",
    "        \n",
    "        for w in range(5):\n",
    "            flow.append((x+dx[w], y+dy[w])) # 위치 삽입\n",
    "            ret += G[x+dx[w]][y+dy[w]]\n",
    "            \n",
    "    if len(set(flow)) != 15: # 여기서 겹쳤는지 확인?\n",
    "        return 10000\n",
    "    \n",
    "    return ret\n",
    "\n",
    "for i in range(N*N):\n",
    "    for j in range(i+1, N*N):\n",
    "        for k in range(j+1, N*N):\n",
    "            ans = min(ans, ck([i, j, k]))\n",
    "                \n",
    "print(ans)"
   ]
  },
  {
   "cell_type": "code",
   "execution_count": 96,
   "id": "f9685c98",
   "metadata": {
    "collapsed": true
   },
   "outputs": [
    {
     "name": "stdout",
     "output_type": "stream",
     "text": [
      "1\n",
      "10 8 17\n",
      "0 0\n",
      "1 0\n",
      "1 1\n",
      "4 2\n",
      "4 3\n",
      "4 5\n",
      "2 4\n",
      "3 4\n",
      "7 4\n",
      "8 4\n",
      "9 4\n",
      "7 5\n",
      "8 5\n",
      "9 5\n",
      "7 6\n",
      "8 6\n",
      "9 6\n",
      "[[1, 1, 0, 0, 0, 0, 0, 0, 0, 0], [0, 1, 0, 0, 0, 0, 0, 0, 0, 0], [0, 0, 0, 0, 1, 0, 0, 0, 0, 0], [0, 0, 0, 0, 1, 0, 0, 0, 0, 0], [0, 0, 1, 1, 0, 0, 0, 1, 1, 1], [0, 0, 0, 0, 1, 0, 0, 1, 1, 1], [0, 0, 0, 0, 0, 0, 0, 1, 1, 1], [0, 0, 0, 0, 0, 0, 0, 0, 0, 0]]\n"
     ]
    }
   ],
   "source": [
    "# 백준 1012\n",
    "import sys\n",
    "sys.setrecursionlimit(10000)\n",
    "\n",
    "dx, dy = [1, 0, -1, 0], [0, 1, 0, -1]\n",
    "\n",
    "def dfs(x, y):\n",
    "    global B, ck\n",
    "    if ck[x][y] == 1:\n",
    "        return\n",
    "    ck[x][y] = 1\n",
    "    for i in range(4):\n",
    "        xx, yy = x + dx[i], y + dy[i] # 순회돌기\n",
    "        if B[xx][yy] == 0 or ck[xx][yy]: # 0 이거나 check가 되어있는 경우\n",
    "            continue\n",
    "        dfs(xx, yy)\n",
    "        \n",
    "def process():\n",
    "    global B, ck\n",
    "    m, n, k = map(int, input().split()) # 가로 세로 배추의 수 ex) 10 8 17\n",
    "    B = [[0 for i in range(m + 2)] for _ in range(n + 2)] # 10(가로) x 8(세로) \n",
    "    ck = [[0 for i in range(m + 2)] for _ in range(n + 2)] # 10(가로) x 8(세로) \n",
    "    for _ in range(k):\n",
    "        x, y = map(int, input().split())\n",
    "        B[y + 1][x + 1] = 1 # 가로세로가 반대\n",
    "    ans = 0\n",
    "    for i in range(1, n + 1):\n",
    "        for j in range(1, m + 1):\n",
    "            if B[i][j] == 0 or ck[i][j] == 1 : # 이미 방문 했다면\n",
    "                continue\n",
    "            dfs(i, j)\n",
    "            ans += 1 # dfs를 한바퀴 돌았다면 하나의 그룹을 찾았다는 의미로 +1\n",
    "    print(ans)\n",
    "            \n",
    "B = []\n",
    "ck = []\n",
    "for _ in range(int(input())):\n",
    "    process()"
   ]
  },
  {
   "cell_type": "code",
   "execution_count": 98,
   "id": "b65a3242",
   "metadata": {
    "scrolled": true
   },
   "outputs": [
    {
     "data": {
      "text/plain": [
       "[[0, 0, 0, 0, 0, 0, 0, 0, 0, 0],\n",
       " [0, 0, 0, 0, 0, 0, 0, 0, 0, 0],\n",
       " [0, 0, 0, 0, 0, 0, 0, 0, 0, 0],\n",
       " [0, 0, 0, 0, 0, 0, 0, 0, 0, 0],\n",
       " [0, 0, 0, 0, 0, 0, 0, 0, 0, 0],\n",
       " [0, 0, 0, 0, 0, 0, 0, 0, 0, 0],\n",
       " [0, 0, 0, 0, 0, 0, 0, 0, 0, 0],\n",
       " [0, 0, 0, 0, 0, 0, 0, 0, 0, 0]]"
      ]
     },
     "execution_count": 98,
     "metadata": {},
     "output_type": "execute_result"
    }
   ],
   "source": [
    "lst = [[0 for _ in range(10)] for i in range(8)]\n",
    "lst"
   ]
  },
  {
   "cell_type": "code",
   "execution_count": 6,
   "id": "e937465b",
   "metadata": {
    "scrolled": true
   },
   "outputs": [
    {
     "name": "stdout",
     "output_type": "stream",
     "text": [
      "6 3\n",
      "0000000000\n",
      "0000000300\n",
      "0054000300\n",
      "1054502230\n",
      "2211122220\n",
      "1111111223\n",
      "0000000000\n",
      "0000000000\n",
      "0000000000\n",
      "0000000000\n",
      "1054000000\n",
      "2254500000\n"
     ]
    }
   ],
   "source": [
    "# 백준 16768\n",
    "\n",
    "def new_array(n): # 방문 체크 함수\n",
    "    return [[False for i in range(10)] for _ in range(n)]\n",
    "\n",
    "n, k = map(int, input().split())\n",
    "M = [list(input()) for _ in range(n)]\n",
    "ck = new_array(n)\n",
    "ck2 = new_array(n)\n",
    "\n",
    "dx, dy = [1, -1, 0, 0], [0, 0, -1, 1]\n",
    "\n",
    "def dfs(x, y): # 탐색하는 함수\n",
    "    ck[x][y] = True\n",
    "    ret = 1\n",
    "    for i in range(4):\n",
    "        xx, yy = x + dx[i], y + dy[i]\n",
    "        if xx <0 or xx >= n or yy < 0 or yy >= 10:\n",
    "            continue\n",
    "        if ck[xx][yy] or M[x][y] != M[xx][yy]: # 다르면 연결 x ex) 현재 값 : 1 / 다른값 : 2\n",
    "            continue\n",
    "        ret += dfs(xx, yy)\n",
    "    return ret\n",
    "        \n",
    "def dfs2(x, y, val): # 지우는 함수\n",
    "    ck2[x][y] = True\n",
    "    M[x][y] = '0'\n",
    "    for i in range(4):\n",
    "        xx, yy = x + dx[i], y + dy[i]\n",
    "        if xx < 0 or xx >= n or yy < 0 or yy >= 10:\n",
    "            continue\n",
    "        if ck2[xx][yy] or M[xx][yy] != val: # M[xx][yy] 값이 M[i][j] 값과 다르면 지우지않음\n",
    "            continue\n",
    "        dfs2(xx, yy, val)\n",
    "        \n",
    "def down(): # 내리는 함수\n",
    "    for i in range(10):\n",
    "        tmp = []\n",
    "        for j in range(n):\n",
    "            if M[j][i] != '0':\n",
    "                tmp.append(M[j][i])\n",
    "        for j in range(n-len(tmp)):\n",
    "            M[j][i] = '0'\n",
    "        for j in range(n-len(tmp), n):\n",
    "            M[j][i] = tmp[j-(n-len(tmp))]\n",
    "\n",
    "while True:\n",
    "    exist = False\n",
    "    ck = new_array(n)\n",
    "    ck2 = new_array(n)\n",
    "    for i in range(n):\n",
    "        for j in range(10):\n",
    "            if M[i][j] == '0' or ck[i][j] :\n",
    "                continue\n",
    "            ret = dfs(i, j) # 개수세기\n",
    "            if ret >= k:\n",
    "                dfs2(i, j, M[i][j]) # 지우기\n",
    "                exist = True\n",
    "                \n",
    "    if not exist:\n",
    "        break\n",
    "    down() # 제거 하고 내려오는 함수\n",
    "    \n",
    "for i in M:\n",
    "    print(''.join(i))"
   ]
  },
  {
   "cell_type": "code",
   "execution_count": 8,
   "id": "ab2b185d",
   "metadata": {},
   "outputs": [
    {
     "data": {
      "text/plain": [
       "(1, 1)"
      ]
     },
     "execution_count": 8,
     "metadata": {},
     "output_type": "execute_result"
    }
   ],
   "source": [
    "from copy import deepcopy\n",
    "a = 1\n",
    "b = deepcopy(a)\n",
    "a, b"
   ]
  },
  {
   "cell_type": "code",
   "execution_count": 25,
   "id": "c6ebfefa",
   "metadata": {},
   "outputs": [
    {
     "name": "stdout",
     "output_type": "stream",
     "text": [
      "[[0, 1, 2], [0, 1, 2], [0, 1, 2]]\n",
      "[[0, 0, 0], [1, 1, 1], [2, 2, 2]]\n",
      "[[2, 1, 0], [2, 1, 0], [2, 1, 0]]\n",
      "[[2, 2, 2], [1, 1, 1], [0, 0, 0]]\n"
     ]
    }
   ],
   "source": [
    "# 90도씩 돌리기\n",
    "n = [[i for i in range(3)] for i in range(3)]\n",
    "nb = deepcopy(n)\n",
    "for i in range(len(n)):\n",
    "    for j in range(len(n)):\n",
    "        nb[j][len(n) - i - 1] = n[i][j]\n",
    "nb2 = deepcopy(nb)\n",
    "for i in range(len(n)):\n",
    "    for j in range(len(n)):\n",
    "        nb2[j][len(n) - i - 1] = nb[i][j]\n",
    "nb3 = deepcopy(nb2)\n",
    "for i in range(len(n)):\n",
    "    for j in range(len(n)):\n",
    "        nb3[j][len(n) - i - 1] = nb2[i][j]\n",
    "print(n)\n",
    "print(nb)\n",
    "print(nb2)\n",
    "print(nb3)"
   ]
  },
  {
   "cell_type": "markdown",
   "id": "41acbb42",
   "metadata": {},
   "source": [
    "### 동적\n",
    "#### 1. Top-Down(재귀)\n",
    "#### 2. Bottom-Up(반복문)"
   ]
  },
  {
   "cell_type": "code",
   "execution_count": null,
   "id": "8d648295",
   "metadata": {},
   "outputs": [
    {
     "name": "stdout",
     "output_type": "stream",
     "text": [
      "5\n",
      "7\n"
     ]
    }
   ],
   "source": [
    "# 백준 1932\n",
    "\n",
    "n = int(input())\n",
    "# a[i][j] : i, j 도착했을 때 최댓값\n",
    "# a[i][j] = max(dp[i-1][j-1], dp[i-1][j]) + a[i][j] -> 대각선이랑 바로위랑 비교해서 가장 높은값 찾기\n",
    "A = [[0 for _ in range(n+1)] for i in range(n+1)]\n",
    "dp = [[0 for _ in range(n+1)] for i in range(n+1)]\n",
    "for i in range(1, n+1):\n",
    "    tmp = list(map(int, input().split()))\n",
    "    for j in range(1, i+1):\n",
    "        A[i][j] = tmp[j-1]\n",
    "\n",
    "for i in range(1, n+1):\n",
    "    for j in range(1, i+1):\n",
    "        dp[i][j] = max(dp[i-1][j-1], dp[i-1][j]) + a[i][j]\n",
    "        \n",
    "print(max(dp[-1]))"
   ]
  },
  {
   "cell_type": "code",
   "execution_count": null,
   "id": "a954732e",
   "metadata": {},
   "outputs": [],
   "source": []
  },
  {
   "cell_type": "code",
   "execution_count": null,
   "id": "9b2e3b20",
   "metadata": {},
   "outputs": [],
   "source": []
  },
  {
   "cell_type": "code",
   "execution_count": null,
   "id": "4726a2c4",
   "metadata": {},
   "outputs": [],
   "source": []
  }
 ],
 "metadata": {
  "kernelspec": {
   "display_name": "Python 3 (ipykernel)",
   "language": "python",
   "name": "python3"
  },
  "language_info": {
   "codemirror_mode": {
    "name": "ipython",
    "version": 3
   },
   "file_extension": ".py",
   "mimetype": "text/x-python",
   "name": "python",
   "nbconvert_exporter": "python",
   "pygments_lexer": "ipython3",
   "version": "3.9.12"
  }
 },
 "nbformat": 4,
 "nbformat_minor": 5
}
