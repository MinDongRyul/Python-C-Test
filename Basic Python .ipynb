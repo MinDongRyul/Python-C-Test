{
 "cells": [
  {
   "cell_type": "code",
   "execution_count": 2,
   "id": "4f59eb8c",
   "metadata": {},
   "outputs": [
    {
     "data": {
      "text/plain": [
       "'abcabcabc'"
      ]
     },
     "execution_count": 2,
     "metadata": {},
     "output_type": "execute_result"
    }
   ],
   "source": [
    "s = 'abc'\n",
    "b = 'edf'\n",
    "\n",
    "s * 3"
   ]
  },
  {
   "cell_type": "code",
   "execution_count": 5,
   "id": "91b4b98c",
   "metadata": {
    "scrolled": true
   },
   "outputs": [
    {
     "name": "stdout",
     "output_type": "stream",
     "text": [
      "CPU times: total: 0 ns\n",
      "Wall time: 0 ns\n"
     ]
    }
   ],
   "source": [
    "%time\n",
    "s = ' '\n",
    "for i in range(100000):\n",
    "    s = s + str(i)"
   ]
  },
  {
   "cell_type": "code",
   "execution_count": 6,
   "id": "42bbfb81",
   "metadata": {
    "scrolled": true
   },
   "outputs": [
    {
     "data": {
      "text/plain": [
       "'a'"
      ]
     },
     "execution_count": 6,
     "metadata": {},
     "output_type": "execute_result"
    }
   ],
   "source": [
    "s = 'abcd'\n",
    "\n",
    "s[:1]"
   ]
  },
  {
   "cell_type": "code",
   "execution_count": 8,
   "id": "f36f75f0",
   "metadata": {},
   "outputs": [
    {
     "name": "stdout",
     "output_type": "stream",
     "text": [
      "97\n",
      "a\n"
     ]
    }
   ],
   "source": [
    "print(ord('a'))\n",
    "print(chr(97))"
   ]
  },
  {
   "cell_type": "code",
   "execution_count": 10,
   "id": "663bdd30",
   "metadata": {},
   "outputs": [
    {
     "name": "stdout",
     "output_type": "stream",
     "text": [
      "False\n"
     ]
    }
   ],
   "source": [
    "if 0 and 1//0:print(True) # 0이 거짓이기에 에러가 발생하지 않음\n",
    "else:print(False)"
   ]
  },
  {
   "cell_type": "code",
   "execution_count": 12,
   "id": "f397565e",
   "metadata": {},
   "outputs": [
    {
     "name": "stdout",
     "output_type": "stream",
     "text": [
      "True\n"
     ]
    }
   ],
   "source": [
    "if 1 or 1//0:print(True) # 앞이 참이기에 뒤에서 에러 발생 x\n",
    "else:print(False)"
   ]
  },
  {
   "cell_type": "code",
   "execution_count": 16,
   "id": "00d3c887",
   "metadata": {},
   "outputs": [
    {
     "data": {
      "text/plain": [
       "[0, 2, 4, 6, 8]"
      ]
     },
     "execution_count": 16,
     "metadata": {},
     "output_type": "execute_result"
    }
   ],
   "source": [
    "list_arr = [i for i in range(10) if i % 2 == 0] # 뒤에다 조건을 달아줄 수 있음\n",
    "\n",
    "list_arr"
   ]
  },
  {
   "cell_type": "code",
   "execution_count": 19,
   "id": "66437ac3",
   "metadata": {},
   "outputs": [],
   "source": [
    "lst = [3, 5, 6, 9, 2]"
   ]
  },
  {
   "cell_type": "code",
   "execution_count": 20,
   "id": "56de5ab3",
   "metadata": {
    "scrolled": true
   },
   "outputs": [
    {
     "name": "stdout",
     "output_type": "stream",
     "text": [
      "[2, 3, 5, 6, 9]\n",
      "[3, 5, 6, 9, 2]\n"
     ]
    }
   ],
   "source": [
    "print(sorted(lst))\n",
    "print(lst)"
   ]
  },
  {
   "cell_type": "code",
   "execution_count": 21,
   "id": "173168e9",
   "metadata": {},
   "outputs": [
    {
     "name": "stdout",
     "output_type": "stream",
     "text": [
      "[2, 3, 5, 6, 9]\n"
     ]
    }
   ],
   "source": [
    "lst.sort()\n",
    "print(lst)"
   ]
  },
  {
   "cell_type": "code",
   "execution_count": 22,
   "id": "95ca09cb",
   "metadata": {},
   "outputs": [],
   "source": [
    "lst = [1] + lst"
   ]
  },
  {
   "cell_type": "code",
   "execution_count": 23,
   "id": "7a83d3a3",
   "metadata": {
    "scrolled": true
   },
   "outputs": [
    {
     "data": {
      "text/plain": [
       "[1, 2, 3, 5, 6, 9]"
      ]
     },
     "execution_count": 23,
     "metadata": {},
     "output_type": "execute_result"
    }
   ],
   "source": [
    "# l을 누르면 옆에 표시줄 나옴\n",
    "lst"
   ]
  },
  {
   "cell_type": "code",
   "execution_count": 24,
   "id": "a5c31009",
   "metadata": {},
   "outputs": [
    {
     "name": "stdout",
     "output_type": "stream",
     "text": [
      "7 3\n",
      "3 7\n"
     ]
    }
   ],
   "source": [
    "a, b = 7, 3\n",
    "print(a, b)\n",
    "a, b = b, a\n",
    "print(a, b)"
   ]
  },
  {
   "cell_type": "code",
   "execution_count": 25,
   "id": "3f6296bc",
   "metadata": {},
   "outputs": [],
   "source": [
    "dict_test = {1: 2, 2: 3, 'abc':7}"
   ]
  },
  {
   "cell_type": "code",
   "execution_count": 26,
   "id": "720b4b9d",
   "metadata": {},
   "outputs": [
    {
     "name": "stdout",
     "output_type": "stream",
     "text": [
      "{1: 2, 2: 3, 'abc': 7}\n"
     ]
    }
   ],
   "source": [
    "print(dict_test)"
   ]
  },
  {
   "cell_type": "code",
   "execution_count": 28,
   "id": "76ac6c30",
   "metadata": {},
   "outputs": [
    {
     "data": {
      "text/plain": [
       "dict_values([2, 3, 7])"
      ]
     },
     "execution_count": 28,
     "metadata": {},
     "output_type": "execute_result"
    }
   ],
   "source": [
    "dict_test.values()"
   ]
  },
  {
   "cell_type": "code",
   "execution_count": 29,
   "id": "aa51c332",
   "metadata": {},
   "outputs": [
    {
     "data": {
      "text/plain": [
       "dict_keys([1, 2, 'abc'])"
      ]
     },
     "execution_count": 29,
     "metadata": {},
     "output_type": "execute_result"
    }
   ],
   "source": [
    "dict_test.keys()"
   ]
  },
  {
   "cell_type": "code",
   "execution_count": 30,
   "id": "c9d6d981",
   "metadata": {},
   "outputs": [],
   "source": [
    "import collections "
   ]
  },
  {
   "cell_type": "code",
   "execution_count": 31,
   "id": "514da406",
   "metadata": {},
   "outputs": [
    {
     "data": {
      "text/plain": [
       "Counter({1: 2, 2: 3, 'abc': 7})"
      ]
     },
     "execution_count": 31,
     "metadata": {},
     "output_type": "execute_result"
    }
   ],
   "source": [
    "collections.Counter(dict_test)"
   ]
  },
  {
   "cell_type": "code",
   "execution_count": 32,
   "id": "5465c29a",
   "metadata": {},
   "outputs": [
    {
     "name": "stdout",
     "output_type": "stream",
     "text": [
      "[1, 2, 3, 4, 4, 5, 5]\n",
      "{1, 2, 3, 4, 5}\n"
     ]
    }
   ],
   "source": [
    "lst = [1,2 ,3 ,4, 4 ,5 ,5]\n",
    "print(lst)\n",
    "print(set(lst))"
   ]
  },
  {
   "cell_type": "code",
   "execution_count": 33,
   "id": "1193f65e",
   "metadata": {},
   "outputs": [
    {
     "name": "stdout",
     "output_type": "stream",
     "text": [
      "8\n",
      "85 42 79 95 37 11 72 32\n",
      "84\n"
     ]
    }
   ],
   "source": [
    "# 백준 15969\n",
    "\n",
    "test_case = int(input())\n",
    "arr = list(map(int, input().split()))\n",
    "\n",
    "result = max(arr) - min(arr)\n",
    "print(result)"
   ]
  },
  {
   "cell_type": "code",
   "execution_count": 40,
   "id": "c37e1258",
   "metadata": {},
   "outputs": [
    {
     "name": "stdout",
     "output_type": "stream",
     "text": [
      "5\n",
      "1 2 2 3 4\n",
      "1 3 2 6 8 "
     ]
    }
   ],
   "source": [
    "# 백준 10539\n",
    "\n",
    "n = int(input())\n",
    "b = list(map(int, input().split()))\n",
    "\n",
    "A = [b[0]]\n",
    "\n",
    "for i in range(1, n):\n",
    "    A.append(b[i] * (i + 1) - sum(A))\n",
    "    \n",
    "# print(x for x in A)\n",
    "for i in A:\n",
    "    print(i, end=' ')"
   ]
  },
  {
   "cell_type": "code",
   "execution_count": 53,
   "id": "89b6d2b5",
   "metadata": {},
   "outputs": [
    {
     "name": "stdout",
     "output_type": "stream",
     "text": [
      "3 2\n",
      "BOJ IN\n",
      "01%\n"
     ]
    }
   ],
   "source": [
    "# 백준 17269\n",
    "\n",
    "n, m = map(int, input().split())\n",
    "a, b = map(str, input().split())\n",
    "rst = ''\n",
    "len_min = min(len(a), len(b))\n",
    "for i in range(len_min):\n",
    "    rst += a[i]\n",
    "    rst += b[i]\n",
    "rst += b[len_min:]\n",
    "rst += a[len_min:]\n",
    "# print(rst) LMEIEYSAIWYAUKNISAKURA\n",
    "\n",
    "dict_ = {'A':3, 'B':2, 'C':1, 'D':2, 'E':4, 'F':3, 'G':1, 'H':3, 'I':1, 'J':1, 'K':3, 'L':1, 'M':3, 'N':2, 'O':1, 'P':2, 'Q':2, 'R':2, 'S':1,\n",
    "        'T':2, 'U':1, 'V':1, 'W':1, 'X':2, 'Y':2, 'Z':1}\n",
    "rst_2 = ''\n",
    "for i in rst:\n",
    "    rst_2 = rst_2 + str(dict_[i])\n",
    "# print(rst_2) # 1341421311231321133123\n",
    "\n",
    "while len(rst_2) > 2:\n",
    "    rst_3 = ''\n",
    "    for i in range(len(rst_2)-1):\n",
    "        if len(str(int(rst_2[i]) + int(rst_2[i+1]))) >= 2:\n",
    "            rst_3 += str(int(rst_2[i]) + int(rst_2[i+1]))[1:]\n",
    "        else:\n",
    "            rst_3 += str(int(rst_2[i]) + int(rst_2[i+1]))\n",
    "    rst_2 = rst_3\n",
    "print(rst_2+'%')"
   ]
  },
  {
   "cell_type": "code",
   "execution_count": null,
   "id": "b87a1dbe",
   "metadata": {},
   "outputs": [],
   "source": []
  },
  {
   "cell_type": "code",
   "execution_count": null,
   "id": "80099055",
   "metadata": {},
   "outputs": [],
   "source": [
    "8 14\n",
    "LEESIYUN MIYAWAKISAKURA"
   ]
  }
 ],
 "metadata": {
  "kernelspec": {
   "display_name": "Python 3 (ipykernel)",
   "language": "python",
   "name": "python3"
  },
  "language_info": {
   "codemirror_mode": {
    "name": "ipython",
    "version": 3
   },
   "file_extension": ".py",
   "mimetype": "text/x-python",
   "name": "python",
   "nbconvert_exporter": "python",
   "pygments_lexer": "ipython3",
   "version": "3.9.12"
  }
 },
 "nbformat": 4,
 "nbformat_minor": 5
}
