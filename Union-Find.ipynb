{
 "cells": [
  {
   "cell_type": "code",
   "execution_count": null,
   "id": "802421b6",
   "metadata": {},
   "outputs": [],
   "source": [
    "# Union - Find 알고리즘\n",
    "def find(x):\n",
    "    if x == parent[x]:\n",
    "        return x\n",
    "    else:\n",
    "        p = find(parent[x])\n",
    "        parent[x] = p\n",
    "        return parent[x]\n",
    "    \n",
    "def union(x, y):\n",
    "    x = find(x)\n",
    "    y = find(y)\n",
    "    \n",
    "    parent[y] = x"
   ]
  },
  {
   "cell_type": "code",
   "execution_count": null,
   "id": "2ebf08bb",
   "metadata": {},
   "outputs": [],
   "source": [
    "# 실행코드\n",
    "parent = []\n",
    "\n",
    "for i in range(0, 5):\n",
    "    parent.append(i)\n",
    "    \n",
    "union(1, 4)\n",
    "union(2, 4)\n",
    "\n",
    "print(parent)\n",
    "\n",
    "for i in range(1, len(parent)):\n",
    "    print(find(i), end=' ')"
   ]
  },
  {
   "cell_type": "code",
   "execution_count": null,
   "id": "fbba4345",
   "metadata": {},
   "outputs": [],
   "source": [
    "# 백준 4195\n",
    "# 한번 더 보기\n",
    "def find(x):\n",
    "    if x == parent[x]:\n",
    "        return x\n",
    "    else:\n",
    "        p = find(parent[x])\n",
    "        parent[x] = p\n",
    "        return parent[x]\n",
    "    \n",
    "def union(x, y):\n",
    "    x = find(x)\n",
    "    y = find(y)\n",
    "    \n",
    "    if x != y:\n",
    "        parent[y] = x\n",
    "        number[x] += number[y]\n",
    "\n",
    "\n",
    "test_case = int(input())\n",
    "\n",
    "for _ in range(test_case):\n",
    "    parent = dict()\n",
    "    number = dict()\n",
    "    \n",
    "    f = int(input())\n",
    "    \n",
    "    for _ in range(f):\n",
    "        x, y = input().split(' ')\n",
    "        \n",
    "        if x not in parent:\n",
    "            parent[x] = x\n",
    "            number[x] = 1\n",
    "        if y not in parent:\n",
    "            parent[y] = y\n",
    "            number[y] = 1\n",
    "            \n",
    "        union(x, y)\n",
    "        print(number[find(x)])"
   ]
  },
  {
   "cell_type": "code",
   "execution_count": null,
   "id": "5072321a",
   "metadata": {},
   "outputs": [],
   "source": [
    "# 백준 20040 (Union-Find 알고리즘 사용)"
   ]
  },
  {
   "cell_type": "code",
   "execution_count": null,
   "id": "0593284e",
   "metadata": {},
   "outputs": [],
   "source": [
    "# 백준 11724 (Union-Find 알고리즘 사용)\n",
    "\n",
    "# 특정 원소가 속한 집합을 찾기\n",
    "def find_parent(parent, x):\n",
    "    # 루트 노드가 아니라면\n",
    "    if parent[x] != x:\n",
    "        # 루트 노드를 찾을 때까지 재귀적으로 호출\n",
    "        parent[x] = find_parent(parent, parent[x])\n",
    "    return parent[x]\n",
    "\n",
    "# 두 원소가 속한 집합을 합치기\n",
    "def union_parent(parent, a, b):\n",
    "    a = find_parent(parent, a)\n",
    "    b = find_parent(parent, b)\n",
    "    if a < b:\n",
    "        parent[b] = a\n",
    "    else:\n",
    "        parent[a] = b\n",
    "        \n",
    "# 정점의 개수 N과 간선의 개수 M\n",
    "n, m = map(int, input().split())\n",
    "parent = [0] * (n + 1) # 부모 테이블 초기화하기\n",
    "\n",
    "# 부모 테이블상에서, 부모를 자기 자신으로 초기화\n",
    "for i in range(1, n + 1):\n",
    "    parent[i] = i\n",
    "    \n",
    "for i in range(m): # M은 합치기(union) 연산의 수와 동일\n",
    "    a, b = map(int, input().split())\n",
    "    union_parent(parent, a, b) # a와 b를 연결하기\n",
    "    counter = set() # 고유한 집합의 수\n",
    "    \n",
    "for i in range(1, n + 1):\n",
    "    # 고유한 집합 번호를 집합에 추가\n",
    "    counter.add(find_parent(parent, i))\n",
    "    \n",
    "# 고유한 집합의 수 출력\n",
    "print(len(counter))"
   ]
  },
  {
   "cell_type": "code",
   "execution_count": null,
   "id": "081f552f",
   "metadata": {},
   "outputs": [],
   "source": []
  },
  {
   "cell_type": "code",
   "execution_count": null,
   "id": "98126b11",
   "metadata": {},
   "outputs": [],
   "source": []
  },
  {
   "cell_type": "code",
   "execution_count": null,
   "id": "14f729a1",
   "metadata": {},
   "outputs": [],
   "source": []
  }
 ],
 "metadata": {
  "kernelspec": {
   "display_name": "Python 3 (ipykernel)",
   "language": "python",
   "name": "python3"
  },
  "language_info": {
   "codemirror_mode": {
    "name": "ipython",
    "version": 3
   },
   "file_extension": ".py",
   "mimetype": "text/x-python",
   "name": "python",
   "nbconvert_exporter": "python",
   "pygments_lexer": "ipython3",
   "version": "3.9.12"
  }
 },
 "nbformat": 4,
 "nbformat_minor": 5
}
