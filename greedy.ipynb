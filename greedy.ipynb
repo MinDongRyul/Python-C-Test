{
 "cells": [
  {
   "cell_type": "code",
   "execution_count": null,
   "id": "f2baf09c",
   "metadata": {},
   "outputs": [],
   "source": [
    "# 백준 2012\n",
    "\n",
    "test_case = int(input())\n",
    "rst = []\n",
    "for _ in range(test_case):\n",
    "    rst.append(int(input()))\n",
    "rst.sort()\n",
    "\n",
    "sum_ = 0\n",
    "for i in range(len(rst)):\n",
    "    sum_ += abs(i - rst[i] + 1)\n",
    "print(sum_)"
   ]
  },
  {
   "cell_type": "code",
   "execution_count": null,
   "id": "26d47eca",
   "metadata": {},
   "outputs": [],
   "source": [
    "# 백준 1781 (그리디, 우선순위 큐)\n",
    "import heapq\n",
    "\n",
    "n = int(input())\n",
    "array = []\n",
    "q = []\n",
    "\n",
    "# 문제 정보를 입력 받은 이후에, 데드라인을 기준으로 정렬\n",
    "for i in range(n):\n",
    "    a, b = map(int, input().split(' '))\n",
    "    array.append((a, b))\n",
    "array.sort()\n",
    "\n",
    "for i in array:\n",
    "    a = i[0]\n",
    "    heapq.heappush(q, i[1])\n",
    "    # 데드라인을 초과하는 경우에는 최소 원소를 제거\n",
    "    if a < len(q):\n",
    "        heapq.heappop(q)\n",
    "\n",
    "print(sum(q))"
   ]
  },
  {
   "cell_type": "code",
   "execution_count": null,
   "id": "ff30e8f4",
   "metadata": {},
   "outputs": [],
   "source": [
    "# 백준 9237\n",
    "\n",
    "n = int(input())\n",
    "data = list(map(int, input().split()))\n",
    "data = sorted(data, reverse=True)\n",
    "\n",
    "max_value = 0\n",
    "for i in range(n):\n",
    "    max_value = max(max_value, i + 1 + data[i]) # 가장 오래걸리는 나무 속도가 최대 날짜\n",
    "print(max_value + 1)"
   ]
  },
  {
   "cell_type": "code",
   "execution_count": null,
   "id": "8368bd24",
   "metadata": {},
   "outputs": [],
   "source": [
    "# 백준 17521\n",
    "\n",
    "n, W = map(int, input().split(' ')) # 일 수, 초기 금액\n",
    "coin = 0 # 코인 갯수\n",
    "data = []\n",
    "for _ in range(n):\n",
    "    data.append(int(input())) # 날짜별 금액\n",
    "\n",
    "for i in range(len(data)-1):\n",
    "    print(W, coin)\n",
    "    if data[i] < data[i+1]: # 5 7 의 경우 \n",
    "        coin = W // data[i] # W : 24, data[i] = 5 -> coin : 4\n",
    "        W += coin * (data[i+1] - data[i]) # (구매한 개수 * 시세 차기) 만큼 더해 주기\n",
    "        \n",
    "print(W)"
   ]
  },
  {
   "cell_type": "code",
   "execution_count": null,
   "id": "55aff44c",
   "metadata": {},
   "outputs": [],
   "source": [
    "# 백준 2872\n",
    "\n",
    "n = int(input())\n",
    "lst = []\n",
    "for _ in range(n):\n",
    "    lst.append(int(input()))\n",
    "rst = sorted(lst)\n",
    "count = 0\n",
    "i = 0\n",
    "while rst != lst:\n",
    "    if lst[i] > lst[i + 1]: # 4(2) > 1(3)\n",
    "        k = lst.pop(i + 1)\n",
    "        lst.insert(0, k)\n",
    "        count += 1\n",
    "    i += 1\n",
    "    if i == 3:\n",
    "        i = 0\n",
    "count"
   ]
  },
  {
   "cell_type": "code",
   "execution_count": null,
   "id": "ee03915b",
   "metadata": {},
   "outputs": [],
   "source": [
    "# 백준 1439\n",
    "# 010, 101 -> 1, 2\n",
    "# 1010 -> 2, 3\n",
    "# 10101 -> 2, 4\n",
    "# 101010 -> 3, 5\n",
    "s, tot = input(), 0\n",
    "# 0001100\n",
    "\n",
    "for i in range(1, len(s)):\n",
    "    if s[i] != s[i-1]:\n",
    "        tot += 1\n",
    "# tot = 2\n",
    "# 3 // 2 -> 1 정답\n",
    "print((tot+1) // 2)"
   ]
  },
  {
   "cell_type": "code",
   "execution_count": null,
   "id": "05de982f",
   "metadata": {},
   "outputs": [],
   "source": [
    "# 백준 16676\n",
    "\n",
    "n = input()\n",
    "s = '1' * len(n) # n > 11 : 2개 필요, n > 111 : 3개필요 \n",
    "if len(n) == 1: # n : 0  한자리\n",
    "    print(1)\n",
    "elif int(n) >= int(s): # n : 88, s: 11 -> len(n) : 2 출력\n",
    "    print(len(n)) \n",
    "else: # n : 10, s : 11 -> len(n) - 1 : 2 - 1 = 1 출력\n",
    "    print(len(n) - 1)"
   ]
  },
  {
   "cell_type": "code",
   "execution_count": null,
   "id": "ed4d913f",
   "metadata": {},
   "outputs": [],
   "source": [
    "# 백준 2437\n",
    "\n",
    "n = int(input())\n",
    "a = sorted(list(map(int, input().split())))\n",
    "\n",
    "ans = 0\n",
    "\n",
    "for i in a:\n",
    "    if i <= ans + 1:\n",
    "        ans += i\n",
    "    else:\n",
    "        break\n",
    "        \n",
    "print(ans)"
   ]
  },
  {
   "cell_type": "code",
   "execution_count": null,
   "id": "a07b15d7",
   "metadata": {},
   "outputs": [],
   "source": [
    "# 백준 1080\n",
    "\n",
    "n, m = map(int, input().split())\n",
    "a = [list(map(int, list(input()))) for _ in range(n)]\n",
    "b = [list(map(int, list(input()))) for _ in range(n)]\n",
    "\n",
    "def flip(x, y, a):\n",
    "    for i in range(3):\n",
    "        for j in range(3):\n",
    "            a[x+i][y+j] ^= 1\n",
    "\n",
    "ans = 0\n",
    "            \n",
    "for i in range(n-2):\n",
    "    for j in range(0, m-2):\n",
    "        if a[i][j] != b[i][j]:\n",
    "            flip(i, j, a)\n",
    "            ans += 1\n",
    "            \n",
    "print(ans if a == b else -1)"
   ]
  },
  {
   "cell_type": "code",
   "execution_count": null,
   "id": "aee1f234",
   "metadata": {},
   "outputs": [],
   "source": [
    "# 백준 2014\n",
    "\n",
    "import heapq\n",
    "import copy\n",
    "\n",
    "k, n = map(int, input().split())\n",
    "p_list = list(map(int, input().split()))\n",
    "\n",
    "lst, ck = copy.deepcopy(p_list), set()\n",
    "\n",
    "heapq.heapify(lst)\n",
    "ith = 0\n",
    "\n",
    "while ith < n:\n",
    "    mn = heapq.heappop(lst) # 3 5 7 2*2 2*3 2*5 2*7 3*2 3*3 3*5 3*7 순서대로 뽑은후 갑 곱해주기\n",
    "    if mn in ck: # 중복인 경우 \n",
    "        continue\n",
    "    ith += 1\n",
    "    ck.add(mn) # 중복이 아닌 경우 삽입\n",
    "    for i in p_list: # 2 3 5 7 을 순서대로 가져와서 mn에 곱해줘서 삽입\n",
    "        if mn  * i < 2 ** 32: \n",
    "            heapq.heappush(lst, mn*i)\n",
    "            \n",
    "print(mn)"
   ]
  },
  {
   "cell_type": "code",
   "execution_count": null,
   "id": "c71bce5e",
   "metadata": {},
   "outputs": [],
   "source": [
    "print(ck)\n",
    "print(p_list)\n",
    "print(lst)"
   ]
  }
 ],
 "metadata": {
  "kernelspec": {
   "display_name": "Python 3 (ipykernel)",
   "language": "python",
   "name": "python3"
  },
  "language_info": {
   "codemirror_mode": {
    "name": "ipython",
    "version": 3
   },
   "file_extension": ".py",
   "mimetype": "text/x-python",
   "name": "python",
   "nbconvert_exporter": "python",
   "pygments_lexer": "ipython3",
   "version": "3.9.12"
  }
 },
 "nbformat": 4,
 "nbformat_minor": 5
}
