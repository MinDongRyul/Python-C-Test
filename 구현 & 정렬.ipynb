{
 "cells": [
  {
   "cell_type": "code",
   "execution_count": null,
   "id": "62151fe0",
   "metadata": {},
   "outputs": [],
   "source": [
    "# 백준 2920\n",
    "N_list = list(map(int, input().split(' ')))\n",
    "N_list_1 = sorted(N_list)\n",
    "N_list_2 = sorted(N_list, reverse=True)\n",
    "N_list_1\n",
    "if N_list == N_list_1:\n",
    "    print('ascending')\n",
    "elif N_list == N_list_2:\n",
    "    print('descending')\n",
    "else:\n",
    "    print('mixed')\n",
    "    \n",
    "# ascending = True\n",
    "# descending = False\n",
    "\n",
    "# for i in range(1, 8): 현재 값과 이전 값과의 크기 비교를 통해 오름차순, 내림차순 비교\n",
    "#     if a[i] > a[i - 1]:  현재  값이 이전 값보다 크다면 내림차순 아님\n",
    "#         descending = False\n",
    "#     elif a[i] < a[i - 1]: 현재 값이 이전 값보다 작다면 오름차순 아님\n",
    "#         ascending = False\n",
    "\n",
    "# if ascending:\n",
    "#     print('ascending')\n",
    "# elif descending:\n",
    "#     print('descending')\n",
    "# else:\n",
    "#     print('mixed')"
   ]
  },
  {
   "cell_type": "code",
   "execution_count": null,
   "id": "d51b4406",
   "metadata": {},
   "outputs": [],
   "source": [
    "# 백준 2953\n",
    "# 5 4 4 5\n",
    "# 5 4 4 4\n",
    "# 5 5 4 4\n",
    "# 5 5 5 4\n",
    "# 4 4 4 5\n",
    "result = []\n",
    "for i in range(5):\n",
    "    n = list(map(int, input().split()))\n",
    "    n_sum = sum(n)\n",
    "    result.append((n_sum, i))\n",
    "    # if 현재까지 최대값 < 현재 행의 합:\n",
    "    #     최대값 = 현재 행의 합\n",
    "    #      result = i + 1\n",
    "result = sorted(result, reverse=True)\n",
    "print(result[0][1] + 1, result[0][0])"
   ]
  },
  {
   "cell_type": "code",
   "execution_count": null,
   "id": "9e516c41",
   "metadata": {},
   "outputs": [],
   "source": [
    "# 백준 10809\n",
    "\n",
    "import string\n",
    "\n",
    "str1 = list(string.ascii_lowercase)\n",
    "lst = [i for i in range(len(str1))]\n",
    "\n",
    "dic = {}\n",
    "dic_result = {}\n",
    "for i in range(len(str1)):\n",
    "    d2 = {str1[i]:lst[i]}\n",
    "    d3 = {str1[i]:[-1, False]}\n",
    "    dic.update(d2)\n",
    "    dic_result.update(d3)\n",
    "\n",
    "str2 = input()\n",
    "\n",
    "for i, index in enumerate(str2):\n",
    "    for j in dic_result.keys():\n",
    "        if index == j and not dic_result[index][1]:\n",
    "            dic_result[index][0] = i\n",
    "            dic_result[index][1] = True\n",
    "\n",
    "for i in dic_result.values():\n",
    "    print(i[0], end=' ')"
   ]
  },
  {
   "cell_type": "code",
   "execution_count": null,
   "id": "093a78c6",
   "metadata": {},
   "outputs": [],
   "source": [
    "# 백준 2750\n",
    "\n",
    "def pivot(data):\n",
    "    if len(data) <= 1:\n",
    "        return data\n",
    "    \n",
    "    piv = data[0]\n",
    "    left = [ item for item in data[1:] if piv > item]\n",
    "    right = [ item for item in data[1:] if piv <= item]\n",
    "    \n",
    "    return pivot(left) + [piv] + pivot(right)\n",
    "\n",
    "test_case = int(input())\n",
    "lst = [] \n",
    "for _ in range(test_case):\n",
    "    lst.append(int(input()))\n",
    "\n",
    "for i in pivot(lst):\n",
    "    print(i)"
   ]
  },
  {
   "cell_type": "code",
   "execution_count": null,
   "id": "530a5bb1",
   "metadata": {},
   "outputs": [],
   "source": [
    "# 삽입 정렬\n",
    "\n",
    "test_case = int(input())\n",
    "lst = [] \n",
    "for _ in range(test_case):\n",
    "    lst.append(int(input()))\n",
    "    \n",
    "for i in range(len(lst)-1):\n",
    "    for j in range(i+1, 0, -1):\n",
    "        if lst[j - 1] > lst[j]:\n",
    "            lst[j-1], lst[j] = lst[j], lst[j-1]\n",
    "        else:\n",
    "            break\n",
    "for i in lst:\n",
    "    print(i)"
   ]
  },
  {
   "cell_type": "code",
   "execution_count": null,
   "id": "09764a2f",
   "metadata": {},
   "outputs": [],
   "source": [
    "# 백준 1427\n",
    "\n",
    "n = input()\n",
    "lst = [i for i in n]\n",
    "\n",
    "lst = sorted(lst, reverse=True)\n",
    "str1 = ''.join(lst)\n",
    "print(str1)"
   ]
  },
  {
   "cell_type": "code",
   "execution_count": null,
   "id": "0804260f",
   "metadata": {},
   "outputs": [],
   "source": [
    "# 백준 10814\n",
    "\n",
    "test_case = int(input())\n",
    "lst = []\n",
    "for _ in range(test_case):\n",
    "    input_data = input().split(' ')\n",
    "    lst.append((int(input_data[0]), input_data[1]))\n",
    "    \n",
    "lst = sorted(lst, key=lambda x:x[0]) # 여기서는 정렬 기준을 x[0]으로 잡고 정렬\n",
    "\n",
    "for i in lst:\n",
    "    print(i[0], i[1])"
   ]
  },
  {
   "cell_type": "code",
   "execution_count": null,
   "id": "5f5d62f5",
   "metadata": {},
   "outputs": [],
   "source": [
    "# 백준 11650\n",
    "\n",
    "test_case = int(input())\n",
    "lst = []\n",
    "for _ in range(test_case):\n",
    "    input_data = input().split(' ')\n",
    "    lst.append((int(input_data[0]), int(input_data[1])))\n",
    "\n",
    "lst.sort()\n",
    "\n",
    "for i in lst:\n",
    "    print(i[0], i[1])"
   ]
  },
  {
   "cell_type": "code",
   "execution_count": null,
   "id": "16319e36",
   "metadata": {},
   "outputs": [],
   "source": [
    "# 백준 2751\n",
    "\n",
    "test_case = int(input())\n",
    "lst = []\n",
    "\n",
    "for _ in range(test_case):\n",
    "    lst.append(int(input()))\n",
    "\n",
    "lst = sorted(lst)    \n",
    "    \n",
    "for i in lst:\n",
    "    print(i)"
   ]
  },
  {
   "cell_type": "code",
   "execution_count": null,
   "id": "bccd9b31",
   "metadata": {},
   "outputs": [],
   "source": [
    "# 백준 2751 (병합 정렬)"
   ]
  },
  {
   "cell_type": "code",
   "execution_count": null,
   "id": "fb983d90",
   "metadata": {},
   "outputs": [],
   "source": [
    "# 백준 1568\n",
    "\n",
    "n = int(input())\n",
    "k = 1\n",
    "result = 0\n",
    "while n > 0:\n",
    "    if k <=  n:\n",
    "        n -= k\n",
    "    else:\n",
    "        n -= 1\n",
    "        k = 1\n",
    "    result += 1\n",
    "    k +=1\n",
    "print(result)"
   ]
  },
  {
   "cell_type": "code",
   "execution_count": null,
   "id": "1fd11391",
   "metadata": {},
   "outputs": [],
   "source": [
    "# 백준 1568\n",
    "\n",
    "n = int(input())\n",
    "k = 1\n",
    "result = 0\n",
    "while n > 0:\n",
    "    if k >  n:\n",
    "        k = 1\n",
    "    n -= k\n",
    "    result += 1\n",
    "    k +=1\n",
    "print(result)"
   ]
  },
  {
   "cell_type": "code",
   "execution_count": null,
   "id": "55be1d82",
   "metadata": {},
   "outputs": [],
   "source": [
    "# 백준 1302 (자료구조, 정렬, 해시)\n",
    "\n",
    "test_case = int(input())\n",
    "dic = {}\n",
    "\n",
    "for _ in range(test_case):\n",
    "    book = input()\n",
    "    if book not in dic:\n",
    "        dic[book] = 1\n",
    "    else:\n",
    "        dic[book] += 1\n",
    "\n",
    "dic = sorted(dic.items(), key=lambda x: x[1], reverse=True)\n",
    "max_ = dic[0][1]\n",
    "# max_ = max(dic.values())\n",
    "result = []\n",
    "\n",
    "for i in range(len(dic)):\n",
    "    if dic[i][1] == max_:\n",
    "        result.append(dic[i][0])\n",
    "\n",
    "print(sorted(result)[0])"
   ]
  },
  {
   "cell_type": "code",
   "execution_count": null,
   "id": "b9c057e0",
   "metadata": {},
   "outputs": [],
   "source": [
    "doc = {'asd':1, 'qwe':2, 'zxc':3}\n",
    "\n",
    "for book, number in doc.items():\n",
    "    print(book, number)"
   ]
  },
  {
   "cell_type": "code",
   "execution_count": null,
   "id": "830c9291",
   "metadata": {},
   "outputs": [],
   "source": [
    "# 백준 1668\n",
    "\n",
    "def check(data):\n",
    "    count = 1\n",
    "    max_ = data[0]\n",
    "    for i in range(1, len(data)):\n",
    "        if data[i] > max_:\n",
    "            max_ = data[i]\n",
    "            count += 1\n",
    "    return count\n",
    "\n",
    "test_case = int(input())\n",
    "lst = []\n",
    "\n",
    "for _ in range(test_case):\n",
    "    lst.append(int(input()))\n",
    "    \n",
    "print(check(lst))\n",
    "lst.reverse()\n",
    "print(check(lst))"
   ]
  },
  {
   "cell_type": "code",
   "execution_count": null,
   "id": "70d33e62",
   "metadata": {},
   "outputs": [],
   "source": [
    "# 백준 1236\n",
    "\n",
    "n, m = map(int, input().split())\n",
    "rst = []\n",
    "\n",
    "for _ in range(n):\n",
    "    rst.append(input())\n",
    "    \n",
    "row = [0] * n\n",
    "column = [0] * m\n",
    "\n",
    "for i in range(n):\n",
    "    for j in range(m):\n",
    "        if rst[i][j] == 'X':\n",
    "            row[i] = 1\n",
    "            column[j] = 1\n",
    "\n",
    "row_count = 0\n",
    "for i in range(n):\n",
    "    if row[i] == 0:\n",
    "        row_count += 1\n",
    "        \n",
    "column_count = 0\n",
    "for j in range(m):\n",
    "    if column[j] == 0:\n",
    "        column_count += 1\n",
    "\n",
    "print(max(row_count, column_count))"
   ]
  },
  {
   "cell_type": "code",
   "execution_count": null,
   "id": "e469f08a",
   "metadata": {},
   "outputs": [],
   "source": [
    "# 백준 2751 (힙 정렬)\n",
    "import heapq\n",
    "\n",
    "test_case = int(input())\n",
    "lst = []\n",
    "\n",
    "for _ in range(test_case):\n",
    "    heapq.heappush(lst,int(input()))\n",
    "    \n",
    "for i in range(test_case):\n",
    "    print(heapq.heappop(lst))"
   ]
  },
  {
   "cell_type": "code",
   "execution_count": null,
   "id": "f85f7664",
   "metadata": {},
   "outputs": [],
   "source": [
    "# 백준 18870\n",
    "\n",
    "test_case = int(input())\n",
    "lst = list(map(int, input().split()))\n",
    "\n",
    "lst_ = sorted(list(set(lst)))\n",
    "\n",
    "dic = {}\n",
    "for k,i in enumerate(lst_):\n",
    "    dic[i] = k\n",
    "    \n",
    "for i in lst:\n",
    "    print(dic[i], end=' ')"
   ]
  },
  {
   "cell_type": "code",
   "execution_count": null,
   "id": "7fe4e69b",
   "metadata": {},
   "outputs": [],
   "source": [
    "# 백준 1431\n",
    "\n",
    "def digit_sum(str):\n",
    "    result = 0 # 각 자릿수의 합\n",
    "    for x in str: # 문자를 하나씩 확인하며\n",
    "        if x.isdigit(): # 숫자일 때만 더하기\n",
    "            result += int(x)\n",
    "    return result\n",
    "\n",
    "test_case = int(input())\n",
    "arr = []\n",
    "\n",
    "for _ in range(test_case):\n",
    "    arr.append(input().strip())\n",
    "arr.sort(key=lambda x: (len(x), digit_sum(x), x)) # 길이순, 숫자합순, 사전순 으로 세번에 걸쳐 정렬\n",
    "\n",
    "for i in arr:\n",
    "    print(i)"
   ]
  },
  {
   "cell_type": "code",
   "execution_count": null,
   "id": "ed5d2864",
   "metadata": {},
   "outputs": [],
   "source": [
    "# 백준 2170\n",
    "\n",
    "test_case = int(input())\n",
    "arr = []\n",
    "\n",
    "for _ in range(test_case):\n",
    "    x, y = map(int, input().split())\n",
    "    arr.append((x, y)) # 시작점, 끝점\n",
    "    \n",
    "arr.sort(key = lambda x:(x[0], x[1])) # 오름차순 정렬 \n",
    "\n",
    "min_x, max_y = arr[0][0], arr[0][1]\n",
    "result = 0\n",
    "\n",
    "for i in range(1, test_case):\n",
    "#     if max_y > arr[i][1]: # max_y보다 작을 경우 -1 5  / 1 4 -> -1 5    없어도 상관없음\n",
    "#         pass\n",
    "    if max_y < arr[i][0]: # max_y보다 앞이 큰 경우 -1 5 / 6 7 -> 6 7\n",
    "        result += (max_y - min_x) # 현재까지 온 길이를 더 함\n",
    "        min_x, max_y = arr[i][0], arr[i][1] # 위치를 초기화\n",
    "    elif max_y < arr[i][1]: # max_y보다 클 경우 -1 5 / 1 7 -> -1 7\n",
    "        max_y = arr[i][1]\n",
    "\n",
    "result += (max_y - min_x)\n",
    "print(result)"
   ]
  },
  {
   "cell_type": "code",
   "execution_count": null,
   "id": "30c8070d",
   "metadata": {},
   "outputs": [],
   "source": [
    "# 백준 3273 (투 포인터)\n",
    "\n",
    "test_case = int(input()) # 배열 갯수\n",
    "arr = list(map(int, input().split())) # 배열\n",
    "\n",
    "x = int(input()) # 만족해야 하는 수\n",
    "arr.sort() # 오름차순 정렬\n",
    "start, end = arr[0], arr[-1] # 초기 세팅값\n",
    "result = 0 # 결과\n",
    "\n",
    "while True:\n",
    "    \n",
    "    if start >= end: # 이미 검증\n",
    "        break\n",
    "    \n",
    "    if start + end == x:\n",
    "        result += 1\n",
    "        # 제거 및 재 설정\n",
    "        arr.pop(0)\n",
    "        arr.pop(-1)\n",
    "        start = arr[0]\n",
    "        end = arr[-1]\n",
    "    elif start + end > x:\n",
    "        # end - 1\n",
    "        arr.pop(-1)\n",
    "        end = arr[-1]\n",
    "    elif start + end < x:\n",
    "        # start + 1\n",
    "        arr.pop(0)\n",
    "        start = arr[0]\n",
    "\n",
    "print(result)"
   ]
  },
  {
   "cell_type": "code",
   "execution_count": null,
   "id": "b76a67ca",
   "metadata": {},
   "outputs": [],
   "source": [
    "# 백준 3273\n",
    "\n",
    "test_case = int(input()) # 배열 갯수\n",
    "arr = list(map(int, input().split())) # 배열\n",
    "\n",
    "x = int(input()) # 만족해야 하는 수\n",
    "arr.sort() # 오름차순 정렬\n",
    "start, end = arr[0], arr[-1] # 초기 세팅값\n",
    "result = 0 # 결과\n",
    "\n",
    "while start < end:# start 가 end랑 같거나 커지면 검증 종료\n",
    "    \n",
    "    if start + end == x: # 정답\n",
    "        result += 1\n",
    "        # 제거 및 재 설정\n",
    "        arr.pop(0)\n",
    "        arr.pop(-1)\n",
    "        if len(arr) <= 1: # 제거 한뒤에 arr이 비었으면 종료\n",
    "            break\n",
    "        start = arr[0]\n",
    "        end = arr[-1]\n",
    "    elif start + end > x: # 정답보다 큰 경우\n",
    "        # end - 1\n",
    "        arr.pop(-1)\n",
    "        end = arr[-1]\n",
    "    elif start + end < x: # 정답보다 작은 경우\n",
    "        # start + 1\n",
    "        arr.pop(0)\n",
    "        start = arr[0]\n",
    "\n",
    "print(result)"
   ]
  },
  {
   "cell_type": "code",
   "execution_count": null,
   "id": "986f14f4",
   "metadata": {},
   "outputs": [],
   "source": [
    "graph = [[0] * 7 for _ in range(7)] # N * N 2차원행렬"
   ]
  },
  {
   "cell_type": "code",
   "execution_count": null,
   "id": "1cfe2f99",
   "metadata": {},
   "outputs": [],
   "source": [
    "# 백준 5052 (정렬 + 트리)\n",
    "\n",
    "for _ in range(int(input())):\n",
    "    group = int(input()) # 전화번호 갯수\n",
    "    books = []\n",
    "    for _ in range(group):\n",
    "        books.append(input().strip())\n",
    "    books.sort() # 문자열 기준으로 오름차순 정렬\n",
    "    result = False\n",
    "    for i in range(group - 1):\n",
    "        if len(books[i]) < len(books[i + 1]): # 앞에 길이가 뒤에보다 작은지 우선 확인\n",
    "            if books[i] == books[i+1][:len(books[i])]: # 앞에 문자열의 길이만큼 뒤 문자을 슬라이싱 한다음 비교 같으면 일관성 X\n",
    "                result = True\n",
    "                break\n",
    "    if result : print('NO') # 관계 있음 -> 일관성 없음\n",
    "    else: print('YES')       # 관계 없음 -> 일관성 있음"
   ]
  },
  {
   "cell_type": "code",
   "execution_count": null,
   "id": "8dcd99db",
   "metadata": {},
   "outputs": [],
   "source": [
    "# 백준 17269\n",
    "\n",
    "n, m = map(int, input().split())\n",
    "a, b = map(str, input().split())\n",
    "rst = ''\n",
    "len_min = min(len(a), len(b))\n",
    "for i in range(len_min):\n",
    "    rst += a[i] + b[i]\n",
    "rst += a[len_min:] + b[len_min:]\n",
    "# print(rst) LMEIEYSAIWYAUKNISAKURA\n",
    "\n",
    "dict_ = {'A':3, 'B':2, 'C':1, 'D':2, 'E':4, 'F':3, 'G':1, 'H':3, 'I':1, 'J':1, 'K':3, 'L':1, 'M':3, 'N':2, 'O':1, 'P':2, 'Q':2, 'R':2, 'S':1,\n",
    "        'T':2, 'U':1, 'V':1, 'W':1, 'X':2, 'Y':2, 'Z':1}\n",
    "rst_2 = ''\n",
    "for i in rst:\n",
    "    rst_2 = rst_2 + str(dict_[i])\n",
    "# print(rst_2) # 1341421311231321133123\n",
    "\n",
    "while len(rst_2) > 2:\n",
    "    rst_3 = ''\n",
    "    for i in range(len(rst_2)-1):\n",
    "        if len(str(int(rst_2[i]) + int(rst_2[i+1]))) >= 2:\n",
    "            rst_3 += str(int(rst_2[i]) + int(rst_2[i+1]))[1:]\n",
    "        else:\n",
    "            rst_3 += str(int(rst_2[i]) + int(rst_2[i+1]))\n",
    "    rst_2 = rst_3\n",
    "rst_2 = str(int(rst_2))\n",
    "print(rst_2+'%')"
   ]
  },
  {
   "cell_type": "code",
   "execution_count": null,
   "id": "3a9063f4",
   "metadata": {},
   "outputs": [],
   "source": [
    "# 백준 17389\n",
    "\n",
    "n = int(input())\n",
    "s = input()\n",
    "rst = 0\n",
    "bonus = 0\n",
    "if s[0] == 'O':\n",
    "    rst += 1\n",
    "for i in range(1 ,n):\n",
    "    if s[i] == 'O': # s[1] : 'O' / S[0] == S[1] -> 'OO' bonus += 1 \n",
    "        if s[i] == s[i-1]: # oo\n",
    "            bonus += 1\n",
    "            rst += i+1\n",
    "            rst += bonus\n",
    "        else: # xo\n",
    "            rst += i+1\n",
    "    else: # 'x'\n",
    "        bonus = 0\n",
    "print(rst)"
   ]
  },
  {
   "cell_type": "code",
   "execution_count": null,
   "id": "c7073169",
   "metadata": {},
   "outputs": [],
   "source": [
    "n = int(input())\n",
    "s = input()\n",
    "\n",
    "rst = 0\n",
    "bonus = 0\n",
    "\n",
    "for i, OX in enumerate(s):\n",
    "    if OX == 'O': # s[1] : 'O' / S[0] == S[1] -> 'OO' bonus += 1 \n",
    "        rst += i + 1 + bonus\n",
    "        bonus += 1\n",
    "    else: # 'x'\n",
    "        bonus = 0\n",
    "print(rst)"
   ]
  },
  {
   "cell_type": "code",
   "execution_count": 19,
   "id": "d67e6214",
   "metadata": {
    "collapsed": true
   },
   "outputs": [
    {
     "name": "stdout",
     "output_type": "stream",
     "text": [
      "1\n",
      "4\n",
      "20 a\n",
      "20 b\n",
      "20 c\n",
      "30 d\n"
     ]
    },
    {
     "ename": "TypeError",
     "evalue": "an integer is required (got type tuple)",
     "output_type": "error",
     "traceback": [
      "\u001b[1;31m---------------------------------------------------------------------------\u001b[0m",
      "\u001b[1;31mTypeError\u001b[0m                                 Traceback (most recent call last)",
      "Input \u001b[1;32mIn [19]\u001b[0m, in \u001b[0;36m<cell line: 16>\u001b[1;34m()\u001b[0m\n\u001b[0;32m     13\u001b[0m         \u001b[38;5;28mprint\u001b[39m(rst[\u001b[38;5;241m0\u001b[39m][\u001b[38;5;241m0\u001b[39m])\n\u001b[0;32m     15\u001b[0m test_case \u001b[38;5;241m=\u001b[39m \u001b[38;5;28mint\u001b[39m(\u001b[38;5;28minput\u001b[39m())\n\u001b[1;32m---> 16\u001b[0m \u001b[43mfind_player\u001b[49m\u001b[43m(\u001b[49m\u001b[43mtest_case\u001b[49m\u001b[43m)\u001b[49m\n",
      "Input \u001b[1;32mIn [19]\u001b[0m, in \u001b[0;36mfind_player\u001b[1;34m(test_case)\u001b[0m\n\u001b[0;32m      9\u001b[0m     price, name \u001b[38;5;241m=\u001b[39m \u001b[38;5;28minput\u001b[39m()\u001b[38;5;241m.\u001b[39msplit()\n\u001b[0;32m     10\u001b[0m     rst[name] \u001b[38;5;241m=\u001b[39m \u001b[38;5;28mint\u001b[39m(price)\n\u001b[1;32m---> 11\u001b[0m rst \u001b[38;5;241m=\u001b[39m \u001b[38;5;28;43msorted\u001b[39;49m\u001b[43m(\u001b[49m\u001b[43mrst\u001b[49m\u001b[38;5;241;43m.\u001b[39;49m\u001b[43mitems\u001b[49m\u001b[43m(\u001b[49m\u001b[43m)\u001b[49m\u001b[43m,\u001b[49m\u001b[43m \u001b[49m\u001b[43mkey\u001b[49m\u001b[38;5;241;43m=\u001b[39;49m\u001b[38;5;28;43;01mlambda\u001b[39;49;00m\u001b[43m \u001b[49m\u001b[43mx\u001b[49m\u001b[43m \u001b[49m\u001b[43m:\u001b[49m\u001b[43m \u001b[49m\u001b[43m(\u001b[49m\u001b[43mx\u001b[49m\u001b[43m[\u001b[49m\u001b[38;5;241;43m1\u001b[39;49m\u001b[43m]\u001b[49m\u001b[43m,\u001b[49m\u001b[43m \u001b[49m\u001b[43mx\u001b[49m\u001b[43m[\u001b[49m\u001b[38;5;241;43m0\u001b[39;49m\u001b[43m]\u001b[49m\u001b[43m)\u001b[49m\u001b[43m,\u001b[49m\u001b[43m \u001b[49m\u001b[43mreverse\u001b[49m\u001b[38;5;241;43m=\u001b[39;49m\u001b[43m(\u001b[49m\u001b[38;5;28;43;01mTrue\u001b[39;49;00m\u001b[43m,\u001b[49m\u001b[43m \u001b[49m\u001b[38;5;28;43;01mFalse\u001b[39;49;00m\u001b[43m)\u001b[49m\u001b[43m)\u001b[49m\n\u001b[0;32m     12\u001b[0m \u001b[38;5;28mprint\u001b[39m(rst)\n\u001b[0;32m     13\u001b[0m \u001b[38;5;28mprint\u001b[39m(rst[\u001b[38;5;241m0\u001b[39m][\u001b[38;5;241m0\u001b[39m])\n",
      "\u001b[1;31mTypeError\u001b[0m: an integer is required (got type tuple)"
     ]
    }
   ],
   "source": [
    "# 11098\n",
    "\n",
    "# 내림차순 정렬 후 이름 출력 함수\n",
    "def find_player(test_case):\n",
    "    for _ in range(test_case):\n",
    "        rst = {}\n",
    "        case = int(input())\n",
    "        for _ in range(case):\n",
    "            price, name = input().split()\n",
    "            rst[name] = int(price)\n",
    "        rst = sorted(rst.items(), key=lambda x : (x[1], x[0]), reverse=True)\n",
    "        print(rst)\n",
    "        print(rst[0][0])\n",
    "    \n",
    "test_case = int(input())\n",
    "find_player(test_case)"
   ]
  },
  {
   "cell_type": "code",
   "execution_count": 38,
   "id": "6ed864a2",
   "metadata": {},
   "outputs": [
    {
     "name": "stdout",
     "output_type": "stream",
     "text": [
      "5\n",
      "Mickey 1 10 1991\n",
      "Alice 30 12 1990\n",
      "Tom 15 8 1993\n",
      "Jerry 18 9 1990\n",
      "Garfield 20 9 1990\n",
      "[('Tom', (1993, 8, 15)), ('Mickey', (1991, 10, 1)), ('Jerry', (1990, 9, 18)), ('Garfield', (1990, 9, 20)), ('Alice', (1990, 12, 30))]\n"
     ]
    }
   ],
   "source": [
    "# 백준 5635 \n",
    "\n",
    "def find_age(n):\n",
    "    rst = {}\n",
    "    for _ in range(n):\n",
    "        name, d, m, y = input().split()\n",
    "        rst[name] = (int(y), int(m), int(d))\n",
    "    rst = sorted(rst.items(), key=lambda x : (x[1]), reverse=True)\n",
    "    print(rst[0][0])\n",
    "    print(rst[-1][0])\n",
    "    \n",
    "n = int(input())\n",
    "find_age(n)"
   ]
  },
  {
   "cell_type": "code",
   "execution_count": 74,
   "id": "8561a660",
   "metadata": {},
   "outputs": [
    {
     "name": "stdout",
     "output_type": "stream",
     "text": [
      "13:52:30\n",
      "14:00:00\n",
      "00:07:30\n"
     ]
    }
   ],
   "source": [
    "# 백준 1408\n",
    "\n",
    "num=list(map(int,input().split(\":\")))\n",
    "num1=list(map(int,input().split(\":\")))\n",
    "time=num[0]*3600+num[1]*60+num[2]\n",
    "time1=num1[0]*3600+num1[1]*60+num1[2] # 초로 변환\n",
    "if(time1<time):\n",
    "    time2=86400-time+time1\n",
    "else:\n",
    "    time2=time1-time\n",
    "hour=str(time2//3600)\n",
    "min_=str((time2%3600)//60)\n",
    "sec=str((time2%3600)%60)\n",
    "if(0<=int(hour)<10):\n",
    "    hour='0'+hour\n",
    "if(0<=int(min_)<10):\n",
    "    min_='0'+min_\n",
    "if(0<=int(sec)<10):\n",
    "    sec='0'+sec\n",
    "print(hour+\":\"+min_+\":\"+sec)"
   ]
  },
  {
   "cell_type": "code",
   "execution_count": 75,
   "id": "80518c1c",
   "metadata": {},
   "outputs": [
    {
     "name": "stdout",
     "output_type": "stream",
     "text": [
      "5\n",
      "1\n",
      "2\n",
      "3\n",
      "4\n",
      "5\n"
     ]
    }
   ],
   "source": [
    "# 백준 2741\n",
    "\n",
    "n = int(input())\n",
    "for i in range(1, n+1):\n",
    "    print(i)"
   ]
  },
  {
   "cell_type": "code",
   "execution_count": 77,
   "id": "541c4bcc",
   "metadata": {},
   "outputs": [
    {
     "name": "stdout",
     "output_type": "stream",
     "text": [
      "5\n",
      "5\n",
      "4\n",
      "3\n",
      "2\n",
      "1\n"
     ]
    }
   ],
   "source": [
    "# 백준 2742\n",
    "n = int(input())\n",
    "for i in range(n, 0, -1):\n",
    "    print(i)"
   ]
  },
  {
   "cell_type": "code",
   "execution_count": 82,
   "id": "f33f1977",
   "metadata": {},
   "outputs": [
    {
     "name": "stdout",
     "output_type": "stream",
     "text": [
      "2\n",
      "2 * 1 = 2\n",
      "2 * 2 = 4\n",
      "2 * 3 = 6\n",
      "2 * 4 = 8\n",
      "2 * 5 = 10\n",
      "2 * 6 = 12\n",
      "2 * 7 = 14\n",
      "2 * 8 = 16\n",
      "2 * 9 = 18\n"
     ]
    }
   ],
   "source": [
    "# 백준 2739\n",
    "n = int(input())\n",
    "for i in range(1, 10):\n",
    "    print(str(n) +' * '+ str(i) + ' = ' + str(n*i))"
   ]
  },
  {
   "cell_type": "code",
   "execution_count": 83,
   "id": "e13c2118",
   "metadata": {},
   "outputs": [
    {
     "name": "stdout",
     "output_type": "stream",
     "text": [
      "5\n",
      "*\n",
      "**\n",
      "***\n",
      "****\n",
      "*****\n"
     ]
    }
   ],
   "source": [
    "# 백준 2438\n",
    "\n",
    "n = int(input())\n",
    "\n",
    "for i in range(1, n+1):\n",
    "    print('*' * i)"
   ]
  },
  {
   "cell_type": "code",
   "execution_count": 84,
   "id": "5a33a869",
   "metadata": {},
   "outputs": [
    {
     "name": "stdout",
     "output_type": "stream",
     "text": [
      "5\n",
      "    *\n",
      "   **\n",
      "  ***\n",
      " ****\n",
      "*****\n"
     ]
    }
   ],
   "source": [
    "# 백준 2439\n",
    "\n",
    "n = int(input())\n",
    "\n",
    "for i in range(1, n+1):\n",
    "    print(' ' * (n - i), end='')\n",
    "    print('*' * i)"
   ]
  },
  {
   "cell_type": "code",
   "execution_count": 85,
   "id": "b533e17d",
   "metadata": {},
   "outputs": [
    {
     "name": "stdout",
     "output_type": "stream",
     "text": [
      "5\n",
      "*****\n",
      "****\n",
      "***\n",
      "**\n",
      "*\n"
     ]
    }
   ],
   "source": [
    "# 백준 2440\n",
    "\n",
    "n = int(input())\n",
    "\n",
    "for i in range(n, 0, -1):\n",
    "    print('*' * i)"
   ]
  },
  {
   "cell_type": "code",
   "execution_count": 86,
   "id": "f09f7637",
   "metadata": {},
   "outputs": [
    {
     "name": "stdout",
     "output_type": "stream",
     "text": [
      "5\n",
      "*****\n",
      " ****\n",
      "  ***\n",
      "   **\n",
      "    *\n"
     ]
    }
   ],
   "source": [
    "# 백준 2441\n",
    "\n",
    "n = int(input())\n",
    "\n",
    "for i in range(n, 0, -1):\n",
    "    print(' ' * (n - i), end='')\n",
    "    print('*' * i)"
   ]
  },
  {
   "cell_type": "code",
   "execution_count": 89,
   "id": "0ae56d9a",
   "metadata": {},
   "outputs": [
    {
     "name": "stdout",
     "output_type": "stream",
     "text": [
      "10\n",
      "55\n"
     ]
    }
   ],
   "source": [
    "# 백준 8393\n",
    "\n",
    "n = int(input())\n",
    "print((n*(n+1))//2)"
   ]
  },
  {
   "cell_type": "code",
   "execution_count": 90,
   "id": "0256fa33",
   "metadata": {},
   "outputs": [
    {
     "name": "stdout",
     "output_type": "stream",
     "text": [
      "9850\n",
      "1050\n",
      "800\n",
      "420\n",
      "380\n",
      "600\n",
      "820\n",
      "2400\n",
      "1800\n",
      "1580\n"
     ]
    }
   ],
   "source": [
    "# 백준 5565\n",
    "\n",
    "total_1 = int(input())\n",
    "total_sum = 0\n",
    "for _ in range(9):\n",
    "    total_sum += int(input())\n",
    "print(total_1 - total_sum)"
   ]
  },
  {
   "cell_type": "code",
   "execution_count": 94,
   "id": "3133d531",
   "metadata": {
    "scrolled": true
   },
   "outputs": [
    {
     "name": "stdout",
     "output_type": "stream",
     "text": [
      "1 1\n",
      "2\n",
      "2 3\n",
      "5\n",
      "7 10\n",
      "17\n",
      "1 6\n",
      "7\n",
      "0 0\n"
     ]
    }
   ],
   "source": [
    "# 백준 10952\n",
    "\n",
    "def sum_():\n",
    "    while True:\n",
    "        a, b = map(int, input().split())\n",
    "        if a == 0 and b == 0:\n",
    "            return\n",
    "        print(a + b)\n",
    "\n",
    "sum_()"
   ]
  },
  {
   "cell_type": "code",
   "execution_count": 111,
   "id": "947c3611",
   "metadata": {
    "scrolled": true
   },
   "outputs": [
    {
     "name": "stdout",
     "output_type": "stream",
     "text": [
      "1\n",
      "4\n",
      "3 4.3\n",
      "2 2.0\n",
      "4 0.0\n",
      "2 4.0\n",
      "[3.0, 4.3]\n",
      "[2.0, 2.0]\n",
      "[4.0, 0.0]\n",
      "[2.0, 4.0]\n",
      "11 2.3\n"
     ]
    }
   ],
   "source": [
    "# 백준 10984\n",
    "\n",
    "# 4\n",
    "# 3 4.3\n",
    "# 2 2.0\n",
    "# 4 0.0\n",
    "# 2 4.0\n",
    "# 11 2.3(24.9/11)\n",
    "\n",
    "def check(n):\n",
    "    for _ in range(n):\n",
    "        sum_total, sum_grade = 0, 0 \n",
    "        m = int(input())\n",
    "        for _ in range(m):\n",
    "            rst.append(list(map(float, input().split())))\n",
    "        for i in rst:\n",
    "            print(i)\n",
    "            sum_total += int(i[0])\n",
    "            sum_grade += int(i[0]) * i[1]\n",
    "        print(sum_total, round(sum_grade/sum_total, 1))\n",
    "n = int(input())\n",
    "check(n)"
   ]
  },
  {
   "cell_type": "code",
   "execution_count": 117,
   "id": "0b6a8911",
   "metadata": {},
   "outputs": [
    {
     "name": "stdout",
     "output_type": "stream",
     "text": [
      "1\n",
      "3\n",
      "4 0.0\n",
      "3 0\n",
      "4 0\n",
      "[4.0, 0.0]\n",
      "[3.0, 0.0]\n",
      "[4.0, 0.0]\n",
      "11 0.0\n"
     ]
    }
   ],
   "source": [
    "# 백준 10984\n",
    "\n",
    "def check(n):\n",
    "    for _ in range(n):\n",
    "        sum_total, sum_grade = 0, 0\n",
    "        rst = []\n",
    "        m = int(input())\n",
    "        for _ in range(m):\n",
    "            rst.append(list(map(float, input().split())))\n",
    "        for i in rst:\n",
    "            sum_total += int(i[0])\n",
    "            sum_grade += int(i[0]) * i[1]\n",
    "        print(sum_total, round(sum_grade/sum_total, 1))\n",
    "        \n",
    "n = int(input())\n",
    "check(n)"
   ]
  },
  {
   "cell_type": "code",
   "execution_count": 127,
   "id": "fd69164d",
   "metadata": {},
   "outputs": [
    {
     "name": "stdout",
     "output_type": "stream",
     "text": [
      "5\n",
      "    *\n",
      "   ***\n",
      "  *****\n",
      " *******\n",
      "*********\n"
     ]
    }
   ],
   "source": [
    "# 백준 2442 \n",
    "# 5 4 1\n",
    "# 6 3 3\n",
    "# 7 2 5\n",
    "# 8 1 7\n",
    "# 9 0 9\n",
    "# print(' ' * 4 ,end ='')\n",
    "# print('*' * 1)\n",
    "# print(' ' * 3 ,end ='')\n",
    "# print('*' * 3)\n",
    "# print(' ' * 2 ,end ='')\n",
    "# print('*' * 5)\n",
    "# print(' ' * 1 ,end ='')\n",
    "# print('*' * 7)\n",
    "# print(' ' * 0 ,end ='')\n",
    "# print('*' * 9)\n",
    "n = int(input())\n",
    "for i in range(1, n+1):\n",
    "    print(' ' * (n - i), end='')\n",
    "    print('*' * (2 * i - 1))"
   ]
  },
  {
   "cell_type": "code",
   "execution_count": 128,
   "id": "c1f01dcd",
   "metadata": {},
   "outputs": [
    {
     "name": "stdout",
     "output_type": "stream",
     "text": [
      "5\n",
      "*********\n",
      " *******\n",
      "  *****\n",
      "   ***\n",
      "    *\n"
     ]
    }
   ],
   "source": [
    "# 백준 2443\n",
    "n = int(input())\n",
    "for i in range(n, 0, -1):\n",
    "    print(' ' * (n - i), end='')\n",
    "    print('*' * (2 * i - 1))"
   ]
  },
  {
   "cell_type": "code",
   "execution_count": 137,
   "id": "bbe8108d",
   "metadata": {},
   "outputs": [
    {
     "name": "stdout",
     "output_type": "stream",
     "text": [
      "5\n",
      "    *\n",
      "   ***\n",
      "  *****\n",
      " *******\n",
      "*********\n",
      " *******\n",
      "  *****\n",
      "   ***\n",
      "    *\n"
     ]
    }
   ],
   "source": [
    "# 백준 2444\n",
    "\n",
    "n = int(input())\n",
    "for i in range(1, n+1):\n",
    "    print(' ' * (n - i), end='')\n",
    "    print('*' * (2 * i - 1)) \n",
    "for i in range(n - 1, 0, -1):\n",
    "    print(' ' * (n - i), end='')\n",
    "    print('*' * (2 * i - 1))  "
   ]
  },
  {
   "cell_type": "code",
   "execution_count": 148,
   "id": "064c10c0",
   "metadata": {
    "scrolled": false
   },
   "outputs": [
    {
     "name": "stdout",
     "output_type": "stream",
     "text": [
      "3\n",
      "  *\n",
      " **\n",
      "***\n",
      " **\n",
      "  *\n"
     ]
    }
   ],
   "source": [
    "# 백준 2522\n",
    "\n",
    "# 2 1 n = 3 i = 1\n",
    "# 1 2 n = 3 i = 2\n",
    "# 0 3 n = 3 i = 3\n",
    "# 1 2 n = 3 i = 4  \n",
    "# 2 1 n = 3 i = 5  \n",
    "n = int(input())\n",
    "for i in range(1, n+1):\n",
    "    print(' ' * (n - i), end='')\n",
    "    print('*' * i)\n",
    "for i in range(n-1, 0, -1):\n",
    "    print(' ' * (n - i), end='')\n",
    "    print('*' * i)  "
   ]
  },
  {
   "cell_type": "code",
   "execution_count": 153,
   "id": "d757b057",
   "metadata": {},
   "outputs": [
    {
     "name": "stdout",
     "output_type": "stream",
     "text": [
      "3\n",
      "*\n",
      "**\n",
      "***\n",
      "**\n",
      "*\n"
     ]
    }
   ],
   "source": [
    "# 백준 2523\n",
    "\n",
    "n = int(input())\n",
    "for i in range(1, n+1):\n",
    "    print('*' * i)\n",
    "for i in range(n-1, 0, -1):\n",
    "    print('*' * i)  "
   ]
  },
  {
   "cell_type": "code",
   "execution_count": 156,
   "id": "e5a28da4",
   "metadata": {},
   "outputs": [
    {
     "name": "stdout",
     "output_type": "stream",
     "text": [
      "5\n",
      "*        *\n",
      "**      **\n",
      "***    ***\n",
      "****  ****\n",
      "**********\n",
      "****  ****\n",
      "***    ***\n",
      "**      **\n",
      "*        *\n"
     ]
    }
   ],
   "source": [
    "# 백준 2445\n",
    "\n",
    "# 1 8 1\n",
    "# 2 6 2\n",
    "# 3 4 3\n",
    "# 4 2 4\n",
    "# 5 0 5\n",
    "# 4 2 4\n",
    "# 3 4 3\n",
    "# 2 6 2\n",
    "# 1 8 1\n",
    "n = int(input())\n",
    "for i in range(1, n+1):\n",
    "    print('*' * i, end='')\n",
    "    print(' ' * (2*n - 2*i), end='')\n",
    "    print('*' * i)\n",
    "for i in range(n - 1, 0, -1):\n",
    "    print('*' * i, end='')\n",
    "    print(' ' * (2*n - 2*i), end='')\n",
    "    print('*' * i)"
   ]
  },
  {
   "cell_type": "code",
   "execution_count": 158,
   "id": "edf00e8a",
   "metadata": {},
   "outputs": [
    {
     "name": "stdout",
     "output_type": "stream",
     "text": [
      "2\n",
      "10000\n",
      "2\n",
      "1 2000\n",
      "3 400\n",
      "13200\n",
      "50000\n",
      "0\n",
      "50000\n"
     ]
    }
   ],
   "source": [
    "# 백준 9325\n",
    "\n",
    "# 2\n",
    "# 10000\n",
    "# 2\n",
    "# 1 2000\n",
    "# 3 400\n",
    "# 50000\n",
    "# 0\n",
    "\n",
    "def total_sum(n):\n",
    "    for _ in range(n):\n",
    "        price = int(input())\n",
    "        m = int(input())\n",
    "        for _ in range(m):\n",
    "            q, p = map(int, input().split())\n",
    "            price += q * p\n",
    "        print(price)\n",
    "n = int(input())\n",
    "total_sum(n)"
   ]
  },
  {
   "cell_type": "code",
   "execution_count": 2,
   "id": "35be6020",
   "metadata": {},
   "outputs": [
    {
     "name": "stdout",
     "output_type": "stream",
     "text": [
      "5\n",
      "*********\n",
      " *******\n",
      "  *****\n",
      "   ***\n",
      "    *\n",
      "   ***\n",
      "  *****\n",
      " *******\n",
      "*********\n"
     ]
    }
   ],
   "source": [
    "# 백준 2446\n",
    "\n",
    "# 0 9\n",
    "# 1 7\n",
    "# 2 5\n",
    "# 3 3\n",
    "# 4 1\n",
    "# 3 3\n",
    "# 2 5\n",
    "# 1 7\n",
    "# 0 9\n",
    "n = int(input())\n",
    "\n",
    "for i in range(n, 0, -1): # 5, 4, 3, 2, 1\n",
    "    print(' ' * (n - i), end='')\n",
    "    print('*' * (2 * i - 1))\n",
    "for i in range(2, n+1): # 2 3 4 5\n",
    "    print(' ' * (n - i), end='')\n",
    "    print('*' * (2 * i - 1))"
   ]
  },
  {
   "cell_type": "code",
   "execution_count": 4,
   "id": "8a9d1da6",
   "metadata": {},
   "outputs": [
    {
     "name": "stdout",
     "output_type": "stream",
     "text": [
      "10 5\n",
      "1 10 4 9 2 3 8 5 7 6\n",
      "1 4 2 3 "
     ]
    }
   ],
   "source": [
    "# 백준 10871\n",
    "\n",
    "# 10 5\n",
    "# 1 10 4 9 2 3 8 5 7 6\n",
    "\n",
    "# 1 4 2 3\n",
    "\n",
    "n, x = map(int, input().split())\n",
    "rst = list(map(int, input().split()))\n",
    "\n",
    "for i in rst:\n",
    "    if x > i:\n",
    "        print(i, end=' ')"
   ]
  },
  {
   "cell_type": "code",
   "execution_count": 9,
   "id": "c87e66f0",
   "metadata": {},
   "outputs": [
    {
     "name": "stdout",
     "output_type": "stream",
     "text": [
      "10\n",
      "3628800\n"
     ]
    }
   ],
   "source": [
    "# 백준 10872\n",
    "\n",
    "# 10\n",
    "# 3628800\n",
    "# 0 -> 1\n",
    "n = int(input())\n",
    "total = 1\n",
    "if n != 0:\n",
    "    for i in range(1, n+1):\n",
    "        total *= i\n",
    "print(total)"
   ]
  },
  {
   "cell_type": "code",
   "execution_count": 1,
   "id": "af2296bd",
   "metadata": {},
   "outputs": [
    {
     "name": "stdout",
     "output_type": "stream",
     "text": [
      "3\n",
      "29\n",
      "38\n",
      "12\n",
      "57\n",
      "74\n",
      "40\n",
      "85\n",
      "61\n",
      "85\n",
      "8\n"
     ]
    }
   ],
   "source": [
    "# 백준 2562\n",
    "\n",
    "# 3    1\n",
    "# 29  2\n",
    "# 38  3 \n",
    "# 12   4 \n",
    "# 57  5\n",
    "# 74  6 \n",
    "# 40  7 \n",
    "# 85  8\n",
    "# 61   9\n",
    "\n",
    "# 85\n",
    "# 8\n",
    "\n",
    "max_ = -1\n",
    "for i in range(9):\n",
    "    n = int(input())\n",
    "    i += 1\n",
    "    if n > max_:\n",
    "        max_, j = n, i\n",
    "print(max_)\n",
    "print(j)"
   ]
  },
  {
   "cell_type": "code",
   "execution_count": 2,
   "id": "a95b6f0e",
   "metadata": {},
   "outputs": [
    {
     "name": "stdout",
     "output_type": "stream",
     "text": [
      "0 1 0 1\n",
      "B\n",
      "1 1 1 0\n",
      "A\n",
      "0 0 1 1\n",
      "B\n"
     ]
    }
   ],
   "source": [
    "# 백준 2490\n",
    "# A : 도, B : 개, C :걸 , D : 윷, E : 모\n",
    "# 0 1 0 1  B\n",
    "# 1 1 1 0   A\n",
    "# 0 0 1 1  B\n",
    "\n",
    "def yut(lst):\n",
    "    count = 0\n",
    "    for i in lst:\n",
    "        if i == 0:\n",
    "            count += 1\n",
    "    if count == 0: print('E')    \n",
    "    elif count == 1: print('A')\n",
    "    elif count == 2: print('B')\n",
    "    elif count == 3: print('C')\n",
    "    else: print('D')\n",
    "    \n",
    "for _ in range(3):\n",
    "    lst = list(map(int, input().split()))\n",
    "    yut(lst)"
   ]
  },
  {
   "cell_type": "code",
   "execution_count": null,
   "id": "f7c1baaf",
   "metadata": {},
   "outputs": [],
   "source": [
    "## 백준 2576\n",
    "\n",
    "# 12\n",
    "# 77\n",
    "# 38\n",
    "# 41\n",
    "# 53\n",
    "# 92\n",
    "# 85\n",
    "\n",
    "# 256\n",
    "# 41\n",
    "\n",
    "def find(lst):\n",
    "    rst = []\n",
    "    for i in lst:\n",
    "        if i % 2 == 1:\n",
    "            rst.append(i)\n",
    "    \n",
    "    if rst:       \n",
    "        print(sum(rst))\n",
    "        print(min(rst))\n",
    "    else:\n",
    "        print(-1)\n",
    "        \n",
    "lst = [int(input()) for _ in range(7)]\n",
    "find(lst)"
   ]
  },
  {
   "cell_type": "code",
   "execution_count": null,
   "id": "9ecf0779",
   "metadata": {},
   "outputs": [],
   "source": []
  }
 ],
 "metadata": {
  "kernelspec": {
   "display_name": "Python 3 (ipykernel)",
   "language": "python",
   "name": "python3"
  },
  "language_info": {
   "codemirror_mode": {
    "name": "ipython",
    "version": 3
   },
   "file_extension": ".py",
   "mimetype": "text/x-python",
   "name": "python",
   "nbconvert_exporter": "python",
   "pygments_lexer": "ipython3",
   "version": "3.9.12"
  }
 },
 "nbformat": 4,
 "nbformat_minor": 5
}
