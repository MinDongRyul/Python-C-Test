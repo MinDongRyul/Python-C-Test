{
 "cells": [
  {
   "cell_type": "code",
   "execution_count": null,
   "id": "62151fe0",
   "metadata": {},
   "outputs": [],
   "source": [
    "# 백준 2920\n",
    "N_list = list(map(int, input().split(' ')))\n",
    "N_list_1 = sorted(N_list)\n",
    "N_list_2 = sorted(N_list, reverse=True)\n",
    "N_list_1\n",
    "if N_list == N_list_1:\n",
    "    print('ascending')\n",
    "elif N_list == N_list_2:\n",
    "    print('descending')\n",
    "else:\n",
    "    print('mixed')\n",
    "    \n",
    "# ascending = True\n",
    "# descending = False\n",
    "\n",
    "# for i in range(1, 8): 현재 값과 이전 값과의 크기 비교를 통해 오름차순, 내림차순 비교\n",
    "#     if a[i] > a[i - 1]:  현재  값이 이전 값보다 크다면 내림차순 아님\n",
    "#         descending = False\n",
    "#     elif a[i] < a[i - 1]: 현재 값이 이전 값보다 작다면 오름차순 아님\n",
    "#         ascending = False\n",
    "\n",
    "# if ascending:\n",
    "#     print('ascending')\n",
    "# elif descending:\n",
    "#     print('descending')\n",
    "# else:\n",
    "#     print('mixed')"
   ]
  },
  {
   "cell_type": "code",
   "execution_count": null,
   "id": "d51b4406",
   "metadata": {},
   "outputs": [],
   "source": [
    "# 백준 2953\n",
    "# 5 4 4 5\n",
    "# 5 4 4 4\n",
    "# 5 5 4 4\n",
    "# 5 5 5 4\n",
    "# 4 4 4 5\n",
    "result = []\n",
    "for i in range(5):\n",
    "    n = list(map(int, input().split()))\n",
    "    n_sum = sum(n)\n",
    "    result.append((n_sum, i))\n",
    "    # if 현재까지 최대값 < 현재 행의 합:\n",
    "    #     최대값 = 현재 행의 합\n",
    "    #      result = i + 1\n",
    "result = sorted(result, reverse=True)\n",
    "print(result[0][1] + 1, result[0][0])"
   ]
  },
  {
   "cell_type": "code",
   "execution_count": null,
   "id": "9e516c41",
   "metadata": {},
   "outputs": [],
   "source": [
    "# 백준 10809\n",
    "\n",
    "import string\n",
    "\n",
    "str1 = list(string.ascii_lowercase)\n",
    "lst = [i for i in range(len(str1))]\n",
    "\n",
    "dic = {}\n",
    "dic_result = {}\n",
    "for i in range(len(str1)):\n",
    "    d2 = {str1[i]:lst[i]}\n",
    "    d3 = {str1[i]:[-1, False]}\n",
    "    dic.update(d2)\n",
    "    dic_result.update(d3)\n",
    "\n",
    "str2 = input()\n",
    "\n",
    "for i, index in enumerate(str2):\n",
    "    for j in dic_result.keys():\n",
    "        if index == j and not dic_result[index][1]:\n",
    "            dic_result[index][0] = i\n",
    "            dic_result[index][1] = True\n",
    "\n",
    "for i in dic_result.values():\n",
    "    print(i[0], end=' ')"
   ]
  },
  {
   "cell_type": "code",
   "execution_count": null,
   "id": "093a78c6",
   "metadata": {},
   "outputs": [],
   "source": [
    "# 백준 2750\n",
    "\n",
    "def pivot(data):\n",
    "    if len(data) <= 1:\n",
    "        return data\n",
    "    \n",
    "    piv = data[0]\n",
    "    left = [ item for item in data[1:] if piv > item]\n",
    "    right = [ item for item in data[1:] if piv <= item]\n",
    "    \n",
    "    return pivot(left) + [piv] + pivot(right)\n",
    "\n",
    "test_case = int(input())\n",
    "lst = [] \n",
    "for _ in range(test_case):\n",
    "    lst.append(int(input()))\n",
    "\n",
    "for i in pivot(lst):\n",
    "    print(i)"
   ]
  },
  {
   "cell_type": "code",
   "execution_count": null,
   "id": "530a5bb1",
   "metadata": {},
   "outputs": [],
   "source": [
    "# 삽입 정렬\n",
    "\n",
    "test_case = int(input())\n",
    "lst = [] \n",
    "for _ in range(test_case):\n",
    "    lst.append(int(input()))\n",
    "    \n",
    "for i in range(len(lst)-1):\n",
    "    for j in range(i+1, 0, -1):\n",
    "        if lst[j - 1] > lst[j]:\n",
    "            lst[j-1], lst[j] = lst[j], lst[j-1]\n",
    "        else:\n",
    "            break\n",
    "for i in lst:\n",
    "    print(i)"
   ]
  },
  {
   "cell_type": "code",
   "execution_count": null,
   "id": "09764a2f",
   "metadata": {},
   "outputs": [],
   "source": [
    "# 백준 1427\n",
    "\n",
    "n = input()\n",
    "lst = [i for i in n]\n",
    "\n",
    "lst = sorted(lst, reverse=True)\n",
    "str1 = ''.join(lst)\n",
    "print(str1)"
   ]
  },
  {
   "cell_type": "code",
   "execution_count": null,
   "id": "0804260f",
   "metadata": {},
   "outputs": [],
   "source": [
    "# 백준 10814\n",
    "\n",
    "test_case = int(input())\n",
    "lst = []\n",
    "for _ in range(test_case):\n",
    "    input_data = input().split(' ')\n",
    "    lst.append((int(input_data[0]), input_data[1]))\n",
    "    \n",
    "lst = sorted(lst, key=lambda x:x[0]) # 여기서는 정렬 기준을 x[0]으로 잡고 정렬\n",
    "\n",
    "for i in lst:\n",
    "    print(i[0], i[1])"
   ]
  },
  {
   "cell_type": "code",
   "execution_count": null,
   "id": "5f5d62f5",
   "metadata": {},
   "outputs": [],
   "source": [
    "# 백준 11650\n",
    "\n",
    "test_case = int(input())\n",
    "lst = []\n",
    "for _ in range(test_case):\n",
    "    input_data = input().split(' ')\n",
    "    lst.append((int(input_data[0]), int(input_data[1])))\n",
    "\n",
    "lst.sort()\n",
    "\n",
    "for i in lst:\n",
    "    print(i[0], i[1])"
   ]
  },
  {
   "cell_type": "code",
   "execution_count": null,
   "id": "16319e36",
   "metadata": {},
   "outputs": [],
   "source": [
    "# 백준 2751\n",
    "\n",
    "test_case = int(input())\n",
    "lst = []\n",
    "\n",
    "for _ in range(test_case):\n",
    "    lst.append(int(input()))\n",
    "\n",
    "lst = sorted(lst)    \n",
    "    \n",
    "for i in lst:\n",
    "    print(i)"
   ]
  },
  {
   "cell_type": "code",
   "execution_count": null,
   "id": "bccd9b31",
   "metadata": {},
   "outputs": [],
   "source": [
    "# 백준 2751 (병합 정렬)"
   ]
  },
  {
   "cell_type": "code",
   "execution_count": null,
   "id": "fb983d90",
   "metadata": {},
   "outputs": [],
   "source": [
    "# 백준 1568\n",
    "\n",
    "n = int(input())\n",
    "k = 1\n",
    "result = 0\n",
    "while n > 0:\n",
    "    if k <=  n:\n",
    "        n -= k\n",
    "    else:\n",
    "        n -= 1\n",
    "        k = 1\n",
    "    result += 1\n",
    "    k +=1\n",
    "print(result)"
   ]
  },
  {
   "cell_type": "code",
   "execution_count": null,
   "id": "1fd11391",
   "metadata": {},
   "outputs": [],
   "source": [
    "# 백준 1568\n",
    "\n",
    "n = int(input())\n",
    "k = 1\n",
    "result = 0\n",
    "while n > 0:\n",
    "    if k >  n:\n",
    "        k = 1\n",
    "    n -= k\n",
    "    result += 1\n",
    "    k +=1\n",
    "print(result)"
   ]
  },
  {
   "cell_type": "code",
   "execution_count": null,
   "id": "55be1d82",
   "metadata": {},
   "outputs": [],
   "source": [
    "# 백준 1302 (자료구조, 정렬, 해시)\n",
    "\n",
    "test_case = int(input())\n",
    "dic = {}\n",
    "\n",
    "for _ in range(test_case):\n",
    "    book = input()\n",
    "    if book not in dic:\n",
    "        dic[book] = 1\n",
    "    else:\n",
    "        dic[book] += 1\n",
    "\n",
    "dic = sorted(dic.items(), key=lambda x: x[1], reverse=True)\n",
    "max_ = dic[0][1]\n",
    "# max_ = max(dic.values())\n",
    "result = []\n",
    "\n",
    "for i in range(len(dic)):\n",
    "    if dic[i][1] == max_:\n",
    "        result.append(dic[i][0])\n",
    "\n",
    "print(sorted(result)[0])"
   ]
  },
  {
   "cell_type": "code",
   "execution_count": null,
   "id": "b9c057e0",
   "metadata": {},
   "outputs": [],
   "source": [
    "doc = {'asd':1, 'qwe':2, 'zxc':3}\n",
    "\n",
    "for book, number in doc.items():\n",
    "    print(book, number)"
   ]
  },
  {
   "cell_type": "code",
   "execution_count": null,
   "id": "830c9291",
   "metadata": {},
   "outputs": [],
   "source": [
    "# 백준 1668\n",
    "\n",
    "def check(data):\n",
    "    count = 1\n",
    "    max_ = data[0]\n",
    "    for i in range(1, len(data)):\n",
    "        if data[i] > max_:\n",
    "            max_ = data[i]\n",
    "            count += 1\n",
    "    return count\n",
    "\n",
    "test_case = int(input())\n",
    "lst = []\n",
    "\n",
    "for _ in range(test_case):\n",
    "    lst.append(int(input()))\n",
    "    \n",
    "print(check(lst))\n",
    "lst.reverse()\n",
    "print(check(lst))"
   ]
  },
  {
   "cell_type": "code",
   "execution_count": null,
   "id": "70d33e62",
   "metadata": {},
   "outputs": [],
   "source": [
    "# 백준 1236\n",
    "\n",
    "n, m = map(int, input().split())\n",
    "rst = []\n",
    "\n",
    "for _ in range(n):\n",
    "    rst.append(input())\n",
    "    \n",
    "row = [0] * n\n",
    "column = [0] * m\n",
    "\n",
    "for i in range(n):\n",
    "    for j in range(m):\n",
    "        if rst[i][j] == 'X':\n",
    "            row[i] = 1\n",
    "            column[j] = 1\n",
    "\n",
    "row_count = 0\n",
    "for i in range(n):\n",
    "    if row[i] == 0:\n",
    "        row_count += 1\n",
    "        \n",
    "column_count = 0\n",
    "for j in range(m):\n",
    "    if column[j] == 0:\n",
    "        column_count += 1\n",
    "\n",
    "print(max(row_count, column_count))"
   ]
  },
  {
   "cell_type": "code",
   "execution_count": null,
   "id": "e469f08a",
   "metadata": {},
   "outputs": [],
   "source": [
    "# 백준 2751 (힙 정렬)\n",
    "import heapq\n",
    "\n",
    "test_case = int(input())\n",
    "lst = []\n",
    "\n",
    "for _ in range(test_case):\n",
    "    heapq.heappush(lst,int(input()))\n",
    "    \n",
    "for i in range(test_case):\n",
    "    print(heapq.heappop(lst))"
   ]
  },
  {
   "cell_type": "code",
   "execution_count": null,
   "id": "f85f7664",
   "metadata": {},
   "outputs": [],
   "source": [
    "# 백준 18870\n",
    "\n",
    "test_case = int(input())\n",
    "lst = list(map(int, input().split()))\n",
    "\n",
    "lst_ = sorted(list(set(lst)))\n",
    "\n",
    "dic = {}\n",
    "for k,i in enumerate(lst_):\n",
    "    dic[i] = k\n",
    "    \n",
    "for i in lst:\n",
    "    print(dic[i], end=' ')"
   ]
  },
  {
   "cell_type": "code",
   "execution_count": null,
   "id": "7fe4e69b",
   "metadata": {},
   "outputs": [],
   "source": [
    "# 백준 1431\n",
    "\n",
    "def digit_sum(str):\n",
    "    result = 0 # 각 자릿수의 합\n",
    "    for x in str: # 문자를 하나씩 확인하며\n",
    "        if x.isdigit(): # 숫자일 때만 더하기\n",
    "            result += int(x)\n",
    "    return result\n",
    "\n",
    "test_case = int(input())\n",
    "arr = []\n",
    "\n",
    "for _ in range(test_case):\n",
    "    arr.append(input().strip())\n",
    "arr.sort(key=lambda x: (len(x), digit_sum(x), x)) # 길이순, 숫자합순, 사전순 으로 세번에 걸쳐 정렬\n",
    "\n",
    "for i in arr:\n",
    "    print(i)"
   ]
  },
  {
   "cell_type": "code",
   "execution_count": null,
   "id": "ed5d2864",
   "metadata": {},
   "outputs": [],
   "source": [
    "# 백준 2170\n",
    "\n",
    "test_case = int(input())\n",
    "arr = []\n",
    "\n",
    "for _ in range(test_case):\n",
    "    x, y = map(int, input().split())\n",
    "    arr.append((x, y)) # 시작점, 끝점\n",
    "    \n",
    "arr.sort(key = lambda x:(x[0], x[1])) # 오름차순 정렬 \n",
    "\n",
    "min_x, max_y = arr[0][0], arr[0][1]\n",
    "result = 0\n",
    "\n",
    "for i in range(1, test_case):\n",
    "#     if max_y > arr[i][1]: # max_y보다 작을 경우 -1 5  / 1 4 -> -1 5    없어도 상관없음\n",
    "#         pass\n",
    "    if max_y < arr[i][0]: # max_y보다 앞이 큰 경우 -1 5 / 6 7 -> 6 7\n",
    "        result += (max_y - min_x) # 현재까지 온 길이를 더 함\n",
    "        min_x, max_y = arr[i][0], arr[i][1] # 위치를 초기화\n",
    "    elif max_y < arr[i][1]: # max_y보다 클 경우 -1 5 / 1 7 -> -1 7\n",
    "        max_y = arr[i][1]\n",
    "\n",
    "result += (max_y - min_x)\n",
    "print(result)"
   ]
  },
  {
   "cell_type": "code",
   "execution_count": null,
   "id": "30c8070d",
   "metadata": {},
   "outputs": [],
   "source": [
    "# 백준 3273 (투 포인터)\n",
    "\n",
    "test_case = int(input()) # 배열 갯수\n",
    "arr = list(map(int, input().split())) # 배열\n",
    "\n",
    "x = int(input()) # 만족해야 하는 수\n",
    "arr.sort() # 오름차순 정렬\n",
    "start, end = arr[0], arr[-1] # 초기 세팅값\n",
    "result = 0 # 결과\n",
    "\n",
    "while True:\n",
    "    \n",
    "    if start >= end: # 이미 검증\n",
    "        break\n",
    "    \n",
    "    if start + end == x:\n",
    "        result += 1\n",
    "        # 제거 및 재 설정\n",
    "        arr.pop(0)\n",
    "        arr.pop(-1)\n",
    "        start = arr[0]\n",
    "        end = arr[-1]\n",
    "    elif start + end > x:\n",
    "        # end - 1\n",
    "        arr.pop(-1)\n",
    "        end = arr[-1]\n",
    "    elif start + end < x:\n",
    "        # start + 1\n",
    "        arr.pop(0)\n",
    "        start = arr[0]\n",
    "\n",
    "print(result)"
   ]
  },
  {
   "cell_type": "code",
   "execution_count": null,
   "id": "b76a67ca",
   "metadata": {},
   "outputs": [],
   "source": [
    "# 백준 3273\n",
    "\n",
    "test_case = int(input()) # 배열 갯수\n",
    "arr = list(map(int, input().split())) # 배열\n",
    "\n",
    "x = int(input()) # 만족해야 하는 수\n",
    "arr.sort() # 오름차순 정렬\n",
    "start, end = arr[0], arr[-1] # 초기 세팅값\n",
    "result = 0 # 결과\n",
    "\n",
    "while start < end:# start 가 end랑 같거나 커지면 검증 종료\n",
    "    \n",
    "    if start + end == x: # 정답\n",
    "        result += 1\n",
    "        # 제거 및 재 설정\n",
    "        arr.pop(0)\n",
    "        arr.pop(-1)\n",
    "        if len(arr) <= 1: # 제거 한뒤에 arr이 비었으면 종료\n",
    "            break\n",
    "        start = arr[0]\n",
    "        end = arr[-1]\n",
    "    elif start + end > x: # 정답보다 큰 경우\n",
    "        # end - 1\n",
    "        arr.pop(-1)\n",
    "        end = arr[-1]\n",
    "    elif start + end < x: # 정답보다 작은 경우\n",
    "        # start + 1\n",
    "        arr.pop(0)\n",
    "        start = arr[0]\n",
    "\n",
    "print(result)"
   ]
  },
  {
   "cell_type": "code",
   "execution_count": null,
   "id": "986f14f4",
   "metadata": {},
   "outputs": [],
   "source": [
    "graph = [[0] * 7 for _ in range(7)] # N * N 2차원행렬"
   ]
  },
  {
   "cell_type": "code",
   "execution_count": null,
   "id": "1cfe2f99",
   "metadata": {},
   "outputs": [],
   "source": [
    "# 백준 5052 (정렬 + 트리)\n",
    "\n",
    "for _ in range(int(input())):\n",
    "    group = int(input()) # 전화번호 갯수\n",
    "    books = []\n",
    "    for _ in range(group):\n",
    "        books.append(input().strip())\n",
    "    books.sort() # 문자열 기준으로 오름차순 정렬\n",
    "    result = False\n",
    "    for i in range(group - 1):\n",
    "        if len(books[i]) < len(books[i + 1]): # 앞에 길이가 뒤에보다 작은지 우선 확인\n",
    "            if books[i] == books[i+1][:len(books[i])]: # 앞에 문자열의 길이만큼 뒤 문자을 슬라이싱 한다음 비교 같으면 일관성 X\n",
    "                result = True\n",
    "                break\n",
    "    if result : print('NO') # 관계 있음 -> 일관성 없음\n",
    "    else: print('YES')       # 관계 없음 -> 일관성 있음"
   ]
  },
  {
   "cell_type": "code",
   "execution_count": null,
   "id": "8dcd99db",
   "metadata": {},
   "outputs": [],
   "source": [
    "# 백준 17269\n",
    "\n",
    "n, m = map(int, input().split())\n",
    "a, b = map(str, input().split())\n",
    "rst = ''\n",
    "len_min = min(len(a), len(b))\n",
    "for i in range(len_min):\n",
    "    rst += a[i] + b[i]\n",
    "rst += a[len_min:] + b[len_min:]\n",
    "# print(rst) LMEIEYSAIWYAUKNISAKURA\n",
    "\n",
    "dict_ = {'A':3, 'B':2, 'C':1, 'D':2, 'E':4, 'F':3, 'G':1, 'H':3, 'I':1, 'J':1, 'K':3, 'L':1, 'M':3, 'N':2, 'O':1, 'P':2, 'Q':2, 'R':2, 'S':1,\n",
    "        'T':2, 'U':1, 'V':1, 'W':1, 'X':2, 'Y':2, 'Z':1}\n",
    "rst_2 = ''\n",
    "for i in rst:\n",
    "    rst_2 = rst_2 + str(dict_[i])\n",
    "# print(rst_2) # 1341421311231321133123\n",
    "\n",
    "while len(rst_2) > 2:\n",
    "    rst_3 = ''\n",
    "    for i in range(len(rst_2)-1):\n",
    "        if len(str(int(rst_2[i]) + int(rst_2[i+1]))) >= 2:\n",
    "            rst_3 += str(int(rst_2[i]) + int(rst_2[i+1]))[1:]\n",
    "        else:\n",
    "            rst_3 += str(int(rst_2[i]) + int(rst_2[i+1]))\n",
    "    rst_2 = rst_3\n",
    "rst_2 = str(int(rst_2))\n",
    "print(rst_2+'%')"
   ]
  },
  {
   "cell_type": "code",
   "execution_count": null,
   "id": "3a9063f4",
   "metadata": {},
   "outputs": [],
   "source": [
    "# 백준 17389\n",
    "\n",
    "n = int(input())\n",
    "s = input()\n",
    "rst = 0\n",
    "bonus = 0\n",
    "if s[0] == 'O':\n",
    "    rst += 1\n",
    "for i in range(1 ,n):\n",
    "    if s[i] == 'O': # s[1] : 'O' / S[0] == S[1] -> 'OO' bonus += 1 \n",
    "        if s[i] == s[i-1]: # oo\n",
    "            bonus += 1\n",
    "            rst += i+1\n",
    "            rst += bonus\n",
    "        else: # xo\n",
    "            rst += i+1\n",
    "    else: # 'x'\n",
    "        bonus = 0\n",
    "print(rst)"
   ]
  },
  {
   "cell_type": "code",
   "execution_count": null,
   "id": "c7073169",
   "metadata": {},
   "outputs": [],
   "source": [
    "n = int(input())\n",
    "s = input()\n",
    "\n",
    "rst = 0\n",
    "bonus = 0\n",
    "\n",
    "for i, OX in enumerate(s):\n",
    "    if OX == 'O': # s[1] : 'O' / S[0] == S[1] -> 'OO' bonus += 1 \n",
    "        rst += i + 1 + bonus\n",
    "        bonus += 1\n",
    "    else: # 'x'\n",
    "        bonus = 0\n",
    "print(rst)"
   ]
  },
  {
   "cell_type": "code",
   "execution_count": 19,
   "id": "d67e6214",
   "metadata": {
    "collapsed": true
   },
   "outputs": [
    {
     "name": "stdout",
     "output_type": "stream",
     "text": [
      "1\n",
      "4\n",
      "20 a\n",
      "20 b\n",
      "20 c\n",
      "30 d\n"
     ]
    },
    {
     "ename": "TypeError",
     "evalue": "an integer is required (got type tuple)",
     "output_type": "error",
     "traceback": [
      "\u001b[1;31m---------------------------------------------------------------------------\u001b[0m",
      "\u001b[1;31mTypeError\u001b[0m                                 Traceback (most recent call last)",
      "Input \u001b[1;32mIn [19]\u001b[0m, in \u001b[0;36m<cell line: 16>\u001b[1;34m()\u001b[0m\n\u001b[0;32m     13\u001b[0m         \u001b[38;5;28mprint\u001b[39m(rst[\u001b[38;5;241m0\u001b[39m][\u001b[38;5;241m0\u001b[39m])\n\u001b[0;32m     15\u001b[0m test_case \u001b[38;5;241m=\u001b[39m \u001b[38;5;28mint\u001b[39m(\u001b[38;5;28minput\u001b[39m())\n\u001b[1;32m---> 16\u001b[0m \u001b[43mfind_player\u001b[49m\u001b[43m(\u001b[49m\u001b[43mtest_case\u001b[49m\u001b[43m)\u001b[49m\n",
      "Input \u001b[1;32mIn [19]\u001b[0m, in \u001b[0;36mfind_player\u001b[1;34m(test_case)\u001b[0m\n\u001b[0;32m      9\u001b[0m     price, name \u001b[38;5;241m=\u001b[39m \u001b[38;5;28minput\u001b[39m()\u001b[38;5;241m.\u001b[39msplit()\n\u001b[0;32m     10\u001b[0m     rst[name] \u001b[38;5;241m=\u001b[39m \u001b[38;5;28mint\u001b[39m(price)\n\u001b[1;32m---> 11\u001b[0m rst \u001b[38;5;241m=\u001b[39m \u001b[38;5;28;43msorted\u001b[39;49m\u001b[43m(\u001b[49m\u001b[43mrst\u001b[49m\u001b[38;5;241;43m.\u001b[39;49m\u001b[43mitems\u001b[49m\u001b[43m(\u001b[49m\u001b[43m)\u001b[49m\u001b[43m,\u001b[49m\u001b[43m \u001b[49m\u001b[43mkey\u001b[49m\u001b[38;5;241;43m=\u001b[39;49m\u001b[38;5;28;43;01mlambda\u001b[39;49;00m\u001b[43m \u001b[49m\u001b[43mx\u001b[49m\u001b[43m \u001b[49m\u001b[43m:\u001b[49m\u001b[43m \u001b[49m\u001b[43m(\u001b[49m\u001b[43mx\u001b[49m\u001b[43m[\u001b[49m\u001b[38;5;241;43m1\u001b[39;49m\u001b[43m]\u001b[49m\u001b[43m,\u001b[49m\u001b[43m \u001b[49m\u001b[43mx\u001b[49m\u001b[43m[\u001b[49m\u001b[38;5;241;43m0\u001b[39;49m\u001b[43m]\u001b[49m\u001b[43m)\u001b[49m\u001b[43m,\u001b[49m\u001b[43m \u001b[49m\u001b[43mreverse\u001b[49m\u001b[38;5;241;43m=\u001b[39;49m\u001b[43m(\u001b[49m\u001b[38;5;28;43;01mTrue\u001b[39;49;00m\u001b[43m,\u001b[49m\u001b[43m \u001b[49m\u001b[38;5;28;43;01mFalse\u001b[39;49;00m\u001b[43m)\u001b[49m\u001b[43m)\u001b[49m\n\u001b[0;32m     12\u001b[0m \u001b[38;5;28mprint\u001b[39m(rst)\n\u001b[0;32m     13\u001b[0m \u001b[38;5;28mprint\u001b[39m(rst[\u001b[38;5;241m0\u001b[39m][\u001b[38;5;241m0\u001b[39m])\n",
      "\u001b[1;31mTypeError\u001b[0m: an integer is required (got type tuple)"
     ]
    }
   ],
   "source": [
    "# 11098\n",
    "\n",
    "# 내림차순 정렬 후 이름 출력 함수\n",
    "def find_player(test_case):\n",
    "    for _ in range(test_case):\n",
    "        rst = {}\n",
    "        case = int(input())\n",
    "        for _ in range(case):\n",
    "            price, name = input().split()\n",
    "            rst[name] = int(price)\n",
    "        rst = sorted(rst.items(), key=lambda x : (x[1], x[0]), reverse=True)\n",
    "        print(rst)\n",
    "        print(rst[0][0])\n",
    "    \n",
    "test_case = int(input())\n",
    "find_player(test_case)"
   ]
  },
  {
   "cell_type": "code",
   "execution_count": 38,
   "id": "6ed864a2",
   "metadata": {},
   "outputs": [
    {
     "name": "stdout",
     "output_type": "stream",
     "text": [
      "5\n",
      "Mickey 1 10 1991\n",
      "Alice 30 12 1990\n",
      "Tom 15 8 1993\n",
      "Jerry 18 9 1990\n",
      "Garfield 20 9 1990\n",
      "[('Tom', (1993, 8, 15)), ('Mickey', (1991, 10, 1)), ('Jerry', (1990, 9, 18)), ('Garfield', (1990, 9, 20)), ('Alice', (1990, 12, 30))]\n"
     ]
    }
   ],
   "source": [
    "# 백준 5635 \n",
    "\n",
    "def find_age(n):\n",
    "    rst = {}\n",
    "    for _ in range(n):\n",
    "        name, d, m, y = input().split()\n",
    "        rst[name] = (int(y), int(m), int(d))\n",
    "    rst = sorted(rst.items(), key=lambda x : (x[1]), reverse=True)\n",
    "    print(rst[0][0])\n",
    "    print(rst[-1][0])\n",
    "    \n",
    "n = int(input())\n",
    "find_age(n)"
   ]
  },
  {
   "cell_type": "code",
   "execution_count": 74,
   "id": "8561a660",
   "metadata": {},
   "outputs": [
    {
     "name": "stdout",
     "output_type": "stream",
     "text": [
      "13:52:30\n",
      "14:00:00\n",
      "00:07:30\n"
     ]
    }
   ],
   "source": [
    "# 백준 1408\n",
    "\n",
    "num=list(map(int,input().split(\":\")))\n",
    "num1=list(map(int,input().split(\":\")))\n",
    "time=num[0]*3600+num[1]*60+num[2]\n",
    "time1=num1[0]*3600+num1[1]*60+num1[2] # 초로 변환\n",
    "if(time1<time):\n",
    "    time2=86400-time+time1\n",
    "else:\n",
    "    time2=time1-time\n",
    "hour=str(time2//3600)\n",
    "min_=str((time2%3600)//60)\n",
    "sec=str((time2%3600)%60)\n",
    "if(0<=int(hour)<10):\n",
    "    hour='0'+hour\n",
    "if(0<=int(min_)<10):\n",
    "    min_='0'+min_\n",
    "if(0<=int(sec)<10):\n",
    "    sec='0'+sec\n",
    "print(hour+\":\"+min_+\":\"+sec)"
   ]
  },
  {
   "cell_type": "code",
   "execution_count": 75,
   "id": "80518c1c",
   "metadata": {},
   "outputs": [
    {
     "name": "stdout",
     "output_type": "stream",
     "text": [
      "5\n",
      "1\n",
      "2\n",
      "3\n",
      "4\n",
      "5\n"
     ]
    }
   ],
   "source": [
    "# 백준 2741\n",
    "\n",
    "n = int(input())\n",
    "for i in range(1, n+1):\n",
    "    print(i)"
   ]
  },
  {
   "cell_type": "code",
   "execution_count": 77,
   "id": "541c4bcc",
   "metadata": {},
   "outputs": [
    {
     "name": "stdout",
     "output_type": "stream",
     "text": [
      "5\n",
      "5\n",
      "4\n",
      "3\n",
      "2\n",
      "1\n"
     ]
    }
   ],
   "source": [
    "# 백준 2742\n",
    "n = int(input())\n",
    "for i in range(n, 0, -1):\n",
    "    print(i)"
   ]
  },
  {
   "cell_type": "code",
   "execution_count": 82,
   "id": "f33f1977",
   "metadata": {},
   "outputs": [
    {
     "name": "stdout",
     "output_type": "stream",
     "text": [
      "2\n",
      "2 * 1 = 2\n",
      "2 * 2 = 4\n",
      "2 * 3 = 6\n",
      "2 * 4 = 8\n",
      "2 * 5 = 10\n",
      "2 * 6 = 12\n",
      "2 * 7 = 14\n",
      "2 * 8 = 16\n",
      "2 * 9 = 18\n"
     ]
    }
   ],
   "source": [
    "# 백준 2739\n",
    "n = int(input())\n",
    "for i in range(1, 10):\n",
    "    print(str(n) +' * '+ str(i) + ' = ' + str(n*i))"
   ]
  },
  {
   "cell_type": "code",
   "execution_count": 83,
   "id": "e13c2118",
   "metadata": {},
   "outputs": [
    {
     "name": "stdout",
     "output_type": "stream",
     "text": [
      "5\n",
      "*\n",
      "**\n",
      "***\n",
      "****\n",
      "*****\n"
     ]
    }
   ],
   "source": [
    "# 백준 2438\n",
    "\n",
    "n = int(input())\n",
    "\n",
    "for i in range(1, n+1):\n",
    "    print('*' * i)"
   ]
  },
  {
   "cell_type": "code",
   "execution_count": 84,
   "id": "5a33a869",
   "metadata": {},
   "outputs": [
    {
     "name": "stdout",
     "output_type": "stream",
     "text": [
      "5\n",
      "    *\n",
      "   **\n",
      "  ***\n",
      " ****\n",
      "*****\n"
     ]
    }
   ],
   "source": [
    "# 백준 2439\n",
    "\n",
    "n = int(input())\n",
    "\n",
    "for i in range(1, n+1):\n",
    "    print(' ' * (n - i), end='')\n",
    "    print('*' * i)"
   ]
  },
  {
   "cell_type": "code",
   "execution_count": 85,
   "id": "b533e17d",
   "metadata": {},
   "outputs": [
    {
     "name": "stdout",
     "output_type": "stream",
     "text": [
      "5\n",
      "*****\n",
      "****\n",
      "***\n",
      "**\n",
      "*\n"
     ]
    }
   ],
   "source": [
    "# 백준 2440\n",
    "\n",
    "n = int(input())\n",
    "\n",
    "for i in range(n, 0, -1):\n",
    "    print('*' * i)"
   ]
  },
  {
   "cell_type": "code",
   "execution_count": 86,
   "id": "f09f7637",
   "metadata": {},
   "outputs": [
    {
     "name": "stdout",
     "output_type": "stream",
     "text": [
      "5\n",
      "*****\n",
      " ****\n",
      "  ***\n",
      "   **\n",
      "    *\n"
     ]
    }
   ],
   "source": [
    "# 백준 2441\n",
    "\n",
    "n = int(input())\n",
    "\n",
    "for i in range(n, 0, -1):\n",
    "    print(' ' * (n - i), end='')\n",
    "    print('*' * i)"
   ]
  },
  {
   "cell_type": "code",
   "execution_count": 89,
   "id": "0ae56d9a",
   "metadata": {},
   "outputs": [
    {
     "name": "stdout",
     "output_type": "stream",
     "text": [
      "10\n",
      "55\n"
     ]
    }
   ],
   "source": [
    "# 백준 8393\n",
    "\n",
    "n = int(input())\n",
    "print((n*(n+1))//2)"
   ]
  },
  {
   "cell_type": "code",
   "execution_count": 90,
   "id": "0256fa33",
   "metadata": {},
   "outputs": [
    {
     "name": "stdout",
     "output_type": "stream",
     "text": [
      "9850\n",
      "1050\n",
      "800\n",
      "420\n",
      "380\n",
      "600\n",
      "820\n",
      "2400\n",
      "1800\n",
      "1580\n"
     ]
    }
   ],
   "source": [
    "# 백준 5565\n",
    "\n",
    "total_1 = int(input())\n",
    "total_sum = 0\n",
    "for _ in range(9):\n",
    "    total_sum += int(input())\n",
    "print(total_1 - total_sum)"
   ]
  },
  {
   "cell_type": "code",
   "execution_count": 94,
   "id": "3133d531",
   "metadata": {
    "scrolled": true
   },
   "outputs": [
    {
     "name": "stdout",
     "output_type": "stream",
     "text": [
      "1 1\n",
      "2\n",
      "2 3\n",
      "5\n",
      "7 10\n",
      "17\n",
      "1 6\n",
      "7\n",
      "0 0\n"
     ]
    }
   ],
   "source": [
    "# 백준 10952\n",
    "\n",
    "def sum_():\n",
    "    while True:\n",
    "        a, b = map(int, input().split())\n",
    "        if a == 0 and b == 0:\n",
    "            return\n",
    "        print(a + b)\n",
    "\n",
    "sum_()"
   ]
  },
  {
   "cell_type": "code",
   "execution_count": 111,
   "id": "947c3611",
   "metadata": {
    "scrolled": true
   },
   "outputs": [
    {
     "name": "stdout",
     "output_type": "stream",
     "text": [
      "1\n",
      "4\n",
      "3 4.3\n",
      "2 2.0\n",
      "4 0.0\n",
      "2 4.0\n",
      "[3.0, 4.3]\n",
      "[2.0, 2.0]\n",
      "[4.0, 0.0]\n",
      "[2.0, 4.0]\n",
      "11 2.3\n"
     ]
    }
   ],
   "source": [
    "# 백준 10984\n",
    "\n",
    "# 4\n",
    "# 3 4.3\n",
    "# 2 2.0\n",
    "# 4 0.0\n",
    "# 2 4.0\n",
    "# 11 2.3(24.9/11)\n",
    "\n",
    "def check(n):\n",
    "    for _ in range(n):\n",
    "        sum_total, sum_grade = 0, 0 \n",
    "        m = int(input())\n",
    "        for _ in range(m):\n",
    "            rst.append(list(map(float, input().split())))\n",
    "        for i in rst:\n",
    "            print(i)\n",
    "            sum_total += int(i[0])\n",
    "            sum_grade += int(i[0]) * i[1]\n",
    "        print(sum_total, round(sum_grade/sum_total, 1))\n",
    "n = int(input())\n",
    "check(n)"
   ]
  },
  {
   "cell_type": "code",
   "execution_count": 117,
   "id": "0b6a8911",
   "metadata": {},
   "outputs": [
    {
     "name": "stdout",
     "output_type": "stream",
     "text": [
      "1\n",
      "3\n",
      "4 0.0\n",
      "3 0\n",
      "4 0\n",
      "[4.0, 0.0]\n",
      "[3.0, 0.0]\n",
      "[4.0, 0.0]\n",
      "11 0.0\n"
     ]
    }
   ],
   "source": [
    "# 백준 10984\n",
    "\n",
    "def check(n):\n",
    "    for _ in range(n):\n",
    "        sum_total, sum_grade = 0, 0\n",
    "        rst = []\n",
    "        m = int(input())\n",
    "        for _ in range(m):\n",
    "            rst.append(list(map(float, input().split())))\n",
    "        for i in rst:\n",
    "            sum_total += int(i[0])\n",
    "            sum_grade += int(i[0]) * i[1]\n",
    "        print(sum_total, round(sum_grade/sum_total, 1))\n",
    "        \n",
    "n = int(input())\n",
    "check(n)"
   ]
  },
  {
   "cell_type": "code",
   "execution_count": 127,
   "id": "fd69164d",
   "metadata": {},
   "outputs": [
    {
     "name": "stdout",
     "output_type": "stream",
     "text": [
      "5\n",
      "    *\n",
      "   ***\n",
      "  *****\n",
      " *******\n",
      "*********\n"
     ]
    }
   ],
   "source": [
    "# 백준 2442 \n",
    "# 5 4 1\n",
    "# 6 3 3\n",
    "# 7 2 5\n",
    "# 8 1 7\n",
    "# 9 0 9\n",
    "# print(' ' * 4 ,end ='')\n",
    "# print('*' * 1)\n",
    "# print(' ' * 3 ,end ='')\n",
    "# print('*' * 3)\n",
    "# print(' ' * 2 ,end ='')\n",
    "# print('*' * 5)\n",
    "# print(' ' * 1 ,end ='')\n",
    "# print('*' * 7)\n",
    "# print(' ' * 0 ,end ='')\n",
    "# print('*' * 9)\n",
    "n = int(input())\n",
    "for i in range(1, n+1):\n",
    "    print(' ' * (n - i), end='')\n",
    "    print('*' * (2 * i - 1))"
   ]
  },
  {
   "cell_type": "code",
   "execution_count": 128,
   "id": "c1f01dcd",
   "metadata": {},
   "outputs": [
    {
     "name": "stdout",
     "output_type": "stream",
     "text": [
      "5\n",
      "*********\n",
      " *******\n",
      "  *****\n",
      "   ***\n",
      "    *\n"
     ]
    }
   ],
   "source": [
    "# 백준 2443\n",
    "n = int(input())\n",
    "for i in range(n, 0, -1):\n",
    "    print(' ' * (n - i), end='')\n",
    "    print('*' * (2 * i - 1))"
   ]
  },
  {
   "cell_type": "code",
   "execution_count": 137,
   "id": "bbe8108d",
   "metadata": {},
   "outputs": [
    {
     "name": "stdout",
     "output_type": "stream",
     "text": [
      "5\n",
      "    *\n",
      "   ***\n",
      "  *****\n",
      " *******\n",
      "*********\n",
      " *******\n",
      "  *****\n",
      "   ***\n",
      "    *\n"
     ]
    }
   ],
   "source": [
    "# 백준 2444\n",
    "\n",
    "n = int(input())\n",
    "for i in range(1, n+1):\n",
    "    print(' ' * (n - i), end='')\n",
    "    print('*' * (2 * i - 1)) \n",
    "for i in range(n - 1, 0, -1):\n",
    "    print(' ' * (n - i), end='')\n",
    "    print('*' * (2 * i - 1))  "
   ]
  },
  {
   "cell_type": "code",
   "execution_count": 148,
   "id": "064c10c0",
   "metadata": {
    "scrolled": false
   },
   "outputs": [
    {
     "name": "stdout",
     "output_type": "stream",
     "text": [
      "3\n",
      "  *\n",
      " **\n",
      "***\n",
      " **\n",
      "  *\n"
     ]
    }
   ],
   "source": [
    "# 백준 2522\n",
    "\n",
    "# 2 1 n = 3 i = 1\n",
    "# 1 2 n = 3 i = 2\n",
    "# 0 3 n = 3 i = 3\n",
    "# 1 2 n = 3 i = 4  \n",
    "# 2 1 n = 3 i = 5  \n",
    "n = int(input())\n",
    "for i in range(1, n+1):\n",
    "    print(' ' * (n - i), end='')\n",
    "    print('*' * i)\n",
    "for i in range(n-1, 0, -1):\n",
    "    print(' ' * (n - i), end='')\n",
    "    print('*' * i)  "
   ]
  },
  {
   "cell_type": "code",
   "execution_count": 153,
   "id": "d757b057",
   "metadata": {},
   "outputs": [
    {
     "name": "stdout",
     "output_type": "stream",
     "text": [
      "3\n",
      "*\n",
      "**\n",
      "***\n",
      "**\n",
      "*\n"
     ]
    }
   ],
   "source": [
    "# 백준 2523\n",
    "\n",
    "n = int(input())\n",
    "for i in range(1, n+1):\n",
    "    print('*' * i)\n",
    "for i in range(n-1, 0, -1):\n",
    "    print('*' * i)  "
   ]
  },
  {
   "cell_type": "code",
   "execution_count": 156,
   "id": "e5a28da4",
   "metadata": {},
   "outputs": [
    {
     "name": "stdout",
     "output_type": "stream",
     "text": [
      "5\n",
      "*        *\n",
      "**      **\n",
      "***    ***\n",
      "****  ****\n",
      "**********\n",
      "****  ****\n",
      "***    ***\n",
      "**      **\n",
      "*        *\n"
     ]
    }
   ],
   "source": [
    "# 백준 2445\n",
    "\n",
    "# 1 8 1\n",
    "# 2 6 2\n",
    "# 3 4 3\n",
    "# 4 2 4\n",
    "# 5 0 5\n",
    "# 4 2 4\n",
    "# 3 4 3\n",
    "# 2 6 2\n",
    "# 1 8 1\n",
    "n = int(input())\n",
    "for i in range(1, n+1):\n",
    "    print('*' * i, end='')\n",
    "    print(' ' * (2*n - 2*i), end='')\n",
    "    print('*' * i)\n",
    "for i in range(n - 1, 0, -1):\n",
    "    print('*' * i, end='')\n",
    "    print(' ' * (2*n - 2*i), end='')\n",
    "    print('*' * i)"
   ]
  },
  {
   "cell_type": "code",
   "execution_count": 158,
   "id": "edf00e8a",
   "metadata": {},
   "outputs": [
    {
     "name": "stdout",
     "output_type": "stream",
     "text": [
      "2\n",
      "10000\n",
      "2\n",
      "1 2000\n",
      "3 400\n",
      "13200\n",
      "50000\n",
      "0\n",
      "50000\n"
     ]
    }
   ],
   "source": [
    "# 백준 9325\n",
    "\n",
    "# 2\n",
    "# 10000\n",
    "# 2\n",
    "# 1 2000\n",
    "# 3 400\n",
    "# 50000\n",
    "# 0\n",
    "\n",
    "def total_sum(n):\n",
    "    for _ in range(n):\n",
    "        price = int(input())\n",
    "        m = int(input())\n",
    "        for _ in range(m):\n",
    "            q, p = map(int, input().split())\n",
    "            price += q * p\n",
    "        print(price)\n",
    "n = int(input())\n",
    "total_sum(n)"
   ]
  },
  {
   "cell_type": "code",
   "execution_count": 2,
   "id": "35be6020",
   "metadata": {},
   "outputs": [
    {
     "name": "stdout",
     "output_type": "stream",
     "text": [
      "5\n",
      "*********\n",
      " *******\n",
      "  *****\n",
      "   ***\n",
      "    *\n",
      "   ***\n",
      "  *****\n",
      " *******\n",
      "*********\n"
     ]
    }
   ],
   "source": [
    "# 백준 2446\n",
    "\n",
    "# 0 9\n",
    "# 1 7\n",
    "# 2 5\n",
    "# 3 3\n",
    "# 4 1\n",
    "# 3 3\n",
    "# 2 5\n",
    "# 1 7\n",
    "# 0 9\n",
    "n = int(input())\n",
    "\n",
    "for i in range(n, 0, -1): # 5, 4, 3, 2, 1\n",
    "    print(' ' * (n - i), end='')\n",
    "    print('*' * (2 * i - 1))\n",
    "for i in range(2, n+1): # 2 3 4 5\n",
    "    print(' ' * (n - i), end='')\n",
    "    print('*' * (2 * i - 1))"
   ]
  },
  {
   "cell_type": "code",
   "execution_count": 4,
   "id": "8a9d1da6",
   "metadata": {},
   "outputs": [
    {
     "name": "stdout",
     "output_type": "stream",
     "text": [
      "10 5\n",
      "1 10 4 9 2 3 8 5 7 6\n",
      "1 4 2 3 "
     ]
    }
   ],
   "source": [
    "# 백준 10871\n",
    "\n",
    "# 10 5\n",
    "# 1 10 4 9 2 3 8 5 7 6\n",
    "\n",
    "# 1 4 2 3\n",
    "\n",
    "n, x = map(int, input().split())\n",
    "rst = list(map(int, input().split()))\n",
    "\n",
    "for i in rst:\n",
    "    if x > i:\n",
    "        print(i, end=' ')"
   ]
  },
  {
   "cell_type": "code",
   "execution_count": 9,
   "id": "c87e66f0",
   "metadata": {},
   "outputs": [
    {
     "name": "stdout",
     "output_type": "stream",
     "text": [
      "10\n",
      "3628800\n"
     ]
    }
   ],
   "source": [
    "# 백준 10872\n",
    "\n",
    "# 10\n",
    "# 3628800\n",
    "# 0 -> 1\n",
    "n = int(input())\n",
    "total = 1\n",
    "if n != 0:\n",
    "    for i in range(1, n+1):\n",
    "        total *= i\n",
    "print(total)"
   ]
  },
  {
   "cell_type": "code",
   "execution_count": 1,
   "id": "af2296bd",
   "metadata": {},
   "outputs": [
    {
     "name": "stdout",
     "output_type": "stream",
     "text": [
      "3\n",
      "29\n",
      "38\n",
      "12\n",
      "57\n",
      "74\n",
      "40\n",
      "85\n",
      "61\n",
      "85\n",
      "8\n"
     ]
    }
   ],
   "source": [
    "# 백준 2562\n",
    "\n",
    "# 3    1\n",
    "# 29  2\n",
    "# 38  3 \n",
    "# 12   4 \n",
    "# 57  5\n",
    "# 74  6 \n",
    "# 40  7 \n",
    "# 85  8\n",
    "# 61   9\n",
    "\n",
    "# 85\n",
    "# 8\n",
    "\n",
    "max_ = -1\n",
    "for i in range(9):\n",
    "    n = int(input())\n",
    "    i += 1\n",
    "    if n > max_:\n",
    "        max_, j = n, i\n",
    "print(max_)\n",
    "print(j)"
   ]
  },
  {
   "cell_type": "code",
   "execution_count": 2,
   "id": "a95b6f0e",
   "metadata": {},
   "outputs": [
    {
     "name": "stdout",
     "output_type": "stream",
     "text": [
      "0 1 0 1\n",
      "B\n",
      "1 1 1 0\n",
      "A\n",
      "0 0 1 1\n",
      "B\n"
     ]
    }
   ],
   "source": [
    "# 백준 2490\n",
    "# A : 도, B : 개, C :걸 , D : 윷, E : 모\n",
    "# 0 1 0 1  B\n",
    "# 1 1 1 0   A\n",
    "# 0 0 1 1  B\n",
    "\n",
    "def yut(lst):\n",
    "    count = 0\n",
    "    for i in lst:\n",
    "        if i == 0:\n",
    "            count += 1\n",
    "    if count == 0: print('E')    \n",
    "    elif count == 1: print('A')\n",
    "    elif count == 2: print('B')\n",
    "    elif count == 3: print('C')\n",
    "    else: print('D')\n",
    "    \n",
    "for _ in range(3):\n",
    "    lst = list(map(int, input().split()))\n",
    "    yut(lst)"
   ]
  },
  {
   "cell_type": "code",
   "execution_count": null,
   "id": "f7c1baaf",
   "metadata": {},
   "outputs": [],
   "source": [
    "## 백준 2576\n",
    "\n",
    "# 12\n",
    "# 77\n",
    "# 38\n",
    "# 41\n",
    "# 53\n",
    "# 92\n",
    "# 85\n",
    "\n",
    "# 256\n",
    "# 41\n",
    "\n",
    "def find(lst):\n",
    "    rst = []\n",
    "    for i in lst:\n",
    "        if i % 2 == 1:\n",
    "            rst.append(i)\n",
    "    \n",
    "    if rst:       \n",
    "        print(sum(rst))\n",
    "        print(min(rst))\n",
    "    else:\n",
    "        print(-1)\n",
    "        \n",
    "lst = [int(input()) for _ in range(7)]\n",
    "find(lst)"
   ]
  },
  {
   "cell_type": "code",
   "execution_count": 2,
   "id": "9ecf0779",
   "metadata": {
    "scrolled": true
   },
   "outputs": [
    {
     "name": "stdout",
     "output_type": "stream",
     "text": [
      "4\n",
      "* * * * \n",
      " * * * *\n",
      "* * * * \n",
      " * * * *\n"
     ]
    }
   ],
   "source": [
    "# 백준 10995\n",
    "\n",
    "# 3\n",
    "\n",
    "# * * *\n",
    "#  * * *\n",
    "# * * *\n",
    "\n",
    "n = int(input())\n",
    "for i in range(1, n+1):\n",
    "    if i % 2 != 0: # 홀수\n",
    "        print('* ' * n)\n",
    "    else: # 짝수\n",
    "        print(' *' * n)"
   ]
  },
  {
   "cell_type": "code",
   "execution_count": 28,
   "id": "6489bc16",
   "metadata": {},
   "outputs": [
    {
     "name": "stdout",
     "output_type": "stream",
     "text": [
      "4\n",
      "   *\n",
      "  * *\n",
      " * * *\n",
      "* * * *\n"
     ]
    }
   ],
   "source": [
    "# 백준 10991\n",
    "\n",
    "# 4\n",
    "\n",
    "#    *       3                4\n",
    "#   * *     2            5\n",
    "#  * * *   1             6\n",
    "# * * * * 0          7\n",
    "\n",
    "n = int(input())\n",
    "k = n\n",
    "for i in range(n-1, -1, -1): # 3 2 1 0  \n",
    "    str_ = ' ' * i + '* ' * (k-i)\n",
    "    print(str_[:n])\n",
    "    n += 1"
   ]
  },
  {
   "cell_type": "code",
   "execution_count": 63,
   "id": "5eda54a1",
   "metadata": {},
   "outputs": [
    {
     "name": "stdout",
     "output_type": "stream",
     "text": [
      "10\n",
      "1 0 1 1 0 0 0 1 1 1\n",
      "10\n"
     ]
    }
   ],
   "source": [
    "# 백준 2506\n",
    "\n",
    "# 10\n",
    "# 1 0 1 1 1 0 0 1 1 0\n",
    "# 1 0 1 2 3 0 0 1 2 0\n",
    "# 10\n",
    "\n",
    "n = int(input())\n",
    "score = list(map(int, input().split()))\n",
    "total, total_sum = 0, 0\n",
    "\n",
    "if score[0] == 1:\n",
    "    total_sum += 1\n",
    "    total += 1\n",
    "for i in range(1, n):\n",
    "    if score[i] == score[i-1] and score[i] == 1: # 11\n",
    "        total += 1\n",
    "        total_sum += total\n",
    "    elif score[i] != score[i-1] and score[i] == 1:#  10\n",
    "        total_sum += 1\n",
    "        total = 1\n",
    "    else:\n",
    "        total = 1\n",
    "print(total_sum)"
   ]
  },
  {
   "cell_type": "code",
   "execution_count": 1,
   "id": "0460023f",
   "metadata": {},
   "outputs": [
    {
     "name": "stdout",
     "output_type": "stream",
     "text": [
      "0 4 2 5 6\n",
      "1\n"
     ]
    }
   ],
   "source": [
    "# 백준 2475\n",
    "\n",
    "# 0 4 2 5 6\n",
    "# 0+16+4+25+36 = 81 을 10으로 나눈 나머지인 1\n",
    "# 1\n",
    "\n",
    "lst = list(map(int, input().split()))\n",
    "total = 0\n",
    "for i in lst:\n",
    "    total += i**2\n",
    "print(total % 10)"
   ]
  },
  {
   "cell_type": "code",
   "execution_count": 2,
   "id": "99d3f134",
   "metadata": {},
   "outputs": [
    {
     "name": "stdout",
     "output_type": "stream",
     "text": [
      "2\n",
      "5\n",
      "1 1 1 1 1\n",
      "5\n",
      "7\n",
      "1 2 3 4 5 6 7\n",
      "28\n"
     ]
    }
   ],
   "source": [
    "# 백준 9085\n",
    "\n",
    "# 2\n",
    "# 5\n",
    "# 1 1 1 1 1\n",
    "# 7\n",
    "# 1 2 3 4 5 6 7\n",
    "\n",
    "def total_sum(t):\n",
    "    for _ in range(t):\n",
    "        n = int(input())\n",
    "        lst = list(map(int, input().split()))\n",
    "        print(sum(lst))\n",
    "        \n",
    "t = int(input())\n",
    "total_sum(t)"
   ]
  },
  {
   "cell_type": "code",
   "execution_count": 10,
   "id": "16b60f47",
   "metadata": {},
   "outputs": [
    {
     "name": "stdout",
     "output_type": "stream",
     "text": [
      "3\n",
      "1 2 3 5 3\n",
      "1\n",
      "2\n",
      "3\n",
      "5\n",
      "3\n",
      "2\n"
     ]
    }
   ],
   "source": [
    "# 백준 10797\n",
    "\n",
    "# 5\n",
    "# 1 3 0 7 4\n",
    "\n",
    "# 0\n",
    "\n",
    "n = int(input())\n",
    "total = 0\n",
    "for i in list(map(int,input().split())):\n",
    "    if str(i)[-1] == str(n):\n",
    "        total +=1\n",
    "print(total)"
   ]
  },
  {
   "cell_type": "code",
   "execution_count": 13,
   "id": "93c2d470",
   "metadata": {},
   "outputs": [
    {
     "name": "stdout",
     "output_type": "stream",
     "text": [
      "0 32\n",
      "3 13\n",
      "28 25\n",
      "39 0\n",
      "42\n"
     ]
    }
   ],
   "source": [
    "# 백준 2455\n",
    "\n",
    "# 0 32  32\n",
    "# 3 13   32 -3 +13\n",
    "# 28 25  42 - 28 + 25\n",
    "# 39 0   39 - 39\n",
    "a, b = map(int, input().split())\n",
    "total, max_total = b, b\n",
    "\n",
    "for _ in range(3):\n",
    "    a, b = map(int, input().split())\n",
    "    total = total - a + b\n",
    "    if total > max_total:\n",
    "        max_total = total\n",
    "print(max_total)"
   ]
  },
  {
   "cell_type": "code",
   "execution_count": 9,
   "id": "b93ba7ba",
   "metadata": {},
   "outputs": [
    {
     "name": "stdout",
     "output_type": "stream",
     "text": [
      "2\n",
      "3\n",
      "hat head\n",
      "sun eye\n",
      "tur head\n",
      "5\n",
      "3\n",
      "ma face\n",
      "sun face\n",
      "mak face\n",
      "3\n"
     ]
    }
   ],
   "source": [
    "# 백준 9375\n",
    "\n",
    "# 2\n",
    "# 3\n",
    "# hat headgear\n",
    "# sunglasses eyewear\n",
    "# turban headgear\n",
    "# 3\n",
    "# mask face\n",
    "# sunglasses face\n",
    "# makeup face\n",
    "\n",
    "items = dict()\n",
    "\n",
    "for _ in range(int(input())):\n",
    "    items.clear()\n",
    "\n",
    "    for _ in range(int(input())):\n",
    "        name, kind = input().split()\n",
    "\n",
    "        if kind in items:\n",
    "            items[kind] += 1\n",
    "        else:\n",
    "            items[kind] = 2\n",
    "\n",
    "    combinations = 1\n",
    "    for value in items.values():\n",
    "        combinations *= value\n",
    "    print(combinations - 1)"
   ]
  },
  {
   "cell_type": "code",
   "execution_count": 14,
   "id": "2e83bc7c",
   "metadata": {
    "scrolled": true
   },
   "outputs": [
    {
     "name": "stdout",
     "output_type": "stream",
     "text": [
      "3\n",
      "7\n",
      "1 3\n",
      "1 2\n",
      "3 2\n",
      "1 3\n",
      "2 1\n",
      "2 3\n",
      "1 3\n"
     ]
    }
   ],
   "source": [
    "# 백준 11729 (재귀)\n",
    "\n",
    "# 3\n",
    "\n",
    "# 7\n",
    "# 1 3 -> 1번째탑 맨위를 3으로\n",
    "# 1 2\n",
    "# 3 2\n",
    "# 1 3\n",
    "# 2 1 -> 2번째탑 맨위를 1로\n",
    "# 2 3\n",
    "# 1 3\n",
    "\n",
    "def hanoi(n, top1, top3, top2): # 원판 시작 도착 경유\n",
    "    if n == 1: # 원판\n",
    "        print('{} {}'.format(top1, top3))\n",
    "    else:\n",
    "        hanoi(n-1, top1, top2, top3)\n",
    "        print('{} {}'.format(top1, top3))\n",
    "        hanoi(n-1, top2, top3, top1)\n",
    "        \n",
    "n = int(input())\n",
    "print(2 ** n - 1)\n",
    "hanoi(n, 1, 3, 2)    "
   ]
  },
  {
   "cell_type": "code",
   "execution_count": null,
   "id": "72b5b992",
   "metadata": {},
   "outputs": [],
   "source": [
    "# 백준 5597 배열 구현\n",
    "\n",
    "# 1~30 중 28개의 숫자가 나옴\n",
    "lst = []\n",
    "rst = [i for i in range(1, 31)]\n",
    "for _ in range(28):\n",
    "    lst.append(int(input()))\n",
    "rst_sub_lst = [x for x in rst if x not in lst] # rst 30개 lst 28개 -> rst에 더  많으니 있는걸 빼서 구한다\n",
    "rst_sub_lst.sort()\n",
    "for i in rst_sub_lst:\n",
    "    print(i)"
   ]
  },
  {
   "cell_type": "code",
   "execution_count": null,
   "id": "3f4950d1",
   "metadata": {},
   "outputs": [],
   "source": [
    "# 백준 10811 배열 구현\n",
    "\n",
    "# 5 4\n",
    "# 1 2\n",
    "# 3 4\n",
    "# 1 4\n",
    "# 2 2\n",
    "\n",
    "# 3 4 1 2 5\n",
    "n, m = map(int, input().split())\n",
    "lst = [i for i in range(1, n+1)]\n",
    "for _ in range(m):\n",
    "    i, j = map(int, input().split())\n",
    "    # 1 2 -> 1부터 2까지 순서 역순 2 1 3 4 5\n",
    "    # 3 4 -> 2 1 4 3 5\n",
    "    # 1 4 -> 3 4 1 2 5 현재 4 3 1 2 5 로 바뀜 \n",
    "    # 2 2 -> 3 4 1 2 5\n",
    "    lst2 = lst[i-1:j]\n",
    "    lst = lst[:i-1] + lst2[::-1] + lst[j:] # lst[::-1] 리스트 정렬없이 뒤집기\n",
    "for i in lst:\n",
    "    print(i, end=' ')"
   ]
  },
  {
   "cell_type": "code",
   "execution_count": null,
   "id": "8b9f0ff7",
   "metadata": {},
   "outputs": [],
   "source": [
    "# 백준 1157 구현\n",
    "\n",
    "# Mississipi\n",
    "\n",
    "# ?\n",
    "\n",
    "# zZa\n",
    "# Z\n",
    "\n",
    "n = input()\n",
    "rst = dict()\n",
    "for i in n:\n",
    "    i = i.lower() # 소문제로 바꿔주기\n",
    "    if i not in rst:\n",
    "        rst[i] = 1\n",
    "    else:\n",
    "        rst[i] += 1\n",
    "\n",
    "rst = sorted(rst.items(), key = lambda x : x[1], reverse=True)\n",
    "\n",
    "max_n, count_n = -1, 0\n",
    "for i in rst:\n",
    "    if max_n <= i[1]:\n",
    "        max_n = i[1]\n",
    "        max_a = i[0].upper()\n",
    "        count_n +=1\n",
    "\n",
    "if count_n > 1:\n",
    "    print('?')\n",
    "else:\n",
    "    print(max_a)"
   ]
  },
  {
   "cell_type": "code",
   "execution_count": null,
   "id": "b1d3db12",
   "metadata": {},
   "outputs": [],
   "source": [
    "from ast import While\n",
    "# 백준 5622 구현\n",
    "\n",
    "# UNUCIC\n",
    "\n",
    "# 36\n",
    "n = [i for i in input()]\n",
    "# 1 -> 2초, 2 -> 3초\n",
    "alphabet = 'ABCDEFGHIJKLMNOPQRSTUV'\n",
    "num = '3334445556667778888999'\n",
    "\n",
    "result = 0\n",
    "for i in n:\n",
    "    if i in 'WXYZ':\n",
    "        result += 10\n",
    "    elif i in alphabet:\n",
    "        result += int(num[alphabet.find(i)]) # 값을 통해서 index가져오기\n",
    "\n",
    "print(result)"
   ]
  },
  {
   "cell_type": "code",
   "execution_count": null,
   "id": "7dc4868b",
   "metadata": {},
   "outputs": [],
   "source": [
    "# 백준 11718 구현\n",
    "\n",
    "# Hello\n",
    "# Baekjoon\n",
    "# Online Judge\n",
    "\n",
    "while True :\n",
    "    try :\n",
    "        print(input())\n",
    "    except EOFError:\n",
    "        break"
   ]
  },
  {
   "cell_type": "code",
   "execution_count": null,
   "id": "daa3b7c9",
   "metadata": {},
   "outputs": [],
   "source": [
    "# 백준 4344\n",
    "\n",
    "# 5\n",
    "# 5 50 50 70 80 100\n",
    "# 7 100 95 90 80 70 60 50\n",
    "# 3 70 90 80\n",
    "# 3 70 90 81\n",
    "# 9 100 99 98 97 96 95 94 93 91\n",
    "\n",
    "# 40.000%\n",
    "# 57.143%\n",
    "# 33.333%\n",
    "# 66.667%\n",
    "# 55.556%\n",
    "\n",
    "for _ in range(int(input())):\n",
    "    n = list(map(int, input().split()))\n",
    "    num, score, count = n[0], n[1:], 0\n",
    "    avg = sum(score) // num\n",
    "    for i in score:\n",
    "        if i > avg:\n",
    "            count += 1\n",
    "    print(\"%.3f\" % (count/num * 100) + '%')"
   ]
  },
  {
   "cell_type": "code",
   "execution_count": 97,
   "id": "170dab12",
   "metadata": {},
   "outputs": [
    {
     "name": "stdout",
     "output_type": "stream",
     "text": [
      "ljes=njak\n",
      "6\n"
     ]
    }
   ],
   "source": [
    "# 백준 2941\n",
    "\n",
    "# č\t    c=\n",
    "# ć\t    c-\n",
    "# dž  dz=\n",
    "# đ\t   d-\n",
    "# lj    lj\n",
    "# nj   nj\n",
    "# š\t   s=\n",
    "# ž\t   z=\n",
    "\n",
    "# ljes=njak -> ljes=njak은 크로아티아 알파벳 6개(lj, e, š, nj, a, k)\n",
    "# 6\n",
    "\n",
    "n = [i for i in input()]\n",
    "total_sum = 0\n",
    "while len(n) > 0:\n",
    "    if ''.join(n[:2]) in ['lj', 'nj' ,'c-','c=' ,'s=', 'z=' ,'d-']: # 'd'가 여기 있는지 파악 / d in 'd-'  'd'가 문자열내에 있는지 파악\n",
    "         n = n[2:]\n",
    "    elif ''.join(n[:3])== 'dz=':\n",
    "        n = n[3:]\n",
    "    else:\n",
    "        n = n[1:]\n",
    "    total_sum += 1\n",
    "print(total_sum)"
   ]
  },
  {
   "cell_type": "code",
   "execution_count": null,
   "id": "96b8be95",
   "metadata": {},
   "outputs": [],
   "source": [
    "# 백준 1316 구현\n",
    "\n",
    "# 4\n",
    "# aba\n",
    "# abab\n",
    "# abcabc -> 그룹단어 X\n",
    "# a      -> 그룹단어\n",
    "\n",
    "# 1\n",
    "\n",
    "total_sum = 0\n",
    "for _ in range(int(input())): # 없다고 생각하고 시간복잡도 생각\n",
    "    rst = [j for j in input()]\n",
    "    rst_dict, total_check = {}, True\n",
    "    for idx, k in enumerate(rst):\n",
    "        if k not in rst_dict or idx - rst_dict[k] < 2: # 문자가 처음 시작이거나 글자간 간격이 붙어있는경우 그 문자의 위치를 최신으로 변경\n",
    "            rst_dict[k] = idx\n",
    "        else: # 글자간 간격이 2이상인 경우 그 문자들은 그룹이 아님\n",
    "            total_check = False\n",
    "            break\n",
    "    if total_check:\n",
    "        total_sum += 1\n",
    "\n",
    "print(total_sum)"
   ]
  },
  {
   "cell_type": "code",
   "execution_count": null,
   "id": "2e05e30b",
   "metadata": {},
   "outputs": [],
   "source": [
    "# 백준 25206 구현\n",
    "\n",
    "# ObjectOrientedProgramming1 3.0 A+\n",
    "# IntroductiontoComputerEngineering 3.0 A+\n",
    "# ObjectOrientedProgramming2 3.0 A0\n",
    "# CreativeComputerEngineeringDesign 3.0 A+\n",
    "# AssemblyLanguage 3.0 A+\n",
    "# InternetProgramming 3.0 B0\n",
    "# ApplicationProgramminginJava 3.0 A0\n",
    "# SystemProgramming 3.0 B0\n",
    "# OperatingSystem 3.0 B0\n",
    "# WirelessCommunicationsandNetworking 3.0 C+\n",
    "# LogicCircuits 3.0 B0\n",
    "# DataStructure 4.0 A+\n",
    "# MicroprocessorApplication 3.0 B+\n",
    "# EmbeddedSoftware 3.0 C0\n",
    "# ComputerSecurity 3.0 D+\n",
    "# Database 3.0 C+\n",
    "# Algorithm 3.0 B0\n",
    "# CapstoneDesigninCSE 3.0 B+\n",
    "# CompilerDesign 3.0 D0\n",
    "# ProblemSolving 4.0 P\n",
    "\n",
    "# 3.284483\n",
    "\n",
    "t_s, t_g = 0, 0\n",
    "grade_ = {'A+':4.5, 'A0':4.0, 'B+':3.5, 'B0':3.0, 'C+':2.5, 'C0':2.0, 'D+':1.5, 'D0':1.0, 'F':0}\n",
    "for _ in range(20):\n",
    "    sub, g_s, grade = input().split() # 과목 학점 등급\n",
    "    if grade not in grade_:\n",
    "        continue\n",
    "    t_s += float(g_s) * grade_[grade]\n",
    "    t_g += float(g_s)\n",
    "print(t_s / t_g)"
   ]
  },
  {
   "cell_type": "code",
   "execution_count": null,
   "id": "a71923b8",
   "metadata": {},
   "outputs": [],
   "source": [
    "# 백준 2566 구현\n",
    "\n",
    "# 3 23 85 34 17 74 25 52 65\n",
    "# 10 7 39 42 88 52 14 72 63\n",
    "# 87 42 18 78 53 45 18 84 53\n",
    "# 34 28 64 85 12 16 75 36 55\n",
    "# 21 77 45 35 28 75 90 76 1\n",
    "# 25 87 65 15 28 11 37 28 74\n",
    "# 65 27 75 41 7 89 78 64 39\n",
    "# 47 47 70 45 23 65 3 41 44\n",
    "# 87 13 82 38 31 12 29 29 80\n",
    "\n",
    "# 90\n",
    "# 5 7\n",
    "\n",
    "m, row = -1, 0\n",
    "for _ in range(9): \n",
    "    nlst = list(map(int, input().split()))\n",
    "    row += 1\n",
    "    if max(nlst) > m :  \n",
    "        m = max(nlst)\n",
    "        m_row = row\n",
    "        for idx, k in enumerate(nlst):\n",
    "            if k == m:\n",
    "                col = idx+1\n",
    "                \n",
    "print(m)\n",
    "print(m_row, col)"
   ]
  },
  {
   "cell_type": "code",
   "execution_count": null,
   "id": "8ea9e643",
   "metadata": {},
   "outputs": [],
   "source": [
    "# 백준 10798\n",
    "\n",
    "# 출력을 그냥 붙혀서 나옴\n",
    "# A A B C D D\n",
    "# a f z z\n",
    "# 0 9 1 2 1\n",
    "# a 8 E W g 6\n",
    "# P 5 h 3 k x\n",
    "\n",
    "# Aa0aPAf985Bz1EhCz2W3D1gkD6x\n",
    "\n",
    "lst1 = [i for i in input()]\n",
    "lst2 = [i for i in input()]\n",
    "lst3 = [i for i in input()]\n",
    "lst4 = [i for i in input()]\n",
    "lst5 = [i for i in input()]\n",
    "n, s = 0, ''\n",
    "while n < 15:    \n",
    "    s += ''.join(lst1[n:n+1]+lst2[n:n+1]+lst3[n:n+1]+lst4[n:n+1]+lst5[n:n+1])\n",
    "    n += 1\n",
    "print(s)"
   ]
  },
  {
   "cell_type": "code",
   "execution_count": null,
   "id": "518ef220",
   "metadata": {},
   "outputs": [],
   "source": [
    "# 백준 2563 \n",
    "\n",
    "# 3\n",
    "# 3 7\n",
    "# 15 7\n",
    "# 5 2\n",
    "\n",
    "# 260\n",
    "\n",
    "arr= [[0 for _ in range(101)] for _ in range(101)]\n",
    "k = int(input())\n",
    "for _ in range(k):\n",
    "    x, y = map(int, input().split())\n",
    "    for i in range(x, x+10):\n",
    "        for j in range(y, y+10):\n",
    "            arr[i][j] = 1\n",
    "\n",
    "result = 0\n",
    "for i in arr:\n",
    "    result += i.count(1)\n",
    "print(result)"
   ]
  },
  {
   "cell_type": "code",
   "execution_count": null,
   "id": "570394de",
   "metadata": {},
   "outputs": [],
   "source": [
    "# 백준 2738\n",
    "\n",
    "# 3 3\n",
    "# 1 1 1\n",
    "# 2 2 2\n",
    "# 0 1 0\n",
    "# 3 3 3\n",
    "# 4 4 4\n",
    "# 5 5 100\n",
    "\n",
    "# 4 4 4\n",
    "# 6 6 6\n",
    "# 5 6 100\n",
    "\n",
    "n, m = map(int, input().split())\n",
    "rst = [[0 for _ in range(m)] for _ in range(n)]\n",
    "\n",
    "lst1, lst2 = [], []\n",
    "for _ in range(n):\n",
    "    lst1.append(list(map(int, input().split())))\n",
    "for _ in range(n):\n",
    "    lst2.append(list(map(int, input().split())))\n",
    "\n",
    "for i in range(n):\n",
    "    for j in range(m): # i 0 -> j 0 1 2 , i 1 -> j 1 2, i 2 -> j 2\n",
    "        rst[i][j] = lst1[i][j] + lst2[i][j]\n",
    "\n",
    "for i in rst:\n",
    "    for j in i:\n",
    "        print(j, end=' ')\n",
    "    print()"
   ]
  },
  {
   "cell_type": "code",
   "execution_count": null,
   "id": "6ac478fc",
   "metadata": {},
   "outputs": [],
   "source": [
    "# n = 5\n",
    "# AABAB\n",
    "from itertools import permutations\n",
    "\n",
    "lst = ['A','A','A','A','A','A','A','A','B','B']\n",
    "rst = set()\n",
    "n = 10\n",
    "k = 24\n",
    "for idx, i in enumerate(permutations(lst, 10)):\n",
    "    rst.add(i)\n",
    "# 두번째 B의 위치 P 그리고 P의 이진수\n",
    "\n",
    "rst = sorted(rst)\n",
    "for idx, i in enumerate(rst):\n",
    "    if idx+1 == k:\n",
    "        print(i, idx+1)\n",
    "        break"
   ]
  },
  {
   "cell_type": "code",
   "execution_count": null,
   "id": "ff0d673e",
   "metadata": {},
   "outputs": [],
   "source": [
    "# 백준 2292\n",
    "\n",
    "# 1 <= n <= 1000000000\n",
    "# 13\n",
    "\n",
    "# 3\n",
    "\n",
    "n = int(input())\n",
    "\n",
    "nums_pileup = 1  # 벌집의 개수, 1개부터 시작\n",
    "cnt = 1\n",
    "while n > nums_pileup :\n",
    "    nums_pileup += 6 * cnt  # 벌집이 6의 배수로 증가\n",
    "    cnt += 1  # 반복문을 반복하는 횟수\n",
    "    print(cnt, nums_pileup)\n",
    "print(cnt)"
   ]
  },
  {
   "cell_type": "code",
   "execution_count": null,
   "id": "8b8e0142",
   "metadata": {},
   "outputs": [],
   "source": [
    "# 백준 2869\n",
    "\n",
    "# while 경우 시간 초과\n",
    "\n",
    "# 5 1 6\n",
    "# 2\n",
    "\n",
    "# 100 99 1000000000\n",
    "# 999999901\n",
    "a,b,v = map(int,input().split())\n",
    "k = (v-b)/(a-b)\n",
    "print(int(k) if k == int(k) else int(k)+1)"
   ]
  },
  {
   "cell_type": "code",
   "execution_count": 34,
   "id": "451aabcb",
   "metadata": {},
   "outputs": [
    {
     "name": "stdout",
     "output_type": "stream",
     "text": [
      "1\n",
      "10 10 100\n",
      "10 10\n",
      "1010\n"
     ]
    }
   ],
   "source": [
    "## 백준 10250\n",
    "\n",
    "# 2         실행횟수\n",
    "# 6 12 10   층수 각층의 방수 10번째 순서\n",
    "# 30 50 72  \n",
    "\n",
    "# 402\n",
    "# 1203\n",
    "\n",
    "# s = '10'\n",
    "# print('0' + str(s) if len(s) == 1 else str(s))\n",
    "\n",
    "for _ in range(int(input())):\n",
    "    x, y, n = map(int, input().split())\n",
    "    c = 0\n",
    "    room = [[0 for _ in range(y)] for _ in range(x)]\n",
    "    \n",
    "    for i in range(0, y): # 1부터 배정\n",
    "           for j in range(0, x):\n",
    "                c += 1\n",
    "                if c == n:\n",
    "                    print(str(j+1), end='') \n",
    "                    print('0' + str(i+1) if len(str(i+1)) ==  1 else str(i+1) ) # 12 3 / 4 2"
   ]
  },
  {
   "cell_type": "code",
   "execution_count": null,
   "id": "0f0a949f",
   "metadata": {},
   "outputs": [],
   "source": [
    "# 백준 1181\n",
    "\n",
    "# 13\n",
    "# but\n",
    "# i\n",
    "# wont\n",
    "# hesitate\n",
    "# no\n",
    "# more\n",
    "# no\n",
    "# more\n",
    "# it\n",
    "# cannot\n",
    "# wait\n",
    "# im\n",
    "# yours\n",
    "lst = set()\n",
    "for _ in range(int(input())):\n",
    "    lst.add(input())\n",
    "\n",
    "lst = sorted(lst, key = lambda x : (len(x), x))\n",
    "for i in lst:\n",
    "    print(i)"
   ]
  },
  {
   "cell_type": "code",
   "execution_count": null,
   "id": "9a7b42b6",
   "metadata": {
    "scrolled": true
   },
   "outputs": [],
   "source": [
    "# 백준 7568\n",
    "\n",
    "# 5\n",
    "# 55 185\n",
    "# 58 183\n",
    "# 88 186\n",
    "# 60 175\n",
    "# 46 155\n",
    "\n",
    "# 2 2 1 2 5\n",
    "\n",
    "rank = {}\n",
    "for i in range(int(input())):\n",
    "    x, y = map(int, input().split()) # 55 185 / 88 186\n",
    "    rank[str(i)] = [x, y, 1]\n",
    "\n",
    "for i in rank:\n",
    "    for j in rank:\n",
    "        if rank[i][0] < rank[j][0] and rank[i][1] < rank[j][1] : # 자기보다 큰 애가 있는경우\n",
    "            rank[i][2] += 1\n",
    "\n",
    "for k in rank:\n",
    "    print(rank[k][2], end=' ')"
   ]
  },
  {
   "cell_type": "code",
   "execution_count": null,
   "id": "ef4cc93c",
   "metadata": {},
   "outputs": [],
   "source": [
    "# 백준 9093 구현\n",
    "\n",
    "# 2\n",
    "# I am happy today\n",
    "# We want to win the first prize\n",
    "\n",
    "# I ma yppah yadot\n",
    "# eW tnaw ot niw eht tsrif ezirp\n",
    "\n",
    "for _ in range(int(input())):\n",
    "    s = list(input().split())\n",
    "    for i in s:\n",
    "        print(i[::-1], end=' ')\n",
    "    print()"
   ]
  },
  {
   "cell_type": "code",
   "execution_count": null,
   "id": "b9290081",
   "metadata": {},
   "outputs": [],
   "source": [
    "# 백준 10808 구현\n",
    "\n",
    "# baekjoon\n",
    "\n",
    "# 1 1 0 0 1 0 0 0 0 1 1 0 0 1 2 0 0 0 0 0 0 0 0 0 0 0\n",
    "\n",
    "n = [i for i in input()]\n",
    "ap = {}\n",
    "for i in range(26):\n",
    "    ap[chr(97+i)] = 0\n",
    "\n",
    "for i in n:\n",
    "    ap[i] += 1\n",
    "\n",
    "for i in ap.values():\n",
    "    print(i, end=' ')"
   ]
  },
  {
   "cell_type": "code",
   "execution_count": null,
   "id": "5eba4ff1",
   "metadata": {},
   "outputs": [],
   "source": [
    "# 백준 10809 구현\n",
    "\n",
    "# baekjoon\n",
    "\n",
    "# 1 0 -1 -1 2 -1 -1 -1 -1 4 3 -1 -1 7 5 -1 -1 -1 -1 -1 -1 -1 -1 -1 -1 -1\n",
    "\n",
    "n = [i for i in input()]\n",
    "ap = {}\n",
    "for i in range(26):\n",
    "    ap[chr(97+i)] = -1\n",
    "\n",
    "for i in range(len(n)):\n",
    "    if ap[n[i]] == -1:\n",
    "        ap[n[i]] = i\n",
    "\n",
    "for i in ap.values():\n",
    "    print(i, end=' ')    "
   ]
  },
  {
   "cell_type": "code",
   "execution_count": null,
   "id": "7c6b5758",
   "metadata": {},
   "outputs": [],
   "source": [
    "# 백준 10820 구현 -> 테스트 케이스가 주어지지 않거나 끝나는 표시가 없을 때 사용\n",
    "\n",
    "# This is String               10  2  0  2\n",
    "# SPACE    1    SPACE           0 10  1  8\n",
    "#  S a M p L e I n P u T        5  6  0 16\n",
    "# 0L1A2S3T4L5I6N7E8             0  8  9  0\n",
    "                            #  소 대 수 공\n",
    " \n",
    "\n",
    "while True :\n",
    "    try :\n",
    "        s = input()\n",
    "        ap, AP, num, spa = 0, 0, 0, 0  \n",
    "        \n",
    "        for i in s:\n",
    "            if i.isalpha():\n",
    "                if ord(i) <= 95:\n",
    "                    AP += 1\n",
    "                else:\n",
    "                    ap += 1\n",
    "            elif i == ' ':\n",
    "                spa += 1\n",
    "            else:\n",
    "                num += 1\n",
    "        print(ap, AP, num, spa)\n",
    "\n",
    "    except EOFError:\n",
    "        break"
   ]
  },
  {
   "cell_type": "code",
   "execution_count": null,
   "id": "27e03fce",
   "metadata": {},
   "outputs": [],
   "source": [
    "# 백준 2743 구현\n",
    "\n",
    "# pulljima\n",
    "# 8\n",
    "\n",
    "print(len(input()))"
   ]
  },
  {
   "cell_type": "code",
   "execution_count": null,
   "id": "71208fcc",
   "metadata": {},
   "outputs": [],
   "source": [
    "# 백준 11655 구현\n",
    "\n",
    "# Baekjoon Online Judge\n",
    "# Onrxwbba Bayvar Whqtr\n",
    "\n",
    "# One is 1\n",
    "# Bar vf 1\n",
    "\n",
    "n = [i for i in input()]\n",
    "rst = ''\n",
    "\n",
    "for i in n:\n",
    "    if i.isupper():\n",
    "        if ord(i) + 13 > 90: # 대문자인데 범위를 벗어나는 경우\n",
    "            rst += chr(ord(i) +13 - 26)\n",
    "        else:\n",
    "            rst += chr(ord(i) + 13)\n",
    "    elif i.islower():\n",
    "        if ord(i) + 13 > 122: # 소문자인데 범위를 벗어나는 경우\n",
    "            rst += chr(ord(i) +13 - 26)\n",
    "        else:\n",
    "            rst += chr(ord(i) + 13)\n",
    "    else:\n",
    "        rst += i\n",
    "print(rst)"
   ]
  },
  {
   "cell_type": "code",
   "execution_count": null,
   "id": "ab674357",
   "metadata": {},
   "outputs": [],
   "source": [
    "# 백준 10824 구현\n",
    "\n",
    "# 10 20 30 40\n",
    "\n",
    "# 4060\n",
    "\n",
    "# 1020 + 3040\n",
    "\n",
    "a,b,c,d=input().split()\n",
    "print(eval(a+b+'+'+c+d))"
   ]
  },
  {
   "cell_type": "code",
   "execution_count": null,
   "id": "ea475453",
   "metadata": {},
   "outputs": [],
   "source": [
    "# 백준 11656 정렬\n",
    "\n",
    "# baekjoon\n",
    "\n",
    "# aekjoon\n",
    "# baekjoon\n",
    "# ekjoon\n",
    "# joon\n",
    "# kjoon\n",
    "# n\n",
    "# on\n",
    "# oon\n",
    "\n",
    "n = input()\n",
    "lst = []\n",
    "for i in range(len(n)):\n",
    "    lst.append(n[i:])\n",
    "\n",
    "lst.sort()\n",
    "\n",
    "for i in lst:\n",
    "    print(i)"
   ]
  },
  {
   "cell_type": "code",
   "execution_count": null,
   "id": "d48da070",
   "metadata": {},
   "outputs": [],
   "source": [
    "# 백준 10430 구현\n",
    "\n",
    "# 5 8 4\n",
    "\n",
    "# 1\n",
    "# 1\n",
    "# 0\n",
    "# 0\n",
    "\n",
    "# 첫째 줄에 (A+B)%C, 둘째 줄에 ((A%C) + (B%C))%C, 셋째 줄에 (A×B)%C, 넷째 줄에 ((A%C) × (B%C))%C를 출력한다.\n",
    "\n",
    "A, B, C = map(int, input().split())\n",
    "\n",
    "print((A+B)%C)\n",
    "print(((A%C) + (B%C))%C)\n",
    "print((A*B)%C)\n",
    "print(((A%C) * (B%C))%C)"
   ]
  },
  {
   "cell_type": "code",
   "execution_count": null,
   "id": "3ea10735",
   "metadata": {},
   "outputs": [],
   "source": []
  },
  {
   "cell_type": "code",
   "execution_count": null,
   "id": "ee7c5fd7",
   "metadata": {},
   "outputs": [],
   "source": []
  }
 ],
 "metadata": {
  "kernelspec": {
   "display_name": "Python 3 (ipykernel)",
   "language": "python",
   "name": "python3"
  },
  "language_info": {
   "codemirror_mode": {
    "name": "ipython",
    "version": 3
   },
   "file_extension": ".py",
   "mimetype": "text/x-python",
   "name": "python",
   "nbconvert_exporter": "python",
   "pygments_lexer": "ipython3",
   "version": "3.9.12"
  }
 },
 "nbformat": 4,
 "nbformat_minor": 5
}
