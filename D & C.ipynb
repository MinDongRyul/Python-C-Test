{
 "cells": [
  {
   "cell_type": "code",
   "execution_count": 1,
   "id": "e0cea7ef",
   "metadata": {},
   "outputs": [],
   "source": [
    "paper = [[1, 1, 0, 0, 0, 0, 1, 1],\n",
    "               [1, 1, 0, 0, 0, 0, 1, 1],\n",
    "               [0, 0, 0, 0, 1, 1, 0, 0],\n",
    "               [0, 0, 0, 0, 1, 1, 0, 0],\n",
    "               [1, 0, 0, 0, 1, 1, 1, 1],\n",
    "               [0, 1, 0, 0, 1, 1, 1, 1],\n",
    "               [0, 0, 1, 1, 1, 1, 1, 1],\n",
    "               [0, 0, 1, 1, 1, 1, 1, 1]]"
   ]
  },
  {
   "cell_type": "code",
   "execution_count": 4,
   "id": "8e66b2b8",
   "metadata": {},
   "outputs": [
    {
     "name": "stdout",
     "output_type": "stream",
     "text": [
      "4\n",
      "4\n",
      "2\n",
      "2\n"
     ]
    }
   ],
   "source": [
    "for i in paper[0:4]:\n",
    "    print(sum(i))"
   ]
  },
  {
   "cell_type": "code",
   "execution_count": null,
   "id": "ef07115a",
   "metadata": {},
   "outputs": [],
   "source": [
    "# 백준 2630\n",
    "\n",
    "# 8\n",
    "# 0 1 2 3 4 5 6 7 8\n",
    "\n",
    "def total(paper, k): # 1, 4\n",
    "    if k == 1:\n",
    "        return\n",
    "    total_sum = 0\n",
    "    for i in paper[0: k // 2]: # paper2[0:n//2]\n",
    "        total_sum += sum(i)\n",
    "    if total_sum == k: # 정사각형\n",
    "        rst['1'] += 1\n",
    "    elif total_sum == 0: # 0으로 정사각형\n",
    "        rst['0'] += 1\n",
    "\n",
    "def nemo(paper, n):\n",
    "    \n",
    "    total(paper, n)\n",
    "    \n",
    "    paper2_1 = []\n",
    "    for i in paper[0:n // 2]:\n",
    "        paper2_1.append(i[0:n // 2])\n",
    "    nemo(paper2_1, n // 2)\n",
    "\n",
    "    paper2_2 = []\n",
    "    for i in paper[0:n // 2]:\n",
    "        paper2_2.append(i[n // 2:n])\n",
    "    nemo(paper2_2, n // 2)\n",
    "\n",
    "    paper2_3 = []\n",
    "    for i in paper[n // 2:n]:\n",
    "        paper2_3.append(i[0:n // 2])\n",
    "    nemo(paper2_3, n // 2)\n",
    "\n",
    "    paper2_4 = []\n",
    "    for i in paper[n // 2:n]:\n",
    "        paper2_4.append(i[n // 2:n])\n",
    "    nemo(paper2_4, n // 2)\n",
    "\n",
    "#     nemo(x, y, k // 2)       # 0 0 2\n",
    "#     nemo(x, y  + k//2, k // 2) # 0 2 2\n",
    "#     nemo(x + k//2, y, k // 2) # 2, 0 2\n",
    "#     nemo(x + k//2, y + k//2 , k // 2) # 2 2 2\n",
    "    \n",
    "n = int(input())\n",
    "paper = [[1, 1, 0, 0, 0, 0, 1, 1],\n",
    "               [1, 1, 0, 0, 0, 0, 1, 1],\n",
    "               [0, 0, 0, 0, 1, 1, 0, 0],\n",
    "               [0, 0, 0, 0, 1, 1, 0, 0],\n",
    "               [1, 0, 0, 0, 1, 1, 1, 1],\n",
    "               [0, 1, 0, 0, 1, 1, 1, 1],\n",
    "               [0, 0, 1, 1, 1, 1, 1, 1],\n",
    "               [0, 0, 1, 1, 1, 1, 1, 1]]\n",
    "paper2 = [[1,1, 0,0],\n",
    "                [1, 1, 0, 0],\n",
    "                [0, 1, 1, 1],\n",
    "                 [1, 0, 1, 1]]\n",
    "# for _ in range(n):\n",
    "#     paper.append(list(map(int, input().split())))\n",
    "rst = {'0' : 0, '1' : 0, '1':0}\n",
    "nemo(paper, n)\n",
    "# print(w_count)\n",
    "# print(b_count)\n",
    "rst"
   ]
  },
  {
   "cell_type": "code",
   "execution_count": null,
   "id": "cd63eff7",
   "metadata": {},
   "outputs": [],
   "source": []
  },
  {
   "cell_type": "code",
   "execution_count": null,
   "id": "962a2744",
   "metadata": {},
   "outputs": [],
   "source": []
  },
  {
   "cell_type": "code",
   "execution_count": null,
   "id": "22e01bbd",
   "metadata": {},
   "outputs": [],
   "source": []
  },
  {
   "cell_type": "code",
   "execution_count": null,
   "id": "14dbbb22",
   "metadata": {},
   "outputs": [],
   "source": []
  },
  {
   "cell_type": "code",
   "execution_count": null,
   "id": "7105741d",
   "metadata": {},
   "outputs": [],
   "source": []
  }
 ],
 "metadata": {
  "kernelspec": {
   "display_name": "Python 3 (ipykernel)",
   "language": "python",
   "name": "python3"
  },
  "language_info": {
   "codemirror_mode": {
    "name": "ipython",
    "version": 3
   },
   "file_extension": ".py",
   "mimetype": "text/x-python",
   "name": "python",
   "nbconvert_exporter": "python",
   "pygments_lexer": "ipython3",
   "version": "3.9.12"
  }
 },
 "nbformat": 4,
 "nbformat_minor": 5
}
