{
 "cells": [
  {
   "cell_type": "code",
   "execution_count": null,
   "id": "cbe5cd29",
   "metadata": {},
   "outputs": [],
   "source": [
    "# 백준 2798\n",
    "\n",
    "k, m = 10, 500\n",
    "lst = [93 ,181 ,245 ,214 ,315 ,36 ,185 ,138 ,216 ,295]\n",
    "result=  0\n",
    "\n",
    "for i in range(0,  len(lst)):\n",
    "    for j in range(i + 1, len(lst)):\n",
    "        for z in range(j + 1, len(lst)): # i 가 9 이어도 for문 자체가 실행이 안됨\n",
    "            total_sum = lst[i]+lst[j]+lst[z]\n",
    "            if total_sum <= m:\n",
    "                result = max(result, total_sum)\n",
    "print(sum)"
   ]
  },
  {
   "cell_type": "code",
   "execution_count": null,
   "id": "edff564c",
   "metadata": {},
   "outputs": [],
   "source": [
    "# 백준 1233\n",
    "\n",
    "S1, S2, S3 = map(int, input().split())\n",
    "result = {}\n",
    "\n",
    "for i in range(1, S1+1):\n",
    "    for j in range(1, S2+1):\n",
    "        for z in range(1, S3+1):\n",
    "            summary = i + j + z # 눈금의 합\n",
    "            # 각 합의 등장 횟수 \"카운트\"\n",
    "            if summary not in result:\n",
    "                result[summary] = 1\n",
    "            else:\n",
    "                result[summary] += 1\n",
    "\n",
    "# value를 기준으로 내림차순\n",
    "result = sorted(result.items(), key=lambda x: x[1], reverse=True)\n",
    "print(result[0][0])"
   ]
  },
  {
   "cell_type": "code",
   "execution_count": null,
   "id": "e00f085f",
   "metadata": {},
   "outputs": [],
   "source": [
    "# 백준 1543\n",
    "\n",
    "document = input()\n",
    "word = input()\n",
    "\n",
    "index = 0\n",
    "result = 0\n",
    "\n",
    "while len(document) - index >= len(word):\n",
    "    if document[index:index + len(word)] == word: # 찾은 경우라면 word의 길이만큼 이동\n",
    "        result += 1\n",
    "        index += len(word)\n",
    "    else: # 찾은 경우가 아니라면 한칸 증가\n",
    "        index +=1\n",
    "\n",
    "print(result)"
   ]
  },
  {
   "cell_type": "code",
   "execution_count": null,
   "id": "f2f207ae",
   "metadata": {},
   "outputs": [],
   "source": [
    "# 백준 14620 + 방향벡터\n",
    "\n",
    "N = int(input())\n",
    "G = [list(map(int, input().split())) for i in range(N)]\n",
    "\n",
    "ans = 10000\n",
    "\n",
    "dx, dy = [0, 1, -1, 0, 0], [0, 0, 0, 1, -1] # 자기 자신도 돌려야함\n",
    "\n",
    "def ck(lst): # 꽃이 a, b, c 에 있을 때 가능한 경우만 return\n",
    "    ret = 0\n",
    "    flow = []\n",
    "    for flower in lst:\n",
    "        x = flower // N\n",
    "        y = flower % N\n",
    "        \n",
    "        if x == 0 or x == N-1 or y == 0 or y == N-1: # 끝점이면 꽃을 만들지 못함\n",
    "            return 10000\n",
    "        \n",
    "        for w in range(5):\n",
    "            flow.append((x+dx[w], y+dy[w])) # 위치 삽입\n",
    "            ret += G[x+dx[w]][y+dy[w]]\n",
    "            \n",
    "    if len(set(flow)) != 15: # 여기서 겹쳤는지 확인?\n",
    "        return 10000\n",
    "    \n",
    "    return ret\n",
    "\n",
    "for i in range(N*N):\n",
    "    for j in range(i+1, N*N):\n",
    "        for k in range(j+1, N*N):\n",
    "            ans = min(ans, ck([i, j, k]))\n",
    "                \n",
    "print(ans)"
   ]
  },
  {
   "cell_type": "code",
   "execution_count": 15,
   "id": "6fd1b6c7",
   "metadata": {},
   "outputs": [
    {
     "name": "stdout",
     "output_type": "stream",
     "text": [
      "75\n",
      "80\n",
      "-1\n"
     ]
    }
   ],
   "source": [
    "# 백준 1977\n",
    "# M 이상  N이하 10000\n",
    "\n",
    "# 완전 제곱수를 구하는 함수\n",
    "def check(M, N):\n",
    "    rst = [] # 결과 저장 배열\n",
    "    for i in range(M, N+1):\n",
    "        for j in range(1, i+1):\n",
    "            if i / j == j:\n",
    "                rst.append(i)\n",
    "    return rst\n",
    "\n",
    "M =  int(input())\n",
    "N = int(input())\n",
    "result = check(M, N)\n",
    "if result:\n",
    "    print(sum(result))\n",
    "    print(min(result))\n",
    "else:\n",
    "    print(-1)"
   ]
  },
  {
   "cell_type": "code",
   "execution_count": 8,
   "id": "b467dc36",
   "metadata": {},
   "outputs": [
    {
     "name": "stdout",
     "output_type": "stream",
     "text": [
      "6 -1\n",
      "3\n"
     ]
    }
   ],
   "source": [
    "# 백준 2501\n",
    "\n",
    "# 6 3\n",
    "# 1 2 3 6\n",
    "# 3\n",
    "\n",
    "def check(n, k):\n",
    "    rst = []\n",
    "    for i in range(1, n+1):\n",
    "        if n % i == 0:\n",
    "            rst.append(i)\n",
    "    if len(rst) < k:\n",
    "        print(0)\n",
    "    else:\n",
    "        print(rst[k-1])\n",
    "\n",
    "n, k = map(int, input().split())\n",
    "check(n, k)"
   ]
  },
  {
   "cell_type": "code",
   "execution_count": 20,
   "id": "0ba4fff2",
   "metadata": {},
   "outputs": [
    {
     "name": "stdout",
     "output_type": "stream",
     "text": [
      "500\n",
      "166699\n"
     ]
    }
   ],
   "source": [
    "# 백준 1436\n",
    "\n",
    "n = int(input())\n",
    "c = 0\n",
    "dp = [0] * 10001 \n",
    "for i in range(666, 2666800):\n",
    "    if '666' in str(i):\n",
    "        dp[c] = i\n",
    "        c += 1\n",
    "print(dp[n-1])"
   ]
  },
  {
   "cell_type": "code",
   "execution_count": 66,
   "id": "66e8b305",
   "metadata": {
    "scrolled": true
   },
   "outputs": [
    {
     "data": {
      "text/plain": [
       "[['B', 'W', 'W', 'B', 'W', 'W', 'B', 'W', 'W', 'B', 'W', 'W'],\n",
       " ['B', 'W', 'W', 'B', 'W', 'B', 'B', 'W', 'W', 'B', 'W', 'W'],\n",
       " ['W', 'B', 'W', 'W', 'B', 'W', 'B', 'B', 'W', 'W', 'B', 'W'],\n",
       " ['B', 'W', 'W', 'B', 'W', 'B', 'B', 'W', 'W', 'B', 'W', 'W'],\n",
       " ['W', 'B', 'W', 'W', 'B', 'W', 'B', 'B', 'W', 'W', 'B', 'W'],\n",
       " ['B', 'W', 'W', 'B', 'W', 'B', 'B', 'W', 'W', 'B', 'W', 'W'],\n",
       " ['W', 'B', 'W', 'W', 'B', 'W', 'B', 'B', 'W', 'W', 'B', 'W'],\n",
       " ['B', 'W', 'W', 'B', 'W', 'B', 'W', 'W', 'W', 'B', 'W', 'W'],\n",
       " ['W', 'B', 'W', 'W', 'B', 'W', 'B', 'B', 'W', 'W', 'B', 'W'],\n",
       " ['B', 'W', 'W', 'B', 'W', 'B', 'B', 'W', 'W', 'B', 'W', 'W'],\n",
       " ['W', 'B', 'W', 'W', 'B', 'W', 'B', 'B', 'W', 'W', 'B', 'W']]"
      ]
     },
     "execution_count": 66,
     "metadata": {},
     "output_type": "execute_result"
    }
   ],
   "source": [
    "lst = []\n",
    "lst2 = [\n",
    "['B W W B W W B W W B W W'],\n",
    "['B W W B W B B W W B W W'],\n",
    "['W B W W B W B B W W B W'],\n",
    "['B W W B W B B W W B W W'],\n",
    "['W B W W B W B B W W B W'],\n",
    "['B W W B W B B W W B W W'],\n",
    "['W B W W B W B B W W B W'],\n",
    "['B W W B W B W W W B W W'],\n",
    "['W B W W B W B B W W B W'],\n",
    "['B W W B W B B W W B W W'],\n",
    "['W B W W B W B B W W B W']]\n",
    "for i in lst2:\n",
    "    lst.append(list(i[0].split(' ')))\n",
    "lst"
   ]
  },
  {
   "cell_type": "code",
   "execution_count": 69,
   "id": "71f5af5e",
   "metadata": {
    "scrolled": true
   },
   "outputs": [
    {
     "name": "stdout",
     "output_type": "stream",
     "text": [
      "0 0\n",
      "count 2\n"
     ]
    }
   ],
   "source": [
    "# 백준 1018\n",
    "\n",
    "\n",
    "# 11 12\n",
    "# BWWBWWBWWBWW\n",
    "# BWWBWBBWWBWW\n",
    "# WBWWBWBBWWBW\n",
    "# BWWBWBBWWBWW\n",
    "# WBWWBWBBWWBW\n",
    "# BWWBWBBWWBWW\n",
    "# WBWWBWBBWWBW\n",
    "# BWWBWBWWWBWW\n",
    "# WBWWBWBBWWBW\n",
    "# BWWBWBBWWBWW\n",
    "# WBWWBWBBWWBW\n",
    "\n",
    "# 15\n",
    "# len : 9, 9 size : 8, 8\n",
    "# n, m = map(int, input().split())\n",
    "n, m = 8, 8\n",
    "for i in range(0, n - 8 + 1):     # 0 7    0 \n",
    "    for j in range(0, m - 8 + 1): # 0 7\n",
    "        count = 0\n",
    "        for x in range(i, i+7):\n",
    "            for y in range(j, j+7):\n",
    "                if lst[x][y] == lst[x][y+1]: # 같으면 WW BB 하지만 WWW의 경우나 BBBB의 경우를 고려해야함\n",
    "                    count += 1\n",
    "        print(i, j)\n",
    "        print('count ' + str(count))"
   ]
  },
  {
   "cell_type": "code",
   "execution_count": 70,
   "id": "a6ade0f0",
   "metadata": {},
   "outputs": [
    {
     "name": "stdout",
     "output_type": "stream",
     "text": [
      "8 8\n",
      "WBWBWBWB\n",
      "BWBWBWBW\n",
      "WBWBWBWB\n",
      "BWBBBWBW\n",
      "WBWBWBWB\n",
      "BWBWBWBW\n",
      "WBWBWBWB\n",
      "BWBWBWBW\n",
      "1\n"
     ]
    }
   ],
   "source": [
    "# 백준 1018(chat gpt)\n",
    "n, m = map(int, input().split())\n",
    "\n",
    "board = [input() for _ in range(n)]\n",
    "\n",
    "min_changes = n * m # 최대값으로 초기화\n",
    "\n",
    "for i in range(n-7):\n",
    "    for j in range(m-7):\n",
    "        changes1 = 0 # 첫 번째 칸이 W일 때 바꿔야 하는 정사각형 수\n",
    "        changes2 = 0 # 첫 번째 칸이 B일 때 바꿔야 하는 정사각형 수\n",
    "        for k in range(i, i+8):\n",
    "            for l in range(j, j+8):\n",
    "                if (k + l) % 2 == 0: # 더해서 짝수칸 0,0 / 1,1 / 1, 3\n",
    "                    # W로 시작하는 체스판과 다른 색이면 변경\n",
    "                    if board[k][l] != 'W':\n",
    "                        changes1 += 1\n",
    "                    # B로 시작하는 체스판과 다른 색이면 변경\n",
    "                    if board[k][l] != 'B':\n",
    "                        changes2 += 1\n",
    "                else: # 더해서 홀수칸 0, 1 / 2, 1\n",
    "                    # W로 시작하는 체스판과 다른 색이면 변경\n",
    "                    if board[k][l] != 'B':\n",
    "                        changes1 += 1\n",
    "                    # B로 시작하는 체스판과 다른 색이면 변경\n",
    "                    if board[k][l] != 'W':\n",
    "                        changes2 += 1\n",
    "        # 최소값 갱신\n",
    "        min_changes = min(min_changes, changes1, changes2)\n",
    "\n",
    "print(min_changes)"
   ]
  },
  {
   "cell_type": "code",
   "execution_count": null,
   "id": "dcaa5032",
   "metadata": {},
   "outputs": [],
   "source": [
    "8 8\n",
    "WBWBWBWB\n",
    "BWBWBWBW\n",
    "WBWBWBWB\n",
    "BWBBBWBW\n",
    "WBWBWBWB\n",
    "BWBWBWBW\n",
    "WBWBWBWB\n",
    "BWBWBWBW"
   ]
  },
  {
   "cell_type": "code",
   "execution_count": 68,
   "id": "79094981",
   "metadata": {},
   "outputs": [
    {
     "data": {
      "text/plain": [
       "[['W', 'B', 'W', 'B', 'W', 'B', 'W', 'B'],\n",
       " ['B', 'W', 'B', 'W', 'B', 'W', 'B', 'W'],\n",
       " ['W', 'B', 'W', 'B', 'W', 'B', 'W', 'B'],\n",
       " ['B', 'W', 'B', 'B', 'B', 'W', 'B', 'W'],\n",
       " ['W', 'B', 'W', 'B', 'W', 'B', 'W', 'B'],\n",
       " ['B', 'W', 'B', 'W', 'B', 'W', 'B', 'W'],\n",
       " ['W', 'B', 'W', 'B', 'W', 'B', 'W', 'B'],\n",
       " ['B', 'W', 'B', 'W', 'B', 'W', 'B', 'W']]"
      ]
     },
     "execution_count": 68,
     "metadata": {},
     "output_type": "execute_result"
    }
   ],
   "source": [
    "lst = []\n",
    "game =[\n",
    "    ['W B W B W B W B'],\n",
    "    ['B W B W B W B W'],\n",
    "    ['W B W B W B W B'],\n",
    "    ['B W B B B W B W'],\n",
    "    ['W B W B W B W B'],\n",
    "    ['B W B W B W B W'],\n",
    "    ['W B W B W B W B'],\n",
    "    ['B W B W B W B W']\n",
    "]\n",
    "for i in game:\n",
    "    lst.append(list(i[0].split(' ')))\n",
    "lst"
   ]
  },
  {
   "cell_type": "code",
   "execution_count": null,
   "id": "efe28d94",
   "metadata": {},
   "outputs": [],
   "source": [
    "# 백준 2231 브루트포스\n",
    "\n",
    "n = int(input())\n",
    "rst = []\n",
    "for i in range(n):\n",
    "    lst = [int(k) for k in str(i)]\n",
    "    if sum(lst) + i == n:\n",
    "        rst.append(i)\n",
    "if rst: # rst가 있다면\n",
    "    print(min(rst))\n",
    "else: # rst가 없다면\n",
    "    print(0)"
   ]
  },
  {
   "cell_type": "code",
   "execution_count": null,
   "id": "7c2d867d",
   "metadata": {},
   "outputs": [],
   "source": [
    "# 백준 2839 브루트포스\n",
    "\n",
    "# 18\n",
    "# 4\n",
    "\n",
    "# 4\n",
    "# -1\n",
    "\n",
    "# 6\n",
    "# 2\n",
    "\n",
    "n = int(input())\n",
    "t = []\n",
    "for i in range(0, n, 5):\n",
    "    k = n\n",
    "    k -= i\n",
    "    if k % 3 == 0:\n",
    "        t.append(k // 3 + i // 5)\n",
    "    elif k % 5 == 0:\n",
    "        t.append(k // 5 + i // 5)\n",
    "\n",
    "# 아무것도 안들어가는 경우\n",
    "if not t:\n",
    "    t.append(-1)\n",
    "           \n",
    "print(min(set(t)))"
   ]
  },
  {
   "cell_type": "code",
   "execution_count": null,
   "id": "8f948f01",
   "metadata": {},
   "outputs": [],
   "source": []
  },
  {
   "cell_type": "code",
   "execution_count": null,
   "id": "bccc5ad8",
   "metadata": {},
   "outputs": [],
   "source": []
  }
 ],
 "metadata": {
  "kernelspec": {
   "display_name": "Python 3 (ipykernel)",
   "language": "python",
   "name": "python3"
  },
  "language_info": {
   "codemirror_mode": {
    "name": "ipython",
    "version": 3
   },
   "file_extension": ".py",
   "mimetype": "text/x-python",
   "name": "python",
   "nbconvert_exporter": "python",
   "pygments_lexer": "ipython3",
   "version": "3.9.12"
  }
 },
 "nbformat": 4,
 "nbformat_minor": 5
}
