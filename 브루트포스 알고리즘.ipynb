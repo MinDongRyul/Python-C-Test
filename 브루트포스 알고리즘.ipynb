{
 "cells": [
  {
   "cell_type": "code",
   "execution_count": null,
   "id": "cbe5cd29",
   "metadata": {},
   "outputs": [],
   "source": [
    "# 백준 2798\n",
    "\n",
    "k, m = 10, 500\n",
    "lst = [93 ,181 ,245 ,214 ,315 ,36 ,185 ,138 ,216 ,295]\n",
    "result=  0\n",
    "\n",
    "for i in range(0,  len(lst)):\n",
    "    for j in range(i + 1, len(lst)):\n",
    "        for z in range(j + 1, len(lst)): # i 가 9 이어도 for문 자체가 실행이 안됨\n",
    "            total_sum = lst[i]+lst[j]+lst[z]\n",
    "            if total_sum <= m:\n",
    "                result = max(result, total_sum)\n",
    "print(sum)"
   ]
  },
  {
   "cell_type": "code",
   "execution_count": null,
   "id": "edff564c",
   "metadata": {},
   "outputs": [],
   "source": [
    "# 백준 1233\n",
    "\n",
    "S1, S2, S3 = map(int, input().split())\n",
    "result = {}\n",
    "\n",
    "for i in range(1, S1+1):\n",
    "    for j in range(1, S2+1):\n",
    "        for z in range(1, S3+1):\n",
    "            summary = i + j + z # 눈금의 합\n",
    "            # 각 합의 등장 횟수 \"카운트\"\n",
    "            if summary not in result:\n",
    "                result[summary] = 1\n",
    "            else:\n",
    "                result[summary] += 1\n",
    "\n",
    "# value를 기준으로 내림차순\n",
    "result = sorted(result.items(), key=lambda x: x[1], reverse=True)\n",
    "print(result[0][0])"
   ]
  },
  {
   "cell_type": "code",
   "execution_count": null,
   "id": "e00f085f",
   "metadata": {},
   "outputs": [],
   "source": [
    "# 백준 1543\n",
    "\n",
    "document = input()\n",
    "word = input()\n",
    "\n",
    "index = 0\n",
    "result = 0\n",
    "\n",
    "while len(document) - index >= len(word):\n",
    "    if document[index:index + len(word)] == word: # 찾은 경우라면 word의 길이만큼 이동\n",
    "        result += 1\n",
    "        index += len(word)\n",
    "    else: # 찾은 경우가 아니라면 한칸 증가\n",
    "        index +=1\n",
    "\n",
    "print(result)"
   ]
  },
  {
   "cell_type": "code",
   "execution_count": null,
   "id": "f2f207ae",
   "metadata": {},
   "outputs": [],
   "source": [
    "# 백준 14620 + 방향벡터\n",
    "\n",
    "N = int(input())\n",
    "G = [list(map(int, input().split())) for i in range(N)]\n",
    "\n",
    "ans = 10000\n",
    "\n",
    "dx, dy = [0, 1, -1, 0, 0], [0, 0, 0, 1, -1] # 자기 자신도 돌려야함\n",
    "\n",
    "def ck(lst): # 꽃이 a, b, c 에 있을 때 가능한 경우만 return\n",
    "    ret = 0\n",
    "    flow = []\n",
    "    for flower in lst:\n",
    "        x = flower // N\n",
    "        y = flower % N\n",
    "        \n",
    "        if x == 0 or x == N-1 or y == 0 or y == N-1: # 끝점이면 꽃을 만들지 못함\n",
    "            return 10000\n",
    "        \n",
    "        for w in range(5):\n",
    "            flow.append((x+dx[w], y+dy[w])) # 위치 삽입\n",
    "            ret += G[x+dx[w]][y+dy[w]]\n",
    "            \n",
    "    if len(set(flow)) != 15: # 여기서 겹쳤는지 확인?\n",
    "        return 10000\n",
    "    \n",
    "    return ret\n",
    "\n",
    "for i in range(N*N):\n",
    "    for j in range(i+1, N*N):\n",
    "        for k in range(j+1, N*N):\n",
    "            ans = min(ans, ck([i, j, k]))\n",
    "                \n",
    "print(ans)"
   ]
  },
  {
   "cell_type": "code",
   "execution_count": 15,
   "id": "6fd1b6c7",
   "metadata": {},
   "outputs": [
    {
     "name": "stdout",
     "output_type": "stream",
     "text": [
      "75\n",
      "80\n",
      "-1\n"
     ]
    }
   ],
   "source": [
    "# 백준 1977\n",
    "# M 이상  N이하 10000\n",
    "\n",
    "# 완전 제곱수를 구하는 함수\n",
    "def check(M, N):\n",
    "    rst = [] # 결과 저장 배열\n",
    "    for i in range(M, N+1):\n",
    "        for j in range(1, i+1):\n",
    "            if i / j == j:\n",
    "                rst.append(i)\n",
    "    return rst\n",
    "\n",
    "M =  int(input())\n",
    "N = int(input())\n",
    "result = check(M, N)\n",
    "if result:\n",
    "    print(sum(result))\n",
    "    print(min(result))\n",
    "else:\n",
    "    print(-1)"
   ]
  },
  {
   "cell_type": "code",
   "execution_count": null,
   "id": "b467dc36",
   "metadata": {},
   "outputs": [],
   "source": [
    "60\n",
    "100"
   ]
  },
  {
   "cell_type": "code",
   "execution_count": 12,
   "id": "6c6bb777",
   "metadata": {},
   "outputs": [
    {
     "data": {
      "text/plain": [
       "False"
      ]
     },
     "execution_count": 12,
     "metadata": {},
     "output_type": "execute_result"
    }
   ],
   "source": [
    "65 / 8 == 8"
   ]
  }
 ],
 "metadata": {
  "kernelspec": {
   "display_name": "Python 3 (ipykernel)",
   "language": "python",
   "name": "python3"
  },
  "language_info": {
   "codemirror_mode": {
    "name": "ipython",
    "version": 3
   },
   "file_extension": ".py",
   "mimetype": "text/x-python",
   "name": "python",
   "nbconvert_exporter": "python",
   "pygments_lexer": "ipython3",
   "version": "3.9.12"
  }
 },
 "nbformat": 4,
 "nbformat_minor": 5
}
